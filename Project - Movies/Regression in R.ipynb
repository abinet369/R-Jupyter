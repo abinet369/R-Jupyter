{
 "cells": [
  {
   "cell_type": "code",
   "execution_count": 10,
   "metadata": {},
   "outputs": [
    {
     "data": {
      "text/html": [
       "<table>\n",
       "<caption>A data.frame: 6 × 12</caption>\n",
       "<thead>\n",
       "\t<tr><th></th><th scope=col>Rank</th><th scope=col>Title</th><th scope=col>Genre</th><th scope=col>Description</th><th scope=col>Director</th><th scope=col>Actors</th><th scope=col>Year</th><th scope=col>Runtime..Minutes.</th><th scope=col>Rating</th><th scope=col>Votes</th><th scope=col>Revenue..Millions.</th><th scope=col>Metascore</th></tr>\n",
       "\t<tr><th></th><th scope=col>&lt;int&gt;</th><th scope=col>&lt;chr&gt;</th><th scope=col>&lt;chr&gt;</th><th scope=col>&lt;chr&gt;</th><th scope=col>&lt;chr&gt;</th><th scope=col>&lt;chr&gt;</th><th scope=col>&lt;int&gt;</th><th scope=col>&lt;int&gt;</th><th scope=col>&lt;dbl&gt;</th><th scope=col>&lt;int&gt;</th><th scope=col>&lt;dbl&gt;</th><th scope=col>&lt;int&gt;</th></tr>\n",
       "</thead>\n",
       "<tbody>\n",
       "\t<tr><th scope=row>1</th><td>1</td><td>Guardians of the Galaxy</td><td>Action,Adventure,Sci-Fi </td><td>A group of intergalactic criminals are forced to work together to stop a fanatical warrior from taking control of the universe.                                                                                               </td><td>James Gunn          </td><td>Chris Pratt, Vin Diesel, Bradley Cooper, Zoe Saldana                      </td><td>2014</td><td>121</td><td>8.1</td><td>757074</td><td>333.13</td><td>76</td></tr>\n",
       "\t<tr><th scope=row>2</th><td>2</td><td>Prometheus             </td><td>Adventure,Mystery,Sci-Fi</td><td>Following clues to the origin of mankind, a team finds a structure on a distant moon, but they soon realize they are not alone.                                                                                               </td><td>Ridley Scott        </td><td>Noomi Rapace, Logan Marshall-Green, Michael Fassbender, Charlize Theron   </td><td>2012</td><td>124</td><td>7.0</td><td>485820</td><td>126.46</td><td>65</td></tr>\n",
       "\t<tr><th scope=row>3</th><td>3</td><td>Split                  </td><td>Horror,Thriller         </td><td>Three girls are kidnapped by a man with a diagnosed 23 distinct personalities. They must try to escape before the apparent emergence of a frightful new 24th.                                                                 </td><td>M. Night Shyamalan  </td><td>James McAvoy, Anya Taylor-Joy, Haley Lu Richardson, Jessica Sula          </td><td>2016</td><td>117</td><td>7.3</td><td>157606</td><td>138.12</td><td>62</td></tr>\n",
       "\t<tr><th scope=row>4</th><td>4</td><td>Sing                   </td><td>Animation,Comedy,Family </td><td>In a city of humanoid animals, a hustling theater impresario's attempt to save his theater with a singing competition becomes grander than he anticipates even as its finalists' find that their lives will never be the same.</td><td>Christophe Lourdelet</td><td>Matthew McConaughey,Reese Witherspoon, Seth MacFarlane, Scarlett Johansson</td><td>2016</td><td>108</td><td>7.2</td><td> 60545</td><td>270.32</td><td>59</td></tr>\n",
       "\t<tr><th scope=row>5</th><td>5</td><td>Suicide Squad          </td><td>Action,Adventure,Fantasy</td><td>A secret government agency recruits some of the most dangerous incarcerated super-villains to form a defensive task force. Their first mission: save the world from the apocalypse.                                           </td><td>David Ayer          </td><td>Will Smith, Jared Leto, Margot Robbie, Viola Davis                        </td><td>2016</td><td>123</td><td>6.2</td><td>393727</td><td>325.02</td><td>40</td></tr>\n",
       "\t<tr><th scope=row>6</th><td>6</td><td>The Great Wall         </td><td>Action,Adventure,Fantasy</td><td>European mercenaries searching for black powder become embroiled in the defense of the Great Wall of China against a horde of monstrous creatures.                                                                            </td><td>Yimou Zhang         </td><td>Matt Damon, Tian Jing, Willem Dafoe, Andy Lau                             </td><td>2016</td><td>103</td><td>6.1</td><td> 56036</td><td> 45.13</td><td>42</td></tr>\n",
       "</tbody>\n",
       "</table>\n"
      ],
      "text/latex": [
       "A data.frame: 6 × 12\n",
       "\\begin{tabular}{r|llllllllllll}\n",
       "  & Rank & Title & Genre & Description & Director & Actors & Year & Runtime..Minutes. & Rating & Votes & Revenue..Millions. & Metascore\\\\\n",
       "  & <int> & <chr> & <chr> & <chr> & <chr> & <chr> & <int> & <int> & <dbl> & <int> & <dbl> & <int>\\\\\n",
       "\\hline\n",
       "\t1 & 1 & Guardians of the Galaxy & Action,Adventure,Sci-Fi  & A group of intergalactic criminals are forced to work together to stop a fanatical warrior from taking control of the universe.                                                                                                & James Gunn           & Chris Pratt, Vin Diesel, Bradley Cooper, Zoe Saldana                       & 2014 & 121 & 8.1 & 757074 & 333.13 & 76\\\\\n",
       "\t2 & 2 & Prometheus              & Adventure,Mystery,Sci-Fi & Following clues to the origin of mankind, a team finds a structure on a distant moon, but they soon realize they are not alone.                                                                                                & Ridley Scott         & Noomi Rapace, Logan Marshall-Green, Michael Fassbender, Charlize Theron    & 2012 & 124 & 7.0 & 485820 & 126.46 & 65\\\\\n",
       "\t3 & 3 & Split                   & Horror,Thriller          & Three girls are kidnapped by a man with a diagnosed 23 distinct personalities. They must try to escape before the apparent emergence of a frightful new 24th.                                                                  & M. Night Shyamalan   & James McAvoy, Anya Taylor-Joy, Haley Lu Richardson, Jessica Sula           & 2016 & 117 & 7.3 & 157606 & 138.12 & 62\\\\\n",
       "\t4 & 4 & Sing                    & Animation,Comedy,Family  & In a city of humanoid animals, a hustling theater impresario's attempt to save his theater with a singing competition becomes grander than he anticipates even as its finalists' find that their lives will never be the same. & Christophe Lourdelet & Matthew McConaughey,Reese Witherspoon, Seth MacFarlane, Scarlett Johansson & 2016 & 108 & 7.2 &  60545 & 270.32 & 59\\\\\n",
       "\t5 & 5 & Suicide Squad           & Action,Adventure,Fantasy & A secret government agency recruits some of the most dangerous incarcerated super-villains to form a defensive task force. Their first mission: save the world from the apocalypse.                                            & David Ayer           & Will Smith, Jared Leto, Margot Robbie, Viola Davis                         & 2016 & 123 & 6.2 & 393727 & 325.02 & 40\\\\\n",
       "\t6 & 6 & The Great Wall          & Action,Adventure,Fantasy & European mercenaries searching for black powder become embroiled in the defense of the Great Wall of China against a horde of monstrous creatures.                                                                             & Yimou Zhang          & Matt Damon, Tian Jing, Willem Dafoe, Andy Lau                              & 2016 & 103 & 6.1 &  56036 &  45.13 & 42\\\\\n",
       "\\end{tabular}\n"
      ],
      "text/markdown": [
       "\n",
       "A data.frame: 6 × 12\n",
       "\n",
       "| <!--/--> | Rank &lt;int&gt; | Title &lt;chr&gt; | Genre &lt;chr&gt; | Description &lt;chr&gt; | Director &lt;chr&gt; | Actors &lt;chr&gt; | Year &lt;int&gt; | Runtime..Minutes. &lt;int&gt; | Rating &lt;dbl&gt; | Votes &lt;int&gt; | Revenue..Millions. &lt;dbl&gt; | Metascore &lt;int&gt; |\n",
       "|---|---|---|---|---|---|---|---|---|---|---|---|---|\n",
       "| 1 | 1 | Guardians of the Galaxy | Action,Adventure,Sci-Fi  | A group of intergalactic criminals are forced to work together to stop a fanatical warrior from taking control of the universe.                                                                                                | James Gunn           | Chris Pratt, Vin Diesel, Bradley Cooper, Zoe Saldana                       | 2014 | 121 | 8.1 | 757074 | 333.13 | 76 |\n",
       "| 2 | 2 | Prometheus              | Adventure,Mystery,Sci-Fi | Following clues to the origin of mankind, a team finds a structure on a distant moon, but they soon realize they are not alone.                                                                                                | Ridley Scott         | Noomi Rapace, Logan Marshall-Green, Michael Fassbender, Charlize Theron    | 2012 | 124 | 7.0 | 485820 | 126.46 | 65 |\n",
       "| 3 | 3 | Split                   | Horror,Thriller          | Three girls are kidnapped by a man with a diagnosed 23 distinct personalities. They must try to escape before the apparent emergence of a frightful new 24th.                                                                  | M. Night Shyamalan   | James McAvoy, Anya Taylor-Joy, Haley Lu Richardson, Jessica Sula           | 2016 | 117 | 7.3 | 157606 | 138.12 | 62 |\n",
       "| 4 | 4 | Sing                    | Animation,Comedy,Family  | In a city of humanoid animals, a hustling theater impresario's attempt to save his theater with a singing competition becomes grander than he anticipates even as its finalists' find that their lives will never be the same. | Christophe Lourdelet | Matthew McConaughey,Reese Witherspoon, Seth MacFarlane, Scarlett Johansson | 2016 | 108 | 7.2 |  60545 | 270.32 | 59 |\n",
       "| 5 | 5 | Suicide Squad           | Action,Adventure,Fantasy | A secret government agency recruits some of the most dangerous incarcerated super-villains to form a defensive task force. Their first mission: save the world from the apocalypse.                                            | David Ayer           | Will Smith, Jared Leto, Margot Robbie, Viola Davis                         | 2016 | 123 | 6.2 | 393727 | 325.02 | 40 |\n",
       "| 6 | 6 | The Great Wall          | Action,Adventure,Fantasy | European mercenaries searching for black powder become embroiled in the defense of the Great Wall of China against a horde of monstrous creatures.                                                                             | Yimou Zhang          | Matt Damon, Tian Jing, Willem Dafoe, Andy Lau                              | 2016 | 103 | 6.1 |  56036 |  45.13 | 42 |\n",
       "\n"
      ],
      "text/plain": [
       "  Rank Title                   Genre                   \n",
       "1 1    Guardians of the Galaxy Action,Adventure,Sci-Fi \n",
       "2 2    Prometheus              Adventure,Mystery,Sci-Fi\n",
       "3 3    Split                   Horror,Thriller         \n",
       "4 4    Sing                    Animation,Comedy,Family \n",
       "5 5    Suicide Squad           Action,Adventure,Fantasy\n",
       "6 6    The Great Wall          Action,Adventure,Fantasy\n",
       "  Description                                                                                                                                                                                                                   \n",
       "1 A group of intergalactic criminals are forced to work together to stop a fanatical warrior from taking control of the universe.                                                                                               \n",
       "2 Following clues to the origin of mankind, a team finds a structure on a distant moon, but they soon realize they are not alone.                                                                                               \n",
       "3 Three girls are kidnapped by a man with a diagnosed 23 distinct personalities. They must try to escape before the apparent emergence of a frightful new 24th.                                                                 \n",
       "4 In a city of humanoid animals, a hustling theater impresario's attempt to save his theater with a singing competition becomes grander than he anticipates even as its finalists' find that their lives will never be the same.\n",
       "5 A secret government agency recruits some of the most dangerous incarcerated super-villains to form a defensive task force. Their first mission: save the world from the apocalypse.                                           \n",
       "6 European mercenaries searching for black powder become embroiled in the defense of the Great Wall of China against a horde of monstrous creatures.                                                                            \n",
       "  Director            \n",
       "1 James Gunn          \n",
       "2 Ridley Scott        \n",
       "3 M. Night Shyamalan  \n",
       "4 Christophe Lourdelet\n",
       "5 David Ayer          \n",
       "6 Yimou Zhang         \n",
       "  Actors                                                                    \n",
       "1 Chris Pratt, Vin Diesel, Bradley Cooper, Zoe Saldana                      \n",
       "2 Noomi Rapace, Logan Marshall-Green, Michael Fassbender, Charlize Theron   \n",
       "3 James McAvoy, Anya Taylor-Joy, Haley Lu Richardson, Jessica Sula          \n",
       "4 Matthew McConaughey,Reese Witherspoon, Seth MacFarlane, Scarlett Johansson\n",
       "5 Will Smith, Jared Leto, Margot Robbie, Viola Davis                        \n",
       "6 Matt Damon, Tian Jing, Willem Dafoe, Andy Lau                             \n",
       "  Year Runtime..Minutes. Rating Votes  Revenue..Millions. Metascore\n",
       "1 2014 121               8.1    757074 333.13             76       \n",
       "2 2012 124               7.0    485820 126.46             65       \n",
       "3 2016 117               7.3    157606 138.12             62       \n",
       "4 2016 108               7.2     60545 270.32             59       \n",
       "5 2016 123               6.2    393727 325.02             40       \n",
       "6 2016 103               6.1     56036  45.13             42       "
      ]
     },
     "metadata": {},
     "output_type": "display_data"
    }
   ],
   "source": [
    "df=read.csv(file='C:\\\\Users\\\\abine\\\\Dropbox\\\\Projects\\\\R Reg ana\\\\IMDB-Movie-Data.csv',header = TRUE, stringsAsFactors = FALSE)\n",
    "head(df)"
   ]
  },
  {
   "cell_type": "markdown",
   "metadata": {},
   "source": [
    "Here's a data set of 1,000 most popular movies on IMDB in the last 10 years. The data points included are:\n",
    "\n",
    "Title, Genre, Description, Director, Actors, Year, Runtime, Rating, Votes, Revenue, Metascrore"
   ]
  },
  {
   "cell_type": "code",
   "execution_count": 11,
   "metadata": {},
   "outputs": [
    {
     "data": {
      "text/plain": [
       "      Rank           Title              Genre           Description       \n",
       " Min.   :   1.0   Length:1000        Length:1000        Length:1000       \n",
       " 1st Qu.: 250.8   Class :character   Class :character   Class :character  \n",
       " Median : 500.5   Mode  :character   Mode  :character   Mode  :character  \n",
       " Mean   : 500.5                                                           \n",
       " 3rd Qu.: 750.2                                                           \n",
       " Max.   :1000.0                                                           \n",
       "                                                                          \n",
       "   Director            Actors               Year      Runtime..Minutes.\n",
       " Length:1000        Length:1000        Min.   :2006   Min.   : 66.0    \n",
       " Class :character   Class :character   1st Qu.:2010   1st Qu.:100.0    \n",
       " Mode  :character   Mode  :character   Median :2014   Median :111.0    \n",
       "                                       Mean   :2013   Mean   :113.2    \n",
       "                                       3rd Qu.:2016   3rd Qu.:123.0    \n",
       "                                       Max.   :2016   Max.   :191.0    \n",
       "                                                                       \n",
       "     Rating          Votes         Revenue..Millions.   Metascore     \n",
       " Min.   :1.900   Min.   :     61   Min.   :  0.00     Min.   : 11.00  \n",
       " 1st Qu.:6.200   1st Qu.:  36309   1st Qu.: 13.27     1st Qu.: 47.00  \n",
       " Median :6.800   Median : 110799   Median : 47.98     Median : 59.50  \n",
       " Mean   :6.723   Mean   : 169808   Mean   : 82.96     Mean   : 58.99  \n",
       " 3rd Qu.:7.400   3rd Qu.: 239910   3rd Qu.:113.72     3rd Qu.: 72.00  \n",
       " Max.   :9.000   Max.   :1791916   Max.   :936.63     Max.   :100.00  \n",
       "                                   NA's   :128        NA's   :64      "
      ]
     },
     "metadata": {},
     "output_type": "display_data"
    }
   ],
   "source": [
    "summary(df)"
   ]
  },
  {
   "cell_type": "code",
   "execution_count": 12,
   "metadata": {},
   "outputs": [
    {
     "name": "stdout",
     "output_type": "stream",
     "text": [
      "'data.frame':\t1000 obs. of  12 variables:\n",
      " $ Rank              : int  1 2 3 4 5 6 7 8 9 10 ...\n",
      " $ Title             : chr  \"Guardians of the Galaxy\" \"Prometheus\" \"Split\" \"Sing\" ...\n",
      " $ Genre             : chr  \"Action,Adventure,Sci-Fi\" \"Adventure,Mystery,Sci-Fi\" \"Horror,Thriller\" \"Animation,Comedy,Family\" ...\n",
      " $ Description       : chr  \"A group of intergalactic criminals are forced to work together to stop a fanatical warrior from taking control \"| __truncated__ \"Following clues to the origin of mankind, a team finds a structure on a distant moon, but they soon realize the\"| __truncated__ \"Three girls are kidnapped by a man with a diagnosed 23 distinct personalities. They must try to escape before t\"| __truncated__ \"In a city of humanoid animals, a hustling theater impresario's attempt to save his theater with a singing compe\"| __truncated__ ...\n",
      " $ Director          : chr  \"James Gunn\" \"Ridley Scott\" \"M. Night Shyamalan\" \"Christophe Lourdelet\" ...\n",
      " $ Actors            : chr  \"Chris Pratt, Vin Diesel, Bradley Cooper, Zoe Saldana\" \"Noomi Rapace, Logan Marshall-Green, Michael Fassbender, Charlize Theron\" \"James McAvoy, Anya Taylor-Joy, Haley Lu Richardson, Jessica Sula\" \"Matthew McConaughey,Reese Witherspoon, Seth MacFarlane, Scarlett Johansson\" ...\n",
      " $ Year              : int  2014 2012 2016 2016 2016 2016 2016 2016 2016 2016 ...\n",
      " $ Runtime..Minutes. : int  121 124 117 108 123 103 128 89 141 116 ...\n",
      " $ Rating            : num  8.1 7 7.3 7.2 6.2 6.1 8.3 6.4 7.1 7 ...\n",
      " $ Votes             : int  757074 485820 157606 60545 393727 56036 258682 2490 7188 192177 ...\n",
      " $ Revenue..Millions.: num  333 126 138 270 325 ...\n",
      " $ Metascore         : int  76 65 62 59 40 42 93 71 78 41 ...\n"
     ]
    }
   ],
   "source": [
    "str(df)"
   ]
  },
  {
   "cell_type": "markdown",
   "metadata": {},
   "source": [
    "From above output we can see that there are 1000 observations or row and 12 variables or columns in imdb dataframe that we created in our first code block."
   ]
  },
  {
   "cell_type": "markdown",
   "metadata": {},
   "source": [
    "## DATA CLEANING"
   ]
  },
  {
   "cell_type": "markdown",
   "metadata": {},
   "source": [
    "Let us check the column names in our dataset"
   ]
  },
  {
   "cell_type": "code",
   "execution_count": 13,
   "metadata": {},
   "outputs": [
    {
     "data": {
      "text/html": [
       "<style>\n",
       ".list-inline {list-style: none; margin:0; padding: 0}\n",
       ".list-inline>li {display: inline-block}\n",
       ".list-inline>li:not(:last-child)::after {content: \"\\00b7\"; padding: 0 .5ex}\n",
       "</style>\n",
       "<ol class=list-inline><li>'Rank'</li><li>'Title'</li><li>'Genre'</li><li>'Description'</li><li>'Director'</li><li>'Actors'</li><li>'Year'</li><li>'Runtime..Minutes.'</li><li>'Rating'</li><li>'Votes'</li><li>'Revenue..Millions.'</li><li>'Metascore'</li></ol>\n"
      ],
      "text/latex": [
       "\\begin{enumerate*}\n",
       "\\item 'Rank'\n",
       "\\item 'Title'\n",
       "\\item 'Genre'\n",
       "\\item 'Description'\n",
       "\\item 'Director'\n",
       "\\item 'Actors'\n",
       "\\item 'Year'\n",
       "\\item 'Runtime..Minutes.'\n",
       "\\item 'Rating'\n",
       "\\item 'Votes'\n",
       "\\item 'Revenue..Millions.'\n",
       "\\item 'Metascore'\n",
       "\\end{enumerate*}\n"
      ],
      "text/markdown": [
       "1. 'Rank'\n",
       "2. 'Title'\n",
       "3. 'Genre'\n",
       "4. 'Description'\n",
       "5. 'Director'\n",
       "6. 'Actors'\n",
       "7. 'Year'\n",
       "8. 'Runtime..Minutes.'\n",
       "9. 'Rating'\n",
       "10. 'Votes'\n",
       "11. 'Revenue..Millions.'\n",
       "12. 'Metascore'\n",
       "\n",
       "\n"
      ],
      "text/plain": [
       " [1] \"Rank\"               \"Title\"              \"Genre\"             \n",
       " [4] \"Description\"        \"Director\"           \"Actors\"            \n",
       " [7] \"Year\"               \"Runtime..Minutes.\"  \"Rating\"            \n",
       "[10] \"Votes\"              \"Revenue..Millions.\" \"Metascore\"         "
      ]
     },
     "metadata": {},
     "output_type": "display_data"
    }
   ],
   "source": [
    "colnames(df)"
   ]
  },
  {
   "cell_type": "markdown",
   "metadata": {},
   "source": [
    "Here two column names at index 8 and 11 looks too long. Let's rename these two."
   ]
  },
  {
   "cell_type": "code",
   "execution_count": 14,
   "metadata": {},
   "outputs": [
    {
     "data": {
      "text/html": [
       "<style>\n",
       ".list-inline {list-style: none; margin:0; padding: 0}\n",
       ".list-inline>li {display: inline-block}\n",
       ".list-inline>li:not(:last-child)::after {content: \"\\00b7\"; padding: 0 .5ex}\n",
       "</style>\n",
       "<ol class=list-inline><li>'Rank'</li><li>'Title'</li><li>'Genre'</li><li>'Description'</li><li>'Director'</li><li>'Actors'</li><li>'Year'</li><li>'Runtime'</li><li>'Rating'</li><li>'Votes'</li><li>'Revenue'</li><li>'Metascore'</li></ol>\n"
      ],
      "text/latex": [
       "\\begin{enumerate*}\n",
       "\\item 'Rank'\n",
       "\\item 'Title'\n",
       "\\item 'Genre'\n",
       "\\item 'Description'\n",
       "\\item 'Director'\n",
       "\\item 'Actors'\n",
       "\\item 'Year'\n",
       "\\item 'Runtime'\n",
       "\\item 'Rating'\n",
       "\\item 'Votes'\n",
       "\\item 'Revenue'\n",
       "\\item 'Metascore'\n",
       "\\end{enumerate*}\n"
      ],
      "text/markdown": [
       "1. 'Rank'\n",
       "2. 'Title'\n",
       "3. 'Genre'\n",
       "4. 'Description'\n",
       "5. 'Director'\n",
       "6. 'Actors'\n",
       "7. 'Year'\n",
       "8. 'Runtime'\n",
       "9. 'Rating'\n",
       "10. 'Votes'\n",
       "11. 'Revenue'\n",
       "12. 'Metascore'\n",
       "\n",
       "\n"
      ],
      "text/plain": [
       " [1] \"Rank\"        \"Title\"       \"Genre\"       \"Description\" \"Director\"   \n",
       " [6] \"Actors\"      \"Year\"        \"Runtime\"     \"Rating\"      \"Votes\"      \n",
       "[11] \"Revenue\"     \"Metascore\"  "
      ]
     },
     "metadata": {},
     "output_type": "display_data"
    }
   ],
   "source": [
    "colnames(df)[c(8,11)] <- c(\"Runtime\", \"Revenue\")\n",
    "colnames(df)"
   ]
  },
  {
   "cell_type": "code",
   "execution_count": 15,
   "metadata": {},
   "outputs": [
    {
     "name": "stderr",
     "output_type": "stream",
     "text": [
      "Warning message:\n",
      "\"package 'ggplot2' was built under R version 3.6.2\"Warning message:\n",
      "\"package 'd3Tree' was built under R version 3.6.3\"Warning message:\n",
      "\"package 'dplyr' was built under R version 3.6.2\"\n",
      "Attaching package: 'dplyr'\n",
      "\n",
      "The following objects are masked from 'package:stats':\n",
      "\n",
      "    filter, lag\n",
      "\n",
      "The following objects are masked from 'package:base':\n",
      "\n",
      "    intersect, setdiff, setequal, union\n",
      "\n",
      "Warning message:\n",
      "\"package 'wordcloud' was built under R version 3.6.3\"Loading required package: RColorBrewer\n",
      "Warning message:\n",
      "\"package 'Amelia' was built under R version 3.6.2\"Loading required package: Rcpp\n",
      "Warning message:\n",
      "\"package 'Rcpp' was built under R version 3.6.2\"## \n",
      "## Amelia II: Multiple Imputation\n",
      "## (Version 1.7.6, built: 2019-11-24)\n",
      "## Copyright (C) 2005-2020 James Honaker, Gary King and Matthew Blackwell\n",
      "## Refer to http://gking.harvard.edu/amelia/ for more information\n",
      "## \n",
      "Warning message:\n",
      "\"package 'corrgram' was built under R version 3.6.2\"Registered S3 method overwritten by 'seriation':\n",
      "  method         from \n",
      "  reorder.hclust gclus\n",
      "Warning message:\n",
      "\"package 'corrplot' was built under R version 3.6.2\"corrplot 0.84 loaded\n"
     ]
    }
   ],
   "source": [
    "library(ggplot2)\n",
    "library(d3Tree)\n",
    "library(dplyr)\n",
    "library(wordcloud)\n",
    "library(Amelia)\n",
    "library(corrgram)\n",
    "library(corrplot)"
   ]
  },
  {
   "cell_type": "code",
   "execution_count": 16,
   "metadata": {},
   "outputs": [
    {
     "data": {
      "image/png": "[encoded data removed]",
      "text/plain": [
       "Plot with title \"IMDb Movie Reviews Dataset\""
      ]
     },
     "metadata": {},
     "output_type": "display_data"
    }
   ],
   "source": [
    "missmap(df,main=\"IMDb Movie Reviews Dataset\",col=c(\"yellow\",\"black\"),legend=TRUE)"
   ]
  },
  {
   "cell_type": "code",
   "execution_count": 17,
   "metadata": {},
   "outputs": [
    {
     "data": {
      "text/html": [
       "1000"
      ],
      "text/latex": [
       "1000"
      ],
      "text/markdown": [
       "1000"
      ],
      "text/plain": [
       "[1] 1000"
      ]
     },
     "metadata": {},
     "output_type": "display_data"
    }
   ],
   "source": [
    "nrow(df)"
   ]
  },
  {
   "cell_type": "code",
   "execution_count": 18,
   "metadata": {},
   "outputs": [
    {
     "data": {
      "text/html": [
       "192"
      ],
      "text/latex": [
       "192"
      ],
      "text/markdown": [
       "192"
      ],
      "text/plain": [
       "[1] 192"
      ]
     },
     "metadata": {},
     "output_type": "display_data"
    }
   ],
   "source": [
    "sum(is.na(df))"
   ]
  },
  {
   "cell_type": "markdown",
   "metadata": {},
   "source": [
    "We have to remove these rows because, replacing(imputing) some value with revenue or metascire is not logical"
   ]
  },
  {
   "cell_type": "code",
   "execution_count": 19,
   "metadata": {},
   "outputs": [],
   "source": [
    "df=na.omit(df)"
   ]
  },
  {
   "cell_type": "code",
   "execution_count": 20,
   "metadata": {},
   "outputs": [
    {
     "data": {
      "image/png": "[encoded data removed]",
      "text/plain": [
       "Plot with title \"IMDb Movie Reviews Dataset\""
      ]
     },
     "metadata": {},
     "output_type": "display_data"
    }
   ],
   "source": [
    "missmap(df,main=\"IMDb Movie Reviews Dataset\",col=c(\"yellow\",\"black\"),legend=TRUE)"
   ]
  },
  {
   "cell_type": "markdown",
   "metadata": {},
   "source": [
    "## EDA"
   ]
  },
  {
   "cell_type": "markdown",
   "metadata": {},
   "source": [
    "Number of Movies per year"
   ]
  },
  {
   "cell_type": "code",
   "execution_count": 21,
   "metadata": {},
   "outputs": [
    {
     "data": {
      "image/png": "[encoded data removed]",
      "text/plain": [
       "plot without title"
      ]
     },
     "metadata": {},
     "output_type": "display_data"
    }
   ],
   "source": [
    "ggplot(data = df, aes(x = factor(Year))) + geom_bar(stat = 'count') + geom_text(stat = 'count', aes(label = ..count..), vjust = -1) + geom_hline(yintercept = c(0,100,200,300)) + xlab(\"Year\") + ylab(\"Number of Movies\")"
   ]
  },
  {
   "cell_type": "markdown",
   "metadata": {},
   "source": [
    "Positive trend in number of movie release every year"
   ]
  },
  {
   "cell_type": "markdown",
   "metadata": {},
   "source": [
    "Lets have a glance at the Revenue of Movies each year"
   ]
  },
  {
   "cell_type": "code",
   "execution_count": 22,
   "metadata": {},
   "outputs": [
    {
     "data": {
      "image/png": "[encoded data removed]",
      "text/plain": [
       "plot without title"
      ]
     },
     "metadata": {},
     "output_type": "display_data"
    }
   ],
   "source": [
    "ggplot(data = df, aes(x = factor(Year), y = Revenue, fill = factor(Year)))+ geom_violin() + xlab(\"Year\") + theme_bw()"
   ]
  },
  {
   "cell_type": "code",
   "execution_count": 23,
   "metadata": {},
   "outputs": [
    {
     "data": {
      "image/png": "[encoded data removed]",
      "text/plain": [
       "plot without title"
      ]
     },
     "metadata": {},
     "output_type": "display_data"
    }
   ],
   "source": [
    "year_revenue<-aggregate(Revenue~Year, data = df , sum)\n",
    "ggplot(data = year_revenue, aes(factor(Year), Revenue, fill = factor(Year))) + \n",
    "  geom_bar(stat = 'identity') +\n",
    "  geom_text(aes(label = Revenue), vjust = -0.75, cex = 2.5) + \n",
    "  xlab(\"Year\") + ylab(\"Revenue in Millions\")"
   ]
  },
  {
   "cell_type": "markdown",
   "metadata": {},
   "source": [
    "Revenue of movies is increasing Year by Year"
   ]
  },
  {
   "cell_type": "markdown",
   "metadata": {},
   "source": [
    "Let us also see how the ratings affect the Revenue of Movies. But first we must do some processing to club the ratings into intervals."
   ]
  },
  {
   "cell_type": "code",
   "execution_count": 24,
   "metadata": {},
   "outputs": [
    {
     "data": {
      "text/html": [
       "<table>\n",
       "<caption>A data.frame: 6 × 3</caption>\n",
       "<thead>\n",
       "\t<tr><th></th><th scope=col>Rating</th><th scope=col>Revenue</th><th scope=col>Rating_Interval</th></tr>\n",
       "\t<tr><th></th><th scope=col>&lt;dbl&gt;</th><th scope=col>&lt;dbl&gt;</th><th scope=col>&lt;fct&gt;</th></tr>\n",
       "</thead>\n",
       "<tbody>\n",
       "\t<tr><th scope=row>1</th><td>1.9</td><td> 14.17</td><td>(1,2]</td></tr>\n",
       "\t<tr><th scope=row>2</th><td>2.7</td><td>  9.35</td><td>(2,3]</td></tr>\n",
       "\t<tr><th scope=row>3</th><td>3.9</td><td> 95.46</td><td>(3,4]</td></tr>\n",
       "\t<tr><th scope=row>4</th><td>4.0</td><td> 20.76</td><td>(3,4]</td></tr>\n",
       "\t<tr><th scope=row>5</th><td>4.1</td><td>166.15</td><td>(4,5]</td></tr>\n",
       "\t<tr><th scope=row>6</th><td>4.3</td><td>160.27</td><td>(4,5]</td></tr>\n",
       "</tbody>\n",
       "</table>\n"
      ],
      "text/latex": [
       "A data.frame: 6 × 3\n",
       "\\begin{tabular}{r|lll}\n",
       "  & Rating & Revenue & Rating\\_Interval\\\\\n",
       "  & <dbl> & <dbl> & <fct>\\\\\n",
       "\\hline\n",
       "\t1 & 1.9 &  14.17 & (1,2{]}\\\\\n",
       "\t2 & 2.7 &   9.35 & (2,3{]}\\\\\n",
       "\t3 & 3.9 &  95.46 & (3,4{]}\\\\\n",
       "\t4 & 4.0 &  20.76 & (3,4{]}\\\\\n",
       "\t5 & 4.1 & 166.15 & (4,5{]}\\\\\n",
       "\t6 & 4.3 & 160.27 & (4,5{]}\\\\\n",
       "\\end{tabular}\n"
      ],
      "text/markdown": [
       "\n",
       "A data.frame: 6 × 3\n",
       "\n",
       "| <!--/--> | Rating &lt;dbl&gt; | Revenue &lt;dbl&gt; | Rating_Interval &lt;fct&gt; |\n",
       "|---|---|---|---|\n",
       "| 1 | 1.9 |  14.17 | (1,2] |\n",
       "| 2 | 2.7 |   9.35 | (2,3] |\n",
       "| 3 | 3.9 |  95.46 | (3,4] |\n",
       "| 4 | 4.0 |  20.76 | (3,4] |\n",
       "| 5 | 4.1 | 166.15 | (4,5] |\n",
       "| 6 | 4.3 | 160.27 | (4,5] |\n",
       "\n"
      ],
      "text/plain": [
       "  Rating Revenue Rating_Interval\n",
       "1 1.9     14.17  (1,2]          \n",
       "2 2.7      9.35  (2,3]          \n",
       "3 3.9     95.46  (3,4]          \n",
       "4 4.0     20.76  (3,4]          \n",
       "5 4.1    166.15  (4,5]          \n",
       "6 4.3    160.27  (4,5]          "
      ]
     },
     "metadata": {},
     "output_type": "display_data"
    }
   ],
   "source": [
    "newdf=df\n",
    "rr<- aggregate(Revenue~Rating, data = newdf, sum)\n",
    "rr$Rating_Interval<- cut(rr$Rating, breaks = seq(from = 1, to = 10, by = 1))\n",
    "head(rr)"
   ]
  },
  {
   "cell_type": "markdown",
   "metadata": {},
   "source": [
    "Now we can create a boxplot to see how the ratings have affected the Revenue."
   ]
  },
  {
   "cell_type": "code",
   "execution_count": 25,
   "metadata": {},
   "outputs": [
    {
     "data": {
      "image/png": "[encoded data removed]",
      "text/plain": [
       "plot without title"
      ]
     },
     "metadata": {},
     "output_type": "display_data"
    }
   ],
   "source": [
    "ggplot(data = rr, aes(x = factor(Rating_Interval), y = Revenue, fill = Rating_Interval)) + geom_boxplot() + xlab(\"Ratings\")"
   ]
  },
  {
   "cell_type": "markdown",
   "metadata": {},
   "source": [
    "Movies rated between 6-8 made a lot of Revenue."
   ]
  },
  {
   "cell_type": "markdown",
   "metadata": {},
   "source": [
    "To further drilldown into this we must also see how many movies were categorised in all interval ranges"
   ]
  },
  {
   "cell_type": "code",
   "execution_count": 26,
   "metadata": {},
   "outputs": [
    {
     "data": {
      "image/png": "[encoded data removed]",
      "text/plain": [
       "plot without title"
      ]
     },
     "metadata": {},
     "output_type": "display_data"
    }
   ],
   "source": [
    "newdf$ri<- cut(newdf$Rating, breaks = seq(1,10, by =1))\n",
    "rc <- newdf %>% group_by(ri) %>% count(ri)\n",
    "ggplot(data =  rc, aes(x = ri, y = n)) + geom_bar(stat = 'identity') + \n",
    "  xlab(\"Rating\") + ylab(\"Number of MOvies\")"
   ]
  },
  {
   "cell_type": "markdown",
   "metadata": {},
   "source": [
    "Now it is clear that maximum number of movie ratings ranges between 6-8. Hence the Revenue is more for the movies in this range of ratings. This clearly indicates that Revenues is directly proportional to the Ratings received."
   ]
  },
  {
   "cell_type": "markdown",
   "metadata": {},
   "source": [
    "Let us now check the data with respect to Genre of movies"
   ]
  },
  {
   "cell_type": "code",
   "execution_count": 27,
   "metadata": {},
   "outputs": [
    {
     "data": {
      "text/html": [
       "<style>\n",
       ".list-inline {list-style: none; margin:0; padding: 0}\n",
       ".list-inline>li {display: inline-block}\n",
       ".list-inline>li:not(:last-child)::after {content: \"\\00b7\"; padding: 0 .5ex}\n",
       "</style>\n",
       "<ol class=list-inline><li>'Action'</li><li>'Adventure'</li><li>'Sci-Fi'</li><li>'Mystery'</li><li>'Horror'</li><li>'Thriller'</li><li>'Animation'</li><li>'Comedy'</li><li>'Family'</li><li>'Fantasy'</li><li>'Drama'</li><li>'Music'</li><li>'Biography'</li><li>'Romance'</li><li>'History'</li><li>'Western'</li><li>'Crime'</li><li>'War'</li><li>'Musical'</li><li>'Sport'</li></ol>\n"
      ],
      "text/latex": [
       "\\begin{enumerate*}\n",
       "\\item 'Action'\n",
       "\\item 'Adventure'\n",
       "\\item 'Sci-Fi'\n",
       "\\item 'Mystery'\n",
       "\\item 'Horror'\n",
       "\\item 'Thriller'\n",
       "\\item 'Animation'\n",
       "\\item 'Comedy'\n",
       "\\item 'Family'\n",
       "\\item 'Fantasy'\n",
       "\\item 'Drama'\n",
       "\\item 'Music'\n",
       "\\item 'Biography'\n",
       "\\item 'Romance'\n",
       "\\item 'History'\n",
       "\\item 'Western'\n",
       "\\item 'Crime'\n",
       "\\item 'War'\n",
       "\\item 'Musical'\n",
       "\\item 'Sport'\n",
       "\\end{enumerate*}\n"
      ],
      "text/markdown": [
       "1. 'Action'\n",
       "2. 'Adventure'\n",
       "3. 'Sci-Fi'\n",
       "4. 'Mystery'\n",
       "5. 'Horror'\n",
       "6. 'Thriller'\n",
       "7. 'Animation'\n",
       "8. 'Comedy'\n",
       "9. 'Family'\n",
       "10. 'Fantasy'\n",
       "11. 'Drama'\n",
       "12. 'Music'\n",
       "13. 'Biography'\n",
       "14. 'Romance'\n",
       "15. 'History'\n",
       "16. 'Western'\n",
       "17. 'Crime'\n",
       "18. 'War'\n",
       "19. 'Musical'\n",
       "20. 'Sport'\n",
       "\n",
       "\n"
      ],
      "text/plain": [
       " [1] \"Action\"    \"Adventure\" \"Sci-Fi\"    \"Mystery\"   \"Horror\"    \"Thriller\" \n",
       " [7] \"Animation\" \"Comedy\"    \"Family\"    \"Fantasy\"   \"Drama\"     \"Music\"    \n",
       "[13] \"Biography\" \"Romance\"   \"History\"   \"Western\"   \"Crime\"     \"War\"      \n",
       "[19] \"Musical\"   \"Sport\"    "
      ]
     },
     "metadata": {},
     "output_type": "display_data"
    }
   ],
   "source": [
    "w<-unique(unlist(strsplit(unique(df$Genre), \",\")))\n",
    "w"
   ]
  },
  {
   "cell_type": "code",
   "execution_count": 28,
   "metadata": {},
   "outputs": [],
   "source": [
    "wc<- function(x){\n",
    "  length(grep(x, df$Genre))\n",
    "}"
   ]
  },
  {
   "cell_type": "code",
   "execution_count": 29,
   "metadata": {},
   "outputs": [
    {
     "data": {
      "text/html": [
       "<table>\n",
       "<caption>A data.frame: 20 × 2</caption>\n",
       "<thead>\n",
       "\t<tr><th scope=col>count</th><th scope=col>genre</th></tr>\n",
       "\t<tr><th scope=col>&lt;int&gt;</th><th scope=col>&lt;chr&gt;</th></tr>\n",
       "</thead>\n",
       "<tbody>\n",
       "\t<tr><td>419</td><td>Drama    </td></tr>\n",
       "\t<tr><td>277</td><td>Action   </td></tr>\n",
       "\t<tr><td>250</td><td>Comedy   </td></tr>\n",
       "\t<tr><td>244</td><td>Adventure</td></tr>\n",
       "\t<tr><td>148</td><td>Thriller </td></tr>\n",
       "\t<tr><td>126</td><td>Crime    </td></tr>\n",
       "\t<tr><td>120</td><td>Romance  </td></tr>\n",
       "\t<tr><td>107</td><td>Sci-Fi   </td></tr>\n",
       "\t<tr><td> 92</td><td>Fantasy  </td></tr>\n",
       "\t<tr><td> 87</td><td>Horror   </td></tr>\n",
       "\t<tr><td> 86</td><td>Mystery  </td></tr>\n",
       "\t<tr><td> 67</td><td>Biography</td></tr>\n",
       "\t<tr><td> 48</td><td>Family   </td></tr>\n",
       "\t<tr><td> 45</td><td>Animation</td></tr>\n",
       "\t<tr><td> 25</td><td>History  </td></tr>\n",
       "\t<tr><td> 20</td><td>Music    </td></tr>\n",
       "\t<tr><td> 15</td><td>Sport    </td></tr>\n",
       "\t<tr><td> 10</td><td>War      </td></tr>\n",
       "\t<tr><td>  5</td><td>Musical  </td></tr>\n",
       "\t<tr><td>  4</td><td>Western  </td></tr>\n",
       "</tbody>\n",
       "</table>\n"
      ],
      "text/latex": [
       "A data.frame: 20 × 2\n",
       "\\begin{tabular}{ll}\n",
       " count & genre\\\\\n",
       " <int> & <chr>\\\\\n",
       "\\hline\n",
       "\t 419 & Drama    \\\\\n",
       "\t 277 & Action   \\\\\n",
       "\t 250 & Comedy   \\\\\n",
       "\t 244 & Adventure\\\\\n",
       "\t 148 & Thriller \\\\\n",
       "\t 126 & Crime    \\\\\n",
       "\t 120 & Romance  \\\\\n",
       "\t 107 & Sci-Fi   \\\\\n",
       "\t  92 & Fantasy  \\\\\n",
       "\t  87 & Horror   \\\\\n",
       "\t  86 & Mystery  \\\\\n",
       "\t  67 & Biography\\\\\n",
       "\t  48 & Family   \\\\\n",
       "\t  45 & Animation\\\\\n",
       "\t  25 & History  \\\\\n",
       "\t  20 & Music    \\\\\n",
       "\t  15 & Sport    \\\\\n",
       "\t  10 & War      \\\\\n",
       "\t   5 & Musical  \\\\\n",
       "\t   4 & Western  \\\\\n",
       "\\end{tabular}\n"
      ],
      "text/markdown": [
       "\n",
       "A data.frame: 20 × 2\n",
       "\n",
       "| count &lt;int&gt; | genre &lt;chr&gt; |\n",
       "|---|---|\n",
       "| 419 | Drama     |\n",
       "| 277 | Action    |\n",
       "| 250 | Comedy    |\n",
       "| 244 | Adventure |\n",
       "| 148 | Thriller  |\n",
       "| 126 | Crime     |\n",
       "| 120 | Romance   |\n",
       "| 107 | Sci-Fi    |\n",
       "|  92 | Fantasy   |\n",
       "|  87 | Horror    |\n",
       "|  86 | Mystery   |\n",
       "|  67 | Biography |\n",
       "|  48 | Family    |\n",
       "|  45 | Animation |\n",
       "|  25 | History   |\n",
       "|  20 | Music     |\n",
       "|  15 | Sport     |\n",
       "|  10 | War       |\n",
       "|   5 | Musical   |\n",
       "|   4 | Western   |\n",
       "\n"
      ],
      "text/plain": [
       "   count genre    \n",
       "1  419   Drama    \n",
       "2  277   Action   \n",
       "3  250   Comedy   \n",
       "4  244   Adventure\n",
       "5  148   Thriller \n",
       "6  126   Crime    \n",
       "7  120   Romance  \n",
       "8  107   Sci-Fi   \n",
       "9   92   Fantasy  \n",
       "10  87   Horror   \n",
       "11  86   Mystery  \n",
       "12  67   Biography\n",
       "13  48   Family   \n",
       "14  45   Animation\n",
       "15  25   History  \n",
       "16  20   Music    \n",
       "17  15   Sport    \n",
       "18  10   War      \n",
       "19   5   Musical  \n",
       "20   4   Western  "
      ]
     },
     "metadata": {},
     "output_type": "display_data"
    }
   ],
   "source": [
    "genrecount<- as.data.frame(sapply(w,wc))\n",
    "genrecount$genre <- rownames(genrecount)\n",
    "colnames(genrecount)<- c(\"count\",\"genre\")\n",
    "genrecount<- arrange(genrecount, desc(count))\n",
    "genrecount"
   ]
  },
  {
   "cell_type": "code",
   "execution_count": 30,
   "metadata": {},
   "outputs": [
    {
     "data": {
      "image/png": "[encoded data removed]",
      "text/plain": [
       "plot without title"
      ]
     },
     "metadata": {},
     "output_type": "display_data"
    }
   ],
   "source": [
    "ggplot(data = genrecount, aes(x = genre, y = count)) + \n",
    "  geom_bar(stat = 'identity') + \n",
    "  coord_flip()"
   ]
  },
  {
   "cell_type": "markdown",
   "metadata": {},
   "source": [
    "From above bar graph it is clear that Drama and Action movies are fairly popular, followed by Comedy and Adventure."
   ]
  },
  {
   "cell_type": "code",
   "execution_count": 31,
   "metadata": {},
   "outputs": [],
   "source": [
    "RevSum<- function(x){\n",
    "  sum(newdf[(grep(x,newdf$Genre)), \"Revenue\"])  \n",
    "}"
   ]
  },
  {
   "cell_type": "code",
   "execution_count": 32,
   "metadata": {},
   "outputs": [],
   "source": [
    "rev<-as.data.frame(sapply(w,RevSum))\n",
    "rev$genre <- rownames(rev)\n",
    "colnames(rev)[1] <- \"Revenue\""
   ]
  },
  {
   "cell_type": "code",
   "execution_count": 33,
   "metadata": {},
   "outputs": [
    {
     "data": {
      "image/png": "[encoded data removed]",
      "text/plain": [
       "plot without title"
      ]
     },
     "metadata": {},
     "output_type": "display_data"
    }
   ],
   "source": [
    "ggplot(data = rev, aes(x = genre, y = Revenue)) + \n",
    "  geom_bar(stat = 'identity') +\n",
    "  xlab(\"Genre\") + ylab(\"Revenue in Millions\") +\n",
    "  coord_flip()"
   ]
  },
  {
   "cell_type": "markdown",
   "metadata": {},
   "source": [
    "Above grapgh clearly visualises the distribution of Revenue by Genre of the movie."
   ]
  },
  {
   "cell_type": "markdown",
   "metadata": {},
   "source": [
    "Action and Adventure movies bring most Revenue."
   ]
  },
  {
   "cell_type": "markdown",
   "metadata": {},
   "source": [
    "Top genres in count"
   ]
  },
  {
   "cell_type": "code",
   "execution_count": 34,
   "metadata": {},
   "outputs": [
    {
     "data": {
      "image/png": "[encoded data removed]",
      "text/plain": [
       "plot without title"
      ]
     },
     "metadata": {},
     "output_type": "display_data"
    }
   ],
   "source": [
    "wordcloud(genrecount$genre, genrecount$count, scale = c(3,0.5))"
   ]
  },
  {
   "cell_type": "markdown",
   "metadata": {},
   "source": [
    "Drama, Action, Comedy are released a lot compared to other genres"
   ]
  },
  {
   "cell_type": "markdown",
   "metadata": {},
   "source": [
    "## CORRELATION"
   ]
  },
  {
   "cell_type": "code",
   "execution_count": 35,
   "metadata": {},
   "outputs": [
    {
     "data": {
      "text/html": [
       "<table>\n",
       "<caption>A matrix: 7 × 7 of type dbl</caption>\n",
       "<thead>\n",
       "\t<tr><th></th><th scope=col>Rank</th><th scope=col>Year</th><th scope=col>Runtime</th><th scope=col>Rating</th><th scope=col>Votes</th><th scope=col>Revenue</th><th scope=col>Metascore</th></tr>\n",
       "</thead>\n",
       "<tbody>\n",
       "\t<tr><th scope=row>Rank</th><td> 1.0000000</td><td>-0.31280879</td><td>-0.2547829</td><td>-0.2431251</td><td>-0.3032835</td><td>-0.2731696</td><td>-0.19590921</td></tr>\n",
       "\t<tr><th scope=row>Year</th><td>-0.3128088</td><td> 1.00000000</td><td>-0.1019331</td><td>-0.1457032</td><td>-0.3624448</td><td>-0.1291979</td><td>-0.06230291</td></tr>\n",
       "\t<tr><th scope=row>Runtime</th><td>-0.2547829</td><td>-0.10193313</td><td> 1.0000000</td><td> 0.3745658</td><td> 0.3992982</td><td> 0.2817207</td><td> 0.22139693</td></tr>\n",
       "\t<tr><th scope=row>Rating</th><td>-0.2431251</td><td>-0.14570318</td><td> 0.3745658</td><td> 1.0000000</td><td> 0.5174521</td><td> 0.2171058</td><td> 0.67273115</td></tr>\n",
       "\t<tr><th scope=row>Votes</th><td>-0.3032835</td><td>-0.36244483</td><td> 0.3992982</td><td> 0.5174521</td><td> 1.0000000</td><td> 0.6368333</td><td> 0.33267386</td></tr>\n",
       "\t<tr><th scope=row>Revenue</th><td>-0.2731696</td><td>-0.12919791</td><td> 0.2817207</td><td> 0.2171058</td><td> 0.6368333</td><td> 1.0000000</td><td> 0.14239688</td></tr>\n",
       "\t<tr><th scope=row>Metascore</th><td>-0.1959092</td><td>-0.06230291</td><td> 0.2213969</td><td> 0.6727311</td><td> 0.3326739</td><td> 0.1423969</td><td> 1.00000000</td></tr>\n",
       "</tbody>\n",
       "</table>\n"
      ],
      "text/latex": [
       "A matrix: 7 × 7 of type dbl\n",
       "\\begin{tabular}{r|lllllll}\n",
       "  & Rank & Year & Runtime & Rating & Votes & Revenue & Metascore\\\\\n",
       "\\hline\n",
       "\tRank &  1.0000000 & -0.31280879 & -0.2547829 & -0.2431251 & -0.3032835 & -0.2731696 & -0.19590921\\\\\n",
       "\tYear & -0.3128088 &  1.00000000 & -0.1019331 & -0.1457032 & -0.3624448 & -0.1291979 & -0.06230291\\\\\n",
       "\tRuntime & -0.2547829 & -0.10193313 &  1.0000000 &  0.3745658 &  0.3992982 &  0.2817207 &  0.22139693\\\\\n",
       "\tRating & -0.2431251 & -0.14570318 &  0.3745658 &  1.0000000 &  0.5174521 &  0.2171058 &  0.67273115\\\\\n",
       "\tVotes & -0.3032835 & -0.36244483 &  0.3992982 &  0.5174521 &  1.0000000 &  0.6368333 &  0.33267386\\\\\n",
       "\tRevenue & -0.2731696 & -0.12919791 &  0.2817207 &  0.2171058 &  0.6368333 &  1.0000000 &  0.14239688\\\\\n",
       "\tMetascore & -0.1959092 & -0.06230291 &  0.2213969 &  0.6727311 &  0.3326739 &  0.1423969 &  1.00000000\\\\\n",
       "\\end{tabular}\n"
      ],
      "text/markdown": [
       "\n",
       "A matrix: 7 × 7 of type dbl\n",
       "\n",
       "| <!--/--> | Rank | Year | Runtime | Rating | Votes | Revenue | Metascore |\n",
       "|---|---|---|---|---|---|---|---|\n",
       "| Rank |  1.0000000 | -0.31280879 | -0.2547829 | -0.2431251 | -0.3032835 | -0.2731696 | -0.19590921 |\n",
       "| Year | -0.3128088 |  1.00000000 | -0.1019331 | -0.1457032 | -0.3624448 | -0.1291979 | -0.06230291 |\n",
       "| Runtime | -0.2547829 | -0.10193313 |  1.0000000 |  0.3745658 |  0.3992982 |  0.2817207 |  0.22139693 |\n",
       "| Rating | -0.2431251 | -0.14570318 |  0.3745658 |  1.0000000 |  0.5174521 |  0.2171058 |  0.67273115 |\n",
       "| Votes | -0.3032835 | -0.36244483 |  0.3992982 |  0.5174521 |  1.0000000 |  0.6368333 |  0.33267386 |\n",
       "| Revenue | -0.2731696 | -0.12919791 |  0.2817207 |  0.2171058 |  0.6368333 |  1.0000000 |  0.14239688 |\n",
       "| Metascore | -0.1959092 | -0.06230291 |  0.2213969 |  0.6727311 |  0.3326739 |  0.1423969 |  1.00000000 |\n",
       "\n"
      ],
      "text/plain": [
       "          Rank       Year        Runtime    Rating     Votes      Revenue   \n",
       "Rank       1.0000000 -0.31280879 -0.2547829 -0.2431251 -0.3032835 -0.2731696\n",
       "Year      -0.3128088  1.00000000 -0.1019331 -0.1457032 -0.3624448 -0.1291979\n",
       "Runtime   -0.2547829 -0.10193313  1.0000000  0.3745658  0.3992982  0.2817207\n",
       "Rating    -0.2431251 -0.14570318  0.3745658  1.0000000  0.5174521  0.2171058\n",
       "Votes     -0.3032835 -0.36244483  0.3992982  0.5174521  1.0000000  0.6368333\n",
       "Revenue   -0.2731696 -0.12919791  0.2817207  0.2171058  0.6368333  1.0000000\n",
       "Metascore -0.1959092 -0.06230291  0.2213969  0.6727311  0.3326739  0.1423969\n",
       "          Metascore  \n",
       "Rank      -0.19590921\n",
       "Year      -0.06230291\n",
       "Runtime    0.22139693\n",
       "Rating     0.67273115\n",
       "Votes      0.33267386\n",
       "Revenue    0.14239688\n",
       "Metascore  1.00000000"
      ]
     },
     "metadata": {},
     "output_type": "display_data"
    }
   ],
   "source": [
    "num.cols=sapply(df,is.numeric)\n",
    "cor.data=cor(df[,num.cols])\n",
    "cor.data"
   ]
  },
  {
   "cell_type": "code",
   "execution_count": 36,
   "metadata": {},
   "outputs": [
    {
     "data": {
      "image/png": "[encoded data removed]",
      "text/plain": [
       "Plot with title \"\""
      ]
     },
     "metadata": {},
     "output_type": "display_data"
    }
   ],
   "source": [
    "corrplot(cor.data,method='color')"
   ]
  },
  {
   "cell_type": "markdown",
   "metadata": {},
   "source": [
    "Ratings is positively correlated with Metascore and Votes and negatively correlated with rank"
   ]
  },
  {
   "cell_type": "code",
   "execution_count": 37,
   "metadata": {},
   "outputs": [
    {
     "data": {
      "image/png": "[encoded data removed]",
      "text/plain": [
       "plot without title"
      ]
     },
     "metadata": {},
     "output_type": "display_data"
    }
   ],
   "source": [
    "corrgram(df,order=TRUE, lower.panel=panel.shade,\n",
    "         upper.panel=panel.pie, text.panel=panel.txt)"
   ]
  },
  {
   "cell_type": "markdown",
   "metadata": {},
   "source": [
    "Different Visual Representation of the above graph"
   ]
  },
  {
   "cell_type": "markdown",
   "metadata": {},
   "source": [
    "# REGRESSION MODEL - MULTIPLE LINEAR REGRESSION"
   ]
  },
  {
   "cell_type": "markdown",
   "metadata": {},
   "source": [
    "Our objective is to predic the rating of the movie given by its viewrs"
   ]
  },
  {
   "cell_type": "code",
   "execution_count": 38,
   "metadata": {},
   "outputs": [],
   "source": [
    "library(caTools)\n",
    "\n",
    "sample=sample.split(df$Rating,SplitRatio = 0.70)\n",
    "\n",
    "train=subset(df,sample==TRUE)\n",
    "test=subset(df,sample==FALSE)"
   ]
  },
  {
   "cell_type": "code",
   "execution_count": 39,
   "metadata": {},
   "outputs": [
    {
     "data": {
      "text/plain": [
       "\n",
       "Call:\n",
       "lm(formula = Rating ~ Year + Runtime + Votes + Revenue + Metascore + \n",
       "    Rank, data = train)\n",
       "\n",
       "Residuals:\n",
       "    Min      1Q  Median      3Q     Max \n",
       "-3.2822 -0.2935  0.0243  0.3458  1.9714 \n",
       "\n",
       "Coefficients:\n",
       "              Estimate Std. Error t value Pr(>|t|)    \n",
       "(Intercept) -1.511e+01  1.949e+01  -0.776    0.438    \n",
       "Year         9.557e-03  9.659e-03   0.989    0.323    \n",
       "Runtime      7.183e-03  1.425e-03   5.042 6.17e-07 ***\n",
       "Votes        1.706e-06  1.947e-07   8.763  < 2e-16 ***\n",
       "Revenue     -1.322e-03  2.973e-04  -4.447 1.04e-05 ***\n",
       "Metascore    2.808e-02  1.544e-03  18.187  < 2e-16 ***\n",
       "Rank        -7.736e-05  1.044e-04  -0.741    0.459    \n",
       "---\n",
       "Signif. codes:  0 '***' 0.001 '**' 0.01 '*' 0.05 '.' 0.1 ' ' 1\n",
       "\n",
       "Residual standard error: 0.5889 on 580 degrees of freedom\n",
       "Multiple R-squared:  0.5705,\tAdjusted R-squared:  0.5661 \n",
       "F-statistic: 128.4 on 6 and 580 DF,  p-value: < 2.2e-16\n"
      ]
     },
     "metadata": {},
     "output_type": "display_data"
    }
   ],
   "source": [
    "model=lm(Rating~Year+Runtime+Votes+Revenue+Metascore+Rank,train)\n",
    "\n",
    "summary(model)"
   ]
  },
  {
   "cell_type": "markdown",
   "metadata": {},
   "source": [
    "INTERPRETATION\n"
   ]
  },
  {
   "cell_type": "markdown",
   "metadata": {},
   "source": [
    "• Here Rating is the dependent variable we want to predict \n"
   ]
  },
  {
   "cell_type": "markdown",
   "metadata": {},
   "source": [
    "Rating is a value which is the average of all the ratings by users for that movie"
   ]
  },
  {
   "cell_type": "markdown",
   "metadata": {},
   "source": [
    "• Here, we have the intercept and coefficients for value (Estimate)\n"
   ]
  },
  {
   "cell_type": "markdown",
   "metadata": {},
   "source": [
    "• Residuals is difference between observed and predicted value of dependent variable \n"
   ]
  },
  {
   "cell_type": "markdown",
   "metadata": {},
   "source": [
    "• Higher the number of *’s indicates higher the significance level(It’s based on p-value. Lesser the p-value, more the stars)\n"
   ]
  },
  {
   "cell_type": "markdown",
   "metadata": {},
   "source": [
    "• Here Runtime,Votes,Metascore and Revenue has high significance level\n"
   ]
  },
  {
   "cell_type": "markdown",
   "metadata": {},
   "source": [
    "• p-value is the probability of a variable being not relevant\n"
   ]
  },
  {
   "cell_type": "markdown",
   "metadata": {},
   "source": [
    "• t value shows how many S.D’s the  Coefficient is away from Zero "
   ]
  },
  {
   "cell_type": "code",
   "execution_count": 40,
   "metadata": {},
   "outputs": [
    {
     "data": {
      "text/html": [
       "<table>\n",
       "<caption>A data.frame: 6 × 1</caption>\n",
       "<thead>\n",
       "\t<tr><th></th><th scope=col>res</th></tr>\n",
       "\t<tr><th></th><th scope=col>&lt;dbl&gt;</th></tr>\n",
       "</thead>\n",
       "<tbody>\n",
       "\t<tr><th scope=row>1</th><td> 0.111641874</td></tr>\n",
       "\t<tr><th scope=row>2</th><td>-0.492343139</td></tr>\n",
       "\t<tr><th scope=row>3</th><td> 0.479344352</td></tr>\n",
       "\t<tr><th scope=row>5</th><td>-0.201454758</td></tr>\n",
       "\t<tr><th scope=row>6</th><td>-0.007896558</td></tr>\n",
       "\t<tr><th scope=row>7</th><td> 0.374767597</td></tr>\n",
       "</tbody>\n",
       "</table>\n"
      ],
      "text/latex": [
       "A data.frame: 6 × 1\n",
       "\\begin{tabular}{r|l}\n",
       "  & res\\\\\n",
       "  & <dbl>\\\\\n",
       "\\hline\n",
       "\t1 &  0.111641874\\\\\n",
       "\t2 & -0.492343139\\\\\n",
       "\t3 &  0.479344352\\\\\n",
       "\t5 & -0.201454758\\\\\n",
       "\t6 & -0.007896558\\\\\n",
       "\t7 &  0.374767597\\\\\n",
       "\\end{tabular}\n"
      ],
      "text/markdown": [
       "\n",
       "A data.frame: 6 × 1\n",
       "\n",
       "| <!--/--> | res &lt;dbl&gt; |\n",
       "|---|---|\n",
       "| 1 |  0.111641874 |\n",
       "| 2 | -0.492343139 |\n",
       "| 3 |  0.479344352 |\n",
       "| 5 | -0.201454758 |\n",
       "| 6 | -0.007896558 |\n",
       "| 7 |  0.374767597 |\n",
       "\n"
      ],
      "text/plain": [
       "  res         \n",
       "1  0.111641874\n",
       "2 -0.492343139\n",
       "3  0.479344352\n",
       "5 -0.201454758\n",
       "6 -0.007896558\n",
       "7  0.374767597"
      ]
     },
     "metadata": {},
     "output_type": "display_data"
    }
   ],
   "source": [
    "res=residuals(model)\n",
    "\n",
    "res=as.data.frame(res)\n",
    "head(res)"
   ]
  },
  {
   "cell_type": "code",
   "execution_count": 41,
   "metadata": {},
   "outputs": [
    {
     "name": "stderr",
     "output_type": "stream",
     "text": [
      "`stat_bin()` using `bins = 30`. Pick better value with `binwidth`.\n"
     ]
    },
    {
     "data": {
      "image/png": "[encoded data removed]",
      "text/plain": [
       "plot without title"
      ]
     },
     "metadata": {},
     "output_type": "display_data"
    }
   ],
   "source": [
    "ggplot(res,aes(res))+geom_histogram(fill='blue',alpha=0.5)"
   ]
  },
  {
   "cell_type": "markdown",
   "metadata": {},
   "source": [
    "Plotting Residuals to check whether its Normal Distribution"
   ]
  },
  {
   "cell_type": "code",
   "execution_count": 42,
   "metadata": {},
   "outputs": [
    {
     "data": {
      "text/html": [
       "<style>\n",
       ".dl-inline {width: auto; margin:0; padding: 0}\n",
       ".dl-inline>dt, .dl-inline>dd {float: none; width: auto; display: inline-block}\n",
       ".dl-inline>dt::after {content: \":\\0020\"; padding-right: .5ex}\n",
       ".dl-inline>dt:not(:first-of-type) {padding-left: .5ex}\n",
       "</style><dl class=dl-inline><dt>4</dt><dd>6.33131388343998</dd><dt>10</dt><dd>6.33256032730721</dd><dt>15</dt><dd>6.91158726862968</dd><dt>16</dt><dd>6.20800909278585</dd><dt>21</dt><dd>6.41246169762147</dd><dt>22</dt><dd>7.99730157126174</dd></dl>\n"
      ],
      "text/latex": [
       "\\begin{description*}\n",
       "\\item[4] 6.33131388343998\n",
       "\\item[10] 6.33256032730721\n",
       "\\item[15] 6.91158726862968\n",
       "\\item[16] 6.20800909278585\n",
       "\\item[21] 6.41246169762147\n",
       "\\item[22] 7.99730157126174\n",
       "\\end{description*}\n"
      ],
      "text/markdown": [
       "4\n",
       ":   6.3313138834399810\n",
       ":   6.3325603273072115\n",
       ":   6.9115872686296816\n",
       ":   6.2080090927858521\n",
       ":   6.4124616976214722\n",
       ":   7.99730157126174\n",
       "\n"
      ],
      "text/plain": [
       "       4       10       15       16       21       22 \n",
       "6.331314 6.332560 6.911587 6.208009 6.412462 7.997302 "
      ]
     },
     "metadata": {},
     "output_type": "display_data"
    }
   ],
   "source": [
    "Rating.predictions=predict(model,test)\n",
    "head(Rating.predictions)"
   ]
  },
  {
   "cell_type": "code",
   "execution_count": 43,
   "metadata": {},
   "outputs": [
    {
     "data": {
      "text/html": [
       "<table>\n",
       "<caption>A data.frame: 6 × 2</caption>\n",
       "<thead>\n",
       "\t<tr><th></th><th scope=col>pred</th><th scope=col>real</th></tr>\n",
       "\t<tr><th></th><th scope=col>&lt;dbl&gt;</th><th scope=col>&lt;dbl&gt;</th></tr>\n",
       "</thead>\n",
       "<tbody>\n",
       "\t<tr><th scope=row>4</th><td>6.331314</td><td>7.2</td></tr>\n",
       "\t<tr><th scope=row>10</th><td>6.332560</td><td>7.0</td></tr>\n",
       "\t<tr><th scope=row>15</th><td>6.911587</td><td>6.4</td></tr>\n",
       "\t<tr><th scope=row>16</th><td>6.208009</td><td>6.6</td></tr>\n",
       "\t<tr><th scope=row>21</th><td>6.412462</td><td>6.7</td></tr>\n",
       "\t<tr><th scope=row>22</th><td>7.997302</td><td>7.9</td></tr>\n",
       "</tbody>\n",
       "</table>\n"
      ],
      "text/latex": [
       "A data.frame: 6 × 2\n",
       "\\begin{tabular}{r|ll}\n",
       "  & pred & real\\\\\n",
       "  & <dbl> & <dbl>\\\\\n",
       "\\hline\n",
       "\t4 & 6.331314 & 7.2\\\\\n",
       "\t10 & 6.332560 & 7.0\\\\\n",
       "\t15 & 6.911587 & 6.4\\\\\n",
       "\t16 & 6.208009 & 6.6\\\\\n",
       "\t21 & 6.412462 & 6.7\\\\\n",
       "\t22 & 7.997302 & 7.9\\\\\n",
       "\\end{tabular}\n"
      ],
      "text/markdown": [
       "\n",
       "A data.frame: 6 × 2\n",
       "\n",
       "| <!--/--> | pred &lt;dbl&gt; | real &lt;dbl&gt; |\n",
       "|---|---|---|\n",
       "| 4 | 6.331314 | 7.2 |\n",
       "| 10 | 6.332560 | 7.0 |\n",
       "| 15 | 6.911587 | 6.4 |\n",
       "| 16 | 6.208009 | 6.6 |\n",
       "| 21 | 6.412462 | 6.7 |\n",
       "| 22 | 7.997302 | 7.9 |\n",
       "\n"
      ],
      "text/plain": [
       "   pred     real\n",
       "4  6.331314 7.2 \n",
       "10 6.332560 7.0 \n",
       "15 6.911587 6.4 \n",
       "16 6.208009 6.6 \n",
       "21 6.412462 6.7 \n",
       "22 7.997302 7.9 "
      ]
     },
     "metadata": {},
     "output_type": "display_data"
    }
   ],
   "source": [
    "results=cbind(Rating.predictions,test$Rating)\n",
    "colnames(results)=c('pred','real')\n",
    "results=as.data.frame(results)\n",
    "head(results)"
   ]
  },
  {
   "cell_type": "code",
   "execution_count": 44,
   "metadata": {},
   "outputs": [],
   "source": [
    "to_zero=function(x){\n",
    "  if (x<0){\n",
    "    return(0)\n",
    "  }else{\n",
    "    return(x)\n",
    "  }\n",
    "}"
   ]
  },
  {
   "cell_type": "code",
   "execution_count": 45,
   "metadata": {
    "scrolled": true
   },
   "outputs": [
    {
     "data": {
      "text/html": [
       "<table>\n",
       "<caption>A data.frame: 6 × 2</caption>\n",
       "<thead>\n",
       "\t<tr><th></th><th scope=col>pred</th><th scope=col>real</th></tr>\n",
       "\t<tr><th></th><th scope=col>&lt;dbl&gt;</th><th scope=col>&lt;dbl&gt;</th></tr>\n",
       "</thead>\n",
       "<tbody>\n",
       "\t<tr><th scope=row>4</th><td>6.331314</td><td>7.2</td></tr>\n",
       "\t<tr><th scope=row>10</th><td>6.332560</td><td>7.0</td></tr>\n",
       "\t<tr><th scope=row>15</th><td>6.911587</td><td>6.4</td></tr>\n",
       "\t<tr><th scope=row>16</th><td>6.208009</td><td>6.6</td></tr>\n",
       "\t<tr><th scope=row>21</th><td>6.412462</td><td>6.7</td></tr>\n",
       "\t<tr><th scope=row>22</th><td>7.997302</td><td>7.9</td></tr>\n",
       "</tbody>\n",
       "</table>\n"
      ],
      "text/latex": [
       "A data.frame: 6 × 2\n",
       "\\begin{tabular}{r|ll}\n",
       "  & pred & real\\\\\n",
       "  & <dbl> & <dbl>\\\\\n",
       "\\hline\n",
       "\t4 & 6.331314 & 7.2\\\\\n",
       "\t10 & 6.332560 & 7.0\\\\\n",
       "\t15 & 6.911587 & 6.4\\\\\n",
       "\t16 & 6.208009 & 6.6\\\\\n",
       "\t21 & 6.412462 & 6.7\\\\\n",
       "\t22 & 7.997302 & 7.9\\\\\n",
       "\\end{tabular}\n"
      ],
      "text/markdown": [
       "\n",
       "A data.frame: 6 × 2\n",
       "\n",
       "| <!--/--> | pred &lt;dbl&gt; | real &lt;dbl&gt; |\n",
       "|---|---|---|\n",
       "| 4 | 6.331314 | 7.2 |\n",
       "| 10 | 6.332560 | 7.0 |\n",
       "| 15 | 6.911587 | 6.4 |\n",
       "| 16 | 6.208009 | 6.6 |\n",
       "| 21 | 6.412462 | 6.7 |\n",
       "| 22 | 7.997302 | 7.9 |\n",
       "\n"
      ],
      "text/plain": [
       "   pred     real\n",
       "4  6.331314 7.2 \n",
       "10 6.332560 7.0 \n",
       "15 6.911587 6.4 \n",
       "16 6.208009 6.6 \n",
       "21 6.412462 6.7 \n",
       "22 7.997302 7.9 "
      ]
     },
     "metadata": {},
     "output_type": "display_data"
    }
   ],
   "source": [
    "results$pred=sapply(results$pred,to_zero)\n",
    "head(results)"
   ]
  },
  {
   "cell_type": "code",
   "execution_count": 46,
   "metadata": {},
   "outputs": [
    {
     "name": "stdout",
     "output_type": "stream",
     "text": [
      "[1] 0.287368\n"
     ]
    },
    {
     "data": {
      "text/html": [
       "0.536067159653052"
      ],
      "text/latex": [
       "0.536067159653052"
      ],
      "text/markdown": [
       "0.536067159653052"
      ],
      "text/plain": [
       "[1] 0.5360672"
      ]
     },
     "metadata": {},
     "output_type": "display_data"
    }
   ],
   "source": [
    "mse=mean((results$real-results$pred)^2)\n",
    "print(mse)\n",
    "\n",
    "mse^0.5"
   ]
  },
  {
   "cell_type": "markdown",
   "metadata": {},
   "source": [
    "• This is a RMSE value.RMSE is a measure of how spread out these residuals are. In other words, it tells you how con centrated the data is around the line of best fit"
   ]
  },
  {
   "cell_type": "code",
   "execution_count": 47,
   "metadata": {},
   "outputs": [
    {
     "data": {
      "text/html": [
       "0.59130764645061"
      ],
      "text/latex": [
       "0.59130764645061"
      ],
      "text/markdown": [
       "0.59130764645061"
      ],
      "text/plain": [
       "[1] 0.5913076"
      ]
     },
     "metadata": {},
     "output_type": "display_data"
    }
   ],
   "source": [
    "SSE=sum((results$pred-results$real)^2)\n",
    "SST=sum((mean(df$Rating)-results$real)^2)\n",
    "R2=1-SSE/SST\n",
    "R2"
   ]
  },
  {
   "cell_type": "markdown",
   "metadata": {},
   "source": [
    "• R-squared is a goodness-of-fit measure for linear regression models.\n"
   ]
  },
  {
   "cell_type": "markdown",
   "metadata": {},
   "source": [
    "• R-squared measures the strength of the relationship between your model and the dependent variable on a convenient 0 – 100% scale. \n"
   ]
  },
  {
   "cell_type": "markdown",
   "metadata": {},
   "source": [
    "• this model can explain only 61% of the variation."
   ]
  },
  {
   "cell_type": "markdown",
   "metadata": {},
   "source": [
    "From this, we can understand that, these all datapoints are not enough predict the Rating of Movie by users"
   ]
  },
  {
   "cell_type": "markdown",
   "metadata": {},
   "source": [
    "This means that there is a lot of oppurtunities to improve the prediction of ratings."
   ]
  }
 ],
 "metadata": {
  "kernelspec": {
   "display_name": "R",
   "language": "R",
   "name": "ir"
  },
  "language_info": {
   "codemirror_mode": "r",
   "file_extension": ".r",
   "mimetype": "text/x-r-source",
   "name": "R",
   "pygments_lexer": "r",
   "version": "3.6.1"
  }
 },
 "nbformat": 4,
 "nbformat_minor": 2
}

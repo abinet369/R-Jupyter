{
 "cells": [
  {
   "cell_type": "markdown",
   "metadata": {},
   "source": [
    "# REGRESSION TREE - IRIS"
   ]
  },
  {
   "cell_type": "code",
   "execution_count": 1,
   "metadata": {},
   "outputs": [],
   "source": [
    "#\"https://analytics4all.org/2016/11/23/r-decision-trees-regression/\""
   ]
  },
  {
   "cell_type": "code",
   "execution_count": 1,
   "metadata": {},
   "outputs": [
    {
     "data": {
      "text/html": [
       "<table>\n",
       "<thead><tr><th scope=col>Sepal.Length</th><th scope=col>Sepal.Width</th><th scope=col>Petal.Length</th><th scope=col>Petal.Width</th><th scope=col>Species</th></tr></thead>\n",
       "<tbody>\n",
       "\t<tr><td>5.1   </td><td>3.5   </td><td>1.4   </td><td>0.2   </td><td>setosa</td></tr>\n",
       "\t<tr><td>4.9   </td><td>3.0   </td><td>1.4   </td><td>0.2   </td><td>setosa</td></tr>\n",
       "\t<tr><td>4.7   </td><td>3.2   </td><td>1.3   </td><td>0.2   </td><td>setosa</td></tr>\n",
       "\t<tr><td>4.6   </td><td>3.1   </td><td>1.5   </td><td>0.2   </td><td>setosa</td></tr>\n",
       "\t<tr><td>5.0   </td><td>3.6   </td><td>1.4   </td><td>0.2   </td><td>setosa</td></tr>\n",
       "\t<tr><td>5.4   </td><td>3.9   </td><td>1.7   </td><td>0.4   </td><td>setosa</td></tr>\n",
       "</tbody>\n",
       "</table>\n"
      ],
      "text/latex": [
       "\\begin{tabular}{r|lllll}\n",
       " Sepal.Length & Sepal.Width & Petal.Length & Petal.Width & Species\\\\\n",
       "\\hline\n",
       "\t 5.1    & 3.5    & 1.4    & 0.2    & setosa\\\\\n",
       "\t 4.9    & 3.0    & 1.4    & 0.2    & setosa\\\\\n",
       "\t 4.7    & 3.2    & 1.3    & 0.2    & setosa\\\\\n",
       "\t 4.6    & 3.1    & 1.5    & 0.2    & setosa\\\\\n",
       "\t 5.0    & 3.6    & 1.4    & 0.2    & setosa\\\\\n",
       "\t 5.4    & 3.9    & 1.7    & 0.4    & setosa\\\\\n",
       "\\end{tabular}\n"
      ],
      "text/markdown": [
       "\n",
       "| Sepal.Length | Sepal.Width | Petal.Length | Petal.Width | Species |\n",
       "|---|---|---|---|---|\n",
       "| 5.1    | 3.5    | 1.4    | 0.2    | setosa |\n",
       "| 4.9    | 3.0    | 1.4    | 0.2    | setosa |\n",
       "| 4.7    | 3.2    | 1.3    | 0.2    | setosa |\n",
       "| 4.6    | 3.1    | 1.5    | 0.2    | setosa |\n",
       "| 5.0    | 3.6    | 1.4    | 0.2    | setosa |\n",
       "| 5.4    | 3.9    | 1.7    | 0.4    | setosa |\n",
       "\n"
      ],
      "text/plain": [
       "  Sepal.Length Sepal.Width Petal.Length Petal.Width Species\n",
       "1 5.1          3.5         1.4          0.2         setosa \n",
       "2 4.9          3.0         1.4          0.2         setosa \n",
       "3 4.7          3.2         1.3          0.2         setosa \n",
       "4 4.6          3.1         1.5          0.2         setosa \n",
       "5 5.0          3.6         1.4          0.2         setosa \n",
       "6 5.4          3.9         1.7          0.4         setosa "
      ]
     },
     "metadata": {},
     "output_type": "display_data"
    }
   ],
   "source": [
    "df=iris\n",
    "head(df)"
   ]
  },
  {
   "cell_type": "code",
   "execution_count": 2,
   "metadata": {},
   "outputs": [
    {
     "name": "stdout",
     "output_type": "stream",
     "text": [
      "'data.frame':\t150 obs. of  5 variables:\n",
      " $ Sepal.Length: num  5.1 4.9 4.7 4.6 5 5.4 4.6 5 4.4 4.9 ...\n",
      " $ Sepal.Width : num  3.5 3 3.2 3.1 3.6 3.9 3.4 3.4 2.9 3.1 ...\n",
      " $ Petal.Length: num  1.4 1.4 1.3 1.5 1.4 1.7 1.4 1.5 1.4 1.5 ...\n",
      " $ Petal.Width : num  0.2 0.2 0.2 0.2 0.2 0.4 0.3 0.2 0.2 0.1 ...\n",
      " $ Species     : Factor w/ 3 levels \"setosa\",\"versicolor\",..: 1 1 1 1 1 1 1 1 1 1 ...\n"
     ]
    }
   ],
   "source": [
    "str(df)"
   ]
  },
  {
   "cell_type": "markdown",
   "metadata": {},
   "source": [
    "This dataset contains details about flowers"
   ]
  },
  {
   "cell_type": "code",
   "execution_count": 3,
   "metadata": {},
   "outputs": [
    {
     "name": "stderr",
     "output_type": "stream",
     "text": [
      "Warning message:\n",
      "\"package 'caTools' was built under R version 3.6.2\""
     ]
    }
   ],
   "source": [
    "library(caTools)\n",
    "sample=sample.split(df$Species,SplitRatio=0.70)\n",
    "train=subset(df,sample==T)\n",
    "test=subset(df,sample==F)"
   ]
  },
  {
   "cell_type": "markdown",
   "metadata": {},
   "source": [
    "## APPLYING REGRESSION TREE"
   ]
  },
  {
   "cell_type": "code",
   "execution_count": 4,
   "metadata": {},
   "outputs": [],
   "source": [
    "library(rpart)"
   ]
  },
  {
   "cell_type": "code",
   "execution_count": 5,
   "metadata": {},
   "outputs": [],
   "source": [
    "fit <- rpart(Sepal.Length ~ Sepal.Width + Petal.Length + Petal.Width+ Species,method=\"anova\", data=train )"
   ]
  },
  {
   "cell_type": "markdown",
   "metadata": {},
   "source": [
    "Our objective here is to predict Sepal length using regression"
   ]
  },
  {
   "cell_type": "code",
   "execution_count": 15,
   "metadata": {},
   "outputs": [
    {
     "data": {
      "image/png": "[encoded data removed]",
      "text/plain": [
       "Plot with title \"Regression Tree for Sepal Length\""
      ]
     },
     "metadata": {},
     "output_type": "display_data"
    }
   ],
   "source": [
    "plot(fit,uniform=TRUE,main=\"Regression Tree for Sepal Length\")\n",
    "text(fit, use.n=TRUE, cex = 0.6)"
   ]
  },
  {
   "cell_type": "markdown",
   "metadata": {},
   "source": [
    "If Petal length less than 4.25 and petal length greater than 3.4 then sepal length is 5.608"
   ]
  },
  {
   "cell_type": "markdown",
   "metadata": {},
   "source": [
    "If Petal length less than 4.25 and petal length less than 3.4 and sepal width less than 3.25 then sepal length is 4.725"
   ]
  },
  {
   "cell_type": "markdown",
   "metadata": {},
   "source": [
    "If Petal length less than 4.25 and petal length less than 3.4 and sepal width greater than 3.25 then sepal length is 5.257"
   ]
  },
  {
   "cell_type": "markdown",
   "metadata": {},
   "source": [
    "If petal length greater than 4.25 and petal length greater than 6.05 then sepal length is 7.614"
   ]
  },
  {
   "cell_type": "markdown",
   "metadata": {},
   "source": [
    "If petal length greater than 4.25 and petal length less than 6.05 and sepal width greater than 3.05 then sepal length is 6.606"
   ]
  },
  {
   "cell_type": "markdown",
   "metadata": {},
   "source": [
    "If petal length greater than 4.25 and petal length less than 6.05 and sepal width less than 3.05 and petal length greater than 5.15 then sepal length is 6.5"
   ]
  },
  {
   "cell_type": "markdown",
   "metadata": {},
   "source": [
    "If petal length greater than 4.25 and petal length less than 6.05 and sepal width less than 3.05 and petal length less than 5.15 and petal width less than 1.45 then sepal length is 6.23"
   ]
  },
  {
   "cell_type": "markdown",
   "metadata": {},
   "source": [
    "If petal length greater than 4.25 and petal length less than 6.05 and sepal width less than 3.05 and petal length less than 5.15 and petal width greater than oe equal to 1.45 then sepal length is 5.867"
   ]
  },
  {
   "cell_type": "code",
   "execution_count": 7,
   "metadata": {},
   "outputs": [
    {
     "name": "stdout",
     "output_type": "stream",
     "text": [
      "\n",
      "Regression tree:\n",
      "rpart(formula = Sepal.Length ~ Sepal.Width + Petal.Length + Petal.Width + \n",
      "    Species, data = train, method = \"anova\")\n",
      "\n",
      "Variables actually used in tree construction:\n",
      "[1] Petal.Length Petal.Width  Sepal.Width \n",
      "\n",
      "Root node error: 73.321/105 = 0.69829\n",
      "\n",
      "n= 105 \n",
      "\n",
      "        CP nsplit rel error  xerror     xstd\n",
      "1 0.587791      0   1.00000 1.02357 0.122178\n",
      "2 0.146999      1   0.41221 0.42867 0.062552\n",
      "3 0.041761      2   0.26521 0.29669 0.038035\n",
      "4 0.035931      3   0.22345 0.28417 0.038971\n",
      "5 0.035073      4   0.18752 0.29110 0.040460\n",
      "6 0.017762      5   0.15244 0.24917 0.038567\n",
      "7 0.010803      6   0.13468 0.23550 0.036313\n",
      "8 0.010000      7   0.12388 0.22163 0.034243\n"
     ]
    },
    {
     "data": {
      "image/png": "[encoded data removed]",
      "text/plain": [
       "plot without title"
      ]
     },
     "metadata": {},
     "output_type": "display_data"
    }
   ],
   "source": [
    "par(mfrow=c(1,2))\n",
    "rsq.rpart(fit)"
   ]
  },
  {
   "cell_type": "markdown",
   "metadata": {},
   "source": [
    "As the number of split increases R-square incrases while error decreases"
   ]
  },
  {
   "cell_type": "markdown",
   "metadata": {},
   "source": [
    "This means that as number of splits increases model gets better accurracy and error in prediction"
   ]
  },
  {
   "cell_type": "code",
   "execution_count": 8,
   "metadata": {},
   "outputs": [
    {
     "data": {
      "text/html": [
       "<strong>1:</strong> 5.25714285714286"
      ],
      "text/latex": [
       "\\textbf{1:} 5.25714285714286"
      ],
      "text/markdown": [
       "**1:** 5.25714285714286"
      ],
      "text/plain": [
       "       1 \n",
       "5.257143 "
      ]
     },
     "metadata": {},
     "output_type": "display_data"
    }
   ],
   "source": [
    "testData  <-data.frame (Species = 'setosa', Sepal.Width = 4, Petal.Length =1.2,Petal.Width=0.3)\n",
    "predict(fit, testData, method = \"anova\")"
   ]
  },
  {
   "cell_type": "markdown",
   "metadata": {},
   "source": [
    "passed a custom test data to find what the prediction will be"
   ]
  },
  {
   "cell_type": "code",
   "execution_count": 10,
   "metadata": {},
   "outputs": [],
   "source": [
    "predictions=predict(fit,test,method='anova')\n",
    "results=cbind(predictions,test$Sepal.Length)"
   ]
  },
  {
   "cell_type": "markdown",
   "metadata": {},
   "source": [
    "passed down test data 30 % of the whole data to predict"
   ]
  },
  {
   "cell_type": "code",
   "execution_count": 11,
   "metadata": {},
   "outputs": [],
   "source": [
    "colnames(results)<-c('pred','real')\n",
    "results<-as.data.frame(results)"
   ]
  },
  {
   "cell_type": "code",
   "execution_count": 12,
   "metadata": {},
   "outputs": [
    {
     "data": {
      "text/html": [
       "0.818738212019242"
      ],
      "text/latex": [
       "0.818738212019242"
      ],
      "text/markdown": [
       "0.818738212019242"
      ],
      "text/plain": [
       "[1] 0.8187382"
      ]
     },
     "metadata": {},
     "output_type": "display_data"
    }
   ],
   "source": [
    "SSE=sum((results$pred-results$real)^2)\n",
    "SST=sum((mean(df$Sepal.Length)-results$real)^2)\n",
    "R2=1-SSE/SST\n",
    "R2"
   ]
  },
  {
   "cell_type": "markdown",
   "metadata": {},
   "source": [
    "• R-squared is a goodness-of-fit measure for linear regression models. \n",
    "• R-squared measures the strength of the relationship between your model and the dependent variable on a convenient 0 – 100% scale. \n",
    "• this model can explain more 81% of the variation."
   ]
  }
 ],
 "metadata": {
  "kernelspec": {
   "display_name": "R",
   "language": "R",
   "name": "ir"
  },
  "language_info": {
   "codemirror_mode": "r",
   "file_extension": ".r",
   "mimetype": "text/x-r-source",
   "name": "R",
   "pygments_lexer": "r",
   "version": "3.6.1"
  }
 },
 "nbformat": 4,
 "nbformat_minor": 2
}

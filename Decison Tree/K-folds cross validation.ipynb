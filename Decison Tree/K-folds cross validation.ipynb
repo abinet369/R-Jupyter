{
 "cells": [
  {
   "cell_type": "code",
   "execution_count": 3,
   "metadata": {},
   "outputs": [
    {
     "name": "stderr",
     "output_type": "stream",
     "text": [
      "Installing package into 'C:/Users/abine/OneDrive/Documents/R/win-library/3.6'\n",
      "(as 'lib' is unspecified)\n",
      "also installing the dependency 'mnormt'\n",
      "\n"
     ]
    },
    {
     "name": "stdout",
     "output_type": "stream",
     "text": [
      "package 'mnormt' successfully unpacked and MD5 sums checked\n",
      "package 'psych' successfully unpacked and MD5 sums checked\n",
      "\n",
      "The downloaded binary packages are in\n",
      "\tC:\\Users\\abine\\AppData\\Local\\Temp\\RtmpuuWSY5\\downloaded_packages\n"
     ]
    },
    {
     "name": "stderr",
     "output_type": "stream",
     "text": [
      "Installing package into 'C:/Users/abine/OneDrive/Documents/R/win-library/3.6'\n",
      "(as 'lib' is unspecified)\n"
     ]
    },
    {
     "name": "stdout",
     "output_type": "stream",
     "text": [
      "package 'caret' successfully unpacked and MD5 sums checked\n",
      "\n",
      "The downloaded binary packages are in\n",
      "\tC:\\Users\\abine\\AppData\\Local\\Temp\\RtmpuuWSY5\\downloaded_packages\n"
     ]
    }
   ],
   "source": [
    "install.packages(\"psych\")\n",
    "install.packages(\"caret\")"
   ]
  },
  {
   "cell_type": "code",
   "execution_count": 4,
   "metadata": {},
   "outputs": [
    {
     "name": "stderr",
     "output_type": "stream",
     "text": [
      "Warning message:\n",
      "\"package 'psych' was built under R version 3.6.2\"Warning message:\n",
      "\"package 'caret' was built under R version 3.6.2\"Loading required package: lattice\n",
      "Loading required package: ggplot2\n",
      "Warning message:\n",
      "\"package 'ggplot2' was built under R version 3.6.2\"\n",
      "Attaching package: 'ggplot2'\n",
      "\n",
      "The following objects are masked from 'package:psych':\n",
      "\n",
      "    %+%, alpha\n",
      "\n"
     ]
    }
   ],
   "source": [
    "library(psych)\n",
    "library(caret)"
   ]
  },
  {
   "cell_type": "code",
   "execution_count": 6,
   "metadata": {},
   "outputs": [
    {
     "data": {
      "text/html": [
       "<table>\n",
       "<thead><tr><th></th><th scope=col>gender</th><th scope=col>education</th><th scope=col>age</th><th scope=col>ACT</th><th scope=col>SATV</th><th scope=col>SATQ</th></tr></thead>\n",
       "<tbody>\n",
       "\t<tr><th scope=row>29442</th><td>2  </td><td>3  </td><td>19 </td><td>24 </td><td>500</td><td>500</td></tr>\n",
       "\t<tr><th scope=row>29457</th><td>2  </td><td>3  </td><td>23 </td><td>35 </td><td>600</td><td>500</td></tr>\n",
       "\t<tr><th scope=row>29498</th><td>2  </td><td>3  </td><td>20 </td><td>21 </td><td>480</td><td>470</td></tr>\n",
       "\t<tr><th scope=row>29503</th><td>1  </td><td>4  </td><td>27 </td><td>26 </td><td>550</td><td>520</td></tr>\n",
       "\t<tr><th scope=row>29504</th><td>1  </td><td>2  </td><td>33 </td><td>31 </td><td>600</td><td>550</td></tr>\n",
       "\t<tr><th scope=row>29518</th><td>1  </td><td>5  </td><td>26 </td><td>28 </td><td>640</td><td>640</td></tr>\n",
       "</tbody>\n",
       "</table>\n"
      ],
      "text/latex": [
       "\\begin{tabular}{r|llllll}\n",
       "  & gender & education & age & ACT & SATV & SATQ\\\\\n",
       "\\hline\n",
       "\t29442 & 2   & 3   & 19  & 24  & 500 & 500\\\\\n",
       "\t29457 & 2   & 3   & 23  & 35  & 600 & 500\\\\\n",
       "\t29498 & 2   & 3   & 20  & 21  & 480 & 470\\\\\n",
       "\t29503 & 1   & 4   & 27  & 26  & 550 & 520\\\\\n",
       "\t29504 & 1   & 2   & 33  & 31  & 600 & 550\\\\\n",
       "\t29518 & 1   & 5   & 26  & 28  & 640 & 640\\\\\n",
       "\\end{tabular}\n"
      ],
      "text/markdown": [
       "\n",
       "| <!--/--> | gender | education | age | ACT | SATV | SATQ |\n",
       "|---|---|---|---|---|---|---|\n",
       "| 29442 | 2   | 3   | 19  | 24  | 500 | 500 |\n",
       "| 29457 | 2   | 3   | 23  | 35  | 600 | 500 |\n",
       "| 29498 | 2   | 3   | 20  | 21  | 480 | 470 |\n",
       "| 29503 | 1   | 4   | 27  | 26  | 550 | 520 |\n",
       "| 29504 | 1   | 2   | 33  | 31  | 600 | 550 |\n",
       "| 29518 | 1   | 5   | 26  | 28  | 640 | 640 |\n",
       "\n"
      ],
      "text/plain": [
       "      gender education age ACT SATV SATQ\n",
       "29442 2      3         19  24  500  500 \n",
       "29457 2      3         23  35  600  500 \n",
       "29498 2      3         20  21  480  470 \n",
       "29503 1      4         27  26  550  520 \n",
       "29504 1      2         33  31  600  550 \n",
       "29518 1      5         26  28  640  640 "
      ]
     },
     "metadata": {},
     "output_type": "display_data"
    }
   ],
   "source": [
    "data=sat.act\n",
    "head(data)"
   ]
  },
  {
   "cell_type": "code",
   "execution_count": 7,
   "metadata": {},
   "outputs": [],
   "source": [
    "## Cross Validation using Caret pckg"
   ]
  },
  {
   "cell_type": "code",
   "execution_count": 11,
   "metadata": {},
   "outputs": [],
   "source": [
    "data_ctrl=trainControl(method=\"cv\",number=5) #no-how many folds,we are using"
   ]
  },
  {
   "cell_type": "code",
   "execution_count": 16,
   "metadata": {},
   "outputs": [],
   "source": [
    "model_caret=train(ACT~gender+age+SATV+SATQ\n",
    "                  ,data=data,\n",
    "                 trControl=data_ctrl, #folds\n",
    "                 method=\"lm\",       #specifying regression model\n",
    "                 na.action=na.pass) #pass missing data to model-some models will handle this"
   ]
  },
  {
   "cell_type": "code",
   "execution_count": 17,
   "metadata": {},
   "outputs": [
    {
     "data": {
      "text/plain": [
       "Linear Regression \n",
       "\n",
       "700 samples\n",
       "  4 predictor\n",
       "\n",
       "No pre-processing\n",
       "Resampling: Cross-Validated (5 fold) \n",
       "Summary of sample sizes: 559, 560, 560, 560, 561 \n",
       "Resampling results:\n",
       "\n",
       "  RMSE      Rsquared   MAE     \n",
       "  3.712835  0.4154382  2.781712\n",
       "\n",
       "Tuning parameter 'intercept' was held constant at a value of TRUE"
      ]
     },
     "metadata": {},
     "output_type": "display_data"
    }
   ],
   "source": [
    "model_caret"
   ]
  },
  {
   "cell_type": "code",
   "execution_count": 19,
   "metadata": {},
   "outputs": [
    {
     "data": {
      "text/plain": [
       "\n",
       "Call:\n",
       "lm(formula = .outcome ~ ., data = dat)\n",
       "\n",
       "Coefficients:\n",
       "(Intercept)       gender          age         SATV         SATQ  \n",
       "    7.93865      0.33397      0.07096      0.01328      0.01657  \n"
      ]
     },
     "metadata": {},
     "output_type": "display_data"
    }
   ],
   "source": [
    "model_caret$finalModel"
   ]
  },
  {
   "cell_type": "code",
   "execution_count": 21,
   "metadata": {},
   "outputs": [
    {
     "data": {
      "text/html": [
       "<table>\n",
       "<thead><tr><th scope=col>RMSE</th><th scope=col>Rsquared</th><th scope=col>MAE</th><th scope=col>Resample</th></tr></thead>\n",
       "<tbody>\n",
       "\t<tr><td>3.467903 </td><td>0.4849365</td><td>2.669926 </td><td>Fold1    </td></tr>\n",
       "\t<tr><td>3.534460 </td><td>0.4687355</td><td>2.682112 </td><td>Fold2    </td></tr>\n",
       "\t<tr><td>3.727361 </td><td>0.5151433</td><td>2.787831 </td><td>Fold3    </td></tr>\n",
       "\t<tr><td>4.076752 </td><td>0.2723177</td><td>2.937602 </td><td>Fold4    </td></tr>\n",
       "\t<tr><td>3.757701 </td><td>0.3360580</td><td>2.831089 </td><td>Fold5    </td></tr>\n",
       "</tbody>\n",
       "</table>\n"
      ],
      "text/latex": [
       "\\begin{tabular}{r|llll}\n",
       " RMSE & Rsquared & MAE & Resample\\\\\n",
       "\\hline\n",
       "\t 3.467903  & 0.4849365 & 2.669926  & Fold1    \\\\\n",
       "\t 3.534460  & 0.4687355 & 2.682112  & Fold2    \\\\\n",
       "\t 3.727361  & 0.5151433 & 2.787831  & Fold3    \\\\\n",
       "\t 4.076752  & 0.2723177 & 2.937602  & Fold4    \\\\\n",
       "\t 3.757701  & 0.3360580 & 2.831089  & Fold5    \\\\\n",
       "\\end{tabular}\n"
      ],
      "text/markdown": [
       "\n",
       "| RMSE | Rsquared | MAE | Resample |\n",
       "|---|---|---|---|\n",
       "| 3.467903  | 0.4849365 | 2.669926  | Fold1     |\n",
       "| 3.534460  | 0.4687355 | 2.682112  | Fold2     |\n",
       "| 3.727361  | 0.5151433 | 2.787831  | Fold3     |\n",
       "| 4.076752  | 0.2723177 | 2.937602  | Fold4     |\n",
       "| 3.757701  | 0.3360580 | 2.831089  | Fold5     |\n",
       "\n"
      ],
      "text/plain": [
       "  RMSE     Rsquared  MAE      Resample\n",
       "1 3.467903 0.4849365 2.669926 Fold1   \n",
       "2 3.534460 0.4687355 2.682112 Fold2   \n",
       "3 3.727361 0.5151433 2.787831 Fold3   \n",
       "4 4.076752 0.2723177 2.937602 Fold4   \n",
       "5 3.757701 0.3360580 2.831089 Fold5   "
      ]
     },
     "metadata": {},
     "output_type": "display_data"
    }
   ],
   "source": [
    "model_caret$resample"
   ]
  },
  {
   "cell_type": "code",
   "execution_count": null,
   "metadata": {},
   "outputs": [],
   "source": []
  }
 ],
 "metadata": {
  "kernelspec": {
   "display_name": "R",
   "language": "R",
   "name": "ir"
  },
  "language_info": {
   "codemirror_mode": "r",
   "file_extension": ".r",
   "mimetype": "text/x-r-source",
   "name": "R",
   "pygments_lexer": "r",
   "version": "3.6.1"
  }
 },
 "nbformat": 4,
 "nbformat_minor": 2
}

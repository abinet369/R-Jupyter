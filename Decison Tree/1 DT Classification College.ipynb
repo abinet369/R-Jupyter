{
 "cells": [
  {
   "cell_type": "code",
   "execution_count": 2,
   "metadata": {},
   "outputs": [
    {
     "name": "stderr",
     "output_type": "stream",
     "text": [
      "Installing package into 'C:/Users/abine/OneDrive/Documents/R/win-library/3.6'\n",
      "(as 'lib' is unspecified)\n"
     ]
    },
    {
     "name": "stdout",
     "output_type": "stream",
     "text": [
      "package 'ISLR' successfully unpacked and MD5 sums checked\n",
      "\n",
      "The downloaded binary packages are in\n",
      "\tC:\\Users\\abine\\AppData\\Local\\Temp\\RtmpURIsG2\\downloaded_packages\n"
     ]
    }
   ],
   "source": [
    "install.packages(\"ISLR\")"
   ]
  },
  {
   "cell_type": "code",
   "execution_count": 73,
   "metadata": {},
   "outputs": [],
   "source": [
    "library(ISLR)"
   ]
  },
  {
   "cell_type": "code",
   "execution_count": 74,
   "metadata": {},
   "outputs": [],
   "source": [
    "df=College"
   ]
  },
  {
   "cell_type": "code",
   "execution_count": 28,
   "metadata": {},
   "outputs": [
    {
     "data": {
      "text/html": [
       "<table>\n",
       "<thead><tr><th></th><th scope=col>Private</th><th scope=col>Apps</th><th scope=col>Accept</th><th scope=col>Enroll</th><th scope=col>Top10perc</th><th scope=col>Top25perc</th><th scope=col>F.Undergrad</th><th scope=col>P.Undergrad</th><th scope=col>Outstate</th><th scope=col>Room.Board</th><th scope=col>Books</th><th scope=col>Personal</th><th scope=col>PhD</th><th scope=col>Terminal</th><th scope=col>S.F.Ratio</th><th scope=col>perc.alumni</th><th scope=col>Expend</th><th scope=col>Grad.Rate</th></tr></thead>\n",
       "<tbody>\n",
       "\t<tr><th scope=row>Abilene Christian University</th><td>Yes  </td><td>1660 </td><td>1232 </td><td>721  </td><td>23   </td><td>52   </td><td>2885 </td><td> 537 </td><td> 7440</td><td>3300 </td><td>450  </td><td>2200 </td><td>70   </td><td>78   </td><td>18.1 </td><td>12   </td><td> 7041</td><td>60   </td></tr>\n",
       "\t<tr><th scope=row>Adelphi University</th><td>Yes  </td><td>2186 </td><td>1924 </td><td>512  </td><td>16   </td><td>29   </td><td>2683 </td><td>1227 </td><td>12280</td><td>6450 </td><td>750  </td><td>1500 </td><td>29   </td><td>30   </td><td>12.2 </td><td>16   </td><td>10527</td><td>56   </td></tr>\n",
       "\t<tr><th scope=row>Adrian College</th><td>Yes  </td><td>1428 </td><td>1097 </td><td>336  </td><td>22   </td><td>50   </td><td>1036 </td><td>  99 </td><td>11250</td><td>3750 </td><td>400  </td><td>1165 </td><td>53   </td><td>66   </td><td>12.9 </td><td>30   </td><td> 8735</td><td>54   </td></tr>\n",
       "\t<tr><th scope=row>Agnes Scott College</th><td>Yes  </td><td> 417 </td><td> 349 </td><td>137  </td><td>60   </td><td>89   </td><td> 510 </td><td>  63 </td><td>12960</td><td>5450 </td><td>450  </td><td> 875 </td><td>92   </td><td>97   </td><td> 7.7 </td><td>37   </td><td>19016</td><td>59   </td></tr>\n",
       "\t<tr><th scope=row>Alaska Pacific University</th><td>Yes  </td><td> 193 </td><td> 146 </td><td> 55  </td><td>16   </td><td>44   </td><td> 249 </td><td> 869 </td><td> 7560</td><td>4120 </td><td>800  </td><td>1500 </td><td>76   </td><td>72   </td><td>11.9 </td><td> 2   </td><td>10922</td><td>15   </td></tr>\n",
       "\t<tr><th scope=row>Albertson College</th><td>Yes  </td><td> 587 </td><td> 479 </td><td>158  </td><td>38   </td><td>62   </td><td> 678 </td><td>  41 </td><td>13500</td><td>3335 </td><td>500  </td><td> 675 </td><td>67   </td><td>73   </td><td> 9.4 </td><td>11   </td><td> 9727</td><td>55   </td></tr>\n",
       "</tbody>\n",
       "</table>\n"
      ],
      "text/latex": [
       "\\begin{tabular}{r|llllllllllllllllll}\n",
       "  & Private & Apps & Accept & Enroll & Top10perc & Top25perc & F.Undergrad & P.Undergrad & Outstate & Room.Board & Books & Personal & PhD & Terminal & S.F.Ratio & perc.alumni & Expend & Grad.Rate\\\\\n",
       "\\hline\n",
       "\tAbilene Christian University & Yes   & 1660  & 1232  & 721   & 23    & 52    & 2885  &  537  &  7440 & 3300  & 450   & 2200  & 70    & 78    & 18.1  & 12    &  7041 & 60   \\\\\n",
       "\tAdelphi University & Yes   & 2186  & 1924  & 512   & 16    & 29    & 2683  & 1227  & 12280 & 6450  & 750   & 1500  & 29    & 30    & 12.2  & 16    & 10527 & 56   \\\\\n",
       "\tAdrian College & Yes   & 1428  & 1097  & 336   & 22    & 50    & 1036  &   99  & 11250 & 3750  & 400   & 1165  & 53    & 66    & 12.9  & 30    &  8735 & 54   \\\\\n",
       "\tAgnes Scott College & Yes   &  417  &  349  & 137   & 60    & 89    &  510  &   63  & 12960 & 5450  & 450   &  875  & 92    & 97    &  7.7  & 37    & 19016 & 59   \\\\\n",
       "\tAlaska Pacific University & Yes   &  193  &  146  &  55   & 16    & 44    &  249  &  869  &  7560 & 4120  & 800   & 1500  & 76    & 72    & 11.9  &  2    & 10922 & 15   \\\\\n",
       "\tAlbertson College & Yes   &  587  &  479  & 158   & 38    & 62    &  678  &   41  & 13500 & 3335  & 500   &  675  & 67    & 73    &  9.4  & 11    &  9727 & 55   \\\\\n",
       "\\end{tabular}\n"
      ],
      "text/markdown": [
       "\n",
       "| <!--/--> | Private | Apps | Accept | Enroll | Top10perc | Top25perc | F.Undergrad | P.Undergrad | Outstate | Room.Board | Books | Personal | PhD | Terminal | S.F.Ratio | perc.alumni | Expend | Grad.Rate |\n",
       "|---|---|---|---|---|---|---|---|---|---|---|---|---|---|---|---|---|---|---|\n",
       "| Abilene Christian University | Yes   | 1660  | 1232  | 721   | 23    | 52    | 2885  |  537  |  7440 | 3300  | 450   | 2200  | 70    | 78    | 18.1  | 12    |  7041 | 60    |\n",
       "| Adelphi University | Yes   | 2186  | 1924  | 512   | 16    | 29    | 2683  | 1227  | 12280 | 6450  | 750   | 1500  | 29    | 30    | 12.2  | 16    | 10527 | 56    |\n",
       "| Adrian College | Yes   | 1428  | 1097  | 336   | 22    | 50    | 1036  |   99  | 11250 | 3750  | 400   | 1165  | 53    | 66    | 12.9  | 30    |  8735 | 54    |\n",
       "| Agnes Scott College | Yes   |  417  |  349  | 137   | 60    | 89    |  510  |   63  | 12960 | 5450  | 450   |  875  | 92    | 97    |  7.7  | 37    | 19016 | 59    |\n",
       "| Alaska Pacific University | Yes   |  193  |  146  |  55   | 16    | 44    |  249  |  869  |  7560 | 4120  | 800   | 1500  | 76    | 72    | 11.9  |  2    | 10922 | 15    |\n",
       "| Albertson College | Yes   |  587  |  479  | 158   | 38    | 62    |  678  |   41  | 13500 | 3335  | 500   |  675  | 67    | 73    |  9.4  | 11    |  9727 | 55    |\n",
       "\n"
      ],
      "text/plain": [
       "                             Private Apps Accept Enroll Top10perc Top25perc\n",
       "Abilene Christian University Yes     1660 1232   721    23        52       \n",
       "Adelphi University           Yes     2186 1924   512    16        29       \n",
       "Adrian College               Yes     1428 1097   336    22        50       \n",
       "Agnes Scott College          Yes      417  349   137    60        89       \n",
       "Alaska Pacific University    Yes      193  146    55    16        44       \n",
       "Albertson College            Yes      587  479   158    38        62       \n",
       "                             F.Undergrad P.Undergrad Outstate Room.Board Books\n",
       "Abilene Christian University 2885         537         7440    3300       450  \n",
       "Adelphi University           2683        1227        12280    6450       750  \n",
       "Adrian College               1036          99        11250    3750       400  \n",
       "Agnes Scott College           510          63        12960    5450       450  \n",
       "Alaska Pacific University     249         869         7560    4120       800  \n",
       "Albertson College             678          41        13500    3335       500  \n",
       "                             Personal PhD Terminal S.F.Ratio perc.alumni Expend\n",
       "Abilene Christian University 2200     70  78       18.1      12           7041 \n",
       "Adelphi University           1500     29  30       12.2      16          10527 \n",
       "Adrian College               1165     53  66       12.9      30           8735 \n",
       "Agnes Scott College           875     92  97        7.7      37          19016 \n",
       "Alaska Pacific University    1500     76  72       11.9       2          10922 \n",
       "Albertson College             675     67  73        9.4      11           9727 \n",
       "                             Grad.Rate\n",
       "Abilene Christian University 60       \n",
       "Adelphi University           56       \n",
       "Adrian College               54       \n",
       "Agnes Scott College          59       \n",
       "Alaska Pacific University    15       \n",
       "Albertson College            55       "
      ]
     },
     "metadata": {},
     "output_type": "display_data"
    }
   ],
   "source": [
    "head(College)"
   ]
  },
  {
   "cell_type": "markdown",
   "metadata": {},
   "source": [
    "This dataset contains details of Colleges.Our objective is to find a college is Private OR Public based on other details."
   ]
  },
  {
   "cell_type": "markdown",
   "metadata": {},
   "source": [
    "# EDA"
   ]
  },
  {
   "cell_type": "code",
   "execution_count": 23,
   "metadata": {},
   "outputs": [],
   "source": [
    "library(ggplot2)"
   ]
  },
  {
   "cell_type": "code",
   "execution_count": 30,
   "metadata": {},
   "outputs": [
    {
     "data": {
      "image/png": "[encoded data removed]",
      "text/plain": [
       "plot without title"
      ]
     },
     "metadata": {},
     "output_type": "display_data"
    }
   ],
   "source": [
    "ggplot(df,aes(Room.Board,Grad.Rate)) + geom_point(aes(color=Private))"
   ]
  },
  {
   "cell_type": "markdown",
   "metadata": {},
   "source": [
    "Colleges with good infrastructure and good graduation rate are Private"
   ]
  },
  {
   "cell_type": "markdown",
   "metadata": {},
   "source": [
    "Private colleges has High Graduation rate compared to public colleges"
   ]
  },
  {
   "cell_type": "markdown",
   "metadata": {},
   "source": [
    "Colleges with Room,Board costs above 5000 are generally Private"
   ]
  },
  {
   "cell_type": "markdown",
   "metadata": {},
   "source": [
    "Private provides good infrastructure,which might have resulted in better Graduation rates"
   ]
  },
  {
   "cell_type": "markdown",
   "metadata": {},
   "source": [
    "Most of the colleges has graduation rate between 30-90 and Room,Board cost between 3000-6000"
   ]
  },
  {
   "cell_type": "code",
   "execution_count": 35,
   "metadata": {},
   "outputs": [
    {
     "data": {
      "image/png": "[encoded data removed]",
      "text/plain": [
       "plot without title"
      ]
     },
     "metadata": {},
     "output_type": "display_data"
    }
   ],
   "source": [
    "ggplot(df,aes(F.Undergrad)) + geom_histogram(aes(fill=Private),color='black',bins=50)"
   ]
  },
  {
   "cell_type": "markdown",
   "metadata": {},
   "source": [
    "Lot of Private colleges have number of Fulltime Undergradutes below 5000"
   ]
  },
  {
   "cell_type": "markdown",
   "metadata": {},
   "source": [
    "and Public colleges have lot of Fulltime Undergraduates above 5000"
   ]
  },
  {
   "cell_type": "code",
   "execution_count": 75,
   "metadata": {},
   "outputs": [
    {
     "data": {
      "image/png": "[encoded data removed]",
      "text/plain": [
       "plot without title"
      ]
     },
     "metadata": {},
     "output_type": "display_data"
    }
   ],
   "source": [
    "ggplot(df,aes(Grad.Rate)) + geom_histogram(aes(fill=Private),color='black',bins=50)"
   ]
  },
  {
   "cell_type": "markdown",
   "metadata": {},
   "source": [
    "Private Colleges have high graduation rate compared to Public Colleges."
   ]
  },
  {
   "cell_type": "markdown",
   "metadata": {},
   "source": [
    "Most of the graduation percent lie between 50 and 100."
   ]
  },
  {
   "cell_type": "markdown",
   "metadata": {},
   "source": [
    "One outlier with percentage above 100 is found."
   ]
  },
  {
   "cell_type": "code",
   "execution_count": 37,
   "metadata": {},
   "outputs": [
    {
     "data": {
      "text/html": [
       "<table>\n",
       "<thead><tr><th></th><th scope=col>Private</th><th scope=col>Apps</th><th scope=col>Accept</th><th scope=col>Enroll</th><th scope=col>Top10perc</th><th scope=col>Top25perc</th><th scope=col>F.Undergrad</th><th scope=col>P.Undergrad</th><th scope=col>Outstate</th><th scope=col>Room.Board</th><th scope=col>Books</th><th scope=col>Personal</th><th scope=col>PhD</th><th scope=col>Terminal</th><th scope=col>S.F.Ratio</th><th scope=col>perc.alumni</th><th scope=col>Expend</th><th scope=col>Grad.Rate</th></tr></thead>\n",
       "<tbody>\n",
       "\t<tr><th scope=row>Cazenovia College</th><td>Yes </td><td>3847</td><td>3433</td><td>527 </td><td>9   </td><td>35  </td><td>1010</td><td>12  </td><td>9384</td><td>4840</td><td>600 </td><td>500 </td><td>22  </td><td>47  </td><td>14.3</td><td>20  </td><td>7697</td><td>118 </td></tr>\n",
       "</tbody>\n",
       "</table>\n"
      ],
      "text/latex": [
       "\\begin{tabular}{r|llllllllllllllllll}\n",
       "  & Private & Apps & Accept & Enroll & Top10perc & Top25perc & F.Undergrad & P.Undergrad & Outstate & Room.Board & Books & Personal & PhD & Terminal & S.F.Ratio & perc.alumni & Expend & Grad.Rate\\\\\n",
       "\\hline\n",
       "\tCazenovia College & Yes  & 3847 & 3433 & 527  & 9    & 35   & 1010 & 12   & 9384 & 4840 & 600  & 500  & 22   & 47   & 14.3 & 20   & 7697 & 118 \\\\\n",
       "\\end{tabular}\n"
      ],
      "text/markdown": [
       "\n",
       "| <!--/--> | Private | Apps | Accept | Enroll | Top10perc | Top25perc | F.Undergrad | P.Undergrad | Outstate | Room.Board | Books | Personal | PhD | Terminal | S.F.Ratio | perc.alumni | Expend | Grad.Rate |\n",
       "|---|---|---|---|---|---|---|---|---|---|---|---|---|---|---|---|---|---|---|\n",
       "| Cazenovia College | Yes  | 3847 | 3433 | 527  | 9    | 35   | 1010 | 12   | 9384 | 4840 | 600  | 500  | 22   | 47   | 14.3 | 20   | 7697 | 118  |\n",
       "\n"
      ],
      "text/plain": [
       "                  Private Apps Accept Enroll Top10perc Top25perc F.Undergrad\n",
       "Cazenovia College Yes     3847 3433   527    9         35        1010       \n",
       "                  P.Undergrad Outstate Room.Board Books Personal PhD Terminal\n",
       "Cazenovia College 12          9384     4840       600   500      22  47      \n",
       "                  S.F.Ratio perc.alumni Expend Grad.Rate\n",
       "Cazenovia College 14.3      20          7697   118      "
      ]
     },
     "metadata": {},
     "output_type": "display_data"
    }
   ],
   "source": [
    "subset(df,Grad.Rate > 100)"
   ]
  },
  {
   "cell_type": "code",
   "execution_count": 40,
   "metadata": {},
   "outputs": [],
   "source": [
    "df['Cazenovia College','Grad.Rate'] <- 100"
   ]
  },
  {
   "cell_type": "markdown",
   "metadata": {},
   "source": [
    "Removed the outlier"
   ]
  },
  {
   "cell_type": "markdown",
   "metadata": {},
   "source": [
    "# Splitting Data"
   ]
  },
  {
   "cell_type": "code",
   "execution_count": 42,
   "metadata": {},
   "outputs": [],
   "source": [
    "library(caTools)\n",
    "\n",
    "set.seed(101) \n",
    "\n",
    "sample = sample.split(df$Private, SplitRatio = .70)\n",
    "train = subset(df, sample == TRUE)\n",
    "test = subset(df, sample == FALSE)"
   ]
  },
  {
   "cell_type": "markdown",
   "metadata": {},
   "source": [
    "# Decision Tree"
   ]
  },
  {
   "cell_type": "code",
   "execution_count": 44,
   "metadata": {},
   "outputs": [],
   "source": [
    "library(rpart)"
   ]
  },
  {
   "cell_type": "code",
   "execution_count": 46,
   "metadata": {},
   "outputs": [],
   "source": [
    "tree <- rpart(Private ~.,method='class',data = train)"
   ]
  },
  {
   "cell_type": "markdown",
   "metadata": {},
   "source": [
    "We are doing classification,because the target variables has categorical values like \n",
    "'YES'/'NO'"
   ]
  },
  {
   "cell_type": "code",
   "execution_count": 48,
   "metadata": {},
   "outputs": [],
   "source": [
    "tree.preds <- predict(tree,test)"
   ]
  },
  {
   "cell_type": "code",
   "execution_count": 50,
   "metadata": {},
   "outputs": [
    {
     "data": {
      "text/html": [
       "<table>\n",
       "<thead><tr><th></th><th scope=col>No</th><th scope=col>Yes</th></tr></thead>\n",
       "<tbody>\n",
       "\t<tr><th scope=row>Adrian College</th><td>0.003311258</td><td>0.9966887  </td></tr>\n",
       "\t<tr><th scope=row>Alfred University</th><td>0.003311258</td><td>0.9966887  </td></tr>\n",
       "\t<tr><th scope=row>Allegheny College</th><td>0.003311258</td><td>0.9966887  </td></tr>\n",
       "\t<tr><th scope=row>Allentown Coll. of St. Francis de Sales</th><td>0.003311258</td><td>0.9966887  </td></tr>\n",
       "\t<tr><th scope=row>Alma College</th><td>0.003311258</td><td>0.9966887  </td></tr>\n",
       "\t<tr><th scope=row>Amherst College</th><td>0.003311258</td><td>0.9966887  </td></tr>\n",
       "</tbody>\n",
       "</table>\n"
      ],
      "text/latex": [
       "\\begin{tabular}{r|ll}\n",
       "  & No & Yes\\\\\n",
       "\\hline\n",
       "\tAdrian College & 0.003311258 & 0.9966887  \\\\\n",
       "\tAlfred University & 0.003311258 & 0.9966887  \\\\\n",
       "\tAllegheny College & 0.003311258 & 0.9966887  \\\\\n",
       "\tAllentown Coll. of St. Francis de Sales & 0.003311258 & 0.9966887  \\\\\n",
       "\tAlma College & 0.003311258 & 0.9966887  \\\\\n",
       "\tAmherst College & 0.003311258 & 0.9966887  \\\\\n",
       "\\end{tabular}\n"
      ],
      "text/markdown": [
       "\n",
       "| <!--/--> | No | Yes |\n",
       "|---|---|---|\n",
       "| Adrian College | 0.003311258 | 0.9966887   |\n",
       "| Alfred University | 0.003311258 | 0.9966887   |\n",
       "| Allegheny College | 0.003311258 | 0.9966887   |\n",
       "| Allentown Coll. of St. Francis de Sales | 0.003311258 | 0.9966887   |\n",
       "| Alma College | 0.003311258 | 0.9966887   |\n",
       "| Amherst College | 0.003311258 | 0.9966887   |\n",
       "\n"
      ],
      "text/plain": [
       "                                        No          Yes      \n",
       "Adrian College                          0.003311258 0.9966887\n",
       "Alfred University                       0.003311258 0.9966887\n",
       "Allegheny College                       0.003311258 0.9966887\n",
       "Allentown Coll. of St. Francis de Sales 0.003311258 0.9966887\n",
       "Alma College                            0.003311258 0.9966887\n",
       "Amherst College                         0.003311258 0.9966887"
      ]
     },
     "metadata": {},
     "output_type": "display_data"
    }
   ],
   "source": [
    "head(tree.preds)"
   ]
  },
  {
   "cell_type": "markdown",
   "metadata": {},
   "source": [
    "YES-->Probability of a college being Private"
   ]
  },
  {
   "cell_type": "markdown",
   "metadata": {},
   "source": [
    "NO-->Probability of a college being Public"
   ]
  },
  {
   "cell_type": "code",
   "execution_count": 53,
   "metadata": {},
   "outputs": [],
   "source": [
    "tree.preds=as.data.frame(tree.preds)\n",
    "\n",
    "joiner=function(x){\n",
    "    if(x>=0.5){\n",
    "        return('Yes')\n",
    "    }\n",
    "    else{\n",
    "        return('No')\n",
    "    }\n",
    "}"
   ]
  },
  {
   "cell_type": "markdown",
   "metadata": {},
   "source": [
    "Function is turning probabilities to either YES or NO based on probabilities"
   ]
  },
  {
   "cell_type": "code",
   "execution_count": 55,
   "metadata": {},
   "outputs": [],
   "source": [
    "tree.preds$Private <- sapply(tree.preds$Yes,joiner)"
   ]
  },
  {
   "cell_type": "markdown",
   "metadata": {},
   "source": [
    "Creating a new Private column with Yes/No based on probabilities from decision tress"
   ]
  },
  {
   "cell_type": "code",
   "execution_count": 57,
   "metadata": {},
   "outputs": [
    {
     "data": {
      "text/html": [
       "<table>\n",
       "<thead><tr><th></th><th scope=col>No</th><th scope=col>Yes</th><th scope=col>Private</th></tr></thead>\n",
       "<tbody>\n",
       "\t<tr><th scope=row>Adrian College</th><td>0.003311258</td><td>0.9966887  </td><td>Yes        </td></tr>\n",
       "\t<tr><th scope=row>Alfred University</th><td>0.003311258</td><td>0.9966887  </td><td>Yes        </td></tr>\n",
       "\t<tr><th scope=row>Allegheny College</th><td>0.003311258</td><td>0.9966887  </td><td>Yes        </td></tr>\n",
       "\t<tr><th scope=row>Allentown Coll. of St. Francis de Sales</th><td>0.003311258</td><td>0.9966887  </td><td>Yes        </td></tr>\n",
       "\t<tr><th scope=row>Alma College</th><td>0.003311258</td><td>0.9966887  </td><td>Yes        </td></tr>\n",
       "\t<tr><th scope=row>Amherst College</th><td>0.003311258</td><td>0.9966887  </td><td>Yes        </td></tr>\n",
       "</tbody>\n",
       "</table>\n"
      ],
      "text/latex": [
       "\\begin{tabular}{r|lll}\n",
       "  & No & Yes & Private\\\\\n",
       "\\hline\n",
       "\tAdrian College & 0.003311258 & 0.9966887   & Yes        \\\\\n",
       "\tAlfred University & 0.003311258 & 0.9966887   & Yes        \\\\\n",
       "\tAllegheny College & 0.003311258 & 0.9966887   & Yes        \\\\\n",
       "\tAllentown Coll. of St. Francis de Sales & 0.003311258 & 0.9966887   & Yes        \\\\\n",
       "\tAlma College & 0.003311258 & 0.9966887   & Yes        \\\\\n",
       "\tAmherst College & 0.003311258 & 0.9966887   & Yes        \\\\\n",
       "\\end{tabular}\n"
      ],
      "text/markdown": [
       "\n",
       "| <!--/--> | No | Yes | Private |\n",
       "|---|---|---|---|\n",
       "| Adrian College | 0.003311258 | 0.9966887   | Yes         |\n",
       "| Alfred University | 0.003311258 | 0.9966887   | Yes         |\n",
       "| Allegheny College | 0.003311258 | 0.9966887   | Yes         |\n",
       "| Allentown Coll. of St. Francis de Sales | 0.003311258 | 0.9966887   | Yes         |\n",
       "| Alma College | 0.003311258 | 0.9966887   | Yes         |\n",
       "| Amherst College | 0.003311258 | 0.9966887   | Yes         |\n",
       "\n"
      ],
      "text/plain": [
       "                                        No          Yes       Private\n",
       "Adrian College                          0.003311258 0.9966887 Yes    \n",
       "Alfred University                       0.003311258 0.9966887 Yes    \n",
       "Allegheny College                       0.003311258 0.9966887 Yes    \n",
       "Allentown Coll. of St. Francis de Sales 0.003311258 0.9966887 Yes    \n",
       "Alma College                            0.003311258 0.9966887 Yes    \n",
       "Amherst College                         0.003311258 0.9966887 Yes    "
      ]
     },
     "metadata": {},
     "output_type": "display_data"
    }
   ],
   "source": [
    "head(tree.preds)"
   ]
  },
  {
   "cell_type": "code",
   "execution_count": 59,
   "metadata": {},
   "outputs": [
    {
     "data": {
      "text/plain": [
       "     \n",
       "       No Yes\n",
       "  No   57   9\n",
       "  Yes   7 160"
      ]
     },
     "metadata": {},
     "output_type": "display_data"
    }
   ],
   "source": [
    "table(tree.preds$Private,test$Private)"
   ]
  },
  {
   "cell_type": "code",
   "execution_count": 66,
   "metadata": {},
   "outputs": [],
   "source": [
    "TN=57\n",
    "FN=9\n",
    "FP=7\n",
    "TP=160"
   ]
  },
  {
   "cell_type": "markdown",
   "metadata": {},
   "source": [
    "57 times correctly predicted Not Private College."
   ]
  },
  {
   "cell_type": "markdown",
   "metadata": {},
   "source": [
    "9 times incorrectly predicted Not Private College."
   ]
  },
  {
   "cell_type": "markdown",
   "metadata": {},
   "source": [
    "7 times incorrectly predicted that it's a Private College."
   ]
  },
  {
   "cell_type": "markdown",
   "metadata": {},
   "source": [
    "160 times correctly predicted that it's a Private College."
   ]
  },
  {
   "cell_type": "code",
   "execution_count": 62,
   "metadata": {},
   "outputs": [
    {
     "name": "stderr",
     "output_type": "stream",
     "text": [
      "Installing package into 'C:/Users/abine/OneDrive/Documents/R/win-library/3.6'\n",
      "(as 'lib' is unspecified)\n"
     ]
    },
    {
     "name": "stdout",
     "output_type": "stream",
     "text": [
      "package 'rpart.plot' successfully unpacked and MD5 sums checked\n",
      "\n",
      "The downloaded binary packages are in\n",
      "\tC:\\Users\\abine\\AppData\\Local\\Temp\\RtmpURIsG2\\downloaded_packages\n"
     ]
    }
   ],
   "source": [
    "install.packages(\"rpart.plot\")"
   ]
  },
  {
   "cell_type": "code",
   "execution_count": 63,
   "metadata": {},
   "outputs": [
    {
     "name": "stderr",
     "output_type": "stream",
     "text": [
      "Warning message:\n",
      "\"package 'rpart.plot' was built under R version 3.6.2\""
     ]
    },
    {
     "data": {
      "image/png": "[encoded data removed]",
      "text/plain": [
       "plot without title"
      ]
     },
     "metadata": {},
     "output_type": "display_data"
    }
   ],
   "source": [
    "library(rpart.plot)\n",
    "prp(tree)"
   ]
  },
  {
   "cell_type": "markdown",
   "metadata": {},
   "source": [
    "If number of full time graduates in a college is greater than equal to 2993, out of state tuition fee is greater than 10e+3 and the number of applications accepted is less than 5934 then the college is a private college."
   ]
  },
  {
   "cell_type": "markdown",
   "metadata": {},
   "source": [
    "If number of full time graduates in a college is less than 2993 and out of state tuition fee is greater than equal to 7935 then the college is a private college."
   ]
  },
  {
   "cell_type": "markdown",
   "metadata": {},
   "source": [
    "If number of full time graduates in a college is less than 2993, out of state tuition fee is less than 7935 and number of full time graduates is less than 947 then the college is a private college."
   ]
  },
  {
   "cell_type": "markdown",
   "metadata": {},
   "source": [
    "If number of full time graduates in a college is less than 2993, out of state tuition fee is less than 7935, number of full time graduates is greater than equal to 947, percentage of new students from top 10% of HS class is greater than equal to 10 and number of part time graduates less than 188 then the college is a private college."
   ]
  },
  {
   "cell_type": "markdown",
   "metadata": {},
   "source": [
    "If number of full time graduates in a college is less than 2993, out of state tuition fee is less than 7935, number of full time graduates is greater than equal to 947, percentage of new students from top 10% of HS class is greater than equal to 10, number of part time graduates greater than equal to 188 and number of enrolled students greater than 470 then the college is a private college."
   ]
  },
  {
   "cell_type": "code",
   "execution_count": 78,
   "metadata": {},
   "outputs": [
    {
     "data": {
      "text/html": [
       "0.931330472103004"
      ],
      "text/latex": [
       "0.931330472103004"
      ],
      "text/markdown": [
       "0.931330472103004"
      ],
      "text/plain": [
       "[1] 0.9313305"
      ]
     },
     "metadata": {},
     "output_type": "display_data"
    }
   ],
   "source": [
    "ACC=(TP+TN)/(TN+FN+FP+TP)\n",
    "ACC"
   ]
  },
  {
   "cell_type": "markdown",
   "metadata": {},
   "source": [
    "93% of the time correctly predicted whether the college is Private or Public"
   ]
  },
  {
   "cell_type": "code",
   "execution_count": 79,
   "metadata": {},
   "outputs": [
    {
     "data": {
      "text/html": [
       "0.0686695278969957"
      ],
      "text/latex": [
       "0.0686695278969957"
      ],
      "text/markdown": [
       "0.0686695278969957"
      ],
      "text/plain": [
       "[1] 0.06866953"
      ]
     },
     "metadata": {},
     "output_type": "display_data"
    }
   ],
   "source": [
    "ERR=(FP+FN)/(TN+FN+FP+TP)\n",
    "ERR"
   ]
  },
  {
   "cell_type": "markdown",
   "metadata": {},
   "source": [
    "6% of the time incorrectly predicted whether the college is Private or Public"
   ]
  }
 ],
 "metadata": {
  "kernelspec": {
   "display_name": "R",
   "language": "R",
   "name": "ir"
  },
  "language_info": {
   "codemirror_mode": "r",
   "file_extension": ".r",
   "mimetype": "text/x-r-source",
   "name": "R",
   "pygments_lexer": "r",
   "version": "3.6.1"
  }
 },
 "nbformat": 4,
 "nbformat_minor": 2
}

{
 "cells": [
  {
   "cell_type": "markdown",
   "metadata": {},
   "source": [
    "# REGRESSION TREE"
   ]
  },
  {
   "cell_type": "code",
   "execution_count": 1,
   "metadata": {},
   "outputs": [
    {
     "data": {
      "text/html": [
       "<table>\n",
       "<thead><tr><th scope=col>Page.total.likes</th><th scope=col>Type</th><th scope=col>Category</th><th scope=col>Post.Month</th><th scope=col>Post.Weekday</th><th scope=col>Post.Hour</th><th scope=col>Paid</th><th scope=col>Lifetime.Post.Total.Reach</th><th scope=col>Lifetime.Post.Total.Impressions</th><th scope=col>Lifetime.Engaged.Users</th><th scope=col>Lifetime.Post.Consumers</th><th scope=col>Lifetime.Post.Consumptions</th><th scope=col>Lifetime.Post.Impressions.by.people.who.have.liked.your.Page</th><th scope=col>Lifetime.Post.reach.by.people.who.like.your.Page</th><th scope=col>Lifetime.People.who.have.liked.your.Page.and.engaged.with.your.post</th><th scope=col>comment</th><th scope=col>like</th><th scope=col>share</th><th scope=col>Total.Interactions</th></tr></thead>\n",
       "<tbody>\n",
       "\t<tr><td>139441</td><td>Photo </td><td>2     </td><td>12    </td><td>4     </td><td> 3    </td><td>0     </td><td> 2752 </td><td> 5091 </td><td> 178  </td><td> 109  </td><td> 159  </td><td> 3078 </td><td> 1640 </td><td> 119  </td><td> 4    </td><td>  79  </td><td> 17   </td><td> 100  </td></tr>\n",
       "\t<tr><td>139441</td><td>Status</td><td>2     </td><td>12    </td><td>3     </td><td>10    </td><td>0     </td><td>10460 </td><td>19057 </td><td>1457  </td><td>1361  </td><td>1674  </td><td>11710 </td><td> 6112 </td><td>1108  </td><td> 5    </td><td> 130  </td><td> 29   </td><td> 164  </td></tr>\n",
       "\t<tr><td>139441</td><td>Photo </td><td>3     </td><td>12    </td><td>3     </td><td> 3    </td><td>0     </td><td> 2413 </td><td> 4373 </td><td> 177  </td><td> 113  </td><td> 154  </td><td> 2812 </td><td> 1503 </td><td> 132  </td><td> 0    </td><td>  66  </td><td> 14   </td><td>  80  </td></tr>\n",
       "\t<tr><td>139441</td><td>Photo </td><td>2     </td><td>12    </td><td>2     </td><td>10    </td><td>1     </td><td>50128 </td><td>87991 </td><td>2211  </td><td> 790  </td><td>1119  </td><td>61027 </td><td>32048 </td><td>1386  </td><td>58    </td><td>1572  </td><td>147   </td><td>1777  </td></tr>\n",
       "\t<tr><td>139441</td><td>Photo </td><td>2     </td><td>12    </td><td>2     </td><td> 3    </td><td>0     </td><td> 7244 </td><td>13594 </td><td> 671  </td><td> 410  </td><td> 580  </td><td> 6228 </td><td> 3200 </td><td> 396  </td><td>19    </td><td> 325  </td><td> 49   </td><td> 393  </td></tr>\n",
       "\t<tr><td>139441</td><td>Status</td><td>2     </td><td>12    </td><td>1     </td><td> 9    </td><td>0     </td><td>10472 </td><td>20849 </td><td>1191  </td><td>1073  </td><td>1389  </td><td>16034 </td><td> 7852 </td><td>1016  </td><td> 1    </td><td> 152  </td><td> 33   </td><td> 186  </td></tr>\n",
       "</tbody>\n",
       "</table>\n"
      ],
      "text/latex": [
       "\\begin{tabular}{r|lllllllllllllllllll}\n",
       " Page.total.likes & Type & Category & Post.Month & Post.Weekday & Post.Hour & Paid & Lifetime.Post.Total.Reach & Lifetime.Post.Total.Impressions & Lifetime.Engaged.Users & Lifetime.Post.Consumers & Lifetime.Post.Consumptions & Lifetime.Post.Impressions.by.people.who.have.liked.your.Page & Lifetime.Post.reach.by.people.who.like.your.Page & Lifetime.People.who.have.liked.your.Page.and.engaged.with.your.post & comment & like & share & Total.Interactions\\\\\n",
       "\\hline\n",
       "\t 139441 & Photo  & 2      & 12     & 4      &  3     & 0      &  2752  &  5091  &  178   &  109   &  159   &  3078  &  1640  &  119   &  4     &   79   &  17    &  100  \\\\\n",
       "\t 139441 & Status & 2      & 12     & 3      & 10     & 0      & 10460  & 19057  & 1457   & 1361   & 1674   & 11710  &  6112  & 1108   &  5     &  130   &  29    &  164  \\\\\n",
       "\t 139441 & Photo  & 3      & 12     & 3      &  3     & 0      &  2413  &  4373  &  177   &  113   &  154   &  2812  &  1503  &  132   &  0     &   66   &  14    &   80  \\\\\n",
       "\t 139441 & Photo  & 2      & 12     & 2      & 10     & 1      & 50128  & 87991  & 2211   &  790   & 1119   & 61027  & 32048  & 1386   & 58     & 1572   & 147    & 1777  \\\\\n",
       "\t 139441 & Photo  & 2      & 12     & 2      &  3     & 0      &  7244  & 13594  &  671   &  410   &  580   &  6228  &  3200  &  396   & 19     &  325   &  49    &  393  \\\\\n",
       "\t 139441 & Status & 2      & 12     & 1      &  9     & 0      & 10472  & 20849  & 1191   & 1073   & 1389   & 16034  &  7852  & 1016   &  1     &  152   &  33    &  186  \\\\\n",
       "\\end{tabular}\n"
      ],
      "text/markdown": [
       "\n",
       "| Page.total.likes | Type | Category | Post.Month | Post.Weekday | Post.Hour | Paid | Lifetime.Post.Total.Reach | Lifetime.Post.Total.Impressions | Lifetime.Engaged.Users | Lifetime.Post.Consumers | Lifetime.Post.Consumptions | Lifetime.Post.Impressions.by.people.who.have.liked.your.Page | Lifetime.Post.reach.by.people.who.like.your.Page | Lifetime.People.who.have.liked.your.Page.and.engaged.with.your.post | comment | like | share | Total.Interactions |\n",
       "|---|---|---|---|---|---|---|---|---|---|---|---|---|---|---|---|---|---|---|\n",
       "| 139441 | Photo  | 2      | 12     | 4      |  3     | 0      |  2752  |  5091  |  178   |  109   |  159   |  3078  |  1640  |  119   |  4     |   79   |  17    |  100   |\n",
       "| 139441 | Status | 2      | 12     | 3      | 10     | 0      | 10460  | 19057  | 1457   | 1361   | 1674   | 11710  |  6112  | 1108   |  5     |  130   |  29    |  164   |\n",
       "| 139441 | Photo  | 3      | 12     | 3      |  3     | 0      |  2413  |  4373  |  177   |  113   |  154   |  2812  |  1503  |  132   |  0     |   66   |  14    |   80   |\n",
       "| 139441 | Photo  | 2      | 12     | 2      | 10     | 1      | 50128  | 87991  | 2211   |  790   | 1119   | 61027  | 32048  | 1386   | 58     | 1572   | 147    | 1777   |\n",
       "| 139441 | Photo  | 2      | 12     | 2      |  3     | 0      |  7244  | 13594  |  671   |  410   |  580   |  6228  |  3200  |  396   | 19     |  325   |  49    |  393   |\n",
       "| 139441 | Status | 2      | 12     | 1      |  9     | 0      | 10472  | 20849  | 1191   | 1073   | 1389   | 16034  |  7852  | 1016   |  1     |  152   |  33    |  186   |\n",
       "\n"
      ],
      "text/plain": [
       "  Page.total.likes Type   Category Post.Month Post.Weekday Post.Hour Paid\n",
       "1 139441           Photo  2        12         4             3        0   \n",
       "2 139441           Status 2        12         3            10        0   \n",
       "3 139441           Photo  3        12         3             3        0   \n",
       "4 139441           Photo  2        12         2            10        1   \n",
       "5 139441           Photo  2        12         2             3        0   \n",
       "6 139441           Status 2        12         1             9        0   \n",
       "  Lifetime.Post.Total.Reach Lifetime.Post.Total.Impressions\n",
       "1  2752                      5091                          \n",
       "2 10460                     19057                          \n",
       "3  2413                      4373                          \n",
       "4 50128                     87991                          \n",
       "5  7244                     13594                          \n",
       "6 10472                     20849                          \n",
       "  Lifetime.Engaged.Users Lifetime.Post.Consumers Lifetime.Post.Consumptions\n",
       "1  178                    109                     159                      \n",
       "2 1457                   1361                    1674                      \n",
       "3  177                    113                     154                      \n",
       "4 2211                    790                    1119                      \n",
       "5  671                    410                     580                      \n",
       "6 1191                   1073                    1389                      \n",
       "  Lifetime.Post.Impressions.by.people.who.have.liked.your.Page\n",
       "1  3078                                                       \n",
       "2 11710                                                       \n",
       "3  2812                                                       \n",
       "4 61027                                                       \n",
       "5  6228                                                       \n",
       "6 16034                                                       \n",
       "  Lifetime.Post.reach.by.people.who.like.your.Page\n",
       "1  1640                                           \n",
       "2  6112                                           \n",
       "3  1503                                           \n",
       "4 32048                                           \n",
       "5  3200                                           \n",
       "6  7852                                           \n",
       "  Lifetime.People.who.have.liked.your.Page.and.engaged.with.your.post comment\n",
       "1  119                                                                 4     \n",
       "2 1108                                                                 5     \n",
       "3  132                                                                 0     \n",
       "4 1386                                                                58     \n",
       "5  396                                                                19     \n",
       "6 1016                                                                 1     \n",
       "  like share Total.Interactions\n",
       "1   79  17    100              \n",
       "2  130  29    164              \n",
       "3   66  14     80              \n",
       "4 1572 147   1777              \n",
       "5  325  49    393              \n",
       "6  152  33    186              "
      ]
     },
     "metadata": {},
     "output_type": "display_data"
    }
   ],
   "source": [
    "df=read.csv('C:\\\\Users\\\\abine\\\\OneDrive\\\\Documents\\\\Datasets\\\\Facebook_metrics\\\\dataset_Facebook.csv',sep=';')\n",
    "head(df)"
   ]
  },
  {
   "cell_type": "markdown",
   "metadata": {},
   "source": [
    "The data is related to posts' published during the year of 2014 on the Facebook's page of a renowned cosmetics brand."
   ]
  },
  {
   "cell_type": "markdown",
   "metadata": {},
   "source": [
    "Our *Objective* is to predict the Total Interactions on a Facebook post based on other features."
   ]
  },
  {
   "cell_type": "markdown",
   "metadata": {},
   "source": [
    "## EDA"
   ]
  },
  {
   "cell_type": "code",
   "execution_count": 2,
   "metadata": {},
   "outputs": [
    {
     "name": "stdout",
     "output_type": "stream",
     "text": [
      "'data.frame':\t500 obs. of  19 variables:\n",
      " $ Page.total.likes                                                   : int  139441 139441 139441 139441 139441 139441 139441 139441 139441 139441 ...\n",
      " $ Type                                                               : Factor w/ 4 levels \"Link\",\"Photo\",..: 2 3 2 2 2 3 2 2 3 2 ...\n",
      " $ Category                                                           : int  2 2 3 2 2 2 3 3 2 3 ...\n",
      " $ Post.Month                                                         : int  12 12 12 12 12 12 12 12 12 12 ...\n",
      " $ Post.Weekday                                                       : int  4 3 3 2 2 1 1 7 7 6 ...\n",
      " $ Post.Hour                                                          : int  3 10 3 10 3 9 3 9 3 10 ...\n",
      " $ Paid                                                               : int  0 0 0 1 0 0 1 1 0 0 ...\n",
      " $ Lifetime.Post.Total.Reach                                          : int  2752 10460 2413 50128 7244 10472 11692 13720 11844 4694 ...\n",
      " $ Lifetime.Post.Total.Impressions                                    : int  5091 19057 4373 87991 13594 20849 19479 24137 22538 8668 ...\n",
      " $ Lifetime.Engaged.Users                                             : int  178 1457 177 2211 671 1191 481 537 1530 280 ...\n",
      " $ Lifetime.Post.Consumers                                            : int  109 1361 113 790 410 1073 265 232 1407 183 ...\n",
      " $ Lifetime.Post.Consumptions                                         : int  159 1674 154 1119 580 1389 364 305 1692 250 ...\n",
      " $ Lifetime.Post.Impressions.by.people.who.have.liked.your.Page       : int  3078 11710 2812 61027 6228 16034 15432 19728 15220 4309 ...\n",
      " $ Lifetime.Post.reach.by.people.who.like.your.Page                   : int  1640 6112 1503 32048 3200 7852 9328 11056 7912 2324 ...\n",
      " $ Lifetime.People.who.have.liked.your.Page.and.engaged.with.your.post: int  119 1108 132 1386 396 1016 379 422 1250 199 ...\n",
      " $ comment                                                            : int  4 5 0 58 19 1 3 0 0 3 ...\n",
      " $ like                                                               : int  79 130 66 1572 325 152 249 325 161 113 ...\n",
      " $ share                                                              : int  17 29 14 147 49 33 27 14 31 26 ...\n",
      " $ Total.Interactions                                                 : int  100 164 80 1777 393 186 279 339 192 142 ...\n"
     ]
    }
   ],
   "source": [
    "str(df)"
   ]
  },
  {
   "cell_type": "markdown",
   "metadata": {},
   "source": [
    "This dataset contains 500 rows and 19 attributes"
   ]
  },
  {
   "cell_type": "code",
   "execution_count": 3,
   "metadata": {},
   "outputs": [],
   "source": [
    "df=df[-c(16:18)]"
   ]
  },
  {
   "cell_type": "markdown",
   "metadata": {},
   "source": [
    "Removing comment,like and share because total.interactions is the sum of these"
   ]
  },
  {
   "cell_type": "code",
   "execution_count": 4,
   "metadata": {},
   "outputs": [
    {
     "name": "stdout",
     "output_type": "stream",
     "text": [
      "'data.frame':\t500 obs. of  16 variables:\n",
      " $ Page.total.likes                                                   : int  139441 139441 139441 139441 139441 139441 139441 139441 139441 139441 ...\n",
      " $ Type                                                               : Factor w/ 4 levels \"Link\",\"Photo\",..: 2 3 2 2 2 3 2 2 3 2 ...\n",
      " $ Category                                                           : int  2 2 3 2 2 2 3 3 2 3 ...\n",
      " $ Post.Month                                                         : int  12 12 12 12 12 12 12 12 12 12 ...\n",
      " $ Post.Weekday                                                       : int  4 3 3 2 2 1 1 7 7 6 ...\n",
      " $ Post.Hour                                                          : int  3 10 3 10 3 9 3 9 3 10 ...\n",
      " $ Paid                                                               : int  0 0 0 1 0 0 1 1 0 0 ...\n",
      " $ Lifetime.Post.Total.Reach                                          : int  2752 10460 2413 50128 7244 10472 11692 13720 11844 4694 ...\n",
      " $ Lifetime.Post.Total.Impressions                                    : int  5091 19057 4373 87991 13594 20849 19479 24137 22538 8668 ...\n",
      " $ Lifetime.Engaged.Users                                             : int  178 1457 177 2211 671 1191 481 537 1530 280 ...\n",
      " $ Lifetime.Post.Consumers                                            : int  109 1361 113 790 410 1073 265 232 1407 183 ...\n",
      " $ Lifetime.Post.Consumptions                                         : int  159 1674 154 1119 580 1389 364 305 1692 250 ...\n",
      " $ Lifetime.Post.Impressions.by.people.who.have.liked.your.Page       : int  3078 11710 2812 61027 6228 16034 15432 19728 15220 4309 ...\n",
      " $ Lifetime.Post.reach.by.people.who.like.your.Page                   : int  1640 6112 1503 32048 3200 7852 9328 11056 7912 2324 ...\n",
      " $ Lifetime.People.who.have.liked.your.Page.and.engaged.with.your.post: int  119 1108 132 1386 396 1016 379 422 1250 199 ...\n",
      " $ Total.Interactions                                                 : int  100 164 80 1777 393 186 279 339 192 142 ...\n"
     ]
    }
   ],
   "source": [
    "str(df)"
   ]
  },
  {
   "cell_type": "markdown",
   "metadata": {},
   "source": [
    "This dataset contains 500 rows and 16 attributes"
   ]
  },
  {
   "cell_type": "code",
   "execution_count": 5,
   "metadata": {},
   "outputs": [
    {
     "name": "stderr",
     "output_type": "stream",
     "text": [
      "Warning message:\n",
      "\"package 'ggplot2' was built under R version 3.6.2\""
     ]
    },
    {
     "data": {
      "image/png": "[encoded data removed]",
      "text/plain": [
       "plot without title"
      ]
     },
     "metadata": {},
     "output_type": "display_data"
    }
   ],
   "source": [
    "library(ggplot2)\n",
    "ggplot(df,aes(x=Total.Interactions))+geom_density(color='blue')"
   ]
  },
  {
   "cell_type": "markdown",
   "metadata": {},
   "source": [
    "There is one page with more than 6000 interactions and most pages has total interactions between 0-1000"
   ]
  },
  {
   "cell_type": "markdown",
   "metadata": {},
   "source": [
    "## Spliting Train & Test data"
   ]
  },
  {
   "cell_type": "code",
   "execution_count": 6,
   "metadata": {},
   "outputs": [
    {
     "name": "stderr",
     "output_type": "stream",
     "text": [
      "Warning message:\n",
      "\"package 'caTools' was built under R version 3.6.2\""
     ]
    }
   ],
   "source": [
    "library(caTools)\n",
    "sample=sample.split(df$Total.Interactions,SplitRatio=0.70)\n",
    "train=subset(df,sample==T)\n",
    "test=subset(df,sample==F)"
   ]
  },
  {
   "cell_type": "markdown",
   "metadata": {},
   "source": [
    "## APPLYING REGRESSION TREE"
   ]
  },
  {
   "cell_type": "code",
   "execution_count": 7,
   "metadata": {},
   "outputs": [],
   "source": [
    "library(rpart)"
   ]
  },
  {
   "cell_type": "code",
   "execution_count": 8,
   "metadata": {},
   "outputs": [],
   "source": [
    "fit <- rpart(Total.Interactions ~ .,method=\"anova\", data=train )"
   ]
  },
  {
   "cell_type": "markdown",
   "metadata": {},
   "source": [
    "Our objective here is to predict Total.Interactions using regression"
   ]
  },
  {
   "cell_type": "code",
   "execution_count": 9,
   "metadata": {},
   "outputs": [
    {
     "data": {
      "image/png": "[encoded data removed]",
      "text/plain": [
       "Plot with title \"Regression Tree for Total Interactions\""
      ]
     },
     "metadata": {},
     "output_type": "display_data"
    }
   ],
   "source": [
    "plot(fit,uniform=TRUE,main=\"Regression Tree for Total Interactions\")\n",
    "text(fit, use.n=TRUE, cex = 0.6)"
   ]
  },
  {
   "cell_type": "markdown",
   "metadata": {},
   "source": [
    "If Lifetime.Post.Impressions.by.people.who.have.liked.your.Page >= 2.728e+04 then the Total.Interactions is 1375"
   ]
  },
  {
   "cell_type": "markdown",
   "metadata": {},
   "source": [
    "If Lifetime.Post.Impressions.by.people.who.have.liked.your.Page < 2.728e+04 and Lifetime.Post.Impressions.by.people.who.have.liked.your.Page < 1.824e+04 and Lifetime.People.who.have.liked.your.Page.and.engaged.with.your.post <502.5 then the Total.Interactions is 107.7"
   ]
  },
  {
   "cell_type": "markdown",
   "metadata": {},
   "source": [
    "If Lifetime.Post.Impressions.by.people.who.have.liked.your.Page < 2.728e+04 and Lifetime.Post.Impressions.by.people.who.have.liked.your.Page < 1.824e+04 and Lifetime.People.who.have.liked.your.Page.and.engaged.with.your.post >= 502.5 then the Total.Interactions is 261.6"
   ]
  },
  {
   "cell_type": "markdown",
   "metadata": {},
   "source": [
    "If Lifetime.Post.Impressions.by.people.who.have.liked.your.Page < 2.728e+04 and Lifetime.Post.Impressions.by.people.who.have.liked.your.Page >= 1.824e+04 and Page.total.likes <1.323e+05 then the Total.Interactions is 380.8"
   ]
  },
  {
   "cell_type": "markdown",
   "metadata": {},
   "source": [
    "If Lifetime.Post.Impressions.by.people.who.have.liked.your.Page < 2.728e+04 and Lifetime.Post.Impressions.by.people.who.have.liked.your.Page >= 1.824e+04 and Page.total.likes >= 1.323e+05 then the Total.Interactions is 920.4"
   ]
  },
  {
   "cell_type": "code",
   "execution_count": 10,
   "metadata": {},
   "outputs": [
    {
     "name": "stdout",
     "output_type": "stream",
     "text": [
      "\n",
      "Regression tree:\n",
      "rpart(formula = Total.Interactions ~ ., data = train, method = \"anova\")\n",
      "\n",
      "Variables actually used in tree construction:\n",
      "[1] Lifetime.Engaged.Users                                             \n",
      "[2] Lifetime.People.who.have.liked.your.Page.and.engaged.with.your.post\n",
      "[3] Lifetime.Post.Consumers                                            \n",
      "[4] Lifetime.Post.reach.by.people.who.like.your.Page                   \n",
      "[5] Lifetime.Post.Total.Impressions                                    \n",
      "\n",
      "Root node error: 29484461/350 = 84241\n",
      "\n",
      "n= 350 \n",
      "\n",
      "        CP nsplit rel error  xerror    xstd\n",
      "1 0.435322      0   1.00000 1.00637 0.24671\n",
      "2 0.160786      1   0.56468 0.63381 0.11524\n",
      "3 0.055711      2   0.40389 0.53298 0.13110\n",
      "4 0.015235      3   0.34818 0.47860 0.12826\n",
      "5 0.010692      4   0.33295 0.49423 0.12780\n",
      "6 0.010241      5   0.32225 0.49106 0.12782\n",
      "7 0.010000      6   0.31201 0.49106 0.12782\n"
     ]
    },
    {
     "data": {
      "image/png": "[encoded data removed]",
      "text/plain": [
       "plot without title"
      ]
     },
     "metadata": {},
     "output_type": "display_data"
    }
   ],
   "source": [
    "par(mfrow=c(1,2))\n",
    "rsq.rpart(fit)"
   ]
  },
  {
   "cell_type": "markdown",
   "metadata": {},
   "source": [
    "As the number of split increases R-square incrases while error decreases"
   ]
  },
  {
   "cell_type": "markdown",
   "metadata": {},
   "source": [
    "This means that as number of splits increases model gets better accurracy and error in prediction"
   ]
  },
  {
   "cell_type": "code",
   "execution_count": 11,
   "metadata": {},
   "outputs": [],
   "source": [
    "predictions=predict(fit,test,method='anova')\n",
    "results=cbind(predictions,test$Total.Interactions)"
   ]
  },
  {
   "cell_type": "code",
   "execution_count": 12,
   "metadata": {},
   "outputs": [],
   "source": [
    "colnames(results)<-c('pred','real')\n",
    "results<-as.data.frame(results)"
   ]
  },
  {
   "cell_type": "code",
   "execution_count": 13,
   "metadata": {},
   "outputs": [
    {
     "data": {
      "text/html": [
       "0.35372464808834"
      ],
      "text/latex": [
       "0.35372464808834"
      ],
      "text/markdown": [
       "0.35372464808834"
      ],
      "text/plain": [
       "[1] 0.3537246"
      ]
     },
     "metadata": {},
     "output_type": "display_data"
    }
   ],
   "source": [
    "SSE=sum((results$pred-results$real)^2)\n",
    "SST=sum((mean(df$Total.Interactions)-results$real)^2)\n",
    "R2=1-SSE/SST\n",
    "R2"
   ]
  },
  {
   "cell_type": "markdown",
   "metadata": {},
   "source": [
    "• R-squared is a goodness-of-fit measure for linear regression models."
   ]
  },
  {
   "cell_type": "markdown",
   "metadata": {},
   "source": [
    " • R-squared measures the strength of the relationship between your model and the dependent variable on a convenient 0 – 100% scale."
   ]
  },
  {
   "cell_type": "markdown",
   "metadata": {},
   "source": [
    "• this model can explain only 35% of the variation."
   ]
  },
  {
   "cell_type": "markdown",
   "metadata": {},
   "source": [
    "# K-FOLDS CROSS VALIDATION"
   ]
  },
  {
   "cell_type": "code",
   "execution_count": 148,
   "metadata": {},
   "outputs": [],
   "source": [
    "library(psych)\n",
    "library(caret)"
   ]
  },
  {
   "cell_type": "code",
   "execution_count": 149,
   "metadata": {},
   "outputs": [],
   "source": [
    "data_ctrl=trainControl(method=\"cv\",number=8)"
   ]
  },
  {
   "cell_type": "code",
   "execution_count": 150,
   "metadata": {},
   "outputs": [
    {
     "name": "stderr",
     "output_type": "stream",
     "text": [
      "Warning message in nominalTrainWorkflow(x = x, y = y, wts = weights, info = trainInfo, :\n",
      "\"There were missing values in resampled performance measures.\""
     ]
    }
   ],
   "source": [
    "model_caret=train(Total.Interactions ~ .,\n",
    "                  data=df,\n",
    "                 trControl=data_ctrl, #folds\n",
    "                 method=\"rpart\",       #specifying regression model\n",
    "                 na.action=na.pass) #pass missing data to model-some models will handle this"
   ]
  },
  {
   "cell_type": "code",
   "execution_count": 151,
   "metadata": {},
   "outputs": [
    {
     "data": {
      "text/plain": [
       "CART \n",
       "\n",
       "500 samples\n",
       " 15 predictor\n",
       "\n",
       "No pre-processing\n",
       "Resampling: Cross-Validated (8 fold) \n",
       "Summary of sample sizes: 438, 437, 437, 436, 438, 438, ... \n",
       "Resampling results across tuning parameters:\n",
       "\n",
       "  cp          RMSE      Rsquared   MAE     \n",
       "  0.04033847  292.2963  0.3331156  141.2928\n",
       "  0.19605212  319.8480  0.2292385  151.1557\n",
       "  0.27385080  328.5340  0.1743481  160.3007\n",
       "\n",
       "RMSE was used to select the optimal model using the smallest value.\n",
       "The final value used for the model was cp = 0.04033847."
      ]
     },
     "metadata": {},
     "output_type": "display_data"
    }
   ],
   "source": [
    "model_caret"
   ]
  },
  {
   "cell_type": "code",
   "execution_count": 152,
   "metadata": {},
   "outputs": [
    {
     "data": {
      "text/plain": [
       "n= 500 \n",
       "\n",
       "node), split, n, deviance, yval\n",
       "      * denotes terminal node\n",
       "\n",
       "1) root 500 72144030  212.1200  \n",
       "  2) Lifetime.Post.reach.by.people.who.like.your.Page< 17820 459  8570768  152.7102 *\n",
       "  3) Lifetime.Post.reach.by.people.who.like.your.Page>=17820 41 43816570  877.2195  \n",
       "    6) Lifetime.Engaged.Users< 2944.5 33  6058507  588.0303 *\n",
       "    7) Lifetime.Engaged.Users>=2944.5 8 23614070 2070.1250 *"
      ]
     },
     "metadata": {},
     "output_type": "display_data"
    }
   ],
   "source": [
    "model_caret$finalModel"
   ]
  },
  {
   "cell_type": "code",
   "execution_count": 153,
   "metadata": {},
   "outputs": [
    {
     "data": {
      "text/html": [
       "<table>\n",
       "<thead><tr><th scope=col>RMSE</th><th scope=col>Rsquared</th><th scope=col>MAE</th><th scope=col>Resample</th></tr></thead>\n",
       "<tbody>\n",
       "\t<tr><td>666.6985  </td><td>0.43483314</td><td>210.4567  </td><td>Fold1     </td></tr>\n",
       "\t<tr><td>166.9288  </td><td>0.10225311</td><td>119.1098  </td><td>Fold4     </td></tr>\n",
       "\t<tr><td>164.4799  </td><td>0.76164444</td><td>110.0937  </td><td>Fold3     </td></tr>\n",
       "\t<tr><td>324.3496  </td><td>0.21573070</td><td>168.5520  </td><td>Fold2     </td></tr>\n",
       "\t<tr><td>293.4864  </td><td>0.05258471</td><td>133.5573  </td><td>Fold5     </td></tr>\n",
       "\t<tr><td>182.6978  </td><td>0.61532827</td><td>111.3958  </td><td>Fold8     </td></tr>\n",
       "\t<tr><td>323.2881  </td><td>0.23067875</td><td>151.0597  </td><td>Fold7     </td></tr>\n",
       "\t<tr><td>216.4410  </td><td>0.25187204</td><td>126.1171  </td><td>Fold6     </td></tr>\n",
       "</tbody>\n",
       "</table>\n"
      ],
      "text/latex": [
       "\\begin{tabular}{r|llll}\n",
       " RMSE & Rsquared & MAE & Resample\\\\\n",
       "\\hline\n",
       "\t 666.6985   & 0.43483314 & 210.4567   & Fold1     \\\\\n",
       "\t 166.9288   & 0.10225311 & 119.1098   & Fold4     \\\\\n",
       "\t 164.4799   & 0.76164444 & 110.0937   & Fold3     \\\\\n",
       "\t 324.3496   & 0.21573070 & 168.5520   & Fold2     \\\\\n",
       "\t 293.4864   & 0.05258471 & 133.5573   & Fold5     \\\\\n",
       "\t 182.6978   & 0.61532827 & 111.3958   & Fold8     \\\\\n",
       "\t 323.2881   & 0.23067875 & 151.0597   & Fold7     \\\\\n",
       "\t 216.4410   & 0.25187204 & 126.1171   & Fold6     \\\\\n",
       "\\end{tabular}\n"
      ],
      "text/markdown": [
       "\n",
       "| RMSE | Rsquared | MAE | Resample |\n",
       "|---|---|---|---|\n",
       "| 666.6985   | 0.43483314 | 210.4567   | Fold1      |\n",
       "| 166.9288   | 0.10225311 | 119.1098   | Fold4      |\n",
       "| 164.4799   | 0.76164444 | 110.0937   | Fold3      |\n",
       "| 324.3496   | 0.21573070 | 168.5520   | Fold2      |\n",
       "| 293.4864   | 0.05258471 | 133.5573   | Fold5      |\n",
       "| 182.6978   | 0.61532827 | 111.3958   | Fold8      |\n",
       "| 323.2881   | 0.23067875 | 151.0597   | Fold7      |\n",
       "| 216.4410   | 0.25187204 | 126.1171   | Fold6      |\n",
       "\n"
      ],
      "text/plain": [
       "  RMSE     Rsquared   MAE      Resample\n",
       "1 666.6985 0.43483314 210.4567 Fold1   \n",
       "2 166.9288 0.10225311 119.1098 Fold4   \n",
       "3 164.4799 0.76164444 110.0937 Fold3   \n",
       "4 324.3496 0.21573070 168.5520 Fold2   \n",
       "5 293.4864 0.05258471 133.5573 Fold5   \n",
       "6 182.6978 0.61532827 111.3958 Fold8   \n",
       "7 323.2881 0.23067875 151.0597 Fold7   \n",
       "8 216.4410 0.25187204 126.1171 Fold6   "
      ]
     },
     "metadata": {},
     "output_type": "display_data"
    }
   ],
   "source": [
    "model_caret$resample"
   ]
  },
  {
   "cell_type": "code",
   "execution_count": 154,
   "metadata": {},
   "outputs": [
    {
     "data": {
      "text/html": [
       "0.333115645256745"
      ],
      "text/latex": [
       "0.333115645256745"
      ],
      "text/markdown": [
       "0.333115645256745"
      ],
      "text/plain": [
       "[1] 0.3331156"
      ]
     },
     "metadata": {},
     "output_type": "display_data"
    }
   ],
   "source": [
    "mean(model_caret$resample$Rsquared)"
   ]
  },
  {
   "cell_type": "markdown",
   "metadata": {},
   "source": [
    "• this model can explain only 33% of the variation."
   ]
  },
  {
   "cell_type": "markdown",
   "metadata": {},
   "source": [
    "## COMPARISON"
   ]
  },
  {
   "cell_type": "markdown",
   "metadata": {},
   "source": [
    "We have 35% accuraccy for Regression Tree and 33 % accurraccy for K-folds Regression Tree"
   ]
  },
  {
   "cell_type": "markdown",
   "metadata": {},
   "source": [
    "Since, we take in all the data for K-folds it's gives better way to analyze the model"
   ]
  }
 ],
 "metadata": {
  "kernelspec": {
   "display_name": "R",
   "language": "R",
   "name": "ir"
  },
  "language_info": {
   "codemirror_mode": "r",
   "file_extension": ".r",
   "mimetype": "text/x-r-source",
   "name": "R",
   "pygments_lexer": "r",
   "version": "3.6.1"
  }
 },
 "nbformat": 4,
 "nbformat_minor": 2
}

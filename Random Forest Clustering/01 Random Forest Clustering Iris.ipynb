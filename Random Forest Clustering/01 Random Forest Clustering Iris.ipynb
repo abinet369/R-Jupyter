{
 "cells": [
  {
   "cell_type": "code",
   "execution_count": 3,
   "metadata": {},
   "outputs": [
    {
     "data": {
      "text/plain": [
       "  Sepal.Length    Sepal.Width     Petal.Length    Petal.Width   \n",
       " Min.   :4.300   Min.   :2.000   Min.   :1.000   Min.   :0.100  \n",
       " 1st Qu.:5.100   1st Qu.:2.800   1st Qu.:1.600   1st Qu.:0.300  \n",
       " Median :5.800   Median :3.000   Median :4.350   Median :1.300  \n",
       " Mean   :5.843   Mean   :3.057   Mean   :3.758   Mean   :1.199  \n",
       " 3rd Qu.:6.400   3rd Qu.:3.300   3rd Qu.:5.100   3rd Qu.:1.800  \n",
       " Max.   :7.900   Max.   :4.400   Max.   :6.900   Max.   :2.500  \n",
       "       Species  \n",
       " setosa    :50  \n",
       " versicolor:50  \n",
       " virginica :50  \n",
       "                \n",
       "                \n",
       "                "
      ]
     },
     "metadata": {},
     "output_type": "display_data"
    }
   ],
   "source": [
    "library(datasets)\n",
    "data(iris)\n",
    "summary(iris)"
   ]
  },
  {
   "cell_type": "code",
   "execution_count": 2,
   "metadata": {},
   "outputs": [
    {
     "data": {
      "text/html": [
       "<table>\n",
       "<caption>A data.frame: 6 × 5</caption>\n",
       "<thead>\n",
       "\t<tr><th></th><th scope=col>Sepal.Length</th><th scope=col>Sepal.Width</th><th scope=col>Petal.Length</th><th scope=col>Petal.Width</th><th scope=col>Species</th></tr>\n",
       "\t<tr><th></th><th scope=col>&lt;dbl&gt;</th><th scope=col>&lt;dbl&gt;</th><th scope=col>&lt;dbl&gt;</th><th scope=col>&lt;dbl&gt;</th><th scope=col>&lt;fct&gt;</th></tr>\n",
       "</thead>\n",
       "<tbody>\n",
       "\t<tr><th scope=row>1</th><td>5.1</td><td>3.5</td><td>1.4</td><td>0.2</td><td>setosa</td></tr>\n",
       "\t<tr><th scope=row>2</th><td>4.9</td><td>3.0</td><td>1.4</td><td>0.2</td><td>setosa</td></tr>\n",
       "\t<tr><th scope=row>3</th><td>4.7</td><td>3.2</td><td>1.3</td><td>0.2</td><td>setosa</td></tr>\n",
       "\t<tr><th scope=row>4</th><td>4.6</td><td>3.1</td><td>1.5</td><td>0.2</td><td>setosa</td></tr>\n",
       "\t<tr><th scope=row>5</th><td>5.0</td><td>3.6</td><td>1.4</td><td>0.2</td><td>setosa</td></tr>\n",
       "\t<tr><th scope=row>6</th><td>5.4</td><td>3.9</td><td>1.7</td><td>0.4</td><td>setosa</td></tr>\n",
       "</tbody>\n",
       "</table>\n"
      ],
      "text/latex": [
       "A data.frame: 6 × 5\n",
       "\\begin{tabular}{r|lllll}\n",
       "  & Sepal.Length & Sepal.Width & Petal.Length & Petal.Width & Species\\\\\n",
       "  & <dbl> & <dbl> & <dbl> & <dbl> & <fct>\\\\\n",
       "\\hline\n",
       "\t1 & 5.1 & 3.5 & 1.4 & 0.2 & setosa\\\\\n",
       "\t2 & 4.9 & 3.0 & 1.4 & 0.2 & setosa\\\\\n",
       "\t3 & 4.7 & 3.2 & 1.3 & 0.2 & setosa\\\\\n",
       "\t4 & 4.6 & 3.1 & 1.5 & 0.2 & setosa\\\\\n",
       "\t5 & 5.0 & 3.6 & 1.4 & 0.2 & setosa\\\\\n",
       "\t6 & 5.4 & 3.9 & 1.7 & 0.4 & setosa\\\\\n",
       "\\end{tabular}\n"
      ],
      "text/markdown": [
       "\n",
       "A data.frame: 6 × 5\n",
       "\n",
       "| <!--/--> | Sepal.Length &lt;dbl&gt; | Sepal.Width &lt;dbl&gt; | Petal.Length &lt;dbl&gt; | Petal.Width &lt;dbl&gt; | Species &lt;fct&gt; |\n",
       "|---|---|---|---|---|---|\n",
       "| 1 | 5.1 | 3.5 | 1.4 | 0.2 | setosa |\n",
       "| 2 | 4.9 | 3.0 | 1.4 | 0.2 | setosa |\n",
       "| 3 | 4.7 | 3.2 | 1.3 | 0.2 | setosa |\n",
       "| 4 | 4.6 | 3.1 | 1.5 | 0.2 | setosa |\n",
       "| 5 | 5.0 | 3.6 | 1.4 | 0.2 | setosa |\n",
       "| 6 | 5.4 | 3.9 | 1.7 | 0.4 | setosa |\n",
       "\n"
      ],
      "text/plain": [
       "  Sepal.Length Sepal.Width Petal.Length Petal.Width Species\n",
       "1 5.1          3.5         1.4          0.2         setosa \n",
       "2 4.9          3.0         1.4          0.2         setosa \n",
       "3 4.7          3.2         1.3          0.2         setosa \n",
       "4 4.6          3.1         1.5          0.2         setosa \n",
       "5 5.0          3.6         1.4          0.2         setosa \n",
       "6 5.4          3.9         1.7          0.4         setosa "
      ]
     },
     "metadata": {},
     "output_type": "display_data"
    }
   ],
   "source": [
    "head(iris)"
   ]
  },
  {
   "cell_type": "markdown",
   "metadata": {},
   "source": [
    "Here the inbuilt dataset of Iris is used"
   ]
  },
  {
   "cell_type": "code",
   "execution_count": 4,
   "metadata": {},
   "outputs": [
    {
     "name": "stderr",
     "output_type": "stream",
     "text": [
      "Installing package into 'C:/Users/abine/OneDrive/Documents/R/win-library/3.6'\n",
      "(as 'lib' is unspecified)\n",
      "Warning message:\n",
      "\"package 'RColorBrewer' is in use and will not be installed\""
     ]
    }
   ],
   "source": [
    "install.packages(\"RColorBrewer\")"
   ]
  },
  {
   "cell_type": "code",
   "execution_count": 5,
   "metadata": {},
   "outputs": [
    {
     "name": "stderr",
     "output_type": "stream",
     "text": [
      "Installing package into 'C:/Users/abine/OneDrive/Documents/R/win-library/3.6'\n",
      "(as 'lib' is unspecified)\n",
      "Warning message:\n",
      "\"package 'cluster' is in use and will not be installed\""
     ]
    }
   ],
   "source": [
    "install.packages(\"cluster\")"
   ]
  },
  {
   "cell_type": "code",
   "execution_count": 3,
   "metadata": {
    "scrolled": true
   },
   "outputs": [
    {
     "name": "stderr",
     "output_type": "stream",
     "text": [
      "randomForest 4.6-14\n",
      "Type rfNews() to see new features/changes/bug fixes.\n",
      "Warning message:\n",
      "\"package 'caret' was built under R version 3.6.2\"Loading required package: lattice\n",
      "Loading required package: ggplot2\n",
      "Warning message:\n",
      "\"package 'ggplot2' was built under R version 3.6.2\"\n",
      "Attaching package: 'ggplot2'\n",
      "\n",
      "The following object is masked from 'package:randomForest':\n",
      "\n",
      "    margin\n",
      "\n"
     ]
    }
   ],
   "source": [
    "library(randomForest)\n",
    "library(caret)\n",
    "library(cluster)\n",
    "library(RColorBrewer)"
   ]
  },
  {
   "cell_type": "markdown",
   "metadata": {},
   "source": [
    "# Supervised Random Forest"
   ]
  },
  {
   "cell_type": "code",
   "execution_count": 8,
   "metadata": {},
   "outputs": [],
   "source": [
    "holdout=sample(1:150,50)\n",
    "myColRamp=colorRampPalette(colors=c(\"#25591f\",\"#818c3c\",\"#72601b\"))"
   ]
  },
  {
   "cell_type": "markdown",
   "metadata": {},
   "source": [
    "Assigned color to each type of class"
   ]
  },
  {
   "cell_type": "code",
   "execution_count": 9,
   "metadata": {},
   "outputs": [
    {
     "data": {
      "text/html": [
       "<style>\n",
       ".list-inline {list-style: none; margin:0; padding: 0}\n",
       ".list-inline>li {display: inline-block}\n",
       ".list-inline>li:not(:last-child)::after {content: \"\\00b7\"; padding: 0 .5ex}\n",
       "</style>\n",
       "<ol class=list-inline><li>6</li><li>128</li><li>148</li><li>39</li><li>102</li><li>62</li><li>26</li><li>35</li><li>107</li><li>36</li><li>50</li><li>87</li><li>129</li><li>54</li><li>10</li><li>96</li><li>116</li><li>136</li><li>20</li><li>105</li><li>82</li><li>74</li><li>29</li><li>89</li><li>120</li><li>33</li><li>110</li><li>99</li><li>45</li><li>66</li><li>42</li><li>90</li><li>70</li><li>14</li><li>97</li><li>55</li><li>91</li><li>58</li><li>28</li><li>67</li><li>114</li><li>119</li><li>135</li><li>44</li><li>5</li><li>48</li><li>25</li><li>134</li><li>69</li><li>63</li></ol>\n"
      ],
      "text/latex": [
       "\\begin{enumerate*}\n",
       "\\item 6\n",
       "\\item 128\n",
       "\\item 148\n",
       "\\item 39\n",
       "\\item 102\n",
       "\\item 62\n",
       "\\item 26\n",
       "\\item 35\n",
       "\\item 107\n",
       "\\item 36\n",
       "\\item 50\n",
       "\\item 87\n",
       "\\item 129\n",
       "\\item 54\n",
       "\\item 10\n",
       "\\item 96\n",
       "\\item 116\n",
       "\\item 136\n",
       "\\item 20\n",
       "\\item 105\n",
       "\\item 82\n",
       "\\item 74\n",
       "\\item 29\n",
       "\\item 89\n",
       "\\item 120\n",
       "\\item 33\n",
       "\\item 110\n",
       "\\item 99\n",
       "\\item 45\n",
       "\\item 66\n",
       "\\item 42\n",
       "\\item 90\n",
       "\\item 70\n",
       "\\item 14\n",
       "\\item 97\n",
       "\\item 55\n",
       "\\item 91\n",
       "\\item 58\n",
       "\\item 28\n",
       "\\item 67\n",
       "\\item 114\n",
       "\\item 119\n",
       "\\item 135\n",
       "\\item 44\n",
       "\\item 5\n",
       "\\item 48\n",
       "\\item 25\n",
       "\\item 134\n",
       "\\item 69\n",
       "\\item 63\n",
       "\\end{enumerate*}\n"
      ],
      "text/markdown": [
       "1. 6\n",
       "2. 128\n",
       "3. 148\n",
       "4. 39\n",
       "5. 102\n",
       "6. 62\n",
       "7. 26\n",
       "8. 35\n",
       "9. 107\n",
       "10. 36\n",
       "11. 50\n",
       "12. 87\n",
       "13. 129\n",
       "14. 54\n",
       "15. 10\n",
       "16. 96\n",
       "17. 116\n",
       "18. 136\n",
       "19. 20\n",
       "20. 105\n",
       "21. 82\n",
       "22. 74\n",
       "23. 29\n",
       "24. 89\n",
       "25. 120\n",
       "26. 33\n",
       "27. 110\n",
       "28. 99\n",
       "29. 45\n",
       "30. 66\n",
       "31. 42\n",
       "32. 90\n",
       "33. 70\n",
       "34. 14\n",
       "35. 97\n",
       "36. 55\n",
       "37. 91\n",
       "38. 58\n",
       "39. 28\n",
       "40. 67\n",
       "41. 114\n",
       "42. 119\n",
       "43. 135\n",
       "44. 44\n",
       "45. 5\n",
       "46. 48\n",
       "47. 25\n",
       "48. 134\n",
       "49. 69\n",
       "50. 63\n",
       "\n",
       "\n"
      ],
      "text/plain": [
       " [1]   6 128 148  39 102  62  26  35 107  36  50  87 129  54  10  96 116 136  20\n",
       "[20] 105  82  74  29  89 120  33 110  99  45  66  42  90  70  14  97  55  91  58\n",
       "[39]  28  67 114 119 135  44   5  48  25 134  69  63"
      ]
     },
     "metadata": {},
     "output_type": "display_data"
    }
   ],
   "source": [
    "holdout\n",
    "#some random numbers to select trandom sample"
   ]
  },
  {
   "cell_type": "code",
   "execution_count": 11,
   "metadata": {},
   "outputs": [
    {
     "data": {
      "text/plain": [
       "\n",
       "Call:\n",
       " randomForest(x = iris[-holdout, -5], y = iris$Species[-holdout],      ntree = 2000, mtry = 2, proximity = TRUE) \n",
       "               Type of random forest: classification\n",
       "                     Number of trees: 2000\n",
       "No. of variables tried at each split: 2\n",
       "\n",
       "        OOB estimate of  error rate: 3%\n",
       "Confusion matrix:\n",
       "           setosa versicolor virginica class.error\n",
       "setosa         32          0         0  0.00000000\n",
       "versicolor      0         31         1  0.03125000\n",
       "virginica       0          2        34  0.05555556"
      ]
     },
     "metadata": {},
     "output_type": "display_data"
    }
   ],
   "source": [
    "rf=randomForest(x=iris[-holdout,-5],y=iris$Species[-holdout],mtry=2,ntree=2000,proximity=TRUE)\n",
    "rf"
   ]
  },
  {
   "cell_type": "markdown",
   "metadata": {},
   "source": [
    "•Creating a random forest model based on seen data.\n",
    "\n",
    "•We are excluding the holdout data from it for training.\n",
    "\n",
    "•2000 trees were taken into consideration and at each split 2 variables were tried.\n",
    "\n",
    "•From the confusion matrix, we can see 3 observations were labeled incorrect on training data."
   ]
  },
  {
   "cell_type": "code",
   "execution_count": 21,
   "metadata": {},
   "outputs": [
    {
     "name": "stderr",
     "output_type": "stream",
     "text": [
      "Installing package into 'C:/Users/abine/OneDrive/Documents/R/win-library/3.6'\n",
      "(as 'lib' is unspecified)\n"
     ]
    },
    {
     "name": "stdout",
     "output_type": "stream",
     "text": [
      "package 'e1071' successfully unpacked and MD5 sums checked\n",
      "\n",
      "The downloaded binary packages are in\n",
      "\tC:\\Users\\abine\\AppData\\Local\\Temp\\Rtmpuy8YIa\\downloaded_packages\n"
     ]
    }
   ],
   "source": [
    "install.packages(\"e1071\")"
   ]
  },
  {
   "cell_type": "code",
   "execution_count": 23,
   "metadata": {},
   "outputs": [
    {
     "name": "stderr",
     "output_type": "stream",
     "text": [
      "Warning message:\n",
      "\"package 'e1071' was built under R version 3.6.3\""
     ]
    }
   ],
   "source": [
    "library(\"e1071\")"
   ]
  },
  {
   "cell_type": "code",
   "execution_count": 24,
   "metadata": {},
   "outputs": [
    {
     "data": {
      "text/html": [
       "<table>\n",
       "<caption>A data.frame: 6 × 2</caption>\n",
       "<thead>\n",
       "\t<tr><th></th><th scope=col>Orig</th><th scope=col>Pred</th></tr>\n",
       "\t<tr><th></th><th scope=col>&lt;fct&gt;</th><th scope=col>&lt;fct&gt;</th></tr>\n",
       "</thead>\n",
       "<tbody>\n",
       "\t<tr><th scope=row>6</th><td>setosa    </td><td>setosa    </td></tr>\n",
       "\t<tr><th scope=row>128</th><td>virginica </td><td>virginica </td></tr>\n",
       "\t<tr><th scope=row>148</th><td>virginica </td><td>virginica </td></tr>\n",
       "\t<tr><th scope=row>39</th><td>setosa    </td><td>setosa    </td></tr>\n",
       "\t<tr><th scope=row>102</th><td>virginica </td><td>virginica </td></tr>\n",
       "\t<tr><th scope=row>62</th><td>versicolor</td><td>versicolor</td></tr>\n",
       "</tbody>\n",
       "</table>\n"
      ],
      "text/latex": [
       "A data.frame: 6 × 2\n",
       "\\begin{tabular}{r|ll}\n",
       "  & Orig & Pred\\\\\n",
       "  & <fct> & <fct>\\\\\n",
       "\\hline\n",
       "\t6 & setosa     & setosa    \\\\\n",
       "\t128 & virginica  & virginica \\\\\n",
       "\t148 & virginica  & virginica \\\\\n",
       "\t39 & setosa     & setosa    \\\\\n",
       "\t102 & virginica  & virginica \\\\\n",
       "\t62 & versicolor & versicolor\\\\\n",
       "\\end{tabular}\n"
      ],
      "text/markdown": [
       "\n",
       "A data.frame: 6 × 2\n",
       "\n",
       "| <!--/--> | Orig &lt;fct&gt; | Pred &lt;fct&gt; |\n",
       "|---|---|---|\n",
       "| 6 | setosa     | setosa     |\n",
       "| 128 | virginica  | virginica  |\n",
       "| 148 | virginica  | virginica  |\n",
       "| 39 | setosa     | setosa     |\n",
       "| 102 | virginica  | virginica  |\n",
       "| 62 | versicolor | versicolor |\n",
       "\n"
      ],
      "text/plain": [
       "    Orig       Pred      \n",
       "6   setosa     setosa    \n",
       "128 virginica  virginica \n",
       "148 virginica  virginica \n",
       "39  setosa     setosa    \n",
       "102 virginica  virginica \n",
       "62  versicolor versicolor"
      ]
     },
     "metadata": {},
     "output_type": "display_data"
    },
    {
     "data": {
      "text/plain": [
       "Confusion Matrix and Statistics\n",
       "\n",
       "            \n",
       "             setosa versicolor virginica\n",
       "  setosa         18          0         0\n",
       "  versicolor      0         18         0\n",
       "  virginica       0          4        10\n",
       "\n",
       "Overall Statistics\n",
       "                                          \n",
       "               Accuracy : 0.92            \n",
       "                 95% CI : (0.8077, 0.9778)\n",
       "    No Information Rate : 0.44            \n",
       "    P-Value [Acc > NIR] : 9.624e-13       \n",
       "                                          \n",
       "                  Kappa : 0.878           \n",
       "                                          \n",
       " Mcnemar's Test P-Value : NA              \n",
       "\n",
       "Statistics by Class:\n",
       "\n",
       "                     Class: setosa Class: versicolor Class: virginica\n",
       "Sensitivity                   1.00            0.8182           1.0000\n",
       "Specificity                   1.00            1.0000           0.9000\n",
       "Pos Pred Value                1.00            1.0000           0.7143\n",
       "Neg Pred Value                1.00            0.8750           1.0000\n",
       "Prevalence                    0.36            0.4400           0.2000\n",
       "Detection Rate                0.36            0.3600           0.2000\n",
       "Detection Prevalence          0.36            0.3600           0.2800\n",
       "Balanced Accuracy             1.00            0.9091           0.9500"
      ]
     },
     "metadata": {},
     "output_type": "display_data"
    }
   ],
   "source": [
    "y_predicted=predict(rf,iris[holdout,-5])\n",
    "df1=data.frame(Orig=iris$Species[holdout],Pred=y_predicted)\n",
    "head(df1)\n",
    "confusionMatrix(table(df1$Orig,df1$Pred))"
   ]
  },
  {
   "cell_type": "markdown",
   "metadata": {},
   "source": [
    "Now, The model is tested on the holdout dataset.\n",
    "\n",
    "•We can see that the model has made 4 incorrect predictions on the testing data.\n"
   ]
  },
  {
   "cell_type": "markdown",
   "metadata": {},
   "source": [
    "# UNSUPERVISED RANDOM FOREST CLUSTERING"
   ]
  },
  {
   "cell_type": "code",
   "execution_count": 25,
   "metadata": {},
   "outputs": [
    {
     "data": {
      "text/plain": [
       "\n",
       "Call:\n",
       " randomForest(x = iris[, -5], ntree = 2000, mtry = 2, proximity = TRUE) \n",
       "               Type of random forest: unsupervised\n",
       "                     Number of trees: 2000\n",
       "No. of variables tried at each split: 2\n"
      ]
     },
     "metadata": {},
     "output_type": "display_data"
    }
   ],
   "source": [
    "rf2=randomForest(x=iris[,-5],mtry=2,ntree=2000,proximity=TRUE)\n",
    "rf2"
   ]
  },
  {
   "cell_type": "markdown",
   "metadata": {},
   "source": [
    "•\tCreating a random forest model based on unseen data.\n",
    "\n",
    "•\t2000 trees were taken into consideration and at each split 2 variables were tried."
   ]
  },
  {
   "cell_type": "code",
   "execution_count": 26,
   "metadata": {},
   "outputs": [
    {
     "data": {
      "text/html": [
       "<table>\n",
       "<caption>A matrix: 6 × 150 of type dbl</caption>\n",
       "<thead>\n",
       "\t<tr><th></th><th scope=col>1</th><th scope=col>2</th><th scope=col>3</th><th scope=col>4</th><th scope=col>5</th><th scope=col>6</th><th scope=col>7</th><th scope=col>8</th><th scope=col>9</th><th scope=col>10</th><th scope=col>...</th><th scope=col>141</th><th scope=col>142</th><th scope=col>143</th><th scope=col>144</th><th scope=col>145</th><th scope=col>146</th><th scope=col>147</th><th scope=col>148</th><th scope=col>149</th><th scope=col>150</th></tr>\n",
       "</thead>\n",
       "<tbody>\n",
       "\t<tr><th scope=row>1</th><td>1.0000000</td><td>0.22471910</td><td>0.26258993</td><td>0.17808219</td><td>0.7518797</td><td>0.23880597</td><td>0.3560606</td><td>0.6028369</td><td>0.09920635</td><td>0.17562724</td><td>...</td><td>0</td><td>0</td><td>0</td><td>0</td><td>0</td><td>0</td><td>0</td><td>0</td><td>0</td><td>0</td></tr>\n",
       "\t<tr><th scope=row>2</th><td>0.2247191</td><td>1.00000000</td><td>0.40225564</td><td>0.41947566</td><td>0.2769231</td><td>0.03597122</td><td>0.2248996</td><td>0.2588652</td><td>0.38697318</td><td>0.50922509</td><td>...</td><td>0</td><td>0</td><td>0</td><td>0</td><td>0</td><td>0</td><td>0</td><td>0</td><td>0</td><td>0</td></tr>\n",
       "\t<tr><th scope=row>3</th><td>0.2625899</td><td>0.40225564</td><td>1.00000000</td><td>0.42066421</td><td>0.2916667</td><td>0.02348993</td><td>0.4592593</td><td>0.2862191</td><td>0.22656250</td><td>0.34444444</td><td>...</td><td>0</td><td>0</td><td>0</td><td>0</td><td>0</td><td>0</td><td>0</td><td>0</td><td>0</td><td>0</td></tr>\n",
       "\t<tr><th scope=row>4</th><td>0.1780822</td><td>0.41947566</td><td>0.42066421</td><td>1.00000000</td><td>0.1704545</td><td>0.05035971</td><td>0.4065041</td><td>0.3241379</td><td>0.38339921</td><td>0.54789272</td><td>...</td><td>0</td><td>0</td><td>0</td><td>0</td><td>0</td><td>0</td><td>0</td><td>0</td><td>0</td><td>0</td></tr>\n",
       "\t<tr><th scope=row>5</th><td>0.7518797</td><td>0.27692308</td><td>0.29166667</td><td>0.17045455</td><td>1.0000000</td><td>0.29277567</td><td>0.4250000</td><td>0.6466431</td><td>0.11065574</td><td>0.24632353</td><td>...</td><td>0</td><td>0</td><td>0</td><td>0</td><td>0</td><td>0</td><td>0</td><td>0</td><td>0</td><td>0</td></tr>\n",
       "\t<tr><th scope=row>6</th><td>0.2388060</td><td>0.03597122</td><td>0.02348993</td><td>0.05035971</td><td>0.2927757</td><td>1.00000000</td><td>0.1338583</td><td>0.2206897</td><td>0.00754717</td><td>0.05208333</td><td>...</td><td>0</td><td>0</td><td>0</td><td>0</td><td>0</td><td>0</td><td>0</td><td>0</td><td>0</td><td>0</td></tr>\n",
       "</tbody>\n",
       "</table>\n"
      ],
      "text/latex": [
       "A matrix: 6 × 150 of type dbl\n",
       "\\begin{tabular}{r|lllllllllllllllllllll}\n",
       "  & 1 & 2 & 3 & 4 & 5 & 6 & 7 & 8 & 9 & 10 & ... & 141 & 142 & 143 & 144 & 145 & 146 & 147 & 148 & 149 & 150\\\\\n",
       "\\hline\n",
       "\t1 & 1.0000000 & 0.22471910 & 0.26258993 & 0.17808219 & 0.7518797 & 0.23880597 & 0.3560606 & 0.6028369 & 0.09920635 & 0.17562724 & ... & 0 & 0 & 0 & 0 & 0 & 0 & 0 & 0 & 0 & 0\\\\\n",
       "\t2 & 0.2247191 & 1.00000000 & 0.40225564 & 0.41947566 & 0.2769231 & 0.03597122 & 0.2248996 & 0.2588652 & 0.38697318 & 0.50922509 & ... & 0 & 0 & 0 & 0 & 0 & 0 & 0 & 0 & 0 & 0\\\\\n",
       "\t3 & 0.2625899 & 0.40225564 & 1.00000000 & 0.42066421 & 0.2916667 & 0.02348993 & 0.4592593 & 0.2862191 & 0.22656250 & 0.34444444 & ... & 0 & 0 & 0 & 0 & 0 & 0 & 0 & 0 & 0 & 0\\\\\n",
       "\t4 & 0.1780822 & 0.41947566 & 0.42066421 & 1.00000000 & 0.1704545 & 0.05035971 & 0.4065041 & 0.3241379 & 0.38339921 & 0.54789272 & ... & 0 & 0 & 0 & 0 & 0 & 0 & 0 & 0 & 0 & 0\\\\\n",
       "\t5 & 0.7518797 & 0.27692308 & 0.29166667 & 0.17045455 & 1.0000000 & 0.29277567 & 0.4250000 & 0.6466431 & 0.11065574 & 0.24632353 & ... & 0 & 0 & 0 & 0 & 0 & 0 & 0 & 0 & 0 & 0\\\\\n",
       "\t6 & 0.2388060 & 0.03597122 & 0.02348993 & 0.05035971 & 0.2927757 & 1.00000000 & 0.1338583 & 0.2206897 & 0.00754717 & 0.05208333 & ... & 0 & 0 & 0 & 0 & 0 & 0 & 0 & 0 & 0 & 0\\\\\n",
       "\\end{tabular}\n"
      ],
      "text/markdown": [
       "\n",
       "A matrix: 6 × 150 of type dbl\n",
       "\n",
       "| <!--/--> | 1 | 2 | 3 | 4 | 5 | 6 | 7 | 8 | 9 | 10 | ... | 141 | 142 | 143 | 144 | 145 | 146 | 147 | 148 | 149 | 150 |\n",
       "|---|---|---|---|---|---|---|---|---|---|---|---|---|---|---|---|---|---|---|---|---|---|\n",
       "| 1 | 1.0000000 | 0.22471910 | 0.26258993 | 0.17808219 | 0.7518797 | 0.23880597 | 0.3560606 | 0.6028369 | 0.09920635 | 0.17562724 | ... | 0 | 0 | 0 | 0 | 0 | 0 | 0 | 0 | 0 | 0 |\n",
       "| 2 | 0.2247191 | 1.00000000 | 0.40225564 | 0.41947566 | 0.2769231 | 0.03597122 | 0.2248996 | 0.2588652 | 0.38697318 | 0.50922509 | ... | 0 | 0 | 0 | 0 | 0 | 0 | 0 | 0 | 0 | 0 |\n",
       "| 3 | 0.2625899 | 0.40225564 | 1.00000000 | 0.42066421 | 0.2916667 | 0.02348993 | 0.4592593 | 0.2862191 | 0.22656250 | 0.34444444 | ... | 0 | 0 | 0 | 0 | 0 | 0 | 0 | 0 | 0 | 0 |\n",
       "| 4 | 0.1780822 | 0.41947566 | 0.42066421 | 1.00000000 | 0.1704545 | 0.05035971 | 0.4065041 | 0.3241379 | 0.38339921 | 0.54789272 | ... | 0 | 0 | 0 | 0 | 0 | 0 | 0 | 0 | 0 | 0 |\n",
       "| 5 | 0.7518797 | 0.27692308 | 0.29166667 | 0.17045455 | 1.0000000 | 0.29277567 | 0.4250000 | 0.6466431 | 0.11065574 | 0.24632353 | ... | 0 | 0 | 0 | 0 | 0 | 0 | 0 | 0 | 0 | 0 |\n",
       "| 6 | 0.2388060 | 0.03597122 | 0.02348993 | 0.05035971 | 0.2927757 | 1.00000000 | 0.1338583 | 0.2206897 | 0.00754717 | 0.05208333 | ... | 0 | 0 | 0 | 0 | 0 | 0 | 0 | 0 | 0 | 0 |\n",
       "\n"
      ],
      "text/plain": [
       "  1         2          3          4          5         6          7        \n",
       "1 1.0000000 0.22471910 0.26258993 0.17808219 0.7518797 0.23880597 0.3560606\n",
       "2 0.2247191 1.00000000 0.40225564 0.41947566 0.2769231 0.03597122 0.2248996\n",
       "3 0.2625899 0.40225564 1.00000000 0.42066421 0.2916667 0.02348993 0.4592593\n",
       "4 0.1780822 0.41947566 0.42066421 1.00000000 0.1704545 0.05035971 0.4065041\n",
       "5 0.7518797 0.27692308 0.29166667 0.17045455 1.0000000 0.29277567 0.4250000\n",
       "6 0.2388060 0.03597122 0.02348993 0.05035971 0.2927757 1.00000000 0.1338583\n",
       "  8         9          10         ... 141 142 143 144 145 146 147 148 149 150\n",
       "1 0.6028369 0.09920635 0.17562724 ... 0   0   0   0   0   0   0   0   0   0  \n",
       "2 0.2588652 0.38697318 0.50922509 ... 0   0   0   0   0   0   0   0   0   0  \n",
       "3 0.2862191 0.22656250 0.34444444 ... 0   0   0   0   0   0   0   0   0   0  \n",
       "4 0.3241379 0.38339921 0.54789272 ... 0   0   0   0   0   0   0   0   0   0  \n",
       "5 0.6466431 0.11065574 0.24632353 ... 0   0   0   0   0   0   0   0   0   0  \n",
       "6 0.2206897 0.00754717 0.05208333 ... 0   0   0   0   0   0   0   0   0   0  "
      ]
     },
     "metadata": {},
     "output_type": "display_data"
    },
    {
     "data": {
      "text/plain": [
       "   \n",
       "     1  2  3\n",
       "  1 49  1  0\n",
       "  2  0 49  1\n",
       "  3  0 15 35"
      ]
     },
     "metadata": {},
     "output_type": "display_data"
    }
   ],
   "source": [
    "prox=rf2$proximity\n",
    "head(prox)\n",
    "pam.rf=pam(prox,3)\n",
    "pred=cbind(pam.rf$clustering,iris$Species)\n",
    "table(pred[,2],pred[,1])"
   ]
  },
  {
   "cell_type": "markdown",
   "metadata": {},
   "source": [
    "•Proximity values in the matrix represent the similarity among the object of the matrix.\n",
    "\n",
    "•Thus on the basis of the proximity values, the clustering are formed where higher the proximity value, the more similar the objects are among them.\n",
    "\n",
    "•We can see that 17 incorrect predictions have been made."
   ]
  },
  {
   "cell_type": "code",
   "execution_count": 28,
   "metadata": {},
   "outputs": [
    {
     "data": {
      "image/png": "[encoded data removed]",
      "text/plain": [
       "plot without title"
      ]
     },
     "metadata": {},
     "output_type": "display_data"
    }
   ],
   "source": [
    "Clusters=as.factor(pam.rf$cluster)\n",
    "Species=iris$Species\n",
    "ggplot(iris,aes(x=Petal.Length,y=Petal.Width,col=Clusters,pch=Species))+geom_point(size=3)+scale_color_manual(values=myColRamp(3))"
   ]
  },
  {
   "cell_type": "markdown",
   "metadata": {},
   "source": [
    "Visual representation of the clusters"
   ]
  },
  {
   "cell_type": "markdown",
   "metadata": {},
   "source": [
    "# COMPARISON with straight kmeans and PAM"
   ]
  },
  {
   "cell_type": "code",
   "execution_count": 30,
   "metadata": {},
   "outputs": [
    {
     "data": {
      "text/plain": [
       "   \n",
       "     1  2  3\n",
       "  1  0 50  0\n",
       "  2 11  0 39\n",
       "  3 36  0 14"
      ]
     },
     "metadata": {},
     "output_type": "display_data"
    }
   ],
   "source": [
    "xiris=scale(iris[,-5])\n",
    "km=kmeans(xiris,3,nstart=200)\n",
    "pred.km=cbind(km$cluster,iris$Species)\n",
    "table(pred.km[,2], pred.km[,1])"
   ]
  },
  {
   "cell_type": "markdown",
   "metadata": {},
   "source": [
    "•\tNormalizing the dataset using the scale function.\n",
    "\n",
    "•\tUsing k-means for clustering unseen data.\n",
    "\n",
    "•\tWe can see that the model has 136 incorrect predictions which is absurd.\n"
   ]
  },
  {
   "cell_type": "code",
   "execution_count": 31,
   "metadata": {},
   "outputs": [
    {
     "data": {
      "image/png": "[encoded data removed]",
      "text/plain": [
       "plot without title"
      ]
     },
     "metadata": {},
     "output_type": "display_data"
    }
   ],
   "source": [
    "Clusters <- as.factor(km$cluster)\n",
    "Species <- iris$Species\n",
    "ggplot(iris, aes(x = Petal.Length, y = Petal.Width, col = Clusters, pch = Species)) + geom_point(size = 3) + \n",
    "  scale_color_manual(values = myColRamp(3))"
   ]
  },
  {
   "cell_type": "markdown",
   "metadata": {},
   "source": [
    "Visual representation of the clusters "
   ]
  },
  {
   "cell_type": "code",
   "execution_count": 32,
   "metadata": {},
   "outputs": [
    {
     "data": {
      "text/plain": [
       "   \n",
       "     1  2  3\n",
       "  1 50  0  0\n",
       "  2  0  9 41\n",
       "  3  0 36 14"
      ]
     },
     "metadata": {},
     "output_type": "display_data"
    }
   ],
   "source": [
    "pm <- pam(xiris, 3)\n",
    "pred.pm <- cbind(pm$clustering, iris$Species)\n",
    "table(pred.pm[,2], pred.pm[,1])"
   ]
  },
  {
   "cell_type": "markdown",
   "metadata": {},
   "source": [
    "•Using pam function for clustering the unseen dataset.\n",
    "    \n",
    "•We can see that the model has 77 incorrect predictions."
   ]
  },
  {
   "cell_type": "code",
   "execution_count": 33,
   "metadata": {},
   "outputs": [
    {
     "data": {
      "image/png": "[encoded data removed]",
      "text/plain": [
       "plot without title"
      ]
     },
     "metadata": {},
     "output_type": "display_data"
    }
   ],
   "source": [
    "Clusters <- as.factor(pm$cluster)\n",
    "Species <- iris$Species\n",
    "ggplot(iris, aes(x = Petal.Length, y = Petal.Width, col = Clusters, pch = Species)) + geom_point(size = 3) + \n",
    "  scale_color_manual(values = myColRamp(3))"
   ]
  },
  {
   "cell_type": "markdown",
   "metadata": {},
   "source": [
    "Visual representation of the clusters"
   ]
  },
  {
   "cell_type": "markdown",
   "metadata": {},
   "source": [
    "## CONCLUSION"
   ]
  },
  {
   "cell_type": "markdown",
   "metadata": {},
   "source": [
    "kmeans incoerrectly allocates 25 observations\n",
    "\n",
    "PAM incorrectly allocates 23 Observations and\n",
    "\n",
    "Random Forest incorrectly allocates 18"
   ]
  },
  {
   "cell_type": "markdown",
   "metadata": {},
   "source": [
    "Here random forest model does a little better at clustering"
   ]
  }
 ],
 "metadata": {
  "kernelspec": {
   "display_name": "R",
   "language": "R",
   "name": "ir"
  },
  "language_info": {
   "codemirror_mode": "r",
   "file_extension": ".r",
   "mimetype": "text/x-r-source",
   "name": "R",
   "pygments_lexer": "r",
   "version": "3.6.1"
  }
 },
 "nbformat": 4,
 "nbformat_minor": 2
}

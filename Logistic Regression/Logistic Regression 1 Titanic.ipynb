{
 "cells": [
  {
   "cell_type": "code",
   "execution_count": 1,
   "metadata": {},
   "outputs": [],
   "source": [
    "df=read.csv('C:\\\\Users\\\\abine\\\\OneDrive\\\\Documents\\\\Datasets\\\\titanic\\\\train.csv')"
   ]
  },
  {
   "cell_type": "code",
   "execution_count": 2,
   "metadata": {},
   "outputs": [
    {
     "data": {
      "text/html": [
       "<table>\n",
       "<thead><tr><th scope=col>age</th><th scope=col>job</th><th scope=col>marital</th><th scope=col>education</th><th scope=col>default</th><th scope=col>balance</th><th scope=col>housing</th><th scope=col>loan</th><th scope=col>contact</th><th scope=col>day</th><th scope=col>month</th><th scope=col>duration</th><th scope=col>campaign</th><th scope=col>pdays</th><th scope=col>previous</th><th scope=col>poutcome</th><th scope=col>y</th></tr></thead>\n",
       "<tbody>\n",
       "\t<tr><td>30         </td><td>unemployed </td><td>married    </td><td>primary    </td><td>no         </td><td>1787       </td><td>no         </td><td>no         </td><td>cellular   </td><td>19         </td><td>oct        </td><td> 79        </td><td>1          </td><td> -1        </td><td>0          </td><td>unknown    </td><td>no         </td></tr>\n",
       "\t<tr><td>33         </td><td>services   </td><td>married    </td><td>secondary  </td><td>no         </td><td>4789       </td><td>yes        </td><td>yes        </td><td>cellular   </td><td>11         </td><td>may        </td><td>220        </td><td>1          </td><td>339        </td><td>4          </td><td>failure    </td><td>no         </td></tr>\n",
       "\t<tr><td>35         </td><td>management </td><td>single     </td><td>tertiary   </td><td>no         </td><td>1350       </td><td>yes        </td><td>no         </td><td>cellular   </td><td>16         </td><td>apr        </td><td>185        </td><td>1          </td><td>330        </td><td>1          </td><td>failure    </td><td>no         </td></tr>\n",
       "\t<tr><td>30         </td><td>management </td><td>married    </td><td>tertiary   </td><td>no         </td><td>1476       </td><td>yes        </td><td>yes        </td><td>unknown    </td><td> 3         </td><td>jun        </td><td>199        </td><td>4          </td><td> -1        </td><td>0          </td><td>unknown    </td><td>no         </td></tr>\n",
       "\t<tr><td>59         </td><td>blue-collar</td><td>married    </td><td>secondary  </td><td>no         </td><td>   0       </td><td>yes        </td><td>no         </td><td>unknown    </td><td> 5         </td><td>may        </td><td>226        </td><td>1          </td><td> -1        </td><td>0          </td><td>unknown    </td><td>no         </td></tr>\n",
       "\t<tr><td>35         </td><td>management </td><td>single     </td><td>tertiary   </td><td>no         </td><td> 747       </td><td>no         </td><td>no         </td><td>cellular   </td><td>23         </td><td>feb        </td><td>141        </td><td>2          </td><td>176        </td><td>3          </td><td>failure    </td><td>no         </td></tr>\n",
       "</tbody>\n",
       "</table>\n"
      ],
      "text/latex": [
       "\\begin{tabular}{r|lllllllllllllllll}\n",
       " age & job & marital & education & default & balance & housing & loan & contact & day & month & duration & campaign & pdays & previous & poutcome & y\\\\\n",
       "\\hline\n",
       "\t 30          & unemployed  & married     & primary     & no          & 1787        & no          & no          & cellular    & 19          & oct         &  79         & 1           &  -1         & 0           & unknown     & no         \\\\\n",
       "\t 33          & services    & married     & secondary   & no          & 4789        & yes         & yes         & cellular    & 11          & may         & 220         & 1           & 339         & 4           & failure     & no         \\\\\n",
       "\t 35          & management  & single      & tertiary    & no          & 1350        & yes         & no          & cellular    & 16          & apr         & 185         & 1           & 330         & 1           & failure     & no         \\\\\n",
       "\t 30          & management  & married     & tertiary    & no          & 1476        & yes         & yes         & unknown     &  3          & jun         & 199         & 4           &  -1         & 0           & unknown     & no         \\\\\n",
       "\t 59          & blue-collar & married     & secondary   & no          &    0        & yes         & no          & unknown     &  5          & may         & 226         & 1           &  -1         & 0           & unknown     & no         \\\\\n",
       "\t 35          & management  & single      & tertiary    & no          &  747        & no          & no          & cellular    & 23          & feb         & 141         & 2           & 176         & 3           & failure     & no         \\\\\n",
       "\\end{tabular}\n"
      ],
      "text/markdown": [
       "\n",
       "| age | job | marital | education | default | balance | housing | loan | contact | day | month | duration | campaign | pdays | previous | poutcome | y |\n",
       "|---|---|---|---|---|---|---|---|---|---|---|---|---|---|---|---|---|\n",
       "| 30          | unemployed  | married     | primary     | no          | 1787        | no          | no          | cellular    | 19          | oct         |  79         | 1           |  -1         | 0           | unknown     | no          |\n",
       "| 33          | services    | married     | secondary   | no          | 4789        | yes         | yes         | cellular    | 11          | may         | 220         | 1           | 339         | 4           | failure     | no          |\n",
       "| 35          | management  | single      | tertiary    | no          | 1350        | yes         | no          | cellular    | 16          | apr         | 185         | 1           | 330         | 1           | failure     | no          |\n",
       "| 30          | management  | married     | tertiary    | no          | 1476        | yes         | yes         | unknown     |  3          | jun         | 199         | 4           |  -1         | 0           | unknown     | no          |\n",
       "| 59          | blue-collar | married     | secondary   | no          |    0        | yes         | no          | unknown     |  5          | may         | 226         | 1           |  -1         | 0           | unknown     | no          |\n",
       "| 35          | management  | single      | tertiary    | no          |  747        | no          | no          | cellular    | 23          | feb         | 141         | 2           | 176         | 3           | failure     | no          |\n",
       "\n"
      ],
      "text/plain": [
       "  age job         marital education default balance housing loan contact  day\n",
       "1 30  unemployed  married primary   no      1787    no      no   cellular 19 \n",
       "2 33  services    married secondary no      4789    yes     yes  cellular 11 \n",
       "3 35  management  single  tertiary  no      1350    yes     no   cellular 16 \n",
       "4 30  management  married tertiary  no      1476    yes     yes  unknown   3 \n",
       "5 59  blue-collar married secondary no         0    yes     no   unknown   5 \n",
       "6 35  management  single  tertiary  no       747    no      no   cellular 23 \n",
       "  month duration campaign pdays previous poutcome y \n",
       "1 oct    79      1         -1   0        unknown  no\n",
       "2 may   220      1        339   4        failure  no\n",
       "3 apr   185      1        330   1        failure  no\n",
       "4 jun   199      4         -1   0        unknown  no\n",
       "5 may   226      1         -1   0        unknown  no\n",
       "6 feb   141      2        176   3        failure  no"
      ]
     },
     "metadata": {},
     "output_type": "display_data"
    }
   ],
   "source": [
    "head(df)"
   ]
  },
  {
   "cell_type": "markdown",
   "metadata": {},
   "source": [
    "# EDA"
   ]
  },
  {
   "cell_type": "code",
   "execution_count": 8,
   "metadata": {},
   "outputs": [
    {
     "name": "stderr",
     "output_type": "stream",
     "text": [
      "Installing package into 'C:/Users/abine/OneDrive/Documents/R/win-library/3.6'\n",
      "(as 'lib' is unspecified)\n"
     ]
    },
    {
     "name": "stdout",
     "output_type": "stream",
     "text": [
      "package 'Amelia' successfully unpacked and MD5 sums checked\n",
      "\n",
      "The downloaded binary packages are in\n",
      "\tC:\\Users\\abine\\AppData\\Local\\Temp\\Rtmpc7K70U\\downloaded_packages\n"
     ]
    }
   ],
   "source": [
    "install.packages('Amelia')"
   ]
  },
  {
   "cell_type": "code",
   "execution_count": 41,
   "metadata": {},
   "outputs": [
    {
     "data": {
      "image/png": "[encoded data removed]",
      "text/plain": [
       "Plot with title \"Titanic Training Data - Missings Map\""
      ]
     },
     "metadata": {},
     "output_type": "display_data"
    }
   ],
   "source": [
    "library('Amelia')\n",
    "missmap(df,main=\"Titanic Training Data - Missings Map\",col=c(\"yellow\",\"black\"),legend=TRUE)"
   ]
  },
  {
   "cell_type": "markdown",
   "metadata": {},
   "source": [
    "Checking Missing values and found out that Age has lot of missing values"
   ]
  },
  {
   "cell_type": "markdown",
   "metadata": {},
   "source": [
    "# Data Visualization with ggplot2"
   ]
  },
  {
   "cell_type": "code",
   "execution_count": 4,
   "metadata": {},
   "outputs": [
    {
     "name": "stderr",
     "output_type": "stream",
     "text": [
      "Warning message:\n",
      "\"package 'ggplot2' was built under R version 3.6.2\""
     ]
    },
    {
     "data": {
      "image/png": "[encoded data removed]",
      "text/plain": [
       "plot without title"
      ]
     },
     "metadata": {},
     "output_type": "display_data"
    }
   ],
   "source": [
    "library(ggplot2)\n",
    "ggplot(df,aes(Survived))+geom_bar()"
   ]
  },
  {
   "cell_type": "code",
   "execution_count": null,
   "metadata": {},
   "outputs": [],
   "source": [
    "majority of travelers died"
   ]
  },
  {
   "cell_type": "code",
   "execution_count": 22,
   "metadata": {},
   "outputs": [
    {
     "data": {
      "image/png": "[encoded data removed]",
      "text/plain": [
       "plot without title"
      ]
     },
     "metadata": {},
     "output_type": "display_data"
    }
   ],
   "source": [
    "ggplot(df.train,aes(Pclass))+geom_bar(aes(fill=factor(Pclass)),alpha=0.5)"
   ]
  },
  {
   "cell_type": "markdown",
   "metadata": {},
   "source": [
    "3rd class had more travellers"
   ]
  },
  {
   "cell_type": "code",
   "execution_count": 28,
   "metadata": {},
   "outputs": [
    {
     "data": {
      "image/png": "[encoded data removed]",
      "text/plain": [
       "plot without title"
      ]
     },
     "metadata": {},
     "output_type": "display_data"
    }
   ],
   "source": [
    "ggplot(df,aes(Sex))+geom_bar(aes(fill=factor(Sex)),alpha=0.9)"
   ]
  },
  {
   "cell_type": "markdown",
   "metadata": {},
   "source": [
    "There where more male passengers"
   ]
  },
  {
   "cell_type": "code",
   "execution_count": 5,
   "metadata": {},
   "outputs": [
    {
     "name": "stderr",
     "output_type": "stream",
     "text": [
      "Warning message:\n",
      "\"Removed 177 rows containing non-finite values (stat_bin).\""
     ]
    },
    {
     "data": {
      "image/png": "[encoded data removed]",
      "text/plain": [
       "plot without title"
      ]
     },
     "metadata": {},
     "output_type": "display_data"
    }
   ],
   "source": [
    "ggplot(df,aes(Age))+geom_histogram(fill='blue',bins=20,alpha=0.4)"
   ]
  },
  {
   "cell_type": "markdown",
   "metadata": {},
   "source": [
    "Youngsters are the majority in passengers"
   ]
  },
  {
   "cell_type": "markdown",
   "metadata": {},
   "source": [
    "# Cleaning"
   ]
  },
  {
   "cell_type": "code",
   "execution_count": 11,
   "metadata": {},
   "outputs": [
    {
     "name": "stderr",
     "output_type": "stream",
     "text": [
      "Warning message:\n",
      "\"Removed 177 rows containing non-finite values (stat_boxplot).\""
     ]
    },
    {
     "data": {
      "image/png": "[encoded data removed]",
      "text/plain": [
       "plot without title"
      ]
     },
     "metadata": {},
     "output_type": "display_data"
    }
   ],
   "source": [
    "pl=ggplot(df,aes(Pclass,Age))+geom_boxplot(aes(group=Pclass,fill=factor(Pclass),alpha=0.4))\n",
    "pl+scale_y_continuous(breaks=seq(min(0),max(80),by=2))"
   ]
  },
  {
   "cell_type": "markdown",
   "metadata": {},
   "source": [
    "finding the mean of age in different classes"
   ]
  },
  {
   "cell_type": "code",
   "execution_count": 42,
   "metadata": {},
   "outputs": [],
   "source": [
    "impute_age=function(age,class){\n",
    "    out=age\n",
    "    for (i in 1:length(age)){\n",
    "        if (is.na(age[i])){\n",
    "            if(class[i]==1){\n",
    "                out[i]=37\n",
    "            }else if (class[i]==2){\n",
    "                out[i]=29\n",
    "            }else{\n",
    "                out[i]=24\n",
    "            }\n",
    "        }else{\n",
    "                out[i]=age[i]\n",
    "        }\n",
    "    }\n",
    "    return(out)\n",
    "}"
   ]
  },
  {
   "cell_type": "code",
   "execution_count": 43,
   "metadata": {},
   "outputs": [],
   "source": [
    "fixed.ages=impute_age(df$Age,df$Pclass)"
   ]
  },
  {
   "cell_type": "markdown",
   "metadata": {},
   "source": [
    "Replacing missing values with the (mean of age) of their respective Passenger Class"
   ]
  },
  {
   "cell_type": "code",
   "execution_count": 44,
   "metadata": {},
   "outputs": [
    {
     "data": {
      "image/png": "[encoded data removed]",
      "text/plain": [
       "Plot with title \"Titanic Training Data - Missings Map\""
      ]
     },
     "metadata": {},
     "output_type": "display_data"
    }
   ],
   "source": [
    "df$Age=fixed.ages\n",
    "missmap(df,main=\"Titanic Training Data - Missings Map\",col=c(\"yellow\",\"black\"),legend=TRUE)"
   ]
  },
  {
   "cell_type": "markdown",
   "metadata": {},
   "source": [
    "To confirm whether the missing values are filled"
   ]
  },
  {
   "cell_type": "markdown",
   "metadata": {},
   "source": [
    "# Building a Logistic Regression Model"
   ]
  },
  {
   "cell_type": "code",
   "execution_count": 45,
   "metadata": {},
   "outputs": [
    {
     "name": "stdout",
     "output_type": "stream",
     "text": [
      "'data.frame':\t891 obs. of  12 variables:\n",
      " $ PassengerId: int  1 2 3 4 5 6 7 8 9 10 ...\n",
      " $ Survived   : int  0 1 1 1 0 0 0 0 1 1 ...\n",
      " $ Pclass     : int  3 1 3 1 3 3 1 3 3 2 ...\n",
      " $ Name       : Factor w/ 891 levels \"Abbing, Mr. Anthony\",..: 109 191 358 277 16 559 520 629 417 581 ...\n",
      " $ Sex        : Factor w/ 2 levels \"female\",\"male\": 2 1 1 1 2 2 2 2 1 1 ...\n",
      " $ Age        : num  22 38 26 35 35 24 54 2 27 14 ...\n",
      " $ SibSp      : int  1 1 0 1 0 0 0 3 0 1 ...\n",
      " $ Parch      : int  0 0 0 0 0 0 0 1 2 0 ...\n",
      " $ Ticket     : Factor w/ 681 levels \"110152\",\"110413\",..: 524 597 670 50 473 276 86 396 345 133 ...\n",
      " $ Fare       : num  7.25 71.28 7.92 53.1 8.05 ...\n",
      " $ Cabin      : Factor w/ 148 levels \"\",\"A10\",\"A14\",..: 1 83 1 57 1 1 131 1 1 1 ...\n",
      " $ Embarked   : Factor w/ 4 levels \"\",\"C\",\"Q\",\"S\": 4 2 4 4 4 3 4 4 4 2 ...\n"
     ]
    }
   ],
   "source": [
    "str(df)"
   ]
  },
  {
   "cell_type": "code",
   "execution_count": 46,
   "metadata": {},
   "outputs": [],
   "source": [
    "library(dplyr)\n",
    "df=select(df,-PassengerId,-Name,-Ticket,-Cabin)"
   ]
  },
  {
   "cell_type": "markdown",
   "metadata": {},
   "source": [
    "Removing PassengeId,Name,Ticket,Cabin because they are Identity Variables"
   ]
  },
  {
   "cell_type": "code",
   "execution_count": 49,
   "metadata": {},
   "outputs": [
    {
     "data": {
      "text/html": [
       "<table>\n",
       "<thead><tr><th scope=col>Survived</th><th scope=col>Pclass</th><th scope=col>Sex</th><th scope=col>Age</th><th scope=col>SibSp</th><th scope=col>Parch</th><th scope=col>Fare</th><th scope=col>Embarked</th></tr></thead>\n",
       "<tbody>\n",
       "\t<tr><td>0      </td><td>3      </td><td>male   </td><td>22     </td><td>1      </td><td>0      </td><td> 7.2500</td><td>S      </td></tr>\n",
       "\t<tr><td>1      </td><td>1      </td><td>female </td><td>38     </td><td>1      </td><td>0      </td><td>71.2833</td><td>C      </td></tr>\n",
       "\t<tr><td>1      </td><td>3      </td><td>female </td><td>26     </td><td>0      </td><td>0      </td><td> 7.9250</td><td>S      </td></tr>\n",
       "\t<tr><td>1      </td><td>1      </td><td>female </td><td>35     </td><td>1      </td><td>0      </td><td>53.1000</td><td>S      </td></tr>\n",
       "\t<tr><td>0      </td><td>3      </td><td>male   </td><td>35     </td><td>0      </td><td>0      </td><td> 8.0500</td><td>S      </td></tr>\n",
       "\t<tr><td>0      </td><td>3      </td><td>male   </td><td>24     </td><td>0      </td><td>0      </td><td> 8.4583</td><td>Q      </td></tr>\n",
       "</tbody>\n",
       "</table>\n"
      ],
      "text/latex": [
       "\\begin{tabular}{r|llllllll}\n",
       " Survived & Pclass & Sex & Age & SibSp & Parch & Fare & Embarked\\\\\n",
       "\\hline\n",
       "\t 0       & 3       & male    & 22      & 1       & 0       &  7.2500 & S      \\\\\n",
       "\t 1       & 1       & female  & 38      & 1       & 0       & 71.2833 & C      \\\\\n",
       "\t 1       & 3       & female  & 26      & 0       & 0       &  7.9250 & S      \\\\\n",
       "\t 1       & 1       & female  & 35      & 1       & 0       & 53.1000 & S      \\\\\n",
       "\t 0       & 3       & male    & 35      & 0       & 0       &  8.0500 & S      \\\\\n",
       "\t 0       & 3       & male    & 24      & 0       & 0       &  8.4583 & Q      \\\\\n",
       "\\end{tabular}\n"
      ],
      "text/markdown": [
       "\n",
       "| Survived | Pclass | Sex | Age | SibSp | Parch | Fare | Embarked |\n",
       "|---|---|---|---|---|---|---|---|\n",
       "| 0       | 3       | male    | 22      | 1       | 0       |  7.2500 | S       |\n",
       "| 1       | 1       | female  | 38      | 1       | 0       | 71.2833 | C       |\n",
       "| 1       | 3       | female  | 26      | 0       | 0       |  7.9250 | S       |\n",
       "| 1       | 1       | female  | 35      | 1       | 0       | 53.1000 | S       |\n",
       "| 0       | 3       | male    | 35      | 0       | 0       |  8.0500 | S       |\n",
       "| 0       | 3       | male    | 24      | 0       | 0       |  8.4583 | Q       |\n",
       "\n"
      ],
      "text/plain": [
       "  Survived Pclass Sex    Age SibSp Parch Fare    Embarked\n",
       "1 0        3      male   22  1     0      7.2500 S       \n",
       "2 1        1      female 38  1     0     71.2833 C       \n",
       "3 1        3      female 26  0     0      7.9250 S       \n",
       "4 1        1      female 35  1     0     53.1000 S       \n",
       "5 0        3      male   35  0     0      8.0500 S       \n",
       "6 0        3      male   24  0     0      8.4583 Q       "
      ]
     },
     "metadata": {},
     "output_type": "display_data"
    }
   ],
   "source": [
    "head(df)"
   ]
  },
  {
   "cell_type": "code",
   "execution_count": 51,
   "metadata": {},
   "outputs": [
    {
     "name": "stdout",
     "output_type": "stream",
     "text": [
      "'data.frame':\t891 obs. of  8 variables:\n",
      " $ Survived: int  0 1 1 1 0 0 0 0 1 1 ...\n",
      " $ Pclass  : int  3 1 3 1 3 3 1 3 3 2 ...\n",
      " $ Sex     : Factor w/ 2 levels \"female\",\"male\": 2 1 1 1 2 2 2 2 1 1 ...\n",
      " $ Age     : num  22 38 26 35 35 24 54 2 27 14 ...\n",
      " $ SibSp   : int  1 1 0 1 0 0 0 3 0 1 ...\n",
      " $ Parch   : int  0 0 0 0 0 0 0 1 2 0 ...\n",
      " $ Fare    : num  7.25 71.28 7.92 53.1 8.05 ...\n",
      " $ Embarked: Factor w/ 4 levels \"\",\"C\",\"Q\",\"S\": 4 2 4 4 4 3 4 4 4 2 ...\n"
     ]
    }
   ],
   "source": [
    "str(df)"
   ]
  },
  {
   "cell_type": "code",
   "execution_count": 53,
   "metadata": {},
   "outputs": [],
   "source": [
    "df$Survived=factor(df$Survived)\n",
    "df$Pclass=factor(df$Pclass)\n",
    "df$Parch=factor(df$Parch)\n",
    "df$SibSp=factor(df$SibSp)"
   ]
  },
  {
   "cell_type": "markdown",
   "metadata": {},
   "source": [
    "Changing Survived,Pclass,Parch,SibSp to factors because it has only few levels.\n",
    "This will help in Better Classification."
   ]
  },
  {
   "cell_type": "code",
   "execution_count": 55,
   "metadata": {},
   "outputs": [
    {
     "name": "stdout",
     "output_type": "stream",
     "text": [
      "'data.frame':\t891 obs. of  8 variables:\n",
      " $ Survived: Factor w/ 2 levels \"0\",\"1\": 1 2 2 2 1 1 1 1 2 2 ...\n",
      " $ Pclass  : Factor w/ 3 levels \"1\",\"2\",\"3\": 3 1 3 1 3 3 1 3 3 2 ...\n",
      " $ Sex     : Factor w/ 2 levels \"female\",\"male\": 2 1 1 1 2 2 2 2 1 1 ...\n",
      " $ Age     : num  22 38 26 35 35 24 54 2 27 14 ...\n",
      " $ SibSp   : Factor w/ 7 levels \"0\",\"1\",\"2\",\"3\",..: 2 2 1 2 1 1 1 4 1 2 ...\n",
      " $ Parch   : Factor w/ 7 levels \"0\",\"1\",\"2\",\"3\",..: 1 1 1 1 1 1 1 2 3 1 ...\n",
      " $ Fare    : num  7.25 71.28 7.92 53.1 8.05 ...\n",
      " $ Embarked: Factor w/ 4 levels \"\",\"C\",\"Q\",\"S\": 4 2 4 4 4 3 4 4 4 2 ...\n"
     ]
    }
   ],
   "source": [
    "str(df)"
   ]
  },
  {
   "cell_type": "markdown",
   "metadata": {},
   "source": [
    "# Train the Model"
   ]
  },
  {
   "cell_type": "code",
   "execution_count": 58,
   "metadata": {},
   "outputs": [],
   "source": [
    "library(caTools)\n",
    "set.seed(101)\n",
    "\n",
    "split=sample.split(df$Survived, SplitRatio=0.70)\n",
    "\n",
    "final.train=subset(df,split==TRUE)\n",
    "final.test=subset(df,split==FALSE)"
   ]
  },
  {
   "cell_type": "code",
   "execution_count": 61,
   "metadata": {},
   "outputs": [
    {
     "data": {
      "text/plain": [
       "\n",
       "Call:\n",
       "glm(formula = Survived ~ ., family = binomial(link = \"logit\"), \n",
       "    data = final.train)\n",
       "\n",
       "Deviance Residuals: \n",
       "    Min       1Q   Median       3Q      Max  \n",
       "-2.8288  -0.5607  -0.4096   0.6174   2.4898  \n",
       "\n",
       "Coefficients:\n",
       "              Estimate Std. Error z value Pr(>|z|)    \n",
       "(Intercept)  1.777e+01  2.400e+03   0.007 0.994091    \n",
       "Pclass2     -1.230e+00  3.814e-01  -3.225 0.001261 ** \n",
       "Pclass3     -2.160e+00  3.841e-01  -5.624 1.87e-08 ***\n",
       "Sexmale     -2.660e+00  2.467e-01 -10.782  < 2e-16 ***\n",
       "Age         -3.831e-02  1.034e-02  -3.705 0.000212 ***\n",
       "SibSp1      -2.114e-02  2.755e-01  -0.077 0.938836    \n",
       "SibSp2      -4.000e-01  6.463e-01  -0.619 0.536028    \n",
       "SibSp3      -2.324e+00  8.994e-01  -2.584 0.009765 ** \n",
       "SibSp4      -1.196e+00  8.302e-01  -1.440 0.149839    \n",
       "SibSp5      -1.603e+01  9.592e+02  -0.017 0.986666    \n",
       "SibSp8      -1.633e+01  1.004e+03  -0.016 0.987019    \n",
       "Parch1       7.290e-01  3.545e-01   2.056 0.039771 *  \n",
       "Parch2       1.406e-01  4.504e-01   0.312 0.754892    \n",
       "Parch3       7.919e-01  1.229e+00   0.645 0.519226    \n",
       "Parch4      -1.498e+01  1.552e+03  -0.010 0.992300    \n",
       "Parch5      -9.772e-03  1.378e+00  -0.007 0.994343    \n",
       "Parch6      -1.635e+01  2.400e+03  -0.007 0.994563    \n",
       "Fare         3.128e-03  3.091e-03   1.012 0.311605    \n",
       "EmbarkedC   -1.398e+01  2.400e+03  -0.006 0.995353    \n",
       "EmbarkedQ   -1.387e+01  2.400e+03  -0.006 0.995386    \n",
       "EmbarkedS   -1.431e+01  2.400e+03  -0.006 0.995243    \n",
       "---\n",
       "Signif. codes:  0 '***' 0.001 '**' 0.01 '*' 0.05 '.' 0.1 ' ' 1\n",
       "\n",
       "(Dispersion parameter for binomial family taken to be 1)\n",
       "\n",
       "    Null deviance: 829.60  on 622  degrees of freedom\n",
       "Residual deviance: 530.63  on 602  degrees of freedom\n",
       "AIC: 572.63\n",
       "\n",
       "Number of Fisher Scoring iterations: 15\n"
      ]
     },
     "metadata": {},
     "output_type": "display_data"
    }
   ],
   "source": [
    "final.log.model=glm(formula=Survived~.,family=binomial(link='logit'),data=final.train)\n",
    "summary(final.log.model)"
   ]
  },
  {
   "cell_type": "markdown",
   "metadata": {},
   "source": [
    "Training the data with logistic regression and taking its summary"
   ]
  },
  {
   "cell_type": "code",
   "execution_count": 63,
   "metadata": {},
   "outputs": [],
   "source": [
    "fitted.probabilities=predict(final.log.model,newdata=final.test,type='response')"
   ]
  },
  {
   "cell_type": "code",
   "execution_count": 65,
   "metadata": {},
   "outputs": [],
   "source": [
    "fitted.results=ifelse(fitted.probabilities > 0.5,1,0)"
   ]
  },
  {
   "cell_type": "code",
   "execution_count": 69,
   "metadata": {},
   "outputs": [
    {
     "name": "stdout",
     "output_type": "stream",
     "text": [
      "[1] \"Accuracy 0.798507462686567\"\n"
     ]
    }
   ],
   "source": [
    "misClasificError=mean(fitted.results!=final.test$Survived)\n",
    "print(paste('Accuracy',1-misClasificError))"
   ]
  },
  {
   "cell_type": "code",
   "execution_count": 75,
   "metadata": {},
   "outputs": [
    {
     "data": {
      "text/plain": [
       "   \n",
       "    FALSE TRUE\n",
       "  0   163    2\n",
       "  1    60   43"
      ]
     },
     "metadata": {},
     "output_type": "display_data"
    }
   ],
   "source": [
    "table(final.test$Survived,fitted.probabilities>0.8)"
   ]
  },
  {
   "cell_type": "markdown",
   "metadata": {},
   "source": [
    "CONFUSION MATRIX\n",
    "TN=163 | FP=2  |\n",
    "FN=60  | TP=43 |"
   ]
  },
  {
   "cell_type": "markdown",
   "metadata": {},
   "source": [
    "163-Dead predicted correctly\n",
    "2-Dead predicted Incorrectly\n",
    "60-Survived predicted Incorrectly\n",
    "43-Survived predicted correctly"
   ]
  },
  {
   "cell_type": "code",
   "execution_count": 73,
   "metadata": {},
   "outputs": [
    {
     "data": {
      "text/plain": [
       "   fitted.results\n",
       "      0   1\n",
       "  0 140  25\n",
       "  1  29  74"
      ]
     },
     "metadata": {},
     "output_type": "display_data"
    }
   ],
   "source": [
    "#SAME THING: table(final.test$Survived,fitted.results)"
   ]
  }
 ],
 "metadata": {
  "kernelspec": {
   "display_name": "R",
   "language": "R",
   "name": "ir"
  },
  "language_info": {
   "codemirror_mode": "r",
   "file_extension": ".r",
   "mimetype": "text/x-r-source",
   "name": "R",
   "pygments_lexer": "r",
   "version": "3.6.1"
  }
 },
 "nbformat": 4,
 "nbformat_minor": 2
}

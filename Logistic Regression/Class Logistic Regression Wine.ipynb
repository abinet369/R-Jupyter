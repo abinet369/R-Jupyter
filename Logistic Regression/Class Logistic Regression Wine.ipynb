{
 "cells": [
  {
   "cell_type": "code",
   "execution_count": 3,
   "metadata": {},
   "outputs": [
    {
     "name": "stderr",
     "output_type": "stream",
     "text": [
      "Installing package into 'C:/Users/abine/OneDrive/Documents/R/win-library/3.6'\n",
      "(as 'lib' is unspecified)\n"
     ]
    },
    {
     "name": "stdout",
     "output_type": "stream",
     "text": [
      "package 'rattle.data' successfully unpacked and MD5 sums checked\n",
      "\n",
      "The downloaded binary packages are in\n",
      "\tC:\\Users\\abine\\AppData\\Local\\Temp\\Rtmp8qNUoz\\downloaded_packages\n"
     ]
    }
   ],
   "source": [
    "install.packages('rattle.data')"
   ]
  },
  {
   "cell_type": "code",
   "execution_count": 6,
   "metadata": {},
   "outputs": [],
   "source": [
    "library(rattle.data)"
   ]
  },
  {
   "cell_type": "code",
   "execution_count": 10,
   "metadata": {},
   "outputs": [],
   "source": [
    "data(wine)"
   ]
  },
  {
   "cell_type": "code",
   "execution_count": 12,
   "metadata": {},
   "outputs": [
    {
     "name": "stdout",
     "output_type": "stream",
     "text": [
      "'data.frame':\t178 obs. of  14 variables:\n",
      " $ Type           : Factor w/ 3 levels \"1\",\"2\",\"3\": 1 1 1 1 1 1 1 1 1 1 ...\n",
      " $ Alcohol        : num  14.2 13.2 13.2 14.4 13.2 ...\n",
      " $ Malic          : num  1.71 1.78 2.36 1.95 2.59 1.76 1.87 2.15 1.64 1.35 ...\n",
      " $ Ash            : num  2.43 2.14 2.67 2.5 2.87 2.45 2.45 2.61 2.17 2.27 ...\n",
      " $ Alcalinity     : num  15.6 11.2 18.6 16.8 21 15.2 14.6 17.6 14 16 ...\n",
      " $ Magnesium      : int  127 100 101 113 118 112 96 121 97 98 ...\n",
      " $ Phenols        : num  2.8 2.65 2.8 3.85 2.8 3.27 2.5 2.6 2.8 2.98 ...\n",
      " $ Flavanoids     : num  3.06 2.76 3.24 3.49 2.69 3.39 2.52 2.51 2.98 3.15 ...\n",
      " $ Nonflavanoids  : num  0.28 0.26 0.3 0.24 0.39 0.34 0.3 0.31 0.29 0.22 ...\n",
      " $ Proanthocyanins: num  2.29 1.28 2.81 2.18 1.82 1.97 1.98 1.25 1.98 1.85 ...\n",
      " $ Color          : num  5.64 4.38 5.68 7.8 4.32 6.75 5.25 5.05 5.2 7.22 ...\n",
      " $ Hue            : num  1.04 1.05 1.03 0.86 1.04 1.05 1.02 1.06 1.08 1.01 ...\n",
      " $ Dilution       : num  3.92 3.4 3.17 3.45 2.93 2.85 3.58 3.58 2.85 3.55 ...\n",
      " $ Proline        : int  1065 1050 1185 1480 735 1450 1290 1295 1045 1045 ...\n"
     ]
    }
   ],
   "source": [
    "str(wine)"
   ]
  },
  {
   "cell_type": "code",
   "execution_count": 17,
   "metadata": {},
   "outputs": [],
   "source": [
    "library(dplyr)\n",
    "train=sample_frac(wine,0.7)\n",
    "sample_id=as.numeric(rownames(train))\n",
    "test=wine[-sample_id,]"
   ]
  },
  {
   "cell_type": "code",
   "execution_count": 22,
   "metadata": {},
   "outputs": [
    {
     "name": "stderr",
     "output_type": "stream",
     "text": [
      "Installing package into 'C:/Users/abine/OneDrive/Documents/R/win-library/3.6'\n",
      "(as 'lib' is unspecified)\n"
     ]
    },
    {
     "name": "stdout",
     "output_type": "stream",
     "text": [
      "package 'nnet' successfully unpacked and MD5 sums checked\n",
      "\n",
      "The downloaded binary packages are in\n",
      "\tC:\\Users\\abine\\AppData\\Local\\Temp\\Rtmp8qNUoz\\downloaded_packages\n"
     ]
    }
   ],
   "source": [
    "#for multinominal classification\n",
    "install.packages(\"nnet\")"
   ]
  },
  {
   "cell_type": "code",
   "execution_count": 25,
   "metadata": {},
   "outputs": [],
   "source": [
    "#Setting the baseline\n",
    "train$Type=relevel(train$Type,ref='3')"
   ]
  },
  {
   "cell_type": "code",
   "execution_count": 27,
   "metadata": {},
   "outputs": [
    {
     "name": "stdout",
     "output_type": "stream",
     "text": [
      "# weights:  9 (4 variable)\n",
      "initial  value 137.326536 \n",
      "iter  10 value 78.386765\n",
      "final  value 78.222027 \n",
      "converged\n"
     ]
    }
   ],
   "source": [
    "library(nnet)\n",
    "\n",
    "#training\n",
    "multinom.fit=multinom(Type~Alcohol+Color-1,data=train)"
   ]
  },
  {
   "cell_type": "code",
   "execution_count": 31,
   "metadata": {},
   "outputs": [
    {
     "data": {
      "text/plain": [
       "Call:\n",
       "multinom(formula = Type ~ Alcohol + Color - 1, data = train)\n",
       "\n",
       "Coefficients:\n",
       "    Alcohol      Color\n",
       "1 0.2952730 -0.6005194\n",
       "2 0.9393259 -2.6248857\n",
       "\n",
       "Std. Errors:\n",
       "     Alcohol     Color\n",
       "1 0.07793558 0.1625489\n",
       "2 0.14278896 0.4191728\n",
       "\n",
       "Residual Deviance: 156.4441 \n",
       "AIC: 164.4441 "
      ]
     },
     "metadata": {},
     "output_type": "display_data"
    }
   ],
   "source": [
    "#checking the model\n",
    "summary(multinom.fit)"
   ]
  },
  {
   "cell_type": "markdown",
   "metadata": {},
   "source": [
    "\"https://datasciencebeginners.com/2018/12/20/multinomial-logistic-regression-using-r/\""
   ]
  },
  {
   "cell_type": "code",
   "execution_count": 34,
   "metadata": {},
   "outputs": [
    {
     "data": {
      "text/html": [
       "<table>\n",
       "<thead><tr><th scope=col>3</th><th scope=col>1</th><th scope=col>2</th></tr></thead>\n",
       "<tbody>\n",
       "\t<tr><td>0.688488338 </td><td>0.31127867  </td><td>2.329916e-04</td></tr>\n",
       "\t<tr><td>0.009418325 </td><td>0.07286043  </td><td>9.177212e-01</td></tr>\n",
       "\t<tr><td>0.759066462 </td><td>0.24088815  </td><td>4.538962e-05</td></tr>\n",
       "\t<tr><td>0.766837192 </td><td>0.23312713  </td><td>3.567912e-05</td></tr>\n",
       "\t<tr><td>0.014782467 </td><td>0.09947969  </td><td>8.857378e-01</td></tr>\n",
       "\t<tr><td>0.845018503 </td><td>0.15497651  </td><td>4.985826e-06</td></tr>\n",
       "</tbody>\n",
       "</table>\n"
      ],
      "text/latex": [
       "\\begin{tabular}{r|lll}\n",
       " 3 & 1 & 2\\\\\n",
       "\\hline\n",
       "\t 0.688488338  & 0.31127867   & 2.329916e-04\\\\\n",
       "\t 0.009418325  & 0.07286043   & 9.177212e-01\\\\\n",
       "\t 0.759066462  & 0.24088815   & 4.538962e-05\\\\\n",
       "\t 0.766837192  & 0.23312713   & 3.567912e-05\\\\\n",
       "\t 0.014782467  & 0.09947969   & 8.857378e-01\\\\\n",
       "\t 0.845018503  & 0.15497651   & 4.985826e-06\\\\\n",
       "\\end{tabular}\n"
      ],
      "text/markdown": [
       "\n",
       "| 3 | 1 | 2 |\n",
       "|---|---|---|\n",
       "| 0.688488338  | 0.31127867   | 2.329916e-04 |\n",
       "| 0.009418325  | 0.07286043   | 9.177212e-01 |\n",
       "| 0.759066462  | 0.24088815   | 4.538962e-05 |\n",
       "| 0.766837192  | 0.23312713   | 3.567912e-05 |\n",
       "| 0.014782467  | 0.09947969   | 8.857378e-01 |\n",
       "| 0.845018503  | 0.15497651   | 4.985826e-06 |\n",
       "\n"
      ],
      "text/plain": [
       "  3           1          2           \n",
       "1 0.688488338 0.31127867 2.329916e-04\n",
       "2 0.009418325 0.07286043 9.177212e-01\n",
       "3 0.759066462 0.24088815 4.538962e-05\n",
       "4 0.766837192 0.23312713 3.567912e-05\n",
       "5 0.014782467 0.09947969 8.857378e-01\n",
       "6 0.845018503 0.15497651 4.985826e-06"
      ]
     },
     "metadata": {},
     "output_type": "display_data"
    }
   ],
   "source": [
    "head(probability.table<-fitted(multinom.fit))"
   ]
  },
  {
   "cell_type": "markdown",
   "metadata": {},
   "source": [
    "## PREDICTING"
   ]
  },
  {
   "cell_type": "code",
   "execution_count": 46,
   "metadata": {},
   "outputs": [
    {
     "data": {
      "text/plain": [
       "   \n",
       "     3  1  2\n",
       "  3 21 14  2\n",
       "  1  8 28  5\n",
       "  2  1  6 40"
      ]
     },
     "metadata": {},
     "output_type": "display_data"
    }
   ],
   "source": [
    "train$precticed<-predict(multinom.fit,newdata=train,\"class\")\n",
    "\n",
    "ctable<-table(train$Type,train$precticed)\n",
    "ctable"
   ]
  },
  {
   "cell_type": "code",
   "execution_count": 48,
   "metadata": {},
   "outputs": [
    {
     "data": {
      "text/html": [
       "71.2"
      ],
      "text/latex": [
       "71.2"
      ],
      "text/markdown": [
       "71.2"
      ],
      "text/plain": [
       "[1] 71.2"
      ]
     },
     "metadata": {},
     "output_type": "display_data"
    }
   ],
   "source": [
    "round((sum(diag(ctable))/sum(ctable))*100,2)"
   ]
  },
  {
   "cell_type": "code",
   "execution_count": 54,
   "metadata": {},
   "outputs": [
    {
     "data": {
      "text/plain": [
       "   \n",
       "     3  1  2\n",
       "  1  0  0  0\n",
       "  2  0  0  5\n",
       "  3 28 18  2"
      ]
     },
     "metadata": {},
     "output_type": "display_data"
    }
   ],
   "source": [
    "test$precticed<-predict(multinom.fit,newdata=test,\"class\")\n",
    "\n",
    "ctable<-table(test$Type,test$precticed)\n",
    "ctable"
   ]
  },
  {
   "cell_type": "code",
   "execution_count": 55,
   "metadata": {},
   "outputs": [
    {
     "data": {
      "text/html": [
       "3.77"
      ],
      "text/latex": [
       "3.77"
      ],
      "text/markdown": [
       "3.77"
      ],
      "text/plain": [
       "[1] 3.77"
      ]
     },
     "metadata": {},
     "output_type": "display_data"
    }
   ],
   "source": [
    "round((sum(diag(ctable))/sum(ctable))*100,2)"
   ]
  }
 ],
 "metadata": {
  "kernelspec": {
   "display_name": "R",
   "language": "R",
   "name": "ir"
  },
  "language_info": {
   "codemirror_mode": "r",
   "file_extension": ".r",
   "mimetype": "text/x-r-source",
   "name": "R",
   "pygments_lexer": "r",
   "version": "3.6.1"
  }
 },
 "nbformat": 4,
 "nbformat_minor": 2
}

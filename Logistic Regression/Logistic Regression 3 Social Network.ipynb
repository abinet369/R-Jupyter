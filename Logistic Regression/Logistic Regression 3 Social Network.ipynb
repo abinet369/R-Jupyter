{
 "cells": [
  {
   "cell_type": "code",
   "execution_count": 19,
   "metadata": {},
   "outputs": [],
   "source": [
    "df=read.csv('C:\\\\Users\\\\abine\\\\OneDrive\\\\Documents\\\\Datasets\\\\social\\\\sn_ads.csv')"
   ]
  },
  {
   "cell_type": "code",
   "execution_count": 6,
   "metadata": {},
   "outputs": [
    {
     "data": {
      "text/html": [
       "<table>\n",
       "<thead><tr><th scope=col>User.ID</th><th scope=col>Gender</th><th scope=col>Age</th><th scope=col>EstimatedSalary</th><th scope=col>Purchased</th></tr></thead>\n",
       "<tbody>\n",
       "\t<tr><td>15624510</td><td>Male    </td><td>19      </td><td>19000   </td><td>0       </td></tr>\n",
       "\t<tr><td>15810944</td><td>Male    </td><td>35      </td><td>20000   </td><td>0       </td></tr>\n",
       "\t<tr><td>15668575</td><td>Female  </td><td>26      </td><td>43000   </td><td>0       </td></tr>\n",
       "\t<tr><td>15603246</td><td>Female  </td><td>27      </td><td>57000   </td><td>0       </td></tr>\n",
       "\t<tr><td>15804002</td><td>Male    </td><td>19      </td><td>76000   </td><td>0       </td></tr>\n",
       "\t<tr><td>15728773</td><td>Male    </td><td>27      </td><td>58000   </td><td>0       </td></tr>\n",
       "</tbody>\n",
       "</table>\n"
      ],
      "text/latex": [
       "\\begin{tabular}{r|lllll}\n",
       " User.ID & Gender & Age & EstimatedSalary & Purchased\\\\\n",
       "\\hline\n",
       "\t 15624510 & Male     & 19       & 19000    & 0       \\\\\n",
       "\t 15810944 & Male     & 35       & 20000    & 0       \\\\\n",
       "\t 15668575 & Female   & 26       & 43000    & 0       \\\\\n",
       "\t 15603246 & Female   & 27       & 57000    & 0       \\\\\n",
       "\t 15804002 & Male     & 19       & 76000    & 0       \\\\\n",
       "\t 15728773 & Male     & 27       & 58000    & 0       \\\\\n",
       "\\end{tabular}\n"
      ],
      "text/markdown": [
       "\n",
       "| User.ID | Gender | Age | EstimatedSalary | Purchased |\n",
       "|---|---|---|---|---|\n",
       "| 15624510 | Male     | 19       | 19000    | 0        |\n",
       "| 15810944 | Male     | 35       | 20000    | 0        |\n",
       "| 15668575 | Female   | 26       | 43000    | 0        |\n",
       "| 15603246 | Female   | 27       | 57000    | 0        |\n",
       "| 15804002 | Male     | 19       | 76000    | 0        |\n",
       "| 15728773 | Male     | 27       | 58000    | 0        |\n",
       "\n"
      ],
      "text/plain": [
       "  User.ID  Gender Age EstimatedSalary Purchased\n",
       "1 15624510 Male   19  19000           0        \n",
       "2 15810944 Male   35  20000           0        \n",
       "3 15668575 Female 26  43000           0        \n",
       "4 15603246 Female 27  57000           0        \n",
       "5 15804002 Male   19  76000           0        \n",
       "6 15728773 Male   27  58000           0        "
      ]
     },
     "metadata": {},
     "output_type": "display_data"
    }
   ],
   "source": [
    "head(df)"
   ]
  },
  {
   "cell_type": "code",
   "execution_count": 8,
   "metadata": {},
   "outputs": [
    {
     "data": {
      "text/plain": [
       "    User.ID            Gender         Age        EstimatedSalary \n",
       " Min.   :15566689   Female:204   Min.   :18.00   Min.   : 15000  \n",
       " 1st Qu.:15626764   Male  :196   1st Qu.:29.75   1st Qu.: 43000  \n",
       " Median :15694342                Median :37.00   Median : 70000  \n",
       " Mean   :15691540                Mean   :37.66   Mean   : 69743  \n",
       " 3rd Qu.:15750363                3rd Qu.:46.00   3rd Qu.: 88000  \n",
       " Max.   :15815236                Max.   :60.00   Max.   :150000  \n",
       "   Purchased     \n",
       " Min.   :0.0000  \n",
       " 1st Qu.:0.0000  \n",
       " Median :0.0000  \n",
       " Mean   :0.3575  \n",
       " 3rd Qu.:1.0000  \n",
       " Max.   :1.0000  "
      ]
     },
     "metadata": {},
     "output_type": "display_data"
    }
   ],
   "source": [
    "summary(df)"
   ]
  },
  {
   "cell_type": "markdown",
   "metadata": {},
   "source": [
    "This dataset contains details of users in Social Media.\n",
    "Our objective is to distingush between people who will purchase from the Advertisement"
   ]
  },
  {
   "cell_type": "markdown",
   "metadata": {},
   "source": [
    "# EDA"
   ]
  },
  {
   "cell_type": "code",
   "execution_count": 9,
   "metadata": {},
   "outputs": [
    {
     "name": "stderr",
     "output_type": "stream",
     "text": [
      "Installing package into 'C:/Users/abine/OneDrive/Documents/R/win-library/3.6'\n",
      "(as 'lib' is unspecified)\n"
     ]
    },
    {
     "name": "stdout",
     "output_type": "stream",
     "text": [
      "package 'Amelia' successfully unpacked and MD5 sums checked\n",
      "\n",
      "The downloaded binary packages are in\n",
      "\tC:\\Users\\abine\\AppData\\Local\\Temp\\RtmpYTgwFD\\downloaded_packages\n"
     ]
    }
   ],
   "source": [
    "install.packages('Amelia')"
   ]
  },
  {
   "cell_type": "code",
   "execution_count": 11,
   "metadata": {},
   "outputs": [
    {
     "data": {
      "image/png": "[encoded data removed]",
      "text/plain": [
       "Plot with title \"Social Network Advertisement - Missings Map\""
      ]
     },
     "metadata": {},
     "output_type": "display_data"
    }
   ],
   "source": [
    "library('Amelia')\n",
    "missmap(df,main=\"Social Network Advertisement - Missings Map\",col=c(\"yellow\",\"black\"),legend=TRUE)"
   ]
  },
  {
   "cell_type": "markdown",
   "metadata": {},
   "source": [
    "There is no missing Values in the dataset"
   ]
  },
  {
   "cell_type": "markdown",
   "metadata": {},
   "source": [
    "## Data Visualization with ggplot2"
   ]
  },
  {
   "cell_type": "code",
   "execution_count": 13,
   "metadata": {},
   "outputs": [
    {
     "data": {
      "image/png": "[encoded data removed]",
      "text/plain": [
       "plot without title"
      ]
     },
     "metadata": {},
     "output_type": "display_data"
    }
   ],
   "source": [
    "library(ggplot2)\n",
    "ggplot(df,aes(Purchased))+geom_bar()"
   ]
  },
  {
   "cell_type": "markdown",
   "metadata": {},
   "source": [
    "# Building a Logistic Regression Model"
   ]
  },
  {
   "cell_type": "code",
   "execution_count": 15,
   "metadata": {},
   "outputs": [
    {
     "name": "stdout",
     "output_type": "stream",
     "text": [
      "'data.frame':\t400 obs. of  5 variables:\n",
      " $ User.ID        : int  15624510 15810944 15668575 15603246 15804002 15728773 15598044 15694829 15600575 15727311 ...\n",
      " $ Gender         : Factor w/ 2 levels \"Female\",\"Male\": 2 2 1 1 2 2 1 1 2 1 ...\n",
      " $ Age            : int  19 35 26 27 19 27 27 32 25 35 ...\n",
      " $ EstimatedSalary: int  19000 20000 43000 57000 76000 58000 84000 150000 33000 65000 ...\n",
      " $ Purchased      : int  0 0 0 0 0 0 0 1 0 0 ...\n"
     ]
    }
   ],
   "source": [
    "str(df)"
   ]
  },
  {
   "cell_type": "code",
   "execution_count": 20,
   "metadata": {},
   "outputs": [],
   "source": [
    "library(dplyr)\n",
    "df=select(df,-User.ID)"
   ]
  },
  {
   "cell_type": "markdown",
   "metadata": {},
   "source": [
    "Removed the identity variables"
   ]
  },
  {
   "cell_type": "code",
   "execution_count": 22,
   "metadata": {},
   "outputs": [
    {
     "name": "stdout",
     "output_type": "stream",
     "text": [
      "'data.frame':\t400 obs. of  4 variables:\n",
      " $ Gender         : Factor w/ 2 levels \"Female\",\"Male\": 2 2 1 1 2 2 1 1 2 1 ...\n",
      " $ Age            : int  19 35 26 27 19 27 27 32 25 35 ...\n",
      " $ EstimatedSalary: int  19000 20000 43000 57000 76000 58000 84000 150000 33000 65000 ...\n",
      " $ Purchased      : int  0 0 0 0 0 0 0 1 0 0 ...\n"
     ]
    }
   ],
   "source": [
    "str(df)"
   ]
  },
  {
   "cell_type": "code",
   "execution_count": 24,
   "metadata": {},
   "outputs": [
    {
     "data": {
      "text/html": [
       "<table>\n",
       "<thead><tr><th scope=col>Gender</th><th scope=col>Age</th><th scope=col>EstimatedSalary</th><th scope=col>Purchased</th></tr></thead>\n",
       "<tbody>\n",
       "\t<tr><td>Male  </td><td>19    </td><td>19000 </td><td>0     </td></tr>\n",
       "\t<tr><td>Male  </td><td>35    </td><td>20000 </td><td>0     </td></tr>\n",
       "\t<tr><td>Female</td><td>26    </td><td>43000 </td><td>0     </td></tr>\n",
       "\t<tr><td>Female</td><td>27    </td><td>57000 </td><td>0     </td></tr>\n",
       "\t<tr><td>Male  </td><td>19    </td><td>76000 </td><td>0     </td></tr>\n",
       "\t<tr><td>Male  </td><td>27    </td><td>58000 </td><td>0     </td></tr>\n",
       "</tbody>\n",
       "</table>\n"
      ],
      "text/latex": [
       "\\begin{tabular}{r|llll}\n",
       " Gender & Age & EstimatedSalary & Purchased\\\\\n",
       "\\hline\n",
       "\t Male   & 19     & 19000  & 0     \\\\\n",
       "\t Male   & 35     & 20000  & 0     \\\\\n",
       "\t Female & 26     & 43000  & 0     \\\\\n",
       "\t Female & 27     & 57000  & 0     \\\\\n",
       "\t Male   & 19     & 76000  & 0     \\\\\n",
       "\t Male   & 27     & 58000  & 0     \\\\\n",
       "\\end{tabular}\n"
      ],
      "text/markdown": [
       "\n",
       "| Gender | Age | EstimatedSalary | Purchased |\n",
       "|---|---|---|---|\n",
       "| Male   | 19     | 19000  | 0      |\n",
       "| Male   | 35     | 20000  | 0      |\n",
       "| Female | 26     | 43000  | 0      |\n",
       "| Female | 27     | 57000  | 0      |\n",
       "| Male   | 19     | 76000  | 0      |\n",
       "| Male   | 27     | 58000  | 0      |\n",
       "\n"
      ],
      "text/plain": [
       "  Gender Age EstimatedSalary Purchased\n",
       "1 Male   19  19000           0        \n",
       "2 Male   35  20000           0        \n",
       "3 Female 26  43000           0        \n",
       "4 Female 27  57000           0        \n",
       "5 Male   19  76000           0        \n",
       "6 Male   27  58000           0        "
      ]
     },
     "metadata": {},
     "output_type": "display_data"
    }
   ],
   "source": [
    "head(df)"
   ]
  },
  {
   "cell_type": "markdown",
   "metadata": {},
   "source": [
    "# Train the Model"
   ]
  },
  {
   "cell_type": "code",
   "execution_count": 26,
   "metadata": {},
   "outputs": [],
   "source": [
    "library(caTools)\n",
    "\n",
    "\n",
    "split=sample.split(df$Purchased, SplitRatio=0.70)\n",
    "\n",
    "final.train=subset(df,split==TRUE)\n",
    "final.test=subset(df,split==FALSE)"
   ]
  },
  {
   "cell_type": "code",
   "execution_count": 28,
   "metadata": {},
   "outputs": [
    {
     "data": {
      "text/plain": [
       "\n",
       "Call:\n",
       "glm(formula = Purchased ~ ., family = binomial(link = \"logit\"), \n",
       "    data = final.train)\n",
       "\n",
       "Deviance Residuals: \n",
       "    Min       1Q   Median       3Q      Max  \n",
       "-2.8839  -0.5276  -0.1433   0.4334   2.4836  \n",
       "\n",
       "Coefficients:\n",
       "                  Estimate Std. Error z value Pr(>|z|)    \n",
       "(Intercept)     -1.289e+01  1.625e+00  -7.929 2.21e-15 ***\n",
       "GenderMale       5.745e-01  3.628e-01   1.584    0.113    \n",
       "Age              2.383e-01  3.144e-02   7.581 3.43e-14 ***\n",
       "EstimatedSalary  3.557e-05  6.419e-06   5.542 3.00e-08 ***\n",
       "---\n",
       "Signif. codes:  0 '***' 0.001 '**' 0.01 '*' 0.05 '.' 0.1 ' ' 1\n",
       "\n",
       "(Dispersion parameter for binomial family taken to be 1)\n",
       "\n",
       "    Null deviance: 364.98  on 279  degrees of freedom\n",
       "Residual deviance: 197.47  on 276  degrees of freedom\n",
       "AIC: 205.47\n",
       "\n",
       "Number of Fisher Scoring iterations: 6\n"
      ]
     },
     "metadata": {},
     "output_type": "display_data"
    }
   ],
   "source": [
    "final.log.model=glm(formula=Purchased~.,family=binomial(link='logit'),data=final.train)\n",
    "summary(final.log.model)"
   ]
  },
  {
   "cell_type": "code",
   "execution_count": 30,
   "metadata": {},
   "outputs": [],
   "source": [
    "fitted.probabilities=predict(final.log.model,newdata=final.test,type='response')"
   ]
  },
  {
   "cell_type": "code",
   "execution_count": 32,
   "metadata": {},
   "outputs": [],
   "source": [
    "fitted.results=ifelse(fitted.probabilities > 0.5,1,0)"
   ]
  },
  {
   "cell_type": "code",
   "execution_count": 35,
   "metadata": {},
   "outputs": [
    {
     "name": "stdout",
     "output_type": "stream",
     "text": [
      "[1] \"Accuracy 0.858333333333333\"\n"
     ]
    }
   ],
   "source": [
    "misClasificError=mean(fitted.results!=final.test$Purchased)\n",
    "print(paste('Accuracy',1-misClasificError))"
   ]
  },
  {
   "cell_type": "markdown",
   "metadata": {},
   "source": [
    "## Confusion Matrix"
   ]
  },
  {
   "cell_type": "code",
   "execution_count": 39,
   "metadata": {},
   "outputs": [
    {
     "data": {
      "text/plain": [
       "   \n",
       "    FALSE TRUE\n",
       "  0    71    6\n",
       "  1    11   32"
      ]
     },
     "metadata": {},
     "output_type": "display_data"
    }
   ],
   "source": [
    "table(final.test$Purchased,fitted.probabilities>0.5)"
   ]
  },
  {
   "cell_type": "markdown",
   "metadata": {},
   "source": [
    "71-Did not Purchase predicted correctly\n",
    "6-Did not Purchase predicted Incorrectly\n",
    "11-Purchased predicted Incorrectly\n",
    "32-Purchased predicted correctly"
   ]
  },
  {
   "cell_type": "code",
   "execution_count": 41,
   "metadata": {},
   "outputs": [],
   "source": [
    "TN=71\n",
    "FP=6\n",
    "FN=11\n",
    "TP=32"
   ]
  },
  {
   "cell_type": "code",
   "execution_count": 43,
   "metadata": {},
   "outputs": [
    {
     "data": {
      "text/html": [
       "0.141666666666667"
      ],
      "text/latex": [
       "0.141666666666667"
      ],
      "text/markdown": [
       "0.141666666666667"
      ],
      "text/plain": [
       "[1] 0.1416667"
      ]
     },
     "metadata": {},
     "output_type": "display_data"
    }
   ],
   "source": [
    "ERR=(FP+FN)/(TN+FP+FN+TP)\n",
    "ERR"
   ]
  },
  {
   "cell_type": "markdown",
   "metadata": {},
   "source": [
    "ERR (Error Rate) is the percentage of wrong predictions of our model.\n",
    "Our model has an ERR of 0.141 stating that 1.4 % wrong predictions have been done by the model."
   ]
  },
  {
   "cell_type": "code",
   "execution_count": 45,
   "metadata": {},
   "outputs": [
    {
     "data": {
      "text/html": [
       "0.858333333333333"
      ],
      "text/latex": [
       "0.858333333333333"
      ],
      "text/markdown": [
       "0.858333333333333"
      ],
      "text/plain": [
       "[1] 0.8583333"
      ]
     },
     "metadata": {},
     "output_type": "display_data"
    }
   ],
   "source": [
    "ACC=(TP + TN)/(TN + FP + FN + TP)\n",
    "ACC"
   ]
  },
  {
   "cell_type": "markdown",
   "metadata": {},
   "source": [
    "ACC (Accuracy) is the percentage of correct predictions of our model.\n",
    "Our model has an ACC of 0.85 stating that 85 % correct predictions have been made by the\n",
    "model."
   ]
  },
  {
   "cell_type": "code",
   "execution_count": 47,
   "metadata": {},
   "outputs": [
    {
     "data": {
      "text/html": [
       "0.744186046511628"
      ],
      "text/latex": [
       "0.744186046511628"
      ],
      "text/markdown": [
       "0.744186046511628"
      ],
      "text/plain": [
       "[1] 0.744186"
      ]
     },
     "metadata": {},
     "output_type": "display_data"
    }
   ],
   "source": [
    "SN = TP/(TP + FN)\n",
    "SN"
   ]
  },
  {
   "cell_type": "markdown",
   "metadata": {},
   "source": [
    "SN (Sensitivity) is the number of correct positive predictions divided by the total number of\n",
    "positives.\n",
    "Our model has an SN of 0.74 stating that 74 % correct positive predictions were made out\n",
    "of the total positives.\n"
   ]
  },
  {
   "cell_type": "code",
   "execution_count": 50,
   "metadata": {},
   "outputs": [
    {
     "data": {
      "text/html": [
       "0.922077922077922"
      ],
      "text/latex": [
       "0.922077922077922"
      ],
      "text/markdown": [
       "0.922077922077922"
      ],
      "text/plain": [
       "[1] 0.9220779"
      ]
     },
     "metadata": {},
     "output_type": "display_data"
    }
   ],
   "source": [
    "SP = TN/(TN + FP)\n",
    "SP"
   ]
  },
  {
   "cell_type": "markdown",
   "metadata": {},
   "source": [
    "SP (Specificity) is the number of correct negative predictions divided by the total number of\n",
    "negatives.\n",
    "Our model has an SP of 0.92 stating that 92 % correct negative predictions were made out of the\n",
    "total negatives."
   ]
  },
  {
   "cell_type": "code",
   "execution_count": 53,
   "metadata": {},
   "outputs": [
    {
     "data": {
      "text/html": [
       "0.842105263157895"
      ],
      "text/latex": [
       "0.842105263157895"
      ],
      "text/markdown": [
       "0.842105263157895"
      ],
      "text/plain": [
       "[1] 0.8421053"
      ]
     },
     "metadata": {},
     "output_type": "display_data"
    }
   ],
   "source": [
    "PREC = TP/(TP + FP)\n",
    "PREC"
   ]
  },
  {
   "cell_type": "markdown",
   "metadata": {},
   "source": [
    "PREC (Precision) is the number of correct positive predictions divided by the total number of\n",
    "positive predictions.\n",
    "Our model has a PREC of 0.84 stating that 84 % of the predictions regarding the positive predicted\n",
    "values are correct.\n"
   ]
  },
  {
   "cell_type": "code",
   "execution_count": 56,
   "metadata": {},
   "outputs": [
    {
     "data": {
      "text/html": [
       "0.0779220779220779"
      ],
      "text/latex": [
       "0.0779220779220779"
      ],
      "text/markdown": [
       "0.0779220779220779"
      ],
      "text/plain": [
       "[1] 0.07792208"
      ]
     },
     "metadata": {},
     "output_type": "display_data"
    }
   ],
   "source": [
    "FPR = FP/(TN + FP)\n",
    "FPR"
   ]
  },
  {
   "cell_type": "markdown",
   "metadata": {},
   "source": [
    "FPR (False Positive Rate) is the number of incorrect positive predictions divided by the total\n",
    "number of negatives.\n",
    "Our model has a FPR of 0.0779 stating that 0.07 % of the predictions regarding the positive predicted\n",
    "values are incorrect."
   ]
  },
  {
   "cell_type": "markdown",
   "metadata": {},
   "source": [
    "## AUC-ROC Curve"
   ]
  },
  {
   "cell_type": "code",
   "execution_count": 59,
   "metadata": {},
   "outputs": [
    {
     "name": "stderr",
     "output_type": "stream",
     "text": [
      "Installing package into 'C:/Users/abine/OneDrive/Documents/R/win-library/3.6'\n",
      "(as 'lib' is unspecified)\n"
     ]
    },
    {
     "name": "stdout",
     "output_type": "stream",
     "text": [
      "package 'pROC' successfully unpacked and MD5 sums checked\n",
      "\n",
      "The downloaded binary packages are in\n",
      "\tC:\\Users\\abine\\AppData\\Local\\Temp\\RtmpYTgwFD\\downloaded_packages\n"
     ]
    }
   ],
   "source": [
    "install.packages(\"pROC\")"
   ]
  },
  {
   "cell_type": "code",
   "execution_count": 61,
   "metadata": {},
   "outputs": [],
   "source": [
    "library(\"pROC\")"
   ]
  },
  {
   "cell_type": "code",
   "execution_count": 63,
   "metadata": {},
   "outputs": [],
   "source": [
    "test_prob=predict(final.log.model,newdata=final.test,type=\"response\")"
   ]
  },
  {
   "cell_type": "code",
   "execution_count": 66,
   "metadata": {},
   "outputs": [
    {
     "name": "stderr",
     "output_type": "stream",
     "text": [
      "Setting levels: control = 0, case = 1\n",
      "Setting direction: controls < cases\n"
     ]
    },
    {
     "data": {
      "image/png": "[encoded data removed]",
      "text/plain": [
       "plot without title"
      ]
     },
     "metadata": {},
     "output_type": "display_data"
    }
   ],
   "source": [
    "test_roc=roc(final.test$Purchased~test_prob,plot=TRUE,print.auc=TRUE)"
   ]
  },
  {
   "cell_type": "markdown",
   "metadata": {},
   "source": [
    "AUC - ROC curve is a performance measurement for classification problem at various thresholds settings. ROC is a probability curve and AUC represents degree or measure of separability. It tells how much model is capable of distinguishing between classes. Higher the AUC, better the model is at predicting 0s as 0s and 1s as 1s."
   ]
  },
  {
   "cell_type": "markdown",
   "metadata": {},
   "source": [
    " By analogy, Higher the AUC, better the model is at distinguishing between persons who Purchased OR not purchased."
   ]
  }
 ],
 "metadata": {
  "kernelspec": {
   "display_name": "R",
   "language": "R",
   "name": "ir"
  },
  "language_info": {
   "codemirror_mode": "r",
   "file_extension": ".r",
   "mimetype": "text/x-r-source",
   "name": "R",
   "pygments_lexer": "r",
   "version": "3.6.1"
  }
 },
 "nbformat": 4,
 "nbformat_minor": 2
}

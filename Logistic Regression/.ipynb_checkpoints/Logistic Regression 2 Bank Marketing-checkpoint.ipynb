{
 "cells": [
  {
   "cell_type": "code",
   "execution_count": 57,
   "metadata": {},
   "outputs": [],
   "source": [
    "df=read.csv('C:\\\\Users\\\\abine\\\\OneDrive\\\\Documents\\\\Datasets\\\\bank\\\\last.csv')"
   ]
  },
  {
   "cell_type": "code",
   "execution_count": 58,
   "metadata": {},
   "outputs": [
    {
     "data": {
      "text/html": [
       "<table>\n",
       "<thead><tr><th scope=col>age</th><th scope=col>job</th><th scope=col>marital</th><th scope=col>education</th><th scope=col>default</th><th scope=col>balance</th><th scope=col>housing</th><th scope=col>loan</th><th scope=col>contact</th><th scope=col>day</th><th scope=col>month</th><th scope=col>duration</th><th scope=col>campaign</th><th scope=col>pdays</th><th scope=col>previous</th><th scope=col>poutcome</th><th scope=col>y</th></tr></thead>\n",
       "<tbody>\n",
       "\t<tr><td>30         </td><td>unemployed </td><td>married    </td><td>primary    </td><td>no         </td><td>1787       </td><td>no         </td><td>no         </td><td>cellular   </td><td>19         </td><td>oct        </td><td> 79        </td><td>1          </td><td> -1        </td><td>0          </td><td>unknown    </td><td>no         </td></tr>\n",
       "\t<tr><td>33         </td><td>services   </td><td>married    </td><td>secondary  </td><td>no         </td><td>4789       </td><td>yes        </td><td>yes        </td><td>cellular   </td><td>11         </td><td>may        </td><td>220        </td><td>1          </td><td>339        </td><td>4          </td><td>failure    </td><td>no         </td></tr>\n",
       "\t<tr><td>35         </td><td>management </td><td>single     </td><td>tertiary   </td><td>no         </td><td>1350       </td><td>yes        </td><td>no         </td><td>cellular   </td><td>16         </td><td>apr        </td><td>185        </td><td>1          </td><td>330        </td><td>1          </td><td>failure    </td><td>no         </td></tr>\n",
       "\t<tr><td>30         </td><td>management </td><td>married    </td><td>tertiary   </td><td>no         </td><td>1476       </td><td>yes        </td><td>yes        </td><td>unknown    </td><td> 3         </td><td>jun        </td><td>199        </td><td>4          </td><td> -1        </td><td>0          </td><td>unknown    </td><td>no         </td></tr>\n",
       "\t<tr><td>59         </td><td>blue-collar</td><td>married    </td><td>secondary  </td><td>no         </td><td>   0       </td><td>yes        </td><td>no         </td><td>unknown    </td><td> 5         </td><td>may        </td><td>226        </td><td>1          </td><td> -1        </td><td>0          </td><td>unknown    </td><td>no         </td></tr>\n",
       "\t<tr><td>35         </td><td>management </td><td>single     </td><td>tertiary   </td><td>no         </td><td> 747       </td><td>no         </td><td>no         </td><td>cellular   </td><td>23         </td><td>feb        </td><td>141        </td><td>2          </td><td>176        </td><td>3          </td><td>failure    </td><td>no         </td></tr>\n",
       "</tbody>\n",
       "</table>\n"
      ],
      "text/latex": [
       "\\begin{tabular}{r|lllllllllllllllll}\n",
       " age & job & marital & education & default & balance & housing & loan & contact & day & month & duration & campaign & pdays & previous & poutcome & y\\\\\n",
       "\\hline\n",
       "\t 30          & unemployed  & married     & primary     & no          & 1787        & no          & no          & cellular    & 19          & oct         &  79         & 1           &  -1         & 0           & unknown     & no         \\\\\n",
       "\t 33          & services    & married     & secondary   & no          & 4789        & yes         & yes         & cellular    & 11          & may         & 220         & 1           & 339         & 4           & failure     & no         \\\\\n",
       "\t 35          & management  & single      & tertiary    & no          & 1350        & yes         & no          & cellular    & 16          & apr         & 185         & 1           & 330         & 1           & failure     & no         \\\\\n",
       "\t 30          & management  & married     & tertiary    & no          & 1476        & yes         & yes         & unknown     &  3          & jun         & 199         & 4           &  -1         & 0           & unknown     & no         \\\\\n",
       "\t 59          & blue-collar & married     & secondary   & no          &    0        & yes         & no          & unknown     &  5          & may         & 226         & 1           &  -1         & 0           & unknown     & no         \\\\\n",
       "\t 35          & management  & single      & tertiary    & no          &  747        & no          & no          & cellular    & 23          & feb         & 141         & 2           & 176         & 3           & failure     & no         \\\\\n",
       "\\end{tabular}\n"
      ],
      "text/markdown": [
       "\n",
       "| age | job | marital | education | default | balance | housing | loan | contact | day | month | duration | campaign | pdays | previous | poutcome | y |\n",
       "|---|---|---|---|---|---|---|---|---|---|---|---|---|---|---|---|---|\n",
       "| 30          | unemployed  | married     | primary     | no          | 1787        | no          | no          | cellular    | 19          | oct         |  79         | 1           |  -1         | 0           | unknown     | no          |\n",
       "| 33          | services    | married     | secondary   | no          | 4789        | yes         | yes         | cellular    | 11          | may         | 220         | 1           | 339         | 4           | failure     | no          |\n",
       "| 35          | management  | single      | tertiary    | no          | 1350        | yes         | no          | cellular    | 16          | apr         | 185         | 1           | 330         | 1           | failure     | no          |\n",
       "| 30          | management  | married     | tertiary    | no          | 1476        | yes         | yes         | unknown     |  3          | jun         | 199         | 4           |  -1         | 0           | unknown     | no          |\n",
       "| 59          | blue-collar | married     | secondary   | no          |    0        | yes         | no          | unknown     |  5          | may         | 226         | 1           |  -1         | 0           | unknown     | no          |\n",
       "| 35          | management  | single      | tertiary    | no          |  747        | no          | no          | cellular    | 23          | feb         | 141         | 2           | 176         | 3           | failure     | no          |\n",
       "\n"
      ],
      "text/plain": [
       "  age job         marital education default balance housing loan contact  day\n",
       "1 30  unemployed  married primary   no      1787    no      no   cellular 19 \n",
       "2 33  services    married secondary no      4789    yes     yes  cellular 11 \n",
       "3 35  management  single  tertiary  no      1350    yes     no   cellular 16 \n",
       "4 30  management  married tertiary  no      1476    yes     yes  unknown   3 \n",
       "5 59  blue-collar married secondary no         0    yes     no   unknown   5 \n",
       "6 35  management  single  tertiary  no       747    no      no   cellular 23 \n",
       "  month duration campaign pdays previous poutcome y \n",
       "1 oct    79      1         -1   0        unknown  no\n",
       "2 may   220      1        339   4        failure  no\n",
       "3 apr   185      1        330   1        failure  no\n",
       "4 jun   199      4         -1   0        unknown  no\n",
       "5 may   226      1         -1   0        unknown  no\n",
       "6 feb   141      2        176   3        failure  no"
      ]
     },
     "metadata": {},
     "output_type": "display_data"
    }
   ],
   "source": [
    "head(df)"
   ]
  },
  {
   "cell_type": "code",
   "execution_count": null,
   "metadata": {},
   "outputs": [
    {
     "name": "stderr",
     "output_type": "stream",
     "text": [
      "Installing package into 'C:/Users/abine/OneDrive/Documents/R/win-library/3.6'\n",
      "(as 'lib' is unspecified)\n"
     ]
    },
    {
     "name": "stdout",
     "output_type": "stream",
     "text": [
      "package 'Amelia' successfully unpacked and MD5 sums checked\n",
      "\n",
      "The downloaded binary packages are in\n",
      "\tC:\\Users\\abine\\AppData\\Local\\Temp\\RtmpqQqiiK\\downloaded_packages\n"
     ]
    }
   ],
   "source": [
    "install.packages('Amelia')"
   ]
  },
  {
   "cell_type": "code",
   "execution_count": 43,
   "metadata": {},
   "outputs": [
    {
     "data": {
      "image/png": "[encoded data removed]",
      "text/plain": [
       "Plot with title \"Titanic Training Data - Missings Map\""
      ]
     },
     "metadata": {},
     "output_type": "display_data"
    }
   ],
   "source": [
    "library('Amelia')\n",
    "missmap(df,main=\"Titanic Training Data - Missings Map\",col=c(\"yellow\",\"black\"),legend=TRUE)"
   ]
  },
  {
   "cell_type": "markdown",
   "metadata": {},
   "source": [
    "There is no missing values in this dataset"
   ]
  },
  {
   "cell_type": "code",
   "execution_count": 59,
   "metadata": {},
   "outputs": [
    {
     "name": "stdout",
     "output_type": "stream",
     "text": [
      "'data.frame':\t622 obs. of  17 variables:\n",
      " $ age      : int  30 33 35 30 59 35 36 39 41 43 ...\n",
      " $ job      : Factor w/ 12 levels \"admin.\",\"blue-collar\",..: 11 8 5 5 2 5 7 10 3 8 ...\n",
      " $ marital  : Factor w/ 3 levels \"divorced\",\"married\",..: 2 2 3 2 2 3 2 2 2 2 ...\n",
      " $ education: Factor w/ 4 levels \"primary\",\"secondary\",..: 1 2 3 3 2 3 3 2 3 1 ...\n",
      " $ default  : Factor w/ 2 levels \"no\",\"yes\": 1 1 1 1 1 1 1 1 1 1 ...\n",
      " $ balance  : int  1787 4789 1350 1476 0 747 307 147 221 -88 ...\n",
      " $ housing  : Factor w/ 2 levels \"no\",\"yes\": 1 2 2 2 2 1 2 2 2 2 ...\n",
      " $ loan     : Factor w/ 2 levels \"no\",\"yes\": 1 2 1 2 1 1 1 1 1 2 ...\n",
      " $ contact  : Factor w/ 3 levels \"cellular\",\"telephone\",..: 1 1 1 3 3 1 1 1 3 1 ...\n",
      " $ day      : int  19 11 16 3 5 23 14 6 14 17 ...\n",
      " $ month    : Factor w/ 12 levels \"apr\",\"aug\",\"dec\",..: 11 9 1 7 9 4 9 9 9 1 ...\n",
      " $ duration : int  79 220 185 199 226 141 341 151 57 313 ...\n",
      " $ campaign : int  1 1 1 4 1 2 1 2 2 1 ...\n",
      " $ pdays    : int  -1 339 330 -1 -1 176 330 -1 -1 147 ...\n",
      " $ previous : int  0 4 1 0 0 3 2 0 0 2 ...\n",
      " $ poutcome : Factor w/ 4 levels \"failure\",\"other\",..: 4 1 1 4 4 1 2 4 4 1 ...\n",
      " $ y        : Factor w/ 2 levels \"no\",\"yes\": 1 1 1 1 1 1 1 1 1 1 ...\n"
     ]
    }
   ],
   "source": [
    "str(df)"
   ]
  },
  {
   "cell_type": "code",
   "execution_count": 60,
   "metadata": {},
   "outputs": [],
   "source": [
    "library(dplyr)\n",
    "df=select(df,-contact,-month)"
   ]
  },
  {
   "cell_type": "code",
   "execution_count": 61,
   "metadata": {},
   "outputs": [
    {
     "name": "stdout",
     "output_type": "stream",
     "text": [
      "'data.frame':\t622 obs. of  15 variables:\n",
      " $ age      : int  30 33 35 30 59 35 36 39 41 43 ...\n",
      " $ job      : Factor w/ 12 levels \"admin.\",\"blue-collar\",..: 11 8 5 5 2 5 7 10 3 8 ...\n",
      " $ marital  : Factor w/ 3 levels \"divorced\",\"married\",..: 2 2 3 2 2 3 2 2 2 2 ...\n",
      " $ education: Factor w/ 4 levels \"primary\",\"secondary\",..: 1 2 3 3 2 3 3 2 3 1 ...\n",
      " $ default  : Factor w/ 2 levels \"no\",\"yes\": 1 1 1 1 1 1 1 1 1 1 ...\n",
      " $ balance  : int  1787 4789 1350 1476 0 747 307 147 221 -88 ...\n",
      " $ housing  : Factor w/ 2 levels \"no\",\"yes\": 1 2 2 2 2 1 2 2 2 2 ...\n",
      " $ loan     : Factor w/ 2 levels \"no\",\"yes\": 1 2 1 2 1 1 1 1 1 2 ...\n",
      " $ day      : int  19 11 16 3 5 23 14 6 14 17 ...\n",
      " $ duration : int  79 220 185 199 226 141 341 151 57 313 ...\n",
      " $ campaign : int  1 1 1 4 1 2 1 2 2 1 ...\n",
      " $ pdays    : int  -1 339 330 -1 -1 176 330 -1 -1 147 ...\n",
      " $ previous : int  0 4 1 0 0 3 2 0 0 2 ...\n",
      " $ poutcome : Factor w/ 4 levels \"failure\",\"other\",..: 4 1 1 4 4 1 2 4 4 1 ...\n",
      " $ y        : Factor w/ 2 levels \"no\",\"yes\": 1 1 1 1 1 1 1 1 1 1 ...\n"
     ]
    }
   ],
   "source": [
    "str(df)"
   ]
  },
  {
   "cell_type": "markdown",
   "metadata": {},
   "source": [
    "# Building Logistic Regression Model"
   ]
  },
  {
   "cell_type": "code",
   "execution_count": 62,
   "metadata": {},
   "outputs": [],
   "source": [
    "library(caTools)\n",
    "\n",
    "\n",
    "split=sample.split(df$y, SplitRatio=0.70)\n",
    "\n",
    "final.train=subset(df,split==TRUE)\n",
    "final.test=subset(df,split==FALSE)"
   ]
  },
  {
   "cell_type": "code",
   "execution_count": 63,
   "metadata": {},
   "outputs": [
    {
     "data": {
      "text/plain": [
       "\n",
       "Call:\n",
       "glm(formula = y ~ ., family = binomial(link = \"logit\"), data = final.train)\n",
       "\n",
       "Deviance Residuals: \n",
       "    Min       1Q   Median       3Q      Max  \n",
       "-2.4312  -0.4321  -0.2895  -0.1641   2.8502  \n",
       "\n",
       "Coefficients:\n",
       "                     Estimate Std. Error z value Pr(>|z|)    \n",
       "(Intercept)        -2.878e+00  2.001e+00  -1.438   0.1503    \n",
       "age                 2.453e-02  2.317e-02   1.058   0.2898    \n",
       "jobblue-collar     -6.647e-01  6.722e-01  -0.989   0.3228    \n",
       "jobentrepreneur     4.243e-03  9.573e-01   0.004   0.9965    \n",
       "jobhousemaid       -1.736e+01  1.031e+03  -0.017   0.9866    \n",
       "jobmanagement      -1.436e+00  7.624e-01  -1.883   0.0597 .  \n",
       "jobretired          9.493e-02  8.556e-01   0.111   0.9116    \n",
       "jobself-employed   -1.691e+00  1.157e+00  -1.461   0.1440    \n",
       "jobservices        -1.706e+00  1.157e+00  -1.474   0.1404    \n",
       "jobstudent          1.081e+00  9.823e-01   1.100   0.2711    \n",
       "jobtechnician      -6.946e-01  6.432e-01  -1.080   0.2802    \n",
       "jobunemployed      -3.818e+00  3.338e+00  -1.144   0.2527    \n",
       "jobunknown         -1.589e+01  3.956e+03  -0.004   0.9968    \n",
       "maritalmarried      8.930e-01  6.830e-01   1.308   0.1910    \n",
       "maritalsingle       1.542e+00  7.721e-01   1.997   0.0458 *  \n",
       "educationsecondary  7.562e-01  6.446e-01   1.173   0.2408    \n",
       "educationtertiary   9.190e-01  7.632e-01   1.204   0.2286    \n",
       "educationunknown   -3.611e-01  1.301e+00  -0.278   0.7813    \n",
       "defaultyes          7.255e-01  1.179e+00   0.615   0.5384    \n",
       "balance             6.172e-05  6.550e-05   0.942   0.3461    \n",
       "housingyes         -9.208e-01  3.987e-01  -2.309   0.0209 *  \n",
       "loanyes            -5.043e-01  5.535e-01  -0.911   0.3622    \n",
       "day                 1.366e-03  2.304e-02   0.059   0.9527    \n",
       "duration            3.030e-03  5.780e-04   5.242 1.59e-07 ***\n",
       "campaign           -3.852e-02  6.906e-02  -0.558   0.5770    \n",
       "pdays              -2.042e-03  4.129e-03  -0.494   0.6210    \n",
       "previous           -2.965e-01  2.265e-01  -1.309   0.1906    \n",
       "poutcomeother      -1.679e+00  1.365e+00  -1.230   0.2187    \n",
       "poutcomesuccess     8.774e-01  8.932e-01   0.982   0.3259    \n",
       "poutcomeunknown    -1.875e+00  1.171e+00  -1.602   0.1092    \n",
       "---\n",
       "Signif. codes:  0 '***' 0.001 '**' 0.01 '*' 0.05 '.' 0.1 ' ' 1\n",
       "\n",
       "(Dispersion parameter for binomial family taken to be 1)\n",
       "\n",
       "    Null deviance: 318.43  on 434  degrees of freedom\n",
       "Residual deviance: 228.21  on 405  degrees of freedom\n",
       "AIC: 288.21\n",
       "\n",
       "Number of Fisher Scoring iterations: 16\n"
      ]
     },
     "metadata": {},
     "output_type": "display_data"
    }
   ],
   "source": [
    "final.log.model=glm(formula=y~.,family=binomial(link='logit'),data=final.train)\n",
    "summary(final.log.model)"
   ]
  },
  {
   "cell_type": "code",
   "execution_count": 67,
   "metadata": {},
   "outputs": [],
   "source": [
    "fitted.probabilities=predict(final.log.model,newdata=final.test,type='response')"
   ]
  },
  {
   "cell_type": "code",
   "execution_count": null,
   "metadata": {},
   "outputs": [],
   "source": []
  },
  {
   "cell_type": "code",
   "execution_count": 68,
   "metadata": {},
   "outputs": [],
   "source": [
    "fitted.results=ifelse(fitted.probabilities > 0.5,1,0)"
   ]
  },
  {
   "cell_type": "code",
   "execution_count": 69,
   "metadata": {},
   "outputs": [
    {
     "name": "stdout",
     "output_type": "stream",
     "text": [
      "[1] \"Accuracy 0\"\n"
     ]
    }
   ],
   "source": [
    "misClasificError=mean(fitted.results!=final.test$y)\n",
    "print(paste('Accuracy',1-misClasificError))"
   ]
  }
 ],
 "metadata": {
  "kernelspec": {
   "display_name": "R",
   "language": "R",
   "name": "ir"
  },
  "language_info": {
   "codemirror_mode": "r",
   "file_extension": ".r",
   "mimetype": "text/x-r-source",
   "name": "R",
   "pygments_lexer": "r",
   "version": "3.6.1"
  }
 },
 "nbformat": 4,
 "nbformat_minor": 2
}

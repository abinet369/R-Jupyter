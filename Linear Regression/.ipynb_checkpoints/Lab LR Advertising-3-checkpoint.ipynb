{
 "cells": [
  {
   "cell_type": "markdown",
   "metadata": {},
   "source": [
    "## LINEAR REGRESSION"
   ]
  },
  {
   "cell_type": "code",
   "execution_count": 1,
   "metadata": {},
   "outputs": [
    {
     "data": {
      "text/html": [
       "<table>\n",
       "<thead><tr><th scope=col>TV</th><th scope=col>Radio</th><th scope=col>Newspaper</th><th scope=col>Sales</th></tr></thead>\n",
       "<tbody>\n",
       "\t<tr><td>230.1</td><td>37.8 </td><td>69.2 </td><td>22.1 </td></tr>\n",
       "\t<tr><td> 44.5</td><td>39.3 </td><td>45.1 </td><td>10.4 </td></tr>\n",
       "\t<tr><td> 17.2</td><td>45.9 </td><td>69.3 </td><td>12.0 </td></tr>\n",
       "\t<tr><td>151.5</td><td>41.3 </td><td>58.5 </td><td>16.5 </td></tr>\n",
       "\t<tr><td>180.8</td><td>10.8 </td><td>58.4 </td><td>17.9 </td></tr>\n",
       "\t<tr><td>  8.7</td><td>48.9 </td><td>75.0 </td><td> 7.2 </td></tr>\n",
       "</tbody>\n",
       "</table>\n"
      ],
      "text/latex": [
       "\\begin{tabular}{r|llll}\n",
       " TV & Radio & Newspaper & Sales\\\\\n",
       "\\hline\n",
       "\t 230.1 & 37.8  & 69.2  & 22.1 \\\\\n",
       "\t  44.5 & 39.3  & 45.1  & 10.4 \\\\\n",
       "\t  17.2 & 45.9  & 69.3  & 12.0 \\\\\n",
       "\t 151.5 & 41.3  & 58.5  & 16.5 \\\\\n",
       "\t 180.8 & 10.8  & 58.4  & 17.9 \\\\\n",
       "\t   8.7 & 48.9  & 75.0  &  7.2 \\\\\n",
       "\\end{tabular}\n"
      ],
      "text/markdown": [
       "\n",
       "| TV | Radio | Newspaper | Sales |\n",
       "|---|---|---|---|\n",
       "| 230.1 | 37.8  | 69.2  | 22.1  |\n",
       "|  44.5 | 39.3  | 45.1  | 10.4  |\n",
       "|  17.2 | 45.9  | 69.3  | 12.0  |\n",
       "| 151.5 | 41.3  | 58.5  | 16.5  |\n",
       "| 180.8 | 10.8  | 58.4  | 17.9  |\n",
       "|   8.7 | 48.9  | 75.0  |  7.2  |\n",
       "\n"
      ],
      "text/plain": [
       "  TV    Radio Newspaper Sales\n",
       "1 230.1 37.8  69.2      22.1 \n",
       "2  44.5 39.3  45.1      10.4 \n",
       "3  17.2 45.9  69.3      12.0 \n",
       "4 151.5 41.3  58.5      16.5 \n",
       "5 180.8 10.8  58.4      17.9 \n",
       "6   8.7 48.9  75.0       7.2 "
      ]
     },
     "metadata": {},
     "output_type": "display_data"
    },
    {
     "data": {
      "text/plain": [
       "       TV             Radio          Newspaper          Sales      \n",
       " Min.   :  0.70   Min.   : 0.000   Min.   :  0.30   Min.   : 1.60  \n",
       " 1st Qu.: 74.38   1st Qu.: 9.975   1st Qu.: 12.75   1st Qu.:11.00  \n",
       " Median :149.75   Median :22.900   Median : 25.75   Median :16.00  \n",
       " Mean   :147.04   Mean   :23.264   Mean   : 30.55   Mean   :15.13  \n",
       " 3rd Qu.:218.82   3rd Qu.:36.525   3rd Qu.: 45.10   3rd Qu.:19.05  \n",
       " Max.   :296.40   Max.   :49.600   Max.   :114.00   Max.   :27.00  "
      ]
     },
     "metadata": {},
     "output_type": "display_data"
    }
   ],
   "source": [
    "df=read.csv('C:\\\\Users\\\\abine\\\\OneDrive\\\\Documents\\\\Datasets\\\\advertising\\\\advertising.csv',sep=',')\n",
    "head(df)\n",
    "summary(df)"
   ]
  },
  {
   "cell_type": "code",
   "execution_count": 2,
   "metadata": {},
   "outputs": [
    {
     "name": "stdout",
     "output_type": "stream",
     "text": [
      "'data.frame':\t200 obs. of  4 variables:\n",
      " $ TV       : num  230.1 44.5 17.2 151.5 180.8 ...\n",
      " $ Radio    : num  37.8 39.3 45.9 41.3 10.8 48.9 32.8 19.6 2.1 2.6 ...\n",
      " $ Newspaper: num  69.2 45.1 69.3 58.5 58.4 75 23.5 11.6 1 21.2 ...\n",
      " $ Sales    : num  22.1 10.4 12 16.5 17.9 7.2 11.8 13.2 4.8 15.6 ...\n"
     ]
    }
   ],
   "source": [
    "str(df)"
   ]
  },
  {
   "cell_type": "code",
   "execution_count": 3,
   "metadata": {},
   "outputs": [
    {
     "data": {
      "text/html": [
       "FALSE"
      ],
      "text/latex": [
       "FALSE"
      ],
      "text/markdown": [
       "FALSE"
      ],
      "text/plain": [
       "[1] FALSE"
      ]
     },
     "metadata": {},
     "output_type": "display_data"
    }
   ],
   "source": [
    "any(is.na(df))"
   ]
  },
  {
   "cell_type": "code",
   "execution_count": 4,
   "metadata": {},
   "outputs": [
    {
     "name": "stderr",
     "output_type": "stream",
     "text": [
      "Warning message:\n",
      "\"package 'ggplot2' was built under R version 3.6.2\"Warning message:\n",
      "\"package 'ggthemes' was built under R version 3.6.2\"Warning message:\n",
      "\"package 'dplyr' was built under R version 3.6.2\"\n",
      "Attaching package: 'dplyr'\n",
      "\n",
      "The following objects are masked from 'package:stats':\n",
      "\n",
      "    filter, lag\n",
      "\n",
      "The following objects are masked from 'package:base':\n",
      "\n",
      "    intersect, setdiff, setequal, union\n",
      "\n"
     ]
    }
   ],
   "source": [
    "library(ggplot2)\n",
    "library(ggthemes)\n",
    "library(dplyr)"
   ]
  },
  {
   "cell_type": "code",
   "execution_count": 5,
   "metadata": {},
   "outputs": [
    {
     "data": {
      "text/html": [
       "<table>\n",
       "<thead><tr><th></th><th scope=col>TV</th><th scope=col>Radio</th><th scope=col>Newspaper</th><th scope=col>Sales</th></tr></thead>\n",
       "<tbody>\n",
       "\t<tr><th scope=row>TV</th><td>1.00000000</td><td>0.05480866</td><td>0.05664787</td><td>0.9012079 </td></tr>\n",
       "\t<tr><th scope=row>Radio</th><td>0.05480866</td><td>1.00000000</td><td>0.35410375</td><td>0.3496311 </td></tr>\n",
       "\t<tr><th scope=row>Newspaper</th><td>0.05664787</td><td>0.35410375</td><td>1.00000000</td><td>0.1579600 </td></tr>\n",
       "\t<tr><th scope=row>Sales</th><td>0.90120791</td><td>0.34963110</td><td>0.15796003</td><td>1.0000000 </td></tr>\n",
       "</tbody>\n",
       "</table>\n"
      ],
      "text/latex": [
       "\\begin{tabular}{r|llll}\n",
       "  & TV & Radio & Newspaper & Sales\\\\\n",
       "\\hline\n",
       "\tTV & 1.00000000 & 0.05480866 & 0.05664787 & 0.9012079 \\\\\n",
       "\tRadio & 0.05480866 & 1.00000000 & 0.35410375 & 0.3496311 \\\\\n",
       "\tNewspaper & 0.05664787 & 0.35410375 & 1.00000000 & 0.1579600 \\\\\n",
       "\tSales & 0.90120791 & 0.34963110 & 0.15796003 & 1.0000000 \\\\\n",
       "\\end{tabular}\n"
      ],
      "text/markdown": [
       "\n",
       "| <!--/--> | TV | Radio | Newspaper | Sales |\n",
       "|---|---|---|---|---|\n",
       "| TV | 1.00000000 | 0.05480866 | 0.05664787 | 0.9012079  |\n",
       "| Radio | 0.05480866 | 1.00000000 | 0.35410375 | 0.3496311  |\n",
       "| Newspaper | 0.05664787 | 0.35410375 | 1.00000000 | 0.1579600  |\n",
       "| Sales | 0.90120791 | 0.34963110 | 0.15796003 | 1.0000000  |\n",
       "\n"
      ],
      "text/plain": [
       "          TV         Radio      Newspaper  Sales    \n",
       "TV        1.00000000 0.05480866 0.05664787 0.9012079\n",
       "Radio     0.05480866 1.00000000 0.35410375 0.3496311\n",
       "Newspaper 0.05664787 0.35410375 1.00000000 0.1579600\n",
       "Sales     0.90120791 0.34963110 0.15796003 1.0000000"
      ]
     },
     "metadata": {},
     "output_type": "display_data"
    }
   ],
   "source": [
    "num.cols=sapply(df,is.numeric)\n",
    "cor.data=cor(df[,num.cols])\n",
    "cor.data"
   ]
  },
  {
   "cell_type": "code",
   "execution_count": 8,
   "metadata": {},
   "outputs": [
    {
     "name": "stderr",
     "output_type": "stream",
     "text": [
      "Installing package into 'C:/Users/abine/OneDrive/Documents/R/win-library/3.6'\n",
      "(as 'lib' is unspecified)\n",
      "Warning message:\n",
      "\"package 'corrgram' is in use and will not be installed\"Installing package into 'C:/Users/abine/OneDrive/Documents/R/win-library/3.6'\n",
      "(as 'lib' is unspecified)\n",
      "Warning message:\n",
      "\"package 'corrplot' is in use and will not be installed\""
     ]
    }
   ],
   "source": [
    "install.packages('corrgram')\n",
    "install.packages('corrplot')"
   ]
  },
  {
   "cell_type": "code",
   "execution_count": 9,
   "metadata": {},
   "outputs": [],
   "source": [
    "library('corrgram')\n",
    "library('corrplot')"
   ]
  },
  {
   "cell_type": "code",
   "execution_count": 10,
   "metadata": {
    "scrolled": false
   },
   "outputs": [
    {
     "data": {
      "image/png": "[encoded data removed]",
      "text/plain": [
       "Plot with title \"\""
      ]
     },
     "metadata": {},
     "output_type": "display_data"
    }
   ],
   "source": [
    "corrplot(cor.data,method='color')"
   ]
  },
  {
   "cell_type": "markdown",
   "metadata": {},
   "source": [
    "*INTERPRETATION*\n",
    "There is positive correlation between Sales and (TV,Radio & Newspaper in order).\n",
    "i.e as the no.of advertisement in these medias increases/decreases the sales also increases/decreases"
   ]
  },
  {
   "cell_type": "code",
   "execution_count": 11,
   "metadata": {},
   "outputs": [
    {
     "data": {
      "image/png": "[encoded data removed]",
      "text/plain": [
       "plot without title"
      ]
     },
     "metadata": {},
     "output_type": "display_data"
    }
   ],
   "source": [
    "corrgram(df,order=TRUE, lower.panel=panel.shade,\n",
    "         upper.panel=panel.pie, text.panel=panel.txt)"
   ]
  },
  {
   "cell_type": "code",
   "execution_count": null,
   "metadata": {},
   "outputs": [],
   "source": [
    "INTERPRETATION\n",
    "Different Visual Representation of the above graph"
   ]
  },
  {
   "cell_type": "code",
   "execution_count": 12,
   "metadata": {},
   "outputs": [
    {
     "data": {
      "image/png": "[encoded data removed]",
      "text/plain": [
       "plot without title"
      ]
     },
     "metadata": {},
     "output_type": "display_data"
    }
   ],
   "source": [
    "ggplot(df,aes(x=Sales))+geom_histogram(bins=20,alpha=0.5,fill='blue')+theme_minimal()"
   ]
  },
  {
   "cell_type": "markdown",
   "metadata": {},
   "source": [
    "INTERPRETATION\n",
    "The average sales is around 15 units"
   ]
  },
  {
   "cell_type": "code",
   "execution_count": 13,
   "metadata": {},
   "outputs": [
    {
     "name": "stderr",
     "output_type": "stream",
     "text": [
      "Warning message:\n",
      "\"package 'caTools' was built under R version 3.6.2\""
     ]
    }
   ],
   "source": [
    "library(caTools)\n",
    "\n",
    "sample=sample.split(df$Sales,SplitRatio = 0.70)\n",
    "\n",
    "train=subset(df,sample==TRUE)\n",
    "test=subset(df,sample==FALSE)"
   ]
  },
  {
   "cell_type": "code",
   "execution_count": 14,
   "metadata": {},
   "outputs": [
    {
     "data": {
      "text/plain": [
       "\n",
       "Call:\n",
       "lm(formula = Sales ~ ., data = train)\n",
       "\n",
       "Residuals:\n",
       "    Min      1Q  Median      3Q     Max \n",
       "-7.0770 -0.7685  0.0926  0.8378  3.5774 \n",
       "\n",
       "Coefficients:\n",
       "            Estimate Std. Error t value Pr(>|t|)    \n",
       "(Intercept) 4.242053   0.375736  11.290   <2e-16 ***\n",
       "TV          0.055545   0.001644  33.792   <2e-16 ***\n",
       "Radio       0.110703   0.010209  10.843   <2e-16 ***\n",
       "Newspaper   0.001400   0.007265   0.193    0.847    \n",
       "---\n",
       "Signif. codes:  0 '***' 0.001 '**' 0.01 '*' 0.05 '.' 0.1 ' ' 1\n",
       "\n",
       "Residual standard error: 1.655 on 136 degrees of freedom\n",
       "Multiple R-squared:  0.9022,\tAdjusted R-squared:    0.9 \n",
       "F-statistic: 418.1 on 3 and 136 DF,  p-value: < 2.2e-16\n"
      ]
     },
     "metadata": {},
     "output_type": "display_data"
    }
   ],
   "source": [
    "model=lm(Sales~.,train)\n",
    "\n",
    "summary(model)"
   ]
  },
  {
   "cell_type": "markdown",
   "metadata": {},
   "source": [
    "INTERPRETATION\n",
    "• Here Sales is the dependent variable we want to predict \n",
    "• Here, we have the intercept and coefficients for value (Estimate)\n",
    "• Residuals is difference between observed and predicted value of dependent variable \n",
    "• Higher the number of *’s indicates higher the significance level(It’s based on p-value. Lesser the p-value, more the stars)\n",
    "• Here TV,radio has high significance level\n",
    "• p-value is the probability of a variable being not relevant\n",
    "• t value shows how many S.D’s the  Coefficient is away from Zero "
   ]
  },
  {
   "cell_type": "code",
   "execution_count": 15,
   "metadata": {},
   "outputs": [
    {
     "data": {
      "text/html": [
       "<table>\n",
       "<thead><tr><th scope=col>res</th></tr></thead>\n",
       "<tbody>\n",
       "\t<tr><td> 0.7955185</td></tr>\n",
       "\t<tr><td>-0.7276107</td></tr>\n",
       "\t<tr><td> 1.6242423</td></tr>\n",
       "\t<tr><td>-0.8111121</td></tr>\n",
       "\t<tr><td> 2.3380109</td></tr>\n",
       "\t<tr><td>-3.0437159</td></tr>\n",
       "</tbody>\n",
       "</table>\n"
      ],
      "text/latex": [
       "\\begin{tabular}{r|l}\n",
       " res\\\\\n",
       "\\hline\n",
       "\t  0.7955185\\\\\n",
       "\t -0.7276107\\\\\n",
       "\t  1.6242423\\\\\n",
       "\t -0.8111121\\\\\n",
       "\t  2.3380109\\\\\n",
       "\t -3.0437159\\\\\n",
       "\\end{tabular}\n"
      ],
      "text/markdown": [
       "\n",
       "| res |\n",
       "|---|\n",
       "|  0.7955185 |\n",
       "| -0.7276107 |\n",
       "|  1.6242423 |\n",
       "| -0.8111121 |\n",
       "|  2.3380109 |\n",
       "| -3.0437159 |\n",
       "\n"
      ],
      "text/plain": [
       "  res       \n",
       "1  0.7955185\n",
       "2 -0.7276107\n",
       "3  1.6242423\n",
       "4 -0.8111121\n",
       "5  2.3380109\n",
       "6 -3.0437159"
      ]
     },
     "metadata": {},
     "output_type": "display_data"
    }
   ],
   "source": [
    "res=residuals(model)\n",
    "\n",
    "res=as.data.frame(res)\n",
    "head(res)"
   ]
  },
  {
   "cell_type": "code",
   "execution_count": 16,
   "metadata": {},
   "outputs": [
    {
     "name": "stderr",
     "output_type": "stream",
     "text": [
      "`stat_bin()` using `bins = 30`. Pick better value with `binwidth`.\n"
     ]
    },
    {
     "data": {
      "image/png": "[encoded data removed]",
      "text/plain": [
       "plot without title"
      ]
     },
     "metadata": {},
     "output_type": "display_data"
    }
   ],
   "source": [
    "ggplot(res,aes(res))+geom_histogram(fill='blue',alpha=0.5)"
   ]
  },
  {
   "cell_type": "markdown",
   "metadata": {},
   "source": [
    "Plotting Residuals to check whether its Normal Distribution"
   ]
  },
  {
   "cell_type": "code",
   "execution_count": 17,
   "metadata": {},
   "outputs": [
    {
     "data": {
      "text/html": [
       "<dl class=dl-horizontal>\n",
       "\t<dt>11</dt>\n",
       "\t\t<dd>8.58955394867709</dd>\n",
       "\t<dt>16</dt>\n",
       "\t\t<dd>20.4502047454427</dd>\n",
       "\t<dt>18</dt>\n",
       "\t\t<dd>24.3344501314753</dd>\n",
       "\t<dt>19</dt>\n",
       "\t\t<dd>10.380823279958</dd>\n",
       "\t<dt>22</dt>\n",
       "\t\t<dd>18.0259651018711</dd>\n",
       "\t<dt>26</dt>\n",
       "\t\t<dd>19.2596397165144</dd>\n",
       "</dl>\n"
      ],
      "text/latex": [
       "\\begin{description*}\n",
       "\\item[11] 8.58955394867709\n",
       "\\item[16] 20.4502047454427\n",
       "\\item[18] 24.3344501314753\n",
       "\\item[19] 10.380823279958\n",
       "\\item[22] 18.0259651018711\n",
       "\\item[26] 19.2596397165144\n",
       "\\end{description*}\n"
      ],
      "text/markdown": [
       "11\n",
       ":   8.5895539486770916\n",
       ":   20.450204745442718\n",
       ":   24.334450131475319\n",
       ":   10.38082327995822\n",
       ":   18.025965101871126\n",
       ":   19.2596397165144\n",
       "\n"
      ],
      "text/plain": [
       "       11        16        18        19        22        26 \n",
       " 8.589554 20.450205 24.334450 10.380823 18.025965 19.259640 "
      ]
     },
     "metadata": {},
     "output_type": "display_data"
    }
   ],
   "source": [
    "Sales.predictions=predict(model,test)\n",
    "head(Sales.predictions)"
   ]
  },
  {
   "cell_type": "code",
   "execution_count": 18,
   "metadata": {},
   "outputs": [
    {
     "data": {
      "text/html": [
       "<table>\n",
       "<thead><tr><th></th><th scope=col>pred</th><th scope=col>real</th></tr></thead>\n",
       "<tbody>\n",
       "\t<tr><th scope=row>11</th><td> 8.589554</td><td>12.6     </td></tr>\n",
       "\t<tr><th scope=row>16</th><td>20.450205</td><td>22.4     </td></tr>\n",
       "\t<tr><th scope=row>18</th><td>24.334450</td><td>24.4     </td></tr>\n",
       "\t<tr><th scope=row>19</th><td>10.380823</td><td>11.3     </td></tr>\n",
       "\t<tr><th scope=row>22</th><td>18.025965</td><td>17.5     </td></tr>\n",
       "\t<tr><th scope=row>26</th><td>19.259640</td><td>17.0     </td></tr>\n",
       "</tbody>\n",
       "</table>\n"
      ],
      "text/latex": [
       "\\begin{tabular}{r|ll}\n",
       "  & pred & real\\\\\n",
       "\\hline\n",
       "\t11 &  8.589554 & 12.6     \\\\\n",
       "\t16 & 20.450205 & 22.4     \\\\\n",
       "\t18 & 24.334450 & 24.4     \\\\\n",
       "\t19 & 10.380823 & 11.3     \\\\\n",
       "\t22 & 18.025965 & 17.5     \\\\\n",
       "\t26 & 19.259640 & 17.0     \\\\\n",
       "\\end{tabular}\n"
      ],
      "text/markdown": [
       "\n",
       "| <!--/--> | pred | real |\n",
       "|---|---|---|\n",
       "| 11 |  8.589554 | 12.6      |\n",
       "| 16 | 20.450205 | 22.4      |\n",
       "| 18 | 24.334450 | 24.4      |\n",
       "| 19 | 10.380823 | 11.3      |\n",
       "| 22 | 18.025965 | 17.5      |\n",
       "| 26 | 19.259640 | 17.0      |\n",
       "\n"
      ],
      "text/plain": [
       "   pred      real\n",
       "11  8.589554 12.6\n",
       "16 20.450205 22.4\n",
       "18 24.334450 24.4\n",
       "19 10.380823 11.3\n",
       "22 18.025965 17.5\n",
       "26 19.259640 17.0"
      ]
     },
     "metadata": {},
     "output_type": "display_data"
    }
   ],
   "source": [
    "results=cbind(Sales.predictions,test$Sales)\n",
    "colnames(results)=c('pred','real')\n",
    "results=as.data.frame(results)\n",
    "head(results)"
   ]
  },
  {
   "cell_type": "code",
   "execution_count": 19,
   "metadata": {},
   "outputs": [],
   "source": [
    "to_zero=function(x){\n",
    "  if (x<0){\n",
    "    return(0)\n",
    "  }else{\n",
    "    return(x)\n",
    "  }\n",
    "}"
   ]
  },
  {
   "cell_type": "code",
   "execution_count": 20,
   "metadata": {},
   "outputs": [
    {
     "data": {
      "text/html": [
       "<table>\n",
       "<thead><tr><th></th><th scope=col>pred</th><th scope=col>real</th></tr></thead>\n",
       "<tbody>\n",
       "\t<tr><th scope=row>11</th><td> 8.589554</td><td>12.6     </td></tr>\n",
       "\t<tr><th scope=row>16</th><td>20.450205</td><td>22.4     </td></tr>\n",
       "\t<tr><th scope=row>18</th><td>24.334450</td><td>24.4     </td></tr>\n",
       "\t<tr><th scope=row>19</th><td>10.380823</td><td>11.3     </td></tr>\n",
       "\t<tr><th scope=row>22</th><td>18.025965</td><td>17.5     </td></tr>\n",
       "\t<tr><th scope=row>26</th><td>19.259640</td><td>17.0     </td></tr>\n",
       "</tbody>\n",
       "</table>\n"
      ],
      "text/latex": [
       "\\begin{tabular}{r|ll}\n",
       "  & pred & real\\\\\n",
       "\\hline\n",
       "\t11 &  8.589554 & 12.6     \\\\\n",
       "\t16 & 20.450205 & 22.4     \\\\\n",
       "\t18 & 24.334450 & 24.4     \\\\\n",
       "\t19 & 10.380823 & 11.3     \\\\\n",
       "\t22 & 18.025965 & 17.5     \\\\\n",
       "\t26 & 19.259640 & 17.0     \\\\\n",
       "\\end{tabular}\n"
      ],
      "text/markdown": [
       "\n",
       "| <!--/--> | pred | real |\n",
       "|---|---|---|\n",
       "| 11 |  8.589554 | 12.6      |\n",
       "| 16 | 20.450205 | 22.4      |\n",
       "| 18 | 24.334450 | 24.4      |\n",
       "| 19 | 10.380823 | 11.3      |\n",
       "| 22 | 18.025965 | 17.5      |\n",
       "| 26 | 19.259640 | 17.0      |\n",
       "\n"
      ],
      "text/plain": [
       "   pred      real\n",
       "11  8.589554 12.6\n",
       "16 20.450205 22.4\n",
       "18 24.334450 24.4\n",
       "19 10.380823 11.3\n",
       "22 18.025965 17.5\n",
       "26 19.259640 17.0"
      ]
     },
     "metadata": {},
     "output_type": "display_data"
    }
   ],
   "source": [
    "results$pred=sapply(results$pred,to_zero)\n",
    "head(results)"
   ]
  },
  {
   "cell_type": "code",
   "execution_count": 21,
   "metadata": {},
   "outputs": [
    {
     "name": "stdout",
     "output_type": "stream",
     "text": [
      "[1] 2.89007\n"
     ]
    },
    {
     "data": {
      "text/html": [
       "1.700020614296"
      ],
      "text/latex": [
       "1.700020614296"
      ],
      "text/markdown": [
       "1.700020614296"
      ],
      "text/plain": [
       "[1] 1.700021"
      ]
     },
     "metadata": {},
     "output_type": "display_data"
    }
   ],
   "source": [
    "mse=mean((results$real-results$pred)^2)\n",
    "print(mse)\n",
    "\n",
    "mse^0.5"
   ]
  },
  {
   "cell_type": "markdown",
   "metadata": {},
   "source": [
    "• This is a RMSE value.RMSE is a measure of how spread out these residuals are. In other words, it tells you how con centrated the data is around the line of best fit"
   ]
  },
  {
   "cell_type": "code",
   "execution_count": 22,
   "metadata": {},
   "outputs": [
    {
     "data": {
      "text/html": [
       "0.897094995811616"
      ],
      "text/latex": [
       "0.897094995811616"
      ],
      "text/markdown": [
       "0.897094995811616"
      ],
      "text/plain": [
       "[1] 0.897095"
      ]
     },
     "metadata": {},
     "output_type": "display_data"
    }
   ],
   "source": [
    "SSE=sum((results$pred-results$real)^2)\n",
    "SST=sum((mean(df$Sales)-results$real)^2)\n",
    "R2=1-SSE/SST\n",
    "R2"
   ]
  },
  {
   "cell_type": "markdown",
   "metadata": {},
   "source": [
    "• R-squared is a goodness-of-fit measure for linear regression models.\n",
    "• R-squared measures the strength of the relationship between your model and the dependent variable on a convenient 0 – 100% scale. \n",
    "• this model can explain more 89% of the variation."
   ]
  },
  {
   "cell_type": "markdown",
   "metadata": {},
   "source": [
    "## SIMPLE LINEAR REGRESSION"
   ]
  },
  {
   "cell_type": "code",
   "execution_count": 23,
   "metadata": {},
   "outputs": [
    {
     "data": {
      "text/plain": [
       "\n",
       "Call:\n",
       "lm(formula = Sales ~ TV, data = train)\n",
       "\n",
       "Residuals:\n",
       "    Min      1Q  Median      3Q     Max \n",
       "-6.1635 -1.4829 -0.1515  1.5254  5.7551 \n",
       "\n",
       "Coefficients:\n",
       "            Estimate Std. Error t value Pr(>|t|)    \n",
       "(Intercept) 6.841055   0.374676   18.26   <2e-16 ***\n",
       "TV          0.054943   0.002299   23.90   <2e-16 ***\n",
       "---\n",
       "Signif. codes:  0 '***' 0.001 '**' 0.01 '*' 0.05 '.' 0.1 ' ' 1\n",
       "\n",
       "Residual standard error: 2.318 on 138 degrees of freedom\n",
       "Multiple R-squared:  0.8054,\tAdjusted R-squared:  0.804 \n",
       "F-statistic: 571.2 on 1 and 138 DF,  p-value: < 2.2e-16\n"
      ]
     },
     "metadata": {},
     "output_type": "display_data"
    }
   ],
   "source": [
    "model=lm(Sales~TV,train)\n",
    "\n",
    "summary(model)"
   ]
  },
  {
   "cell_type": "markdown",
   "metadata": {},
   "source": [
    "INTERPRETATION\n",
    "• Here Sales is the dependent variable we want to predict \n",
    "• Here, we have the intercept and coefficients for value (Estimate)\n",
    "• Residuals is difference between observed and predicted value of dependent variable \n",
    "• Higher the number of *’s indicates higher the significance level(It’s based on p-value. Lesser the p-value, more the stars)\n",
    "• Here TV  has high significance level\n",
    "• p-value is the probability of a variable being not relevant\n",
    "• t value shows how many S.D’s the  Coefficient is away from Zero "
   ]
  },
  {
   "cell_type": "code",
   "execution_count": 24,
   "metadata": {},
   "outputs": [
    {
     "data": {
      "text/html": [
       "<table>\n",
       "<thead><tr><th scope=col>res</th></tr></thead>\n",
       "<tbody>\n",
       "\t<tr><td> 2.6166261</td></tr>\n",
       "\t<tr><td> 1.1139942</td></tr>\n",
       "\t<tr><td> 4.2139304</td></tr>\n",
       "\t<tr><td> 1.3351236</td></tr>\n",
       "\t<tr><td> 1.1253020</td></tr>\n",
       "\t<tr><td>-0.1190566</td></tr>\n",
       "</tbody>\n",
       "</table>\n"
      ],
      "text/latex": [
       "\\begin{tabular}{r|l}\n",
       " res\\\\\n",
       "\\hline\n",
       "\t  2.6166261\\\\\n",
       "\t  1.1139942\\\\\n",
       "\t  4.2139304\\\\\n",
       "\t  1.3351236\\\\\n",
       "\t  1.1253020\\\\\n",
       "\t -0.1190566\\\\\n",
       "\\end{tabular}\n"
      ],
      "text/markdown": [
       "\n",
       "| res |\n",
       "|---|\n",
       "|  2.6166261 |\n",
       "|  1.1139942 |\n",
       "|  4.2139304 |\n",
       "|  1.3351236 |\n",
       "|  1.1253020 |\n",
       "| -0.1190566 |\n",
       "\n"
      ],
      "text/plain": [
       "  res       \n",
       "1  2.6166261\n",
       "2  1.1139942\n",
       "3  4.2139304\n",
       "4  1.3351236\n",
       "5  1.1253020\n",
       "6 -0.1190566"
      ]
     },
     "metadata": {},
     "output_type": "display_data"
    }
   ],
   "source": [
    "res=residuals(model)\n",
    "\n",
    "res=as.data.frame(res)\n",
    "head(res)"
   ]
  },
  {
   "cell_type": "code",
   "execution_count": 25,
   "metadata": {},
   "outputs": [
    {
     "name": "stderr",
     "output_type": "stream",
     "text": [
      "`stat_bin()` using `bins = 30`. Pick better value with `binwidth`.\n"
     ]
    },
    {
     "data": {
      "image/png": "[encoded data removed]",
      "text/plain": [
       "plot without title"
      ]
     },
     "metadata": {},
     "output_type": "display_data"
    }
   ],
   "source": [
    "ggplot(res,aes(res))+geom_histogram(fill='blue',alpha=0.5)"
   ]
  },
  {
   "cell_type": "markdown",
   "metadata": {},
   "source": [
    "Plotting Residuals to check whether its Normal Distribution"
   ]
  },
  {
   "cell_type": "code",
   "execution_count": 26,
   "metadata": {},
   "outputs": [
    {
     "data": {
      "text/html": [
       "<dl class=dl-horizontal>\n",
       "\t<dt>11</dt>\n",
       "\t\t<dd>10.4727684613755</dd>\n",
       "\t<dt>16</dt>\n",
       "\t\t<dd>17.5768616434298</dd>\n",
       "\t<dt>18</dt>\n",
       "\t\t<dd>22.3019352215944</dd>\n",
       "\t<dt>19</dt>\n",
       "\t\t<dd>10.6430908810535</dd>\n",
       "\t<dt>22</dt>\n",
       "\t\t<dd>19.8844557164869</dd>\n",
       "\t<dt>26</dt>\n",
       "\t\t<dd>21.2854949751287</dd>\n",
       "</dl>\n"
      ],
      "text/latex": [
       "\\begin{description*}\n",
       "\\item[11] 10.4727684613755\n",
       "\\item[16] 17.5768616434298\n",
       "\\item[18] 22.3019352215944\n",
       "\\item[19] 10.6430908810535\n",
       "\\item[22] 19.8844557164869\n",
       "\\item[26] 21.2854949751287\n",
       "\\end{description*}\n"
      ],
      "text/markdown": [
       "11\n",
       ":   10.472768461375516\n",
       ":   17.576861643429818\n",
       ":   22.301935221594419\n",
       ":   10.643090881053522\n",
       ":   19.884455716486926\n",
       ":   21.2854949751287\n",
       "\n"
      ],
      "text/plain": [
       "      11       16       18       19       22       26 \n",
       "10.47277 17.57686 22.30194 10.64309 19.88446 21.28549 "
      ]
     },
     "metadata": {},
     "output_type": "display_data"
    }
   ],
   "source": [
    "Sales.predictions=predict(model,test)\n",
    "head(Sales.predictions)"
   ]
  },
  {
   "cell_type": "code",
   "execution_count": 27,
   "metadata": {},
   "outputs": [
    {
     "data": {
      "text/html": [
       "<table>\n",
       "<thead><tr><th></th><th scope=col>pred</th><th scope=col>real</th></tr></thead>\n",
       "<tbody>\n",
       "\t<tr><th scope=row>11</th><td>10.47277</td><td>12.6    </td></tr>\n",
       "\t<tr><th scope=row>16</th><td>17.57686</td><td>22.4    </td></tr>\n",
       "\t<tr><th scope=row>18</th><td>22.30194</td><td>24.4    </td></tr>\n",
       "\t<tr><th scope=row>19</th><td>10.64309</td><td>11.3    </td></tr>\n",
       "\t<tr><th scope=row>22</th><td>19.88446</td><td>17.5    </td></tr>\n",
       "\t<tr><th scope=row>26</th><td>21.28549</td><td>17.0    </td></tr>\n",
       "</tbody>\n",
       "</table>\n"
      ],
      "text/latex": [
       "\\begin{tabular}{r|ll}\n",
       "  & pred & real\\\\\n",
       "\\hline\n",
       "\t11 & 10.47277 & 12.6    \\\\\n",
       "\t16 & 17.57686 & 22.4    \\\\\n",
       "\t18 & 22.30194 & 24.4    \\\\\n",
       "\t19 & 10.64309 & 11.3    \\\\\n",
       "\t22 & 19.88446 & 17.5    \\\\\n",
       "\t26 & 21.28549 & 17.0    \\\\\n",
       "\\end{tabular}\n"
      ],
      "text/markdown": [
       "\n",
       "| <!--/--> | pred | real |\n",
       "|---|---|---|\n",
       "| 11 | 10.47277 | 12.6     |\n",
       "| 16 | 17.57686 | 22.4     |\n",
       "| 18 | 22.30194 | 24.4     |\n",
       "| 19 | 10.64309 | 11.3     |\n",
       "| 22 | 19.88446 | 17.5     |\n",
       "| 26 | 21.28549 | 17.0     |\n",
       "\n"
      ],
      "text/plain": [
       "   pred     real\n",
       "11 10.47277 12.6\n",
       "16 17.57686 22.4\n",
       "18 22.30194 24.4\n",
       "19 10.64309 11.3\n",
       "22 19.88446 17.5\n",
       "26 21.28549 17.0"
      ]
     },
     "metadata": {},
     "output_type": "display_data"
    }
   ],
   "source": [
    "results=cbind(Sales.predictions,test$Sales)\n",
    "colnames(results)=c('pred','real')\n",
    "results=as.data.frame(results)\n",
    "head(results)"
   ]
  },
  {
   "cell_type": "code",
   "execution_count": 28,
   "metadata": {},
   "outputs": [],
   "source": [
    "to_zero=function(x){\n",
    "  if (x<0){\n",
    "    return(0)\n",
    "  }else{\n",
    "    return(x)\n",
    "  }\n",
    "}"
   ]
  },
  {
   "cell_type": "code",
   "execution_count": 29,
   "metadata": {},
   "outputs": [
    {
     "data": {
      "text/html": [
       "<table>\n",
       "<thead><tr><th></th><th scope=col>pred</th><th scope=col>real</th></tr></thead>\n",
       "<tbody>\n",
       "\t<tr><th scope=row>11</th><td>10.47277</td><td>12.6    </td></tr>\n",
       "\t<tr><th scope=row>16</th><td>17.57686</td><td>22.4    </td></tr>\n",
       "\t<tr><th scope=row>18</th><td>22.30194</td><td>24.4    </td></tr>\n",
       "\t<tr><th scope=row>19</th><td>10.64309</td><td>11.3    </td></tr>\n",
       "\t<tr><th scope=row>22</th><td>19.88446</td><td>17.5    </td></tr>\n",
       "\t<tr><th scope=row>26</th><td>21.28549</td><td>17.0    </td></tr>\n",
       "</tbody>\n",
       "</table>\n"
      ],
      "text/latex": [
       "\\begin{tabular}{r|ll}\n",
       "  & pred & real\\\\\n",
       "\\hline\n",
       "\t11 & 10.47277 & 12.6    \\\\\n",
       "\t16 & 17.57686 & 22.4    \\\\\n",
       "\t18 & 22.30194 & 24.4    \\\\\n",
       "\t19 & 10.64309 & 11.3    \\\\\n",
       "\t22 & 19.88446 & 17.5    \\\\\n",
       "\t26 & 21.28549 & 17.0    \\\\\n",
       "\\end{tabular}\n"
      ],
      "text/markdown": [
       "\n",
       "| <!--/--> | pred | real |\n",
       "|---|---|---|\n",
       "| 11 | 10.47277 | 12.6     |\n",
       "| 16 | 17.57686 | 22.4     |\n",
       "| 18 | 22.30194 | 24.4     |\n",
       "| 19 | 10.64309 | 11.3     |\n",
       "| 22 | 19.88446 | 17.5     |\n",
       "| 26 | 21.28549 | 17.0     |\n",
       "\n"
      ],
      "text/plain": [
       "   pred     real\n",
       "11 10.47277 12.6\n",
       "16 17.57686 22.4\n",
       "18 22.30194 24.4\n",
       "19 10.64309 11.3\n",
       "22 19.88446 17.5\n",
       "26 21.28549 17.0"
      ]
     },
     "metadata": {},
     "output_type": "display_data"
    }
   ],
   "source": [
    "results$pred=sapply(results$pred,to_zero)\n",
    "head(results)"
   ]
  },
  {
   "cell_type": "code",
   "execution_count": 30,
   "metadata": {},
   "outputs": [
    {
     "name": "stdout",
     "output_type": "stream",
     "text": [
      "[1] 5.189018\n"
     ]
    },
    {
     "data": {
      "text/html": [
       "2.27794157829735"
      ],
      "text/latex": [
       "2.27794157829735"
      ],
      "text/markdown": [
       "2.27794157829735"
      ],
      "text/plain": [
       "[1] 2.277942"
      ]
     },
     "metadata": {},
     "output_type": "display_data"
    }
   ],
   "source": [
    "mse=mean((results$real-results$pred)^2)\n",
    "print(mse)\n",
    "\n",
    "mse^0.5"
   ]
  },
  {
   "cell_type": "markdown",
   "metadata": {},
   "source": [
    "• This is a RMSE value.RMSE is a measure of how spread out these residuals are. In other words, it tells you how con centrated the data is around the line of best fit"
   ]
  },
  {
   "cell_type": "code",
   "execution_count": 31,
   "metadata": {},
   "outputs": [
    {
     "data": {
      "text/html": [
       "0.815237732821102"
      ],
      "text/latex": [
       "0.815237732821102"
      ],
      "text/markdown": [
       "0.815237732821102"
      ],
      "text/plain": [
       "[1] 0.8152377"
      ]
     },
     "metadata": {},
     "output_type": "display_data"
    }
   ],
   "source": [
    "SSE=sum((results$pred-results$real)^2)\n",
    "SST=sum((mean(df$Sales)-results$real)^2)\n",
    "R2=1-SSE/SST\n",
    "R2"
   ]
  },
  {
   "cell_type": "markdown",
   "metadata": {},
   "source": [
    "• R-squared is a goodness-of-fit measure for linear regression models. \n",
    "• R-squared measures the strength of the relationship between your model and the dependent variable on a convenient 0 – 100% scale. \n",
    "• this model can explain more 81% of the variation."
   ]
  }
 ],
 "metadata": {
  "kernelspec": {
   "display_name": "R",
   "language": "R",
   "name": "ir"
  },
  "language_info": {
   "codemirror_mode": "r",
   "file_extension": ".r",
   "mimetype": "text/x-r-source",
   "name": "R",
   "pygments_lexer": "r",
   "version": "3.6.1"
  }
 },
 "nbformat": 4,
 "nbformat_minor": 2
}

{
 "cells": [
  {
   "cell_type": "markdown",
   "metadata": {},
   "source": [
    "LINEAR REGRESSION"
   ]
  },
  {
   "cell_type": "code",
   "execution_count": 3,
   "metadata": {},
   "outputs": [
    {
     "data": {
      "text/html": [
       "<table>\n",
       "<thead><tr><th scope=col>TV</th><th scope=col>Radio</th><th scope=col>Newspaper</th><th scope=col>Sales</th></tr></thead>\n",
       "<tbody>\n",
       "\t<tr><td>230.1</td><td>37.8 </td><td>69.2 </td><td>22.1 </td></tr>\n",
       "\t<tr><td> 44.5</td><td>39.3 </td><td>45.1 </td><td>10.4 </td></tr>\n",
       "\t<tr><td> 17.2</td><td>45.9 </td><td>69.3 </td><td>12.0 </td></tr>\n",
       "\t<tr><td>151.5</td><td>41.3 </td><td>58.5 </td><td>16.5 </td></tr>\n",
       "\t<tr><td>180.8</td><td>10.8 </td><td>58.4 </td><td>17.9 </td></tr>\n",
       "\t<tr><td>  8.7</td><td>48.9 </td><td>75.0 </td><td> 7.2 </td></tr>\n",
       "</tbody>\n",
       "</table>\n"
      ],
      "text/latex": [
       "\\begin{tabular}{r|llll}\n",
       " TV & Radio & Newspaper & Sales\\\\\n",
       "\\hline\n",
       "\t 230.1 & 37.8  & 69.2  & 22.1 \\\\\n",
       "\t  44.5 & 39.3  & 45.1  & 10.4 \\\\\n",
       "\t  17.2 & 45.9  & 69.3  & 12.0 \\\\\n",
       "\t 151.5 & 41.3  & 58.5  & 16.5 \\\\\n",
       "\t 180.8 & 10.8  & 58.4  & 17.9 \\\\\n",
       "\t   8.7 & 48.9  & 75.0  &  7.2 \\\\\n",
       "\\end{tabular}\n"
      ],
      "text/markdown": [
       "\n",
       "| TV | Radio | Newspaper | Sales |\n",
       "|---|---|---|---|\n",
       "| 230.1 | 37.8  | 69.2  | 22.1  |\n",
       "|  44.5 | 39.3  | 45.1  | 10.4  |\n",
       "|  17.2 | 45.9  | 69.3  | 12.0  |\n",
       "| 151.5 | 41.3  | 58.5  | 16.5  |\n",
       "| 180.8 | 10.8  | 58.4  | 17.9  |\n",
       "|   8.7 | 48.9  | 75.0  |  7.2  |\n",
       "\n"
      ],
      "text/plain": [
       "  TV    Radio Newspaper Sales\n",
       "1 230.1 37.8  69.2      22.1 \n",
       "2  44.5 39.3  45.1      10.4 \n",
       "3  17.2 45.9  69.3      12.0 \n",
       "4 151.5 41.3  58.5      16.5 \n",
       "5 180.8 10.8  58.4      17.9 \n",
       "6   8.7 48.9  75.0       7.2 "
      ]
     },
     "metadata": {},
     "output_type": "display_data"
    },
    {
     "data": {
      "text/plain": [
       "       TV             Radio          Newspaper          Sales      \n",
       " Min.   :  0.70   Min.   : 0.000   Min.   :  0.30   Min.   : 1.60  \n",
       " 1st Qu.: 74.38   1st Qu.: 9.975   1st Qu.: 12.75   1st Qu.:11.00  \n",
       " Median :149.75   Median :22.900   Median : 25.75   Median :16.00  \n",
       " Mean   :147.04   Mean   :23.264   Mean   : 30.55   Mean   :15.13  \n",
       " 3rd Qu.:218.82   3rd Qu.:36.525   3rd Qu.: 45.10   3rd Qu.:19.05  \n",
       " Max.   :296.40   Max.   :49.600   Max.   :114.00   Max.   :27.00  "
      ]
     },
     "metadata": {},
     "output_type": "display_data"
    }
   ],
   "source": [
    "df=read.csv('C:\\\\Users\\\\abine\\\\OneDrive\\\\Documents\\\\Datasets\\\\advertising\\\\advertising.csv',sep=',')\n",
    "head(df)\n",
    "summary(df)"
   ]
  },
  {
   "cell_type": "code",
   "execution_count": 4,
   "metadata": {},
   "outputs": [
    {
     "data": {
      "text/html": [
       "FALSE"
      ],
      "text/latex": [
       "FALSE"
      ],
      "text/markdown": [
       "FALSE"
      ],
      "text/plain": [
       "[1] FALSE"
      ]
     },
     "metadata": {},
     "output_type": "display_data"
    }
   ],
   "source": [
    "any(is.na(df))"
   ]
  },
  {
   "cell_type": "code",
   "execution_count": 12,
   "metadata": {},
   "outputs": [],
   "source": [
    "library(ggplot2)\n",
    "library(ggthemes)\n",
    "library(dplyr)"
   ]
  },
  {
   "cell_type": "code",
   "execution_count": 6,
   "metadata": {},
   "outputs": [
    {
     "data": {
      "text/html": [
       "<table>\n",
       "<thead><tr><th></th><th scope=col>TV</th><th scope=col>Radio</th><th scope=col>Newspaper</th><th scope=col>Sales</th></tr></thead>\n",
       "<tbody>\n",
       "\t<tr><th scope=row>TV</th><td>1.00000000</td><td>0.05480866</td><td>0.05664787</td><td>0.9012079 </td></tr>\n",
       "\t<tr><th scope=row>Radio</th><td>0.05480866</td><td>1.00000000</td><td>0.35410375</td><td>0.3496311 </td></tr>\n",
       "\t<tr><th scope=row>Newspaper</th><td>0.05664787</td><td>0.35410375</td><td>1.00000000</td><td>0.1579600 </td></tr>\n",
       "\t<tr><th scope=row>Sales</th><td>0.90120791</td><td>0.34963110</td><td>0.15796003</td><td>1.0000000 </td></tr>\n",
       "</tbody>\n",
       "</table>\n"
      ],
      "text/latex": [
       "\\begin{tabular}{r|llll}\n",
       "  & TV & Radio & Newspaper & Sales\\\\\n",
       "\\hline\n",
       "\tTV & 1.00000000 & 0.05480866 & 0.05664787 & 0.9012079 \\\\\n",
       "\tRadio & 0.05480866 & 1.00000000 & 0.35410375 & 0.3496311 \\\\\n",
       "\tNewspaper & 0.05664787 & 0.35410375 & 1.00000000 & 0.1579600 \\\\\n",
       "\tSales & 0.90120791 & 0.34963110 & 0.15796003 & 1.0000000 \\\\\n",
       "\\end{tabular}\n"
      ],
      "text/markdown": [
       "\n",
       "| <!--/--> | TV | Radio | Newspaper | Sales |\n",
       "|---|---|---|---|---|\n",
       "| TV | 1.00000000 | 0.05480866 | 0.05664787 | 0.9012079  |\n",
       "| Radio | 0.05480866 | 1.00000000 | 0.35410375 | 0.3496311  |\n",
       "| Newspaper | 0.05664787 | 0.35410375 | 1.00000000 | 0.1579600  |\n",
       "| Sales | 0.90120791 | 0.34963110 | 0.15796003 | 1.0000000  |\n",
       "\n"
      ],
      "text/plain": [
       "          TV         Radio      Newspaper  Sales    \n",
       "TV        1.00000000 0.05480866 0.05664787 0.9012079\n",
       "Radio     0.05480866 1.00000000 0.35410375 0.3496311\n",
       "Newspaper 0.05664787 0.35410375 1.00000000 0.1579600\n",
       "Sales     0.90120791 0.34963110 0.15796003 1.0000000"
      ]
     },
     "metadata": {},
     "output_type": "display_data"
    }
   ],
   "source": [
    "num.cols=sapply(df,is.numeric)\n",
    "cor.data=cor(df[,num.cols])\n",
    "cor.data"
   ]
  },
  {
   "cell_type": "code",
   "execution_count": 12,
   "metadata": {},
   "outputs": [
    {
     "name": "stderr",
     "output_type": "stream",
     "text": [
      "Installing package into 'C:/Users/abine/OneDrive/Documents/R/win-library/3.6'\n",
      "(as 'lib' is unspecified)\n"
     ]
    },
    {
     "name": "stdout",
     "output_type": "stream",
     "text": [
      "package 'corrgram' successfully unpacked and MD5 sums checked\n",
      "\n",
      "The downloaded binary packages are in\n",
      "\tC:\\Users\\abine\\AppData\\Local\\Temp\\Rtmps5oPEA\\downloaded_packages\n"
     ]
    },
    {
     "name": "stderr",
     "output_type": "stream",
     "text": [
      "Installing package into 'C:/Users/abine/OneDrive/Documents/R/win-library/3.6'\n",
      "(as 'lib' is unspecified)\n"
     ]
    },
    {
     "name": "stdout",
     "output_type": "stream",
     "text": [
      "package 'corrplot' successfully unpacked and MD5 sums checked\n",
      "\n",
      "The downloaded binary packages are in\n",
      "\tC:\\Users\\abine\\AppData\\Local\\Temp\\Rtmps5oPEA\\downloaded_packages\n"
     ]
    }
   ],
   "source": [
    "install.packages('corrgram')\n",
    "install.packages('corrplot')"
   ]
  },
  {
   "cell_type": "code",
   "execution_count": 7,
   "metadata": {},
   "outputs": [
    {
     "name": "stderr",
     "output_type": "stream",
     "text": [
      "Warning message:\n",
      "\"package 'corrgram' was built under R version 3.6.2\"Registered S3 method overwritten by 'seriation':\n",
      "  method         from \n",
      "  reorder.hclust gclus\n",
      "Warning message:\n",
      "\"package 'corrplot' was built under R version 3.6.2\"corrplot 0.84 loaded\n"
     ]
    }
   ],
   "source": [
    "library('corrgram')\n",
    "library('corrplot')"
   ]
  },
  {
   "cell_type": "code",
   "execution_count": 8,
   "metadata": {
    "scrolled": false
   },
   "outputs": [
    {
     "data": {
      "image/png": "[encoded data removed]",
      "text/plain": [
       "Plot with title \"\""
      ]
     },
     "metadata": {},
     "output_type": "display_data"
    }
   ],
   "source": [
    "corrplot(cor.data,method='color')"
   ]
  },
  {
   "cell_type": "markdown",
   "metadata": {},
   "source": [
    "INTERPRETATION\n",
    "There is positive correlation between Y.house.price.of.unit.area and X4,X5 and X6 in order.\n",
    "i.e house price of unit area increase/decreases while no. of convenience stores,lattitude and longitude increases/decreases\n",
    "There is negative correlation between X3.distance.to.the.nearest.MRT.station and X5,X4,Y,X6 in order.\n",
    "i.e the change distance to the metro station is inversely proportional to no. of convenience stores,lattitude,longitude,and house price of unit area"
   ]
  },
  {
   "cell_type": "code",
   "execution_count": 9,
   "metadata": {},
   "outputs": [
    {
     "data": {
      "image/png": "[encoded data removed]",
      "text/plain": [
       "plot without title"
      ]
     },
     "metadata": {},
     "output_type": "display_data"
    }
   ],
   "source": [
    "corrgram(df,order=TRUE, lower.panel=panel.shade,\n",
    "         upper.panel=panel.pie, text.panel=panel.txt)"
   ]
  },
  {
   "cell_type": "code",
   "execution_count": null,
   "metadata": {},
   "outputs": [],
   "source": [
    "INTERPRETATION\n",
    "Different Visual Representation of the above graph"
   ]
  },
  {
   "cell_type": "code",
   "execution_count": 14,
   "metadata": {},
   "outputs": [
    {
     "data": {
      "image/png": "[encoded data removed]",
      "text/plain": [
       "plot without title"
      ]
     },
     "metadata": {},
     "output_type": "display_data"
    }
   ],
   "source": [
    "ggplot(df,aes(x=Sales))+geom_histogram(bins=20,alpha=0.5,fill='blue')+theme_minimal()"
   ]
  },
  {
   "cell_type": "markdown",
   "metadata": {},
   "source": [
    "INTERPRETATION\n",
    "The average price per unit area is around 37 units"
   ]
  },
  {
   "cell_type": "code",
   "execution_count": 15,
   "metadata": {},
   "outputs": [
    {
     "name": "stderr",
     "output_type": "stream",
     "text": [
      "Warning message:\n",
      "\"package 'caTools' was built under R version 3.6.2\""
     ]
    }
   ],
   "source": [
    "library(caTools)\n",
    "\n",
    "sample=sample.split(df$Sales,SplitRatio = 0.70)\n",
    "\n",
    "train=subset(df,sample==TRUE)\n",
    "test=subset(df,sample==FALSE)"
   ]
  },
  {
   "cell_type": "code",
   "execution_count": 16,
   "metadata": {},
   "outputs": [
    {
     "data": {
      "text/plain": [
       "\n",
       "Call:\n",
       "lm(formula = Sales ~ ., data = train)\n",
       "\n",
       "Residuals:\n",
       "    Min      1Q  Median      3Q     Max \n",
       "-3.2193 -0.8526 -0.1023  0.9225  3.6163 \n",
       "\n",
       "Coefficients:\n",
       "             Estimate Std. Error t value Pr(>|t|)    \n",
       "(Intercept)  4.886012   0.334288   14.62   <2e-16 ***\n",
       "TV           0.052717   0.001584   33.28   <2e-16 ***\n",
       "Radio        0.114593   0.009562   11.98   <2e-16 ***\n",
       "Newspaper   -0.002129   0.006873   -0.31    0.757    \n",
       "---\n",
       "Signif. codes:  0 '***' 0.001 '**' 0.01 '*' 0.05 '.' 0.1 ' ' 1\n",
       "\n",
       "Residual standard error: 1.553 on 136 degrees of freedom\n",
       "Multiple R-squared:  0.912,\tAdjusted R-squared:  0.9101 \n",
       "F-statistic:   470 on 3 and 136 DF,  p-value: < 2.2e-16\n"
      ]
     },
     "metadata": {},
     "output_type": "display_data"
    }
   ],
   "source": [
    "model=lm(Sales~.,train)\n",
    "\n",
    "summary(model)"
   ]
  },
  {
   "cell_type": "markdown",
   "metadata": {},
   "source": [
    "INTERPRETATION\n",
    "• Here Y.house.price.of.unit.area is the dependent variable we want to predict \n",
    "• Here, we have the intercept and coefficients for value (Estimate)\n",
    "• Residuals is difference between observed and predicted value of dependent variable \n",
    "• Higher the number of *’s indicates higher the significance level(It’s based on p-value. Lesser the p-value, more the stars)\n",
    "• Here X4,X2,X3,X5,X1 has high significance level in order\n",
    "• p-value is the probability of a variable being not relevant\n",
    "•House age,distance to the metro station,no. of convenience stores,latitude and transaction date has high significance in data\n",
    "• t value shows how many S.D’s the  Coefficient is away from Zero "
   ]
  },
  {
   "cell_type": "code",
   "execution_count": 17,
   "metadata": {},
   "outputs": [
    {
     "data": {
      "text/html": [
       "<table>\n",
       "<thead><tr><th></th><th scope=col>res</th></tr></thead>\n",
       "<tbody>\n",
       "\t<tr><th scope=row>1</th><td> 0.8995226</td></tr>\n",
       "\t<tr><th scope=row>3</th><td> 1.0949690</td></tr>\n",
       "\t<tr><th scope=row>4</th><td>-0.9807770</td></tr>\n",
       "\t<tr><th scope=row>5</th><td> 2.3694780</td></tr>\n",
       "\t<tr><th scope=row>7</th><td> 0.1741502</td></tr>\n",
       "\t<tr><th scope=row>8</th><td>-0.2439092</td></tr>\n",
       "</tbody>\n",
       "</table>\n"
      ],
      "text/latex": [
       "\\begin{tabular}{r|l}\n",
       "  & res\\\\\n",
       "\\hline\n",
       "\t1 &  0.8995226\\\\\n",
       "\t3 &  1.0949690\\\\\n",
       "\t4 & -0.9807770\\\\\n",
       "\t5 &  2.3694780\\\\\n",
       "\t7 &  0.1741502\\\\\n",
       "\t8 & -0.2439092\\\\\n",
       "\\end{tabular}\n"
      ],
      "text/markdown": [
       "\n",
       "| <!--/--> | res |\n",
       "|---|---|\n",
       "| 1 |  0.8995226 |\n",
       "| 3 |  1.0949690 |\n",
       "| 4 | -0.9807770 |\n",
       "| 5 |  2.3694780 |\n",
       "| 7 |  0.1741502 |\n",
       "| 8 | -0.2439092 |\n",
       "\n"
      ],
      "text/plain": [
       "  res       \n",
       "1  0.8995226\n",
       "3  1.0949690\n",
       "4 -0.9807770\n",
       "5  2.3694780\n",
       "7  0.1741502\n",
       "8 -0.2439092"
      ]
     },
     "metadata": {},
     "output_type": "display_data"
    }
   ],
   "source": [
    "res=residuals(model)\n",
    "\n",
    "res=as.data.frame(res)\n",
    "head(res)"
   ]
  },
  {
   "cell_type": "code",
   "execution_count": 18,
   "metadata": {},
   "outputs": [
    {
     "name": "stderr",
     "output_type": "stream",
     "text": [
      "`stat_bin()` using `bins = 30`. Pick better value with `binwidth`.\n"
     ]
    },
    {
     "data": {
      "image/png": "[encoded data removed]",
      "text/plain": [
       "plot without title"
      ]
     },
     "metadata": {},
     "output_type": "display_data"
    }
   ],
   "source": [
    "ggplot(res,aes(res))+geom_histogram(fill='blue',alpha=0.5)"
   ]
  },
  {
   "cell_type": "markdown",
   "metadata": {},
   "source": [
    "Plotting Residuals to check whether its Normal Distribution"
   ]
  },
  {
   "cell_type": "code",
   "execution_count": 19,
   "metadata": {},
   "outputs": [
    {
     "data": {
      "text/html": [
       "<dl class=dl-horizontal>\n",
       "\t<dt>2</dt>\n",
       "\t\t<dd>11.6394039272262</dd>\n",
       "\t<dt>6</dt>\n",
       "\t\t<dd>10.7885818711978</dd>\n",
       "\t<dt>18</dt>\n",
       "\t\t<dd>24.1396455355681</dd>\n",
       "\t<dt>23</dt>\n",
       "\t\t<dd>7.2983189978163</dd>\n",
       "\t<dt>25</dt>\n",
       "\t\t<dd>9.57518948212775</dd>\n",
       "\t<dt>27</dt>\n",
       "\t\t<dd>15.750002858542</dd>\n",
       "</dl>\n"
      ],
      "text/latex": [
       "\\begin{description*}\n",
       "\\item[2] 11.6394039272262\n",
       "\\item[6] 10.7885818711978\n",
       "\\item[18] 24.1396455355681\n",
       "\\item[23] 7.2983189978163\n",
       "\\item[25] 9.57518948212775\n",
       "\\item[27] 15.750002858542\n",
       "\\end{description*}\n"
      ],
      "text/markdown": [
       "2\n",
       ":   11.63940392722626\n",
       ":   10.788581871197818\n",
       ":   24.139645535568123\n",
       ":   7.298318997816325\n",
       ":   9.5751894821277527\n",
       ":   15.750002858542\n",
       "\n"
      ],
      "text/plain": [
       "        2         6        18        23        25        27 \n",
       "11.639404 10.788582 24.139646  7.298319  9.575189 15.750003 "
      ]
     },
     "metadata": {},
     "output_type": "display_data"
    }
   ],
   "source": [
    "Sales.predictions=predict(model,test)\n",
    "head(Sales.predictions)"
   ]
  },
  {
   "cell_type": "code",
   "execution_count": 20,
   "metadata": {},
   "outputs": [
    {
     "data": {
      "text/html": [
       "<table>\n",
       "<thead><tr><th></th><th scope=col>pred</th><th scope=col>real</th></tr></thead>\n",
       "<tbody>\n",
       "\t<tr><th scope=row>2</th><td>11.639404</td><td>10.4     </td></tr>\n",
       "\t<tr><th scope=row>6</th><td>10.788582</td><td> 7.2     </td></tr>\n",
       "\t<tr><th scope=row>18</th><td>24.139646</td><td>24.4     </td></tr>\n",
       "\t<tr><th scope=row>23</th><td> 7.298319</td><td> 5.6     </td></tr>\n",
       "\t<tr><th scope=row>25</th><td> 9.575189</td><td> 9.7     </td></tr>\n",
       "\t<tr><th scope=row>27</th><td>15.750003</td><td>15.0     </td></tr>\n",
       "</tbody>\n",
       "</table>\n"
      ],
      "text/latex": [
       "\\begin{tabular}{r|ll}\n",
       "  & pred & real\\\\\n",
       "\\hline\n",
       "\t2 & 11.639404 & 10.4     \\\\\n",
       "\t6 & 10.788582 &  7.2     \\\\\n",
       "\t18 & 24.139646 & 24.4     \\\\\n",
       "\t23 &  7.298319 &  5.6     \\\\\n",
       "\t25 &  9.575189 &  9.7     \\\\\n",
       "\t27 & 15.750003 & 15.0     \\\\\n",
       "\\end{tabular}\n"
      ],
      "text/markdown": [
       "\n",
       "| <!--/--> | pred | real |\n",
       "|---|---|---|\n",
       "| 2 | 11.639404 | 10.4      |\n",
       "| 6 | 10.788582 |  7.2      |\n",
       "| 18 | 24.139646 | 24.4      |\n",
       "| 23 |  7.298319 |  5.6      |\n",
       "| 25 |  9.575189 |  9.7      |\n",
       "| 27 | 15.750003 | 15.0      |\n",
       "\n"
      ],
      "text/plain": [
       "   pred      real\n",
       "2  11.639404 10.4\n",
       "6  10.788582  7.2\n",
       "18 24.139646 24.4\n",
       "23  7.298319  5.6\n",
       "25  9.575189  9.7\n",
       "27 15.750003 15.0"
      ]
     },
     "metadata": {},
     "output_type": "display_data"
    }
   ],
   "source": [
    "results=cbind(Sales.predictions,test$Sales)\n",
    "colnames(results)=c('pred','real')\n",
    "results=as.data.frame(results)\n",
    "head(results)"
   ]
  },
  {
   "cell_type": "code",
   "execution_count": 21,
   "metadata": {},
   "outputs": [],
   "source": [
    "to_zero=function(x){\n",
    "  if (x<0){\n",
    "    return(0)\n",
    "  }else{\n",
    "    return(x)\n",
    "  }\n",
    "}"
   ]
  },
  {
   "cell_type": "code",
   "execution_count": 22,
   "metadata": {},
   "outputs": [
    {
     "data": {
      "text/html": [
       "<table>\n",
       "<thead><tr><th></th><th scope=col>pred</th><th scope=col>real</th></tr></thead>\n",
       "<tbody>\n",
       "\t<tr><th scope=row>2</th><td>11.639404</td><td>10.4     </td></tr>\n",
       "\t<tr><th scope=row>6</th><td>10.788582</td><td> 7.2     </td></tr>\n",
       "\t<tr><th scope=row>18</th><td>24.139646</td><td>24.4     </td></tr>\n",
       "\t<tr><th scope=row>23</th><td> 7.298319</td><td> 5.6     </td></tr>\n",
       "\t<tr><th scope=row>25</th><td> 9.575189</td><td> 9.7     </td></tr>\n",
       "\t<tr><th scope=row>27</th><td>15.750003</td><td>15.0     </td></tr>\n",
       "</tbody>\n",
       "</table>\n"
      ],
      "text/latex": [
       "\\begin{tabular}{r|ll}\n",
       "  & pred & real\\\\\n",
       "\\hline\n",
       "\t2 & 11.639404 & 10.4     \\\\\n",
       "\t6 & 10.788582 &  7.2     \\\\\n",
       "\t18 & 24.139646 & 24.4     \\\\\n",
       "\t23 &  7.298319 &  5.6     \\\\\n",
       "\t25 &  9.575189 &  9.7     \\\\\n",
       "\t27 & 15.750003 & 15.0     \\\\\n",
       "\\end{tabular}\n"
      ],
      "text/markdown": [
       "\n",
       "| <!--/--> | pred | real |\n",
       "|---|---|---|\n",
       "| 2 | 11.639404 | 10.4      |\n",
       "| 6 | 10.788582 |  7.2      |\n",
       "| 18 | 24.139646 | 24.4      |\n",
       "| 23 |  7.298319 |  5.6      |\n",
       "| 25 |  9.575189 |  9.7      |\n",
       "| 27 | 15.750003 | 15.0      |\n",
       "\n"
      ],
      "text/plain": [
       "   pred      real\n",
       "2  11.639404 10.4\n",
       "6  10.788582  7.2\n",
       "18 24.139646 24.4\n",
       "23  7.298319  5.6\n",
       "25  9.575189  9.7\n",
       "27 15.750003 15.0"
      ]
     },
     "metadata": {},
     "output_type": "display_data"
    }
   ],
   "source": [
    "results$pred=sapply(results$pred,to_zero)\n",
    "head(results)"
   ]
  },
  {
   "cell_type": "code",
   "execution_count": 23,
   "metadata": {},
   "outputs": [
    {
     "name": "stdout",
     "output_type": "stream",
     "text": [
      "[1] 3.69817\n"
     ]
    },
    {
     "data": {
      "text/html": [
       "1.92306271198183"
      ],
      "text/latex": [
       "1.92306271198183"
      ],
      "text/markdown": [
       "1.92306271198183"
      ],
      "text/plain": [
       "[1] 1.923063"
      ]
     },
     "metadata": {},
     "output_type": "display_data"
    }
   ],
   "source": [
    "mse=mean((results$real-results$pred)^2)\n",
    "print(mse)\n",
    "\n",
    "mse^0.5"
   ]
  },
  {
   "cell_type": "markdown",
   "metadata": {},
   "source": [
    "• This is a RMSE value.RMSE is a measure of how spread out these residuals are. In other words, it tells you how con centrated the data is around the line of best fit"
   ]
  },
  {
   "cell_type": "code",
   "execution_count": 25,
   "metadata": {},
   "outputs": [
    {
     "data": {
      "text/html": [
       "0.878329240452628"
      ],
      "text/latex": [
       "0.878329240452628"
      ],
      "text/markdown": [
       "0.878329240452628"
      ],
      "text/plain": [
       "[1] 0.8783292"
      ]
     },
     "metadata": {},
     "output_type": "display_data"
    }
   ],
   "source": [
    "SSE=sum((results$pred-results$real)^2)\n",
    "SST=sum((mean(df$Sales)-results$real)^2)\n",
    "R2=1-SSE/SST\n",
    "R2"
   ]
  },
  {
   "cell_type": "markdown",
   "metadata": {},
   "source": [
    "• R-squared is a goodness-of-fit measure for linear regression models.\n",
    "• R-squared measures the strength of the relationship between your model and the dependent variable on a convenient 0 – 100% scale. \n",
    "• this model can explain more 64.7% of the variation."
   ]
  },
  {
   "cell_type": "markdown",
   "metadata": {},
   "source": [
    "SIMPLE LINEAR REGRESSION"
   ]
  },
  {
   "cell_type": "code",
   "execution_count": 26,
   "metadata": {},
   "outputs": [
    {
     "data": {
      "text/plain": [
       "\n",
       "Call:\n",
       "lm(formula = Sales ~ TV, data = train)\n",
       "\n",
       "Residuals:\n",
       "    Min      1Q  Median      3Q     Max \n",
       "-5.4583 -1.5342  0.0443  1.5031  5.7485 \n",
       "\n",
       "Coefficients:\n",
       "            Estimate Std. Error t value Pr(>|t|)    \n",
       "(Intercept) 6.940802   0.390858   17.76   <2e-16 ***\n",
       "TV          0.055358   0.002331   23.75   <2e-16 ***\n",
       "---\n",
       "Signif. codes:  0 '***' 0.001 '**' 0.01 '*' 0.05 '.' 0.1 ' ' 1\n",
       "\n",
       "Residual standard error: 2.305 on 138 degrees of freedom\n",
       "Multiple R-squared:  0.8034,\tAdjusted R-squared:  0.8019 \n",
       "F-statistic: 563.8 on 1 and 138 DF,  p-value: < 2.2e-16\n"
      ]
     },
     "metadata": {},
     "output_type": "display_data"
    }
   ],
   "source": [
    "model=lm(Sales~TV,train)\n",
    "\n",
    "summary(model)"
   ]
  },
  {
   "cell_type": "markdown",
   "metadata": {},
   "source": [
    "INTERPRETATION\n",
    "• Here Y.house.price.of.unit.area is the dependent variable we want to predict \n",
    "• Here, we have the intercept and coefficients for value (Estimate)\n",
    "• Residuals is difference between observed and predicted value of dependent variable \n",
    "• Higher the number of *’s indicates higher the significance level(It’s based on p-value. Lesser the p-value, more the stars)\n",
    "• Here X3 i.e distance to metro stattion has high significance level\n",
    "• p-value is the probability of a variable being not relevant\n",
    "• t value shows how many S.D’s the  Coefficient is away from Zero "
   ]
  },
  {
   "cell_type": "code",
   "execution_count": 27,
   "metadata": {},
   "outputs": [
    {
     "data": {
      "text/html": [
       "<table>\n",
       "<thead><tr><th></th><th scope=col>res</th></tr></thead>\n",
       "<tbody>\n",
       "\t<tr><th scope=row>1</th><td> 2.421363</td></tr>\n",
       "\t<tr><th scope=row>3</th><td> 4.107044</td></tr>\n",
       "\t<tr><th scope=row>4</th><td> 1.172488</td></tr>\n",
       "\t<tr><th scope=row>5</th><td> 0.950504</td></tr>\n",
       "\t<tr><th scope=row>7</th><td> 1.676123</td></tr>\n",
       "\t<tr><th scope=row>8</th><td>-0.394812</td></tr>\n",
       "</tbody>\n",
       "</table>\n"
      ],
      "text/latex": [
       "\\begin{tabular}{r|l}\n",
       "  & res\\\\\n",
       "\\hline\n",
       "\t1 &  2.421363\\\\\n",
       "\t3 &  4.107044\\\\\n",
       "\t4 &  1.172488\\\\\n",
       "\t5 &  0.950504\\\\\n",
       "\t7 &  1.676123\\\\\n",
       "\t8 & -0.394812\\\\\n",
       "\\end{tabular}\n"
      ],
      "text/markdown": [
       "\n",
       "| <!--/--> | res |\n",
       "|---|---|\n",
       "| 1 |  2.421363 |\n",
       "| 3 |  4.107044 |\n",
       "| 4 |  1.172488 |\n",
       "| 5 |  0.950504 |\n",
       "| 7 |  1.676123 |\n",
       "| 8 | -0.394812 |\n",
       "\n"
      ],
      "text/plain": [
       "  res      \n",
       "1  2.421363\n",
       "3  4.107044\n",
       "4  1.172488\n",
       "5  0.950504\n",
       "7  1.676123\n",
       "8 -0.394812"
      ]
     },
     "metadata": {},
     "output_type": "display_data"
    }
   ],
   "source": [
    "res=residuals(model)\n",
    "\n",
    "res=as.data.frame(res)\n",
    "head(res)"
   ]
  },
  {
   "cell_type": "code",
   "execution_count": 28,
   "metadata": {},
   "outputs": [
    {
     "name": "stderr",
     "output_type": "stream",
     "text": [
      "`stat_bin()` using `bins = 30`. Pick better value with `binwidth`.\n"
     ]
    },
    {
     "data": {
      "image/png": "[encoded data removed]",
      "text/plain": [
       "plot without title"
      ]
     },
     "metadata": {},
     "output_type": "display_data"
    }
   ],
   "source": [
    "ggplot(res,aes(res))+geom_histogram(fill='blue',alpha=0.5)"
   ]
  },
  {
   "cell_type": "markdown",
   "metadata": {},
   "source": [
    "Plotting Residuals to check whether its Normal Distribution"
   ]
  },
  {
   "cell_type": "code",
   "execution_count": 29,
   "metadata": {},
   "outputs": [
    {
     "data": {
      "text/html": [
       "<dl class=dl-horizontal>\n",
       "\t<dt>2</dt>\n",
       "\t\t<dd>9.40422495535594</dd>\n",
       "\t<dt>6</dt>\n",
       "\t\t<dd>7.42241495324819</dd>\n",
       "\t<dt>18</dt>\n",
       "\t\t<dd>22.5184928184656</dd>\n",
       "\t<dt>23</dt>\n",
       "\t\t<dd>7.67152514904386</dd>\n",
       "\t<dt>25</dt>\n",
       "\t\t<dd>10.389594174281</dd>\n",
       "\t<dt>27</dt>\n",
       "\t\t<dd>14.8514345700879</dd>\n",
       "</dl>\n"
      ],
      "text/latex": [
       "\\begin{description*}\n",
       "\\item[2] 9.40422495535594\n",
       "\\item[6] 7.42241495324819\n",
       "\\item[18] 22.5184928184656\n",
       "\\item[23] 7.67152514904386\n",
       "\\item[25] 10.389594174281\n",
       "\\item[27] 14.8514345700879\n",
       "\\end{description*}\n"
      ],
      "text/markdown": [
       "2\n",
       ":   9.404224955355946\n",
       ":   7.4224149532481918\n",
       ":   22.518492818465623\n",
       ":   7.6715251490438625\n",
       ":   10.38959417428127\n",
       ":   14.8514345700879\n",
       "\n"
      ],
      "text/plain": [
       "        2         6        18        23        25        27 \n",
       " 9.404225  7.422415 22.518493  7.671525 10.389594 14.851435 "
      ]
     },
     "metadata": {},
     "output_type": "display_data"
    }
   ],
   "source": [
    "Sales.predictions=predict(model,test)\n",
    "head(Sales.predictions)"
   ]
  },
  {
   "cell_type": "code",
   "execution_count": 30,
   "metadata": {},
   "outputs": [
    {
     "data": {
      "text/html": [
       "<table>\n",
       "<thead><tr><th></th><th scope=col>pred</th><th scope=col>real</th></tr></thead>\n",
       "<tbody>\n",
       "\t<tr><th scope=row>2</th><td> 9.404225</td><td>10.4     </td></tr>\n",
       "\t<tr><th scope=row>6</th><td> 7.422415</td><td> 7.2     </td></tr>\n",
       "\t<tr><th scope=row>18</th><td>22.518493</td><td>24.4     </td></tr>\n",
       "\t<tr><th scope=row>23</th><td> 7.671525</td><td> 5.6     </td></tr>\n",
       "\t<tr><th scope=row>25</th><td>10.389594</td><td> 9.7     </td></tr>\n",
       "\t<tr><th scope=row>27</th><td>14.851435</td><td>15.0     </td></tr>\n",
       "</tbody>\n",
       "</table>\n"
      ],
      "text/latex": [
       "\\begin{tabular}{r|ll}\n",
       "  & pred & real\\\\\n",
       "\\hline\n",
       "\t2 &  9.404225 & 10.4     \\\\\n",
       "\t6 &  7.422415 &  7.2     \\\\\n",
       "\t18 & 22.518493 & 24.4     \\\\\n",
       "\t23 &  7.671525 &  5.6     \\\\\n",
       "\t25 & 10.389594 &  9.7     \\\\\n",
       "\t27 & 14.851435 & 15.0     \\\\\n",
       "\\end{tabular}\n"
      ],
      "text/markdown": [
       "\n",
       "| <!--/--> | pred | real |\n",
       "|---|---|---|\n",
       "| 2 |  9.404225 | 10.4      |\n",
       "| 6 |  7.422415 |  7.2      |\n",
       "| 18 | 22.518493 | 24.4      |\n",
       "| 23 |  7.671525 |  5.6      |\n",
       "| 25 | 10.389594 |  9.7      |\n",
       "| 27 | 14.851435 | 15.0      |\n",
       "\n"
      ],
      "text/plain": [
       "   pred      real\n",
       "2   9.404225 10.4\n",
       "6   7.422415  7.2\n",
       "18 22.518493 24.4\n",
       "23  7.671525  5.6\n",
       "25 10.389594  9.7\n",
       "27 14.851435 15.0"
      ]
     },
     "metadata": {},
     "output_type": "display_data"
    }
   ],
   "source": [
    "results=cbind(Sales.predictions,test$Sales)\n",
    "colnames(results)=c('pred','real')\n",
    "results=as.data.frame(results)\n",
    "head(results)"
   ]
  },
  {
   "cell_type": "code",
   "execution_count": 31,
   "metadata": {},
   "outputs": [],
   "source": [
    "to_zero=function(x){\n",
    "  if (x<0){\n",
    "    return(0)\n",
    "  }else{\n",
    "    return(x)\n",
    "  }\n",
    "}"
   ]
  },
  {
   "cell_type": "code",
   "execution_count": 32,
   "metadata": {},
   "outputs": [
    {
     "data": {
      "text/html": [
       "<table>\n",
       "<thead><tr><th></th><th scope=col>pred</th><th scope=col>real</th></tr></thead>\n",
       "<tbody>\n",
       "\t<tr><th scope=row>2</th><td> 9.404225</td><td>10.4     </td></tr>\n",
       "\t<tr><th scope=row>6</th><td> 7.422415</td><td> 7.2     </td></tr>\n",
       "\t<tr><th scope=row>18</th><td>22.518493</td><td>24.4     </td></tr>\n",
       "\t<tr><th scope=row>23</th><td> 7.671525</td><td> 5.6     </td></tr>\n",
       "\t<tr><th scope=row>25</th><td>10.389594</td><td> 9.7     </td></tr>\n",
       "\t<tr><th scope=row>27</th><td>14.851435</td><td>15.0     </td></tr>\n",
       "</tbody>\n",
       "</table>\n"
      ],
      "text/latex": [
       "\\begin{tabular}{r|ll}\n",
       "  & pred & real\\\\\n",
       "\\hline\n",
       "\t2 &  9.404225 & 10.4     \\\\\n",
       "\t6 &  7.422415 &  7.2     \\\\\n",
       "\t18 & 22.518493 & 24.4     \\\\\n",
       "\t23 &  7.671525 &  5.6     \\\\\n",
       "\t25 & 10.389594 &  9.7     \\\\\n",
       "\t27 & 14.851435 & 15.0     \\\\\n",
       "\\end{tabular}\n"
      ],
      "text/markdown": [
       "\n",
       "| <!--/--> | pred | real |\n",
       "|---|---|---|\n",
       "| 2 |  9.404225 | 10.4      |\n",
       "| 6 |  7.422415 |  7.2      |\n",
       "| 18 | 22.518493 | 24.4      |\n",
       "| 23 |  7.671525 |  5.6      |\n",
       "| 25 | 10.389594 |  9.7      |\n",
       "| 27 | 14.851435 | 15.0      |\n",
       "\n"
      ],
      "text/plain": [
       "   pred      real\n",
       "2   9.404225 10.4\n",
       "6   7.422415  7.2\n",
       "18 22.518493 24.4\n",
       "23  7.671525  5.6\n",
       "25 10.389594  9.7\n",
       "27 14.851435 15.0"
      ]
     },
     "metadata": {},
     "output_type": "display_data"
    }
   ],
   "source": [
    "results$pred=sapply(results$pred,to_zero)\n",
    "head(results)"
   ]
  },
  {
   "cell_type": "code",
   "execution_count": 33,
   "metadata": {},
   "outputs": [
    {
     "name": "stdout",
     "output_type": "stream",
     "text": [
      "[1] 5.178811\n"
     ]
    },
    {
     "data": {
      "text/html": [
       "2.27570007818498"
      ],
      "text/latex": [
       "2.27570007818498"
      ],
      "text/markdown": [
       "2.27570007818498"
      ],
      "text/plain": [
       "[1] 2.2757"
      ]
     },
     "metadata": {},
     "output_type": "display_data"
    }
   ],
   "source": [
    "mse=mean((results$real-results$pred)^2)\n",
    "print(mse)\n",
    "\n",
    "mse^0.5"
   ]
  },
  {
   "cell_type": "markdown",
   "metadata": {},
   "source": [
    "• This is a RMSE value.RMSE is a measure of how spread out these residuals are. In other words, it tells you how con centrated the data is around the line of best fit"
   ]
  },
  {
   "cell_type": "code",
   "execution_count": 35,
   "metadata": {},
   "outputs": [
    {
     "data": {
      "text/html": [
       "0.829615778594354"
      ],
      "text/latex": [
       "0.829615778594354"
      ],
      "text/markdown": [
       "0.829615778594354"
      ],
      "text/plain": [
       "[1] 0.8296158"
      ]
     },
     "metadata": {},
     "output_type": "display_data"
    }
   ],
   "source": [
    "SSE=sum((results$pred-results$real)^2)\n",
    "SST=sum((mean(df$Sales)-results$real)^2)\n",
    "R2=1-SSE/SST\n",
    "R2"
   ]
  },
  {
   "cell_type": "markdown",
   "metadata": {},
   "source": [
    "• R-squared is a goodness-of-fit measure for linear regression models. \n",
    "• R-squared measures the strength of the relationship between your model and the dependent variable on a convenient 0 – 100% scale. \n",
    "• this model can explain more 52% of the variation."
   ]
  }
 ],
 "metadata": {
  "kernelspec": {
   "display_name": "R",
   "language": "R",
   "name": "ir"
  },
  "language_info": {
   "codemirror_mode": "r",
   "file_extension": ".r",
   "mimetype": "text/x-r-source",
   "name": "R",
   "pygments_lexer": "r",
   "version": "3.6.1"
  }
 },
 "nbformat": 4,
 "nbformat_minor": 2
}

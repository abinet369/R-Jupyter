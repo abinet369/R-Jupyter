{
 "cells": [
  {
   "cell_type": "markdown",
   "metadata": {},
   "source": [
    "We are going to analyze how the sentiment of the State of the Union address, which is a speech\n",
    "given by the President of the United States to a joint session of congress every year. I’m interested\n",
    "in seeing how sentiment has changed over time, from 1989 to 2020, and whether different presidents\n",
    "tend to have more negative or more positive sentiment."
   ]
  },
  {
   "cell_type": "code",
   "execution_count": 3,
   "metadata": {},
   "outputs": [],
   "source": [
    "# load in the libraries we'll need\n",
    "library(tidyverse)\n",
    "library(tidytext)\n",
    "library(glue)\n",
    "library(stringr)"
   ]
  },
  {
   "cell_type": "code",
   "execution_count": 8,
   "metadata": {},
   "outputs": [
    {
     "name": "stdout",
     "output_type": "stream",
     "text": [
      "[1] \"Adams_1797.txt\" \"Adams_1798.txt\" \"Adams_1799.txt\" \"Adams_1800.txt\"\n",
      "[5] \"Adams_1825.txt\" \"Adams_1826.txt\"\n"
     ]
    }
   ],
   "source": [
    "files <- list.files('C:\\\\Users\\\\abine\\\\Dropbox\\\\College\\\\Semester 2\\\\S2 Work\\\\Prog for DS in R\\\\5. NLP\\\\state-of-the-union-corpus-1989-2017\\\\')\n",
    "# head(files)\n",
    "print(head(files))"
   ]
  },
  {
   "cell_type": "markdown",
   "metadata": {},
   "source": [
    "Let’s start with the first file. The first thing we need to do is tokenize it, or break it into individual\n",
    "words."
   ]
  },
  {
   "cell_type": "code",
   "execution_count": 11,
   "metadata": {},
   "outputs": [],
   "source": [
    "# stick together the path to the file & 1st file name\n",
    "fileName <- glue('C:\\\\Users\\\\abine\\\\Dropbox\\\\College\\\\Semester 2\\\\S2 Work\\\\Prog for DS in R\\\\5. NLP\\\\state-of-the-union-corpus-1989-2017\\\\', files[1], sep = \"\")"
   ]
  },
  {
   "cell_type": "code",
   "execution_count": 13,
   "metadata": {},
   "outputs": [],
   "source": [
    " # get rid of any sneaky trailing spaces\n",
    "fileName <- trimws(fileName)"
   ]
  },
  {
   "cell_type": "code",
   "execution_count": 16,
   "metadata": {},
   "outputs": [
    {
     "data": {
      "text/html": [
       "'Gentlemen of the Senate and Gentlemen of the House of Representatives:\\n\\nI was for some time apprehensive that it would be necessary, on account of\\nthe contagious sickness which afflicted the city of Philadelphia, to\\nconvene the National Legislature at some other place. This measure it was\\ndesirable to avoid, because it would occasion much public inconvenience and\\na considerable public expense and add to the calamities of the inhabitants\\nof this city, whose sufferings must have excited the sympathy of all their\\nfellow citizens. Therefore, after taking measures to ascertain the state\\nand decline of the sickness, I postponed my determination, having hopes,\\nnow happily realized, that, without hazard to the lives or health of the\\nmembers, Congress might assemble at this place, where it was next by law to\\nmeet. I submit, however, to your consideration whether a power to postpone\\nthe meeting of Congress, without passing the time fixed by the Constitution\\nupon such occasions, would not be a useful amendment to the law of 1794.\\n\\nAlthough I can not yet congratulate you on the reestablishment of peace in\\nEurope and the restoration of security to the persons and properties of our\\ncitizens from injustice and violence at sea, we have, nevertheless,\\nabundant cause of gratitude to the source of benevolence and influence for\\ninterior tranquillity and personal security, for propitious seasons,\\nprosperous agriculture, productive fisheries, and general improvements,\\nand, above all, for a rational spirit of civil and religious liberty and a\\ncalm but steady determination to support our sovereignty, as well as our\\nmoral and our religious principles, against all open and secret attacks.\\n\\nOur envoys extraordinary to the French Republic embarked--one in July, the\\nother in August--to join their colleague in Holland. I have received\\nintelligence of the arrival of both of them in Holland, from whence they\\nall proceeded on their journeys to Paris within a few days of the 19th of\\nSeptember. Whatever may be the result of this mission, I trust that nothing\\nwill have been omitted on my part to conduct the negotiation to a\\nsuccessful conclusion, on such equitable terms as may be compatible with\\nthe safety, honor and interest of the United States. Nothing, in the mean\\ntime, will contribute so much to the preservation of peace and the\\nattainment of justice as manifestation of that energy and unanimity of\\nwhich on many former occasions the people of the United States have given\\nsuch memorable proofs, and the exertion of those resources for national\\ndefense which a beneficent Providence has kindly placed within their\\npower.\\n\\nIt may be confidently asserted that nothing has occurred since the\\nadjournment of Congress which renders inexpedient those precautionary\\nmeasures recommended by me to the consideration of the two Houses at the\\nopening of your late extraordinary session. If that system was then\\nprudent, it is more so now, as increasing depredations strengthen the\\nreasons for its adoption.\\n\\nIndeed, whatever may be the issue of the negotiation with France, and\\nwhether the war in Europe is or is not to continue, I hold it most certain\\nthat permanent tranquillity and order will not soon be obtained. The state\\nof society has so long been disturbed, the sense of moral and religious\\nobligations so much weakened, public faith and national honor have been so\\nimpaired, respect to treaties has been so diminished, and the law of\\nnations has lost so much of its force, while pride, ambition, avarice and\\nviolence have been so long unrestrained, there remains no reasonable ground\\non which to raise an expectation that a commerce without protection or\\ndefense will not be plundered.\\n\\nThe commerce of the United States is essential, if not to their existence,\\nat least to their comfort, their growth, prosperity, and happiness. The\\ngenius, character, and habits of the people are highly commercial. Their\\ncities have been formed and exist upon commerce. Our agriculture,\\nfisheries, arts, and manufactures are connected with and depend upon it. In\\nshort, commerce has made this country what it is, and it can not be\\ndestroyed or neglected without involving the people in poverty and\\ndistress. Great numbers are directly and solely supported by navigation.\\nThe faith of society is pledged for the preservation of the rights of\\ncommercial and sea faring no less than of the other citizens. Under this\\nview of our affairs, I should hold myself guilty of a neglect of duty if I\\nforbore to recommend that we should make every exertion to protect our\\ncommerce and to place our country in a suitable posture of defense as the\\nonly sure means of preserving both.\\n\\nI have entertained an expectation that it would have been in my power at\\nthe opening of this session to have communicated to you the agreeable\\ninformation of the due execution of our treaty with His Catholic Majesty\\nrespecting the withdrawing of his troops from our territory and the\\ndemarcation of the line of limits, but by the latest authentic intelligence\\nSpanish garrisons were still continued within our country, and the running\\nof the boundary line had not been commenced. These circumstances are the\\nmore to be regretted as they can not fail to affect the Indians in a manner\\ninjurious to the United States. Still, however, indulging the hope that the\\nanswers which have been given will remove the objections offered by the\\nSpanish officers to the immediate execution of the treaty, I have judged it\\nproper that we should continue in readiness to receive the posts and to run\\nthe line of limits. Further information on this subject will be\\ncommunicated in the course of the session.\\n\\nIn connection with this unpleasant state of things on our western frontier\\nit is proper for me to mention the attempts of foreign agents to alienate\\nthe affections of the Indian nations and to excite them to actual\\nhostilities against the United States. Great activity has been exerted by\\nthose persons who have insinuated themselves among the Indian tribes\\nresiding within the territory of the United States to influence them to\\ntransfer their affections and force to a foreign nation, to form them into\\na confederacy, and prepare them for war against the United States. Although\\nmeasures have been taken to counteract these infractions of our rights, to\\nprevent Indian hostilities, and to preserve entire their attachment to the\\nUnited States, it is my duty to observe that to give a better effect to\\nthese measures and to obviate the consequences of a repetition of such\\npractices a law providing adequate punishment for such offenses may be\\nnecessary.\\n\\nThe commissioners appointed under the 5th article of the treaty of amity,\\ncommerce, and navigation between the United States and Great Britain to\\nascertain the river which was truly intended under the name of the river\\nSt. Croix mentioned in the treaty of peace, met at Passamaquoddy Bay in\\n1796 October, and viewed the mouths of the rivers in question and the\\nadjacent shores and islands, and, being of opinion that actual surveys of\\nboth rivers to their sources were necessary, gave to the agents of the two\\nnations instructions for that purpose, and adjourned to meet at Boston in\\nAugust. They met, but the surveys requiring more time than had been\\nsupposed, and not being then completed, the commissioners again adjourned,\\nto meet at Providence, in the State of Rhode Island, in June next, when we\\nmay expect a final examination and decision.\\n\\nThe commissioners appointed in pursuance of the 6th article of the treaty\\nmet at Philadelphia in May last to examine the claims of British subjects\\nfor debts contracted before the peace and still remaining due to them from\\ncitizens or inhabitants of the United States. Various causes have hitherto\\nprevented any determinations, but the business is now resumed, and\\ndoubtless will be prosecuted without interruption.\\n\\nSeveral decisions on the claims of citizens of the United States for losses\\nand damages sustained by reason of irregular and illegal captures or\\ncondemnations of their vessels or other property have been made by the\\ncommissioners in London conformably to the 7th article of the treaty. The\\nsums awarded by the commissioners have been paid by the British Government.\\nA considerable number of other claims, where costs and damages, and not\\ncaptured property, were the only objects in question, have been decided by\\narbitration, and the sums awarded to the citizens of the United States have\\nalso been paid.\\n\\nThe commissioners appointed agreeably to the 21st article of our treaty\\nwith Spain met at Philadelphia in the summer past to examine and decide on\\nthe claims of our citizens for losses they have sustained in consequence of\\ntheir vessels and cargoes having been taken by the subjects of His Catholic\\nMajesty during the late war between Spain and France. Their sittings have\\nbeen interrupted, but are now resumed.\\n\\nThe United States being obligated to make compensation for the losses and\\ndamages sustained by British subjects, upon the award of the commissioners\\nacting under the 6th article of the treaty with Great Britain, and for the\\nlosses and damages sustained by British subjects by reason of the capture\\nof their vessels and merchandise taken within the limits and jurisdiction\\nof the United States and brought into their ports, or taken by vessels\\noriginally armed in ports of the United States, upon the awards of the\\ncommissioners acting under the 7th article of the same treaty, it is\\nnecessary that provision be made for fulfilling these obligations.\\n\\nThe numerous captures of American vessels by the cruisers of the French\\nRepublic and of some by those of Spain have occasioned considerable\\nexpenses in making and supporting the claims of our citizens before their\\ntribunals. The sums required for this purpose have in divers instances been\\ndisbursed by the consuls of the United States. By means of the same\\ncaptures great numbers of our sea men have been thrown ashore in foreign\\ncountries, destitute of all means of subsistence, and the sick in\\nparticular have been exposed to grievous sufferings. The consuls have in\\nthese cases also advanced moneys for their relief. For these advances they\\nreasonably expect reimbursements from the United States.\\n\\nThe consular act relative to sea men requires revision and amendment. The\\nprovisions for their support in foreign countries and for their return are\\nfound to be inadequate and ineffectual. Another provision seems necessary\\nto be added to the consular act. Some foreign vessels have been discovered\\nsailing under the flag of the United States and with forged papers. It\\nseldom happens that the consuls can detect this deception, because they\\nhave no authority to demand an inspection of the registers and sea\\nletters.\\n\\nGentlemen of the House of Representatives:\\n\\nIt is my duty to recommend to your serious consideration those objects\\nwhich by the Constitution are placed particularly within your sphere--the\\nnational debts and taxes.\\n\\nSince the decay of the feudal system, by which the public defense was\\nprovided for chiefly at the expense of individuals, the system of loans has\\nbeen introduced, and as no nation can raise within the year by taxes\\nsufficient sums for its defense and military operations in time of war the\\nsums loaned and debts contracted have necessarily become the subjects of\\nwhat have been called funding systems. The consequences arising from the\\ncontinual accumulation of public debts in other countries ought to admonish\\nus to be careful to prevent their growth in our own. The national defense\\nmust be provided for as well as the support of Government; but both should\\nbe accomplished as much as possible by immediate taxes, and as little as\\npossible by loans.\\n\\nThe estimates for the service of the ensuing year will by my direction be\\nlaid before you.\\n\\nGentlemen of the Senate and Gentlemen of the House of Representatives:\\n\\nWe are met together at a most interesting period. The situations of the\\nprincipal powers of Europe are singular and portentous. Connected with some\\nby treaties and with all by commerce, no important event there can be\\nindifferent to us. Such circumstances call with peculiar importunity not\\nless for a disposition to unite in all those measures on which the honor,\\nsafety, and prosperity of our country depend than for all the exertions of\\nwisdom and firmness.\\n\\nIn all such measures you may rely on my zealous and hearty concurrence.'"
      ],
      "text/latex": [
       "'Gentlemen of the Senate and Gentlemen of the House of Representatives:\\textbackslash{}n\\textbackslash{}nI was for some time apprehensive that it would be necessary, on account of\\textbackslash{}nthe contagious sickness which afflicted the city of Philadelphia, to\\textbackslash{}nconvene the National Legislature at some other place. This measure it was\\textbackslash{}ndesirable to avoid, because it would occasion much public inconvenience and\\textbackslash{}na considerable public expense and add to the calamities of the inhabitants\\textbackslash{}nof this city, whose sufferings must have excited the sympathy of all their\\textbackslash{}nfellow citizens. Therefore, after taking measures to ascertain the state\\textbackslash{}nand decline of the sickness, I postponed my determination, having hopes,\\textbackslash{}nnow happily realized, that, without hazard to the lives or health of the\\textbackslash{}nmembers, Congress might assemble at this place, where it was next by law to\\textbackslash{}nmeet. I submit, however, to your consideration whether a power to postpone\\textbackslash{}nthe meeting of Congress, without passing the time fixed by the Constitution\\textbackslash{}nupon such occasions, would not be a useful amendment to the law of 1794.\\textbackslash{}n\\textbackslash{}nAlthough I can not yet congratulate you on the reestablishment of peace in\\textbackslash{}nEurope and the restoration of security to the persons and properties of our\\textbackslash{}ncitizens from injustice and violence at sea, we have, nevertheless,\\textbackslash{}nabundant cause of gratitude to the source of benevolence and influence for\\textbackslash{}ninterior tranquillity and personal security, for propitious seasons,\\textbackslash{}nprosperous agriculture, productive fisheries, and general improvements,\\textbackslash{}nand, above all, for a rational spirit of civil and religious liberty and a\\textbackslash{}ncalm but steady determination to support our sovereignty, as well as our\\textbackslash{}nmoral and our religious principles, against all open and secret attacks.\\textbackslash{}n\\textbackslash{}nOur envoys extraordinary to the French Republic embarked--one in July, the\\textbackslash{}nother in August--to join their colleague in Holland. I have received\\textbackslash{}nintelligence of the arrival of both of them in Holland, from whence they\\textbackslash{}nall proceeded on their journeys to Paris within a few days of the 19th of\\textbackslash{}nSeptember. Whatever may be the result of this mission, I trust that nothing\\textbackslash{}nwill have been omitted on my part to conduct the negotiation to a\\textbackslash{}nsuccessful conclusion, on such equitable terms as may be compatible with\\textbackslash{}nthe safety, honor and interest of the United States. Nothing, in the mean\\textbackslash{}ntime, will contribute so much to the preservation of peace and the\\textbackslash{}nattainment of justice as manifestation of that energy and unanimity of\\textbackslash{}nwhich on many former occasions the people of the United States have given\\textbackslash{}nsuch memorable proofs, and the exertion of those resources for national\\textbackslash{}ndefense which a beneficent Providence has kindly placed within their\\textbackslash{}npower.\\textbackslash{}n\\textbackslash{}nIt may be confidently asserted that nothing has occurred since the\\textbackslash{}nadjournment of Congress which renders inexpedient those precautionary\\textbackslash{}nmeasures recommended by me to the consideration of the two Houses at the\\textbackslash{}nopening of your late extraordinary session. If that system was then\\textbackslash{}nprudent, it is more so now, as increasing depredations strengthen the\\textbackslash{}nreasons for its adoption.\\textbackslash{}n\\textbackslash{}nIndeed, whatever may be the issue of the negotiation with France, and\\textbackslash{}nwhether the war in Europe is or is not to continue, I hold it most certain\\textbackslash{}nthat permanent tranquillity and order will not soon be obtained. The state\\textbackslash{}nof society has so long been disturbed, the sense of moral and religious\\textbackslash{}nobligations so much weakened, public faith and national honor have been so\\textbackslash{}nimpaired, respect to treaties has been so diminished, and the law of\\textbackslash{}nnations has lost so much of its force, while pride, ambition, avarice and\\textbackslash{}nviolence have been so long unrestrained, there remains no reasonable ground\\textbackslash{}non which to raise an expectation that a commerce without protection or\\textbackslash{}ndefense will not be plundered.\\textbackslash{}n\\textbackslash{}nThe commerce of the United States is essential, if not to their existence,\\textbackslash{}nat least to their comfort, their growth, prosperity, and happiness. The\\textbackslash{}ngenius, character, and habits of the people are highly commercial. Their\\textbackslash{}ncities have been formed and exist upon commerce. Our agriculture,\\textbackslash{}nfisheries, arts, and manufactures are connected with and depend upon it. In\\textbackslash{}nshort, commerce has made this country what it is, and it can not be\\textbackslash{}ndestroyed or neglected without involving the people in poverty and\\textbackslash{}ndistress. Great numbers are directly and solely supported by navigation.\\textbackslash{}nThe faith of society is pledged for the preservation of the rights of\\textbackslash{}ncommercial and sea faring no less than of the other citizens. Under this\\textbackslash{}nview of our affairs, I should hold myself guilty of a neglect of duty if I\\textbackslash{}nforbore to recommend that we should make every exertion to protect our\\textbackslash{}ncommerce and to place our country in a suitable posture of defense as the\\textbackslash{}nonly sure means of preserving both.\\textbackslash{}n\\textbackslash{}nI have entertained an expectation that it would have been in my power at\\textbackslash{}nthe opening of this session to have communicated to you the agreeable\\textbackslash{}ninformation of the due execution of our treaty with His Catholic Majesty\\textbackslash{}nrespecting the withdrawing of his troops from our territory and the\\textbackslash{}ndemarcation of the line of limits, but by the latest authentic intelligence\\textbackslash{}nSpanish garrisons were still continued within our country, and the running\\textbackslash{}nof the boundary line had not been commenced. These circumstances are the\\textbackslash{}nmore to be regretted as they can not fail to affect the Indians in a manner\\textbackslash{}ninjurious to the United States. Still, however, indulging the hope that the\\textbackslash{}nanswers which have been given will remove the objections offered by the\\textbackslash{}nSpanish officers to the immediate execution of the treaty, I have judged it\\textbackslash{}nproper that we should continue in readiness to receive the posts and to run\\textbackslash{}nthe line of limits. Further information on this subject will be\\textbackslash{}ncommunicated in the course of the session.\\textbackslash{}n\\textbackslash{}nIn connection with this unpleasant state of things on our western frontier\\textbackslash{}nit is proper for me to mention the attempts of foreign agents to alienate\\textbackslash{}nthe affections of the Indian nations and to excite them to actual\\textbackslash{}nhostilities against the United States. Great activity has been exerted by\\textbackslash{}nthose persons who have insinuated themselves among the Indian tribes\\textbackslash{}nresiding within the territory of the United States to influence them to\\textbackslash{}ntransfer their affections and force to a foreign nation, to form them into\\textbackslash{}na confederacy, and prepare them for war against the United States. Although\\textbackslash{}nmeasures have been taken to counteract these infractions of our rights, to\\textbackslash{}nprevent Indian hostilities, and to preserve entire their attachment to the\\textbackslash{}nUnited States, it is my duty to observe that to give a better effect to\\textbackslash{}nthese measures and to obviate the consequences of a repetition of such\\textbackslash{}npractices a law providing adequate punishment for such offenses may be\\textbackslash{}nnecessary.\\textbackslash{}n\\textbackslash{}nThe commissioners appointed under the 5th article of the treaty of amity,\\textbackslash{}ncommerce, and navigation between the United States and Great Britain to\\textbackslash{}nascertain the river which was truly intended under the name of the river\\textbackslash{}nSt. Croix mentioned in the treaty of peace, met at Passamaquoddy Bay in\\textbackslash{}n1796 October, and viewed the mouths of the rivers in question and the\\textbackslash{}nadjacent shores and islands, and, being of opinion that actual surveys of\\textbackslash{}nboth rivers to their sources were necessary, gave to the agents of the two\\textbackslash{}nnations instructions for that purpose, and adjourned to meet at Boston in\\textbackslash{}nAugust. They met, but the surveys requiring more time than had been\\textbackslash{}nsupposed, and not being then completed, the commissioners again adjourned,\\textbackslash{}nto meet at Providence, in the State of Rhode Island, in June next, when we\\textbackslash{}nmay expect a final examination and decision.\\textbackslash{}n\\textbackslash{}nThe commissioners appointed in pursuance of the 6th article of the treaty\\textbackslash{}nmet at Philadelphia in May last to examine the claims of British subjects\\textbackslash{}nfor debts contracted before the peace and still remaining due to them from\\textbackslash{}ncitizens or inhabitants of the United States. Various causes have hitherto\\textbackslash{}nprevented any determinations, but the business is now resumed, and\\textbackslash{}ndoubtless will be prosecuted without interruption.\\textbackslash{}n\\textbackslash{}nSeveral decisions on the claims of citizens of the United States for losses\\textbackslash{}nand damages sustained by reason of irregular and illegal captures or\\textbackslash{}ncondemnations of their vessels or other property have been made by the\\textbackslash{}ncommissioners in London conformably to the 7th article of the treaty. The\\textbackslash{}nsums awarded by the commissioners have been paid by the British Government.\\textbackslash{}nA considerable number of other claims, where costs and damages, and not\\textbackslash{}ncaptured property, were the only objects in question, have been decided by\\textbackslash{}narbitration, and the sums awarded to the citizens of the United States have\\textbackslash{}nalso been paid.\\textbackslash{}n\\textbackslash{}nThe commissioners appointed agreeably to the 21st article of our treaty\\textbackslash{}nwith Spain met at Philadelphia in the summer past to examine and decide on\\textbackslash{}nthe claims of our citizens for losses they have sustained in consequence of\\textbackslash{}ntheir vessels and cargoes having been taken by the subjects of His Catholic\\textbackslash{}nMajesty during the late war between Spain and France. Their sittings have\\textbackslash{}nbeen interrupted, but are now resumed.\\textbackslash{}n\\textbackslash{}nThe United States being obligated to make compensation for the losses and\\textbackslash{}ndamages sustained by British subjects, upon the award of the commissioners\\textbackslash{}nacting under the 6th article of the treaty with Great Britain, and for the\\textbackslash{}nlosses and damages sustained by British subjects by reason of the capture\\textbackslash{}nof their vessels and merchandise taken within the limits and jurisdiction\\textbackslash{}nof the United States and brought into their ports, or taken by vessels\\textbackslash{}noriginally armed in ports of the United States, upon the awards of the\\textbackslash{}ncommissioners acting under the 7th article of the same treaty, it is\\textbackslash{}nnecessary that provision be made for fulfilling these obligations.\\textbackslash{}n\\textbackslash{}nThe numerous captures of American vessels by the cruisers of the French\\textbackslash{}nRepublic and of some by those of Spain have occasioned considerable\\textbackslash{}nexpenses in making and supporting the claims of our citizens before their\\textbackslash{}ntribunals. The sums required for this purpose have in divers instances been\\textbackslash{}ndisbursed by the consuls of the United States. By means of the same\\textbackslash{}ncaptures great numbers of our sea men have been thrown ashore in foreign\\textbackslash{}ncountries, destitute of all means of subsistence, and the sick in\\textbackslash{}nparticular have been exposed to grievous sufferings. The consuls have in\\textbackslash{}nthese cases also advanced moneys for their relief. For these advances they\\textbackslash{}nreasonably expect reimbursements from the United States.\\textbackslash{}n\\textbackslash{}nThe consular act relative to sea men requires revision and amendment. The\\textbackslash{}nprovisions for their support in foreign countries and for their return are\\textbackslash{}nfound to be inadequate and ineffectual. Another provision seems necessary\\textbackslash{}nto be added to the consular act. Some foreign vessels have been discovered\\textbackslash{}nsailing under the flag of the United States and with forged papers. It\\textbackslash{}nseldom happens that the consuls can detect this deception, because they\\textbackslash{}nhave no authority to demand an inspection of the registers and sea\\textbackslash{}nletters.\\textbackslash{}n\\textbackslash{}nGentlemen of the House of Representatives:\\textbackslash{}n\\textbackslash{}nIt is my duty to recommend to your serious consideration those objects\\textbackslash{}nwhich by the Constitution are placed particularly within your sphere--the\\textbackslash{}nnational debts and taxes.\\textbackslash{}n\\textbackslash{}nSince the decay of the feudal system, by which the public defense was\\textbackslash{}nprovided for chiefly at the expense of individuals, the system of loans has\\textbackslash{}nbeen introduced, and as no nation can raise within the year by taxes\\textbackslash{}nsufficient sums for its defense and military operations in time of war the\\textbackslash{}nsums loaned and debts contracted have necessarily become the subjects of\\textbackslash{}nwhat have been called funding systems. The consequences arising from the\\textbackslash{}ncontinual accumulation of public debts in other countries ought to admonish\\textbackslash{}nus to be careful to prevent their growth in our own. The national defense\\textbackslash{}nmust be provided for as well as the support of Government; but both should\\textbackslash{}nbe accomplished as much as possible by immediate taxes, and as little as\\textbackslash{}npossible by loans.\\textbackslash{}n\\textbackslash{}nThe estimates for the service of the ensuing year will by my direction be\\textbackslash{}nlaid before you.\\textbackslash{}n\\textbackslash{}nGentlemen of the Senate and Gentlemen of the House of Representatives:\\textbackslash{}n\\textbackslash{}nWe are met together at a most interesting period. The situations of the\\textbackslash{}nprincipal powers of Europe are singular and portentous. Connected with some\\textbackslash{}nby treaties and with all by commerce, no important event there can be\\textbackslash{}nindifferent to us. Such circumstances call with peculiar importunity not\\textbackslash{}nless for a disposition to unite in all those measures on which the honor,\\textbackslash{}nsafety, and prosperity of our country depend than for all the exertions of\\textbackslash{}nwisdom and firmness.\\textbackslash{}n\\textbackslash{}nIn all such measures you may rely on my zealous and hearty concurrence.'"
      ],
      "text/markdown": [
       "'Gentlemen of the Senate and Gentlemen of the House of Representatives:\\n\\nI was for some time apprehensive that it would be necessary, on account of\\nthe contagious sickness which afflicted the city of Philadelphia, to\\nconvene the National Legislature at some other place. This measure it was\\ndesirable to avoid, because it would occasion much public inconvenience and\\na considerable public expense and add to the calamities of the inhabitants\\nof this city, whose sufferings must have excited the sympathy of all their\\nfellow citizens. Therefore, after taking measures to ascertain the state\\nand decline of the sickness, I postponed my determination, having hopes,\\nnow happily realized, that, without hazard to the lives or health of the\\nmembers, Congress might assemble at this place, where it was next by law to\\nmeet. I submit, however, to your consideration whether a power to postpone\\nthe meeting of Congress, without passing the time fixed by the Constitution\\nupon such occasions, would not be a useful amendment to the law of 1794.\\n\\nAlthough I can not yet congratulate you on the reestablishment of peace in\\nEurope and the restoration of security to the persons and properties of our\\ncitizens from injustice and violence at sea, we have, nevertheless,\\nabundant cause of gratitude to the source of benevolence and influence for\\ninterior tranquillity and personal security, for propitious seasons,\\nprosperous agriculture, productive fisheries, and general improvements,\\nand, above all, for a rational spirit of civil and religious liberty and a\\ncalm but steady determination to support our sovereignty, as well as our\\nmoral and our religious principles, against all open and secret attacks.\\n\\nOur envoys extraordinary to the French Republic embarked--one in July, the\\nother in August--to join their colleague in Holland. I have received\\nintelligence of the arrival of both of them in Holland, from whence they\\nall proceeded on their journeys to Paris within a few days of the 19th of\\nSeptember. Whatever may be the result of this mission, I trust that nothing\\nwill have been omitted on my part to conduct the negotiation to a\\nsuccessful conclusion, on such equitable terms as may be compatible with\\nthe safety, honor and interest of the United States. Nothing, in the mean\\ntime, will contribute so much to the preservation of peace and the\\nattainment of justice as manifestation of that energy and unanimity of\\nwhich on many former occasions the people of the United States have given\\nsuch memorable proofs, and the exertion of those resources for national\\ndefense which a beneficent Providence has kindly placed within their\\npower.\\n\\nIt may be confidently asserted that nothing has occurred since the\\nadjournment of Congress which renders inexpedient those precautionary\\nmeasures recommended by me to the consideration of the two Houses at the\\nopening of your late extraordinary session. If that system was then\\nprudent, it is more so now, as increasing depredations strengthen the\\nreasons for its adoption.\\n\\nIndeed, whatever may be the issue of the negotiation with France, and\\nwhether the war in Europe is or is not to continue, I hold it most certain\\nthat permanent tranquillity and order will not soon be obtained. The state\\nof society has so long been disturbed, the sense of moral and religious\\nobligations so much weakened, public faith and national honor have been so\\nimpaired, respect to treaties has been so diminished, and the law of\\nnations has lost so much of its force, while pride, ambition, avarice and\\nviolence have been so long unrestrained, there remains no reasonable ground\\non which to raise an expectation that a commerce without protection or\\ndefense will not be plundered.\\n\\nThe commerce of the United States is essential, if not to their existence,\\nat least to their comfort, their growth, prosperity, and happiness. The\\ngenius, character, and habits of the people are highly commercial. Their\\ncities have been formed and exist upon commerce. Our agriculture,\\nfisheries, arts, and manufactures are connected with and depend upon it. In\\nshort, commerce has made this country what it is, and it can not be\\ndestroyed or neglected without involving the people in poverty and\\ndistress. Great numbers are directly and solely supported by navigation.\\nThe faith of society is pledged for the preservation of the rights of\\ncommercial and sea faring no less than of the other citizens. Under this\\nview of our affairs, I should hold myself guilty of a neglect of duty if I\\nforbore to recommend that we should make every exertion to protect our\\ncommerce and to place our country in a suitable posture of defense as the\\nonly sure means of preserving both.\\n\\nI have entertained an expectation that it would have been in my power at\\nthe opening of this session to have communicated to you the agreeable\\ninformation of the due execution of our treaty with His Catholic Majesty\\nrespecting the withdrawing of his troops from our territory and the\\ndemarcation of the line of limits, but by the latest authentic intelligence\\nSpanish garrisons were still continued within our country, and the running\\nof the boundary line had not been commenced. These circumstances are the\\nmore to be regretted as they can not fail to affect the Indians in a manner\\ninjurious to the United States. Still, however, indulging the hope that the\\nanswers which have been given will remove the objections offered by the\\nSpanish officers to the immediate execution of the treaty, I have judged it\\nproper that we should continue in readiness to receive the posts and to run\\nthe line of limits. Further information on this subject will be\\ncommunicated in the course of the session.\\n\\nIn connection with this unpleasant state of things on our western frontier\\nit is proper for me to mention the attempts of foreign agents to alienate\\nthe affections of the Indian nations and to excite them to actual\\nhostilities against the United States. Great activity has been exerted by\\nthose persons who have insinuated themselves among the Indian tribes\\nresiding within the territory of the United States to influence them to\\ntransfer their affections and force to a foreign nation, to form them into\\na confederacy, and prepare them for war against the United States. Although\\nmeasures have been taken to counteract these infractions of our rights, to\\nprevent Indian hostilities, and to preserve entire their attachment to the\\nUnited States, it is my duty to observe that to give a better effect to\\nthese measures and to obviate the consequences of a repetition of such\\npractices a law providing adequate punishment for such offenses may be\\nnecessary.\\n\\nThe commissioners appointed under the 5th article of the treaty of amity,\\ncommerce, and navigation between the United States and Great Britain to\\nascertain the river which was truly intended under the name of the river\\nSt. Croix mentioned in the treaty of peace, met at Passamaquoddy Bay in\\n1796 October, and viewed the mouths of the rivers in question and the\\nadjacent shores and islands, and, being of opinion that actual surveys of\\nboth rivers to their sources were necessary, gave to the agents of the two\\nnations instructions for that purpose, and adjourned to meet at Boston in\\nAugust. They met, but the surveys requiring more time than had been\\nsupposed, and not being then completed, the commissioners again adjourned,\\nto meet at Providence, in the State of Rhode Island, in June next, when we\\nmay expect a final examination and decision.\\n\\nThe commissioners appointed in pursuance of the 6th article of the treaty\\nmet at Philadelphia in May last to examine the claims of British subjects\\nfor debts contracted before the peace and still remaining due to them from\\ncitizens or inhabitants of the United States. Various causes have hitherto\\nprevented any determinations, but the business is now resumed, and\\ndoubtless will be prosecuted without interruption.\\n\\nSeveral decisions on the claims of citizens of the United States for losses\\nand damages sustained by reason of irregular and illegal captures or\\ncondemnations of their vessels or other property have been made by the\\ncommissioners in London conformably to the 7th article of the treaty. The\\nsums awarded by the commissioners have been paid by the British Government.\\nA considerable number of other claims, where costs and damages, and not\\ncaptured property, were the only objects in question, have been decided by\\narbitration, and the sums awarded to the citizens of the United States have\\nalso been paid.\\n\\nThe commissioners appointed agreeably to the 21st article of our treaty\\nwith Spain met at Philadelphia in the summer past to examine and decide on\\nthe claims of our citizens for losses they have sustained in consequence of\\ntheir vessels and cargoes having been taken by the subjects of His Catholic\\nMajesty during the late war between Spain and France. Their sittings have\\nbeen interrupted, but are now resumed.\\n\\nThe United States being obligated to make compensation for the losses and\\ndamages sustained by British subjects, upon the award of the commissioners\\nacting under the 6th article of the treaty with Great Britain, and for the\\nlosses and damages sustained by British subjects by reason of the capture\\nof their vessels and merchandise taken within the limits and jurisdiction\\nof the United States and brought into their ports, or taken by vessels\\noriginally armed in ports of the United States, upon the awards of the\\ncommissioners acting under the 7th article of the same treaty, it is\\nnecessary that provision be made for fulfilling these obligations.\\n\\nThe numerous captures of American vessels by the cruisers of the French\\nRepublic and of some by those of Spain have occasioned considerable\\nexpenses in making and supporting the claims of our citizens before their\\ntribunals. The sums required for this purpose have in divers instances been\\ndisbursed by the consuls of the United States. By means of the same\\ncaptures great numbers of our sea men have been thrown ashore in foreign\\ncountries, destitute of all means of subsistence, and the sick in\\nparticular have been exposed to grievous sufferings. The consuls have in\\nthese cases also advanced moneys for their relief. For these advances they\\nreasonably expect reimbursements from the United States.\\n\\nThe consular act relative to sea men requires revision and amendment. The\\nprovisions for their support in foreign countries and for their return are\\nfound to be inadequate and ineffectual. Another provision seems necessary\\nto be added to the consular act. Some foreign vessels have been discovered\\nsailing under the flag of the United States and with forged papers. It\\nseldom happens that the consuls can detect this deception, because they\\nhave no authority to demand an inspection of the registers and sea\\nletters.\\n\\nGentlemen of the House of Representatives:\\n\\nIt is my duty to recommend to your serious consideration those objects\\nwhich by the Constitution are placed particularly within your sphere--the\\nnational debts and taxes.\\n\\nSince the decay of the feudal system, by which the public defense was\\nprovided for chiefly at the expense of individuals, the system of loans has\\nbeen introduced, and as no nation can raise within the year by taxes\\nsufficient sums for its defense and military operations in time of war the\\nsums loaned and debts contracted have necessarily become the subjects of\\nwhat have been called funding systems. The consequences arising from the\\ncontinual accumulation of public debts in other countries ought to admonish\\nus to be careful to prevent their growth in our own. The national defense\\nmust be provided for as well as the support of Government; but both should\\nbe accomplished as much as possible by immediate taxes, and as little as\\npossible by loans.\\n\\nThe estimates for the service of the ensuing year will by my direction be\\nlaid before you.\\n\\nGentlemen of the Senate and Gentlemen of the House of Representatives:\\n\\nWe are met together at a most interesting period. The situations of the\\nprincipal powers of Europe are singular and portentous. Connected with some\\nby treaties and with all by commerce, no important event there can be\\nindifferent to us. Such circumstances call with peculiar importunity not\\nless for a disposition to unite in all those measures on which the honor,\\nsafety, and prosperity of our country depend than for all the exertions of\\nwisdom and firmness.\\n\\nIn all such measures you may rely on my zealous and hearty concurrence.'"
      ],
      "text/plain": [
       "Gentlemen of the Senate and Gentlemen of the House of Representatives:\n",
       "\n",
       "I was for some time apprehensive that it would be necessary, on account of\n",
       "the contagious sickness which afflicted the city of Philadelphia, to\n",
       "convene the National Legislature at some other place. This measure it was\n",
       "desirable to avoid, because it would occasion much public inconvenience and\n",
       "a considerable public expense and add to the calamities of the inhabitants\n",
       "of this city, whose sufferings must have excited the sympathy of all their\n",
       "fellow citizens. Therefore, after taking measures to ascertain the state\n",
       "and decline of the sickness, I postponed my determination, having hopes,\n",
       "now happily realized, that, without hazard to the lives or health of the\n",
       "members, Congress might assemble at this place, where it was next by law to\n",
       "meet. I submit, however, to your consideration whether a power to postpone\n",
       "the meeting of Congress, without passing the time fixed by the Constitution\n",
       "upon such occasions, would not be a useful amendment to the law of 1794.\n",
       "\n",
       "Although I can not yet congratulate you on the reestablishment of peace in\n",
       "Europe and the restoration of security to the persons and properties of our\n",
       "citizens from injustice and violence at sea, we have, nevertheless,\n",
       "abundant cause of gratitude to the source of benevolence and influence for\n",
       "interior tranquillity and personal security, for propitious seasons,\n",
       "prosperous agriculture, productive fisheries, and general improvements,\n",
       "and, above all, for a rational spirit of civil and religious liberty and a\n",
       "calm but steady determination to support our sovereignty, as well as our\n",
       "moral and our religious principles, against all open and secret attacks.\n",
       "\n",
       "Our envoys extraordinary to the French Republic embarked--one in July, the\n",
       "other in August--to join their colleague in Holland. I have received\n",
       "intelligence of the arrival of both of them in Holland, from whence they\n",
       "all proceeded on their journeys to Paris within a few days of the 19th of\n",
       "September. Whatever may be the result of this mission, I trust that nothing\n",
       "will have been omitted on my part to conduct the negotiation to a\n",
       "successful conclusion, on such equitable terms as may be compatible with\n",
       "the safety, honor and interest of the United States. Nothing, in the mean\n",
       "time, will contribute so much to the preservation of peace and the\n",
       "attainment of justice as manifestation of that energy and unanimity of\n",
       "which on many former occasions the people of the United States have given\n",
       "such memorable proofs, and the exertion of those resources for national\n",
       "defense which a beneficent Providence has kindly placed within their\n",
       "power.\n",
       "\n",
       "It may be confidently asserted that nothing has occurred since the\n",
       "adjournment of Congress which renders inexpedient those precautionary\n",
       "measures recommended by me to the consideration of the two Houses at the\n",
       "opening of your late extraordinary session. If that system was then\n",
       "prudent, it is more so now, as increasing depredations strengthen the\n",
       "reasons for its adoption.\n",
       "\n",
       "Indeed, whatever may be the issue of the negotiation with France, and\n",
       "whether the war in Europe is or is not to continue, I hold it most certain\n",
       "that permanent tranquillity and order will not soon be obtained. The state\n",
       "of society has so long been disturbed, the sense of moral and religious\n",
       "obligations so much weakened, public faith and national honor have been so\n",
       "impaired, respect to treaties has been so diminished, and the law of\n",
       "nations has lost so much of its force, while pride, ambition, avarice and\n",
       "violence have been so long unrestrained, there remains no reasonable ground\n",
       "on which to raise an expectation that a commerce without protection or\n",
       "defense will not be plundered.\n",
       "\n",
       "The commerce of the United States is essential, if not to their existence,\n",
       "at least to their comfort, their growth, prosperity, and happiness. The\n",
       "genius, character, and habits of the people are highly commercial. Their\n",
       "cities have been formed and exist upon commerce. Our agriculture,\n",
       "fisheries, arts, and manufactures are connected with and depend upon it. In\n",
       "short, commerce has made this country what it is, and it can not be\n",
       "destroyed or neglected without involving the people in poverty and\n",
       "distress. Great numbers are directly and solely supported by navigation.\n",
       "The faith of society is pledged for the preservation of the rights of\n",
       "commercial and sea faring no less than of the other citizens. Under this\n",
       "view of our affairs, I should hold myself guilty of a neglect of duty if I\n",
       "forbore to recommend that we should make every exertion to protect our\n",
       "commerce and to place our country in a suitable posture of defense as the\n",
       "only sure means of preserving both.\n",
       "\n",
       "I have entertained an expectation that it would have been in my power at\n",
       "the opening of this session to have communicated to you the agreeable\n",
       "information of the due execution of our treaty with His Catholic Majesty\n",
       "respecting the withdrawing of his troops from our territory and the\n",
       "demarcation of the line of limits, but by the latest authentic intelligence\n",
       "Spanish garrisons were still continued within our country, and the running\n",
       "of the boundary line had not been commenced. These circumstances are the\n",
       "more to be regretted as they can not fail to affect the Indians in a manner\n",
       "injurious to the United States. Still, however, indulging the hope that the\n",
       "answers which have been given will remove the objections offered by the\n",
       "Spanish officers to the immediate execution of the treaty, I have judged it\n",
       "proper that we should continue in readiness to receive the posts and to run\n",
       "the line of limits. Further information on this subject will be\n",
       "communicated in the course of the session.\n",
       "\n",
       "In connection with this unpleasant state of things on our western frontier\n",
       "it is proper for me to mention the attempts of foreign agents to alienate\n",
       "the affections of the Indian nations and to excite them to actual\n",
       "hostilities against the United States. Great activity has been exerted by\n",
       "those persons who have insinuated themselves among the Indian tribes\n",
       "residing within the territory of the United States to influence them to\n",
       "transfer their affections and force to a foreign nation, to form them into\n",
       "a confederacy, and prepare them for war against the United States. Although\n",
       "measures have been taken to counteract these infractions of our rights, to\n",
       "prevent Indian hostilities, and to preserve entire their attachment to the\n",
       "United States, it is my duty to observe that to give a better effect to\n",
       "these measures and to obviate the consequences of a repetition of such\n",
       "practices a law providing adequate punishment for such offenses may be\n",
       "necessary.\n",
       "\n",
       "The commissioners appointed under the 5th article of the treaty of amity,\n",
       "commerce, and navigation between the United States and Great Britain to\n",
       "ascertain the river which was truly intended under the name of the river\n",
       "St. Croix mentioned in the treaty of peace, met at Passamaquoddy Bay in\n",
       "1796 October, and viewed the mouths of the rivers in question and the\n",
       "adjacent shores and islands, and, being of opinion that actual surveys of\n",
       "both rivers to their sources were necessary, gave to the agents of the two\n",
       "nations instructions for that purpose, and adjourned to meet at Boston in\n",
       "August. They met, but the surveys requiring more time than had been\n",
       "supposed, and not being then completed, the commissioners again adjourned,\n",
       "to meet at Providence, in the State of Rhode Island, in June next, when we\n",
       "may expect a final examination and decision.\n",
       "\n",
       "The commissioners appointed in pursuance of the 6th article of the treaty\n",
       "met at Philadelphia in May last to examine the claims of British subjects\n",
       "for debts contracted before the peace and still remaining due to them from\n",
       "citizens or inhabitants of the United States. Various causes have hitherto\n",
       "prevented any determinations, but the business is now resumed, and\n",
       "doubtless will be prosecuted without interruption.\n",
       "\n",
       "Several decisions on the claims of citizens of the United States for losses\n",
       "and damages sustained by reason of irregular and illegal captures or\n",
       "condemnations of their vessels or other property have been made by the\n",
       "commissioners in London conformably to the 7th article of the treaty. The\n",
       "sums awarded by the commissioners have been paid by the British Government.\n",
       "A considerable number of other claims, where costs and damages, and not\n",
       "captured property, were the only objects in question, have been decided by\n",
       "arbitration, and the sums awarded to the citizens of the United States have\n",
       "also been paid.\n",
       "\n",
       "The commissioners appointed agreeably to the 21st article of our treaty\n",
       "with Spain met at Philadelphia in the summer past to examine and decide on\n",
       "the claims of our citizens for losses they have sustained in consequence of\n",
       "their vessels and cargoes having been taken by the subjects of His Catholic\n",
       "Majesty during the late war between Spain and France. Their sittings have\n",
       "been interrupted, but are now resumed.\n",
       "\n",
       "The United States being obligated to make compensation for the losses and\n",
       "damages sustained by British subjects, upon the award of the commissioners\n",
       "acting under the 6th article of the treaty with Great Britain, and for the\n",
       "losses and damages sustained by British subjects by reason of the capture\n",
       "of their vessels and merchandise taken within the limits and jurisdiction\n",
       "of the United States and brought into their ports, or taken by vessels\n",
       "originally armed in ports of the United States, upon the awards of the\n",
       "commissioners acting under the 7th article of the same treaty, it is\n",
       "necessary that provision be made for fulfilling these obligations.\n",
       "\n",
       "The numerous captures of American vessels by the cruisers of the French\n",
       "Republic and of some by those of Spain have occasioned considerable\n",
       "expenses in making and supporting the claims of our citizens before their\n",
       "tribunals. The sums required for this purpose have in divers instances been\n",
       "disbursed by the consuls of the United States. By means of the same\n",
       "captures great numbers of our sea men have been thrown ashore in foreign\n",
       "countries, destitute of all means of subsistence, and the sick in\n",
       "particular have been exposed to grievous sufferings. The consuls have in\n",
       "these cases also advanced moneys for their relief. For these advances they\n",
       "reasonably expect reimbursements from the United States.\n",
       "\n",
       "The consular act relative to sea men requires revision and amendment. The\n",
       "provisions for their support in foreign countries and for their return are\n",
       "found to be inadequate and ineffectual. Another provision seems necessary\n",
       "to be added to the consular act. Some foreign vessels have been discovered\n",
       "sailing under the flag of the United States and with forged papers. It\n",
       "seldom happens that the consuls can detect this deception, because they\n",
       "have no authority to demand an inspection of the registers and sea\n",
       "letters.\n",
       "\n",
       "Gentlemen of the House of Representatives:\n",
       "\n",
       "It is my duty to recommend to your serious consideration those objects\n",
       "which by the Constitution are placed particularly within your sphere--the\n",
       "national debts and taxes.\n",
       "\n",
       "Since the decay of the feudal system, by which the public defense was\n",
       "provided for chiefly at the expense of individuals, the system of loans has\n",
       "been introduced, and as no nation can raise within the year by taxes\n",
       "sufficient sums for its defense and military operations in time of war the\n",
       "sums loaned and debts contracted have necessarily become the subjects of\n",
       "what have been called funding systems. The consequences arising from the\n",
       "continual accumulation of public debts in other countries ought to admonish\n",
       "us to be careful to prevent their growth in our own. The national defense\n",
       "must be provided for as well as the support of Government; but both should\n",
       "be accomplished as much as possible by immediate taxes, and as little as\n",
       "possible by loans.\n",
       "\n",
       "The estimates for the service of the ensuing year will by my direction be\n",
       "laid before you.\n",
       "\n",
       "Gentlemen of the Senate and Gentlemen of the House of Representatives:\n",
       "\n",
       "We are met together at a most interesting period. The situations of the\n",
       "principal powers of Europe are singular and portentous. Connected with some\n",
       "by treaties and with all by commerce, no important event there can be\n",
       "indifferent to us. Such circumstances call with peculiar importunity not\n",
       "less for a disposition to unite in all those measures on which the honor,\n",
       "safety, and prosperity of our country depend than for all the exertions of\n",
       "wisdom and firmness.\n",
       "\n",
       "In all such measures you may rely on my zealous and hearty concurrence."
      ]
     },
     "metadata": {},
     "output_type": "display_data"
    }
   ],
   "source": [
    " # read in the new file\n",
    "fileText <- glue(read_file(fileName))\n",
    "head(fileText)"
   ]
  },
  {
   "cell_type": "code",
   "execution_count": 18,
   "metadata": {},
   "outputs": [
    {
     "data": {
      "text/html": [
       "'Gentlemen of the Senate and Gentlemen of the House of Representatives:\\n\\nI was for some time apprehensive that it would be necessary, on account of\\nthe contagious sickness which afflicted the city of Philadelphia, to\\nconvene the National Legislature at some other place. This measure it was\\ndesirable to avoid, because it would occasion much public inconvenience and\\na considerable public expense and add to the calamities of the inhabitants\\nof this city, whose sufferings must have excited the sympathy of all their\\nfellow citizens. Therefore, after taking measures to ascertain the state\\nand decline of the sickness, I postponed my determination, having hopes,\\nnow happily realized, that, without hazard to the lives or health of the\\nmembers, Congress might assemble at this place, where it was next by law to\\nmeet. I submit, however, to your consideration whether a power to postpone\\nthe meeting of Congress, without passing the time fixed by the Constitution\\nupon such occasions, would not be a useful amendment to the law of 1794.\\n\\nAlthough I can not yet congratulate you on the reestablishment of peace in\\nEurope and the restoration of security to the persons and properties of our\\ncitizens from injustice and violence at sea, we have, nevertheless,\\nabundant cause of gratitude to the source of benevolence and influence for\\ninterior tranquillity and personal security, for propitious seasons,\\nprosperous agriculture, productive fisheries, and general improvements,\\nand, above all, for a rational spirit of civil and religious liberty and a\\ncalm but steady determination to support our sovereignty, as well as our\\nmoral and our religious principles, against all open and secret attacks.\\n\\nOur envoys extraordinary to the French Republic embarked--one in July, the\\nother in August--to join their colleague in Holland. I have received\\nintelligence of the arrival of both of them in Holland, from whence they\\nall proceeded on their journeys to Paris within a few days of the 19th of\\nSeptember. Whatever may be the result of this mission, I trust that nothing\\nwill have been omitted on my part to conduct the negotiation to a\\nsuccessful conclusion, on such equitable terms as may be compatible with\\nthe safety, honor and interest of the United States. Nothing, in the mean\\ntime, will contribute so much to the preservation of peace and the\\nattainment of justice as manifestation of that energy and unanimity of\\nwhich on many former occasions the people of the United States have given\\nsuch memorable proofs, and the exertion of those resources for national\\ndefense which a beneficent Providence has kindly placed within their\\npower.\\n\\nIt may be confidently asserted that nothing has occurred since the\\nadjournment of Congress which renders inexpedient those precautionary\\nmeasures recommended by me to the consideration of the two Houses at the\\nopening of your late extraordinary session. If that system was then\\nprudent, it is more so now, as increasing depredations strengthen the\\nreasons for its adoption.\\n\\nIndeed, whatever may be the issue of the negotiation with France, and\\nwhether the war in Europe is or is not to continue, I hold it most certain\\nthat permanent tranquillity and order will not soon be obtained. The state\\nof society has so long been disturbed, the sense of moral and religious\\nobligations so much weakened, public faith and national honor have been so\\nimpaired, respect to treaties has been so diminished, and the law of\\nnations has lost so much of its force, while pride, ambition, avarice and\\nviolence have been so long unrestrained, there remains no reasonable ground\\non which to raise an expectation that a commerce without protection or\\ndefense will not be plundered.\\n\\nThe commerce of the United States is essential, if not to their existence,\\nat least to their comfort, their growth, prosperity, and happiness. The\\ngenius, character, and habits of the people are highly commercial. Their\\ncities have been formed and exist upon commerce. Our agriculture,\\nfisheries, arts, and manufactures are connected with and depend upon it. In\\nshort, commerce has made this country what it is, and it can not be\\ndestroyed or neglected without involving the people in poverty and\\ndistress. Great numbers are directly and solely supported by navigation.\\nThe faith of society is pledged for the preservation of the rights of\\ncommercial and sea faring no less than of the other citizens. Under this\\nview of our affairs, I should hold myself guilty of a neglect of duty if I\\nforbore to recommend that we should make every exertion to protect our\\ncommerce and to place our country in a suitable posture of defense as the\\nonly sure means of preserving both.\\n\\nI have entertained an expectation that it would have been in my power at\\nthe opening of this session to have communicated to you the agreeable\\ninformation of the due execution of our treaty with His Catholic Majesty\\nrespecting the withdrawing of his troops from our territory and the\\ndemarcation of the line of limits, but by the latest authentic intelligence\\nSpanish garrisons were still continued within our country, and the running\\nof the boundary line had not been commenced. These circumstances are the\\nmore to be regretted as they can not fail to affect the Indians in a manner\\ninjurious to the United States. Still, however, indulging the hope that the\\nanswers which have been given will remove the objections offered by the\\nSpanish officers to the immediate execution of the treaty, I have judged it\\nproper that we should continue in readiness to receive the posts and to run\\nthe line of limits. Further information on this subject will be\\ncommunicated in the course of the session.\\n\\nIn connection with this unpleasant state of things on our western frontier\\nit is proper for me to mention the attempts of foreign agents to alienate\\nthe affections of the Indian nations and to excite them to actual\\nhostilities against the United States. Great activity has been exerted by\\nthose persons who have insinuated themselves among the Indian tribes\\nresiding within the territory of the United States to influence them to\\ntransfer their affections and force to a foreign nation, to form them into\\na confederacy, and prepare them for war against the United States. Although\\nmeasures have been taken to counteract these infractions of our rights, to\\nprevent Indian hostilities, and to preserve entire their attachment to the\\nUnited States, it is my duty to observe that to give a better effect to\\nthese measures and to obviate the consequences of a repetition of such\\npractices a law providing adequate punishment for such offenses may be\\nnecessary.\\n\\nThe commissioners appointed under the 5th article of the treaty of amity,\\ncommerce, and navigation between the United States and Great Britain to\\nascertain the river which was truly intended under the name of the river\\nSt. Croix mentioned in the treaty of peace, met at Passamaquoddy Bay in\\n1796 October, and viewed the mouths of the rivers in question and the\\nadjacent shores and islands, and, being of opinion that actual surveys of\\nboth rivers to their sources were necessary, gave to the agents of the two\\nnations instructions for that purpose, and adjourned to meet at Boston in\\nAugust. They met, but the surveys requiring more time than had been\\nsupposed, and not being then completed, the commissioners again adjourned,\\nto meet at Providence, in the State of Rhode Island, in June next, when we\\nmay expect a final examination and decision.\\n\\nThe commissioners appointed in pursuance of the 6th article of the treaty\\nmet at Philadelphia in May last to examine the claims of British subjects\\nfor debts contracted before the peace and still remaining due to them from\\ncitizens or inhabitants of the United States. Various causes have hitherto\\nprevented any determinations, but the business is now resumed, and\\ndoubtless will be prosecuted without interruption.\\n\\nSeveral decisions on the claims of citizens of the United States for losses\\nand damages sustained by reason of irregular and illegal captures or\\ncondemnations of their vessels or other property have been made by the\\ncommissioners in London conformably to the 7th article of the treaty. The\\nsums awarded by the commissioners have been paid by the British Government.\\nA considerable number of other claims, where costs and damages, and not\\ncaptured property, were the only objects in question, have been decided by\\narbitration, and the sums awarded to the citizens of the United States have\\nalso been paid.\\n\\nThe commissioners appointed agreeably to the 21st article of our treaty\\nwith Spain met at Philadelphia in the summer past to examine and decide on\\nthe claims of our citizens for losses they have sustained in consequence of\\ntheir vessels and cargoes having been taken by the subjects of His Catholic\\nMajesty during the late war between Spain and France. Their sittings have\\nbeen interrupted, but are now resumed.\\n\\nThe United States being obligated to make compensation for the losses and\\ndamages sustained by British subjects, upon the award of the commissioners\\nacting under the 6th article of the treaty with Great Britain, and for the\\nlosses and damages sustained by British subjects by reason of the capture\\nof their vessels and merchandise taken within the limits and jurisdiction\\nof the United States and brought into their ports, or taken by vessels\\noriginally armed in ports of the United States, upon the awards of the\\ncommissioners acting under the 7th article of the same treaty, it is\\nnecessary that provision be made for fulfilling these obligations.\\n\\nThe numerous captures of American vessels by the cruisers of the French\\nRepublic and of some by those of Spain have occasioned considerable\\nexpenses in making and supporting the claims of our citizens before their\\ntribunals. The sums required for this purpose have in divers instances been\\ndisbursed by the consuls of the United States. By means of the same\\ncaptures great numbers of our sea men have been thrown ashore in foreign\\ncountries, destitute of all means of subsistence, and the sick in\\nparticular have been exposed to grievous sufferings. The consuls have in\\nthese cases also advanced moneys for their relief. For these advances they\\nreasonably expect reimbursements from the United States.\\n\\nThe consular act relative to sea men requires revision and amendment. The\\nprovisions for their support in foreign countries and for their return are\\nfound to be inadequate and ineffectual. Another provision seems necessary\\nto be added to the consular act. Some foreign vessels have been discovered\\nsailing under the flag of the United States and with forged papers. It\\nseldom happens that the consuls can detect this deception, because they\\nhave no authority to demand an inspection of the registers and sea\\nletters.\\n\\nGentlemen of the House of Representatives:\\n\\nIt is my duty to recommend to your serious consideration those objects\\nwhich by the Constitution are placed particularly within your sphere--the\\nnational debts and taxes.\\n\\nSince the decay of the feudal system, by which the public defense was\\nprovided for chiefly at the expense of individuals, the system of loans has\\nbeen introduced, and as no nation can raise within the year by taxes\\nsufficient sums for its defense and military operations in time of war the\\nsums loaned and debts contracted have necessarily become the subjects of\\nwhat have been called funding systems. The consequences arising from the\\ncontinual accumulation of public debts in other countries ought to admonish\\nus to be careful to prevent their growth in our own. The national defense\\nmust be provided for as well as the support of Government; but both should\\nbe accomplished as much as possible by immediate taxes, and as little as\\npossible by loans.\\n\\nThe estimates for the service of the ensuing year will by my direction be\\nlaid before you.\\n\\nGentlemen of the Senate and Gentlemen of the House of Representatives:\\n\\nWe are met together at a most interesting period. The situations of the\\nprincipal powers of Europe are singular and portentous. Connected with some\\nby treaties and with all by commerce, no important event there can be\\nindifferent to us. Such circumstances call with peculiar importunity not\\nless for a disposition to unite in all those measures on which the honor,\\nsafety, and prosperity of our country depend than for all the exertions of\\nwisdom and firmness.\\n\\nIn all such measures you may rely on my zealous and hearty concurrence.'"
      ],
      "text/latex": [
       "'Gentlemen of the Senate and Gentlemen of the House of Representatives:\\textbackslash{}n\\textbackslash{}nI was for some time apprehensive that it would be necessary, on account of\\textbackslash{}nthe contagious sickness which afflicted the city of Philadelphia, to\\textbackslash{}nconvene the National Legislature at some other place. This measure it was\\textbackslash{}ndesirable to avoid, because it would occasion much public inconvenience and\\textbackslash{}na considerable public expense and add to the calamities of the inhabitants\\textbackslash{}nof this city, whose sufferings must have excited the sympathy of all their\\textbackslash{}nfellow citizens. Therefore, after taking measures to ascertain the state\\textbackslash{}nand decline of the sickness, I postponed my determination, having hopes,\\textbackslash{}nnow happily realized, that, without hazard to the lives or health of the\\textbackslash{}nmembers, Congress might assemble at this place, where it was next by law to\\textbackslash{}nmeet. I submit, however, to your consideration whether a power to postpone\\textbackslash{}nthe meeting of Congress, without passing the time fixed by the Constitution\\textbackslash{}nupon such occasions, would not be a useful amendment to the law of 1794.\\textbackslash{}n\\textbackslash{}nAlthough I can not yet congratulate you on the reestablishment of peace in\\textbackslash{}nEurope and the restoration of security to the persons and properties of our\\textbackslash{}ncitizens from injustice and violence at sea, we have, nevertheless,\\textbackslash{}nabundant cause of gratitude to the source of benevolence and influence for\\textbackslash{}ninterior tranquillity and personal security, for propitious seasons,\\textbackslash{}nprosperous agriculture, productive fisheries, and general improvements,\\textbackslash{}nand, above all, for a rational spirit of civil and religious liberty and a\\textbackslash{}ncalm but steady determination to support our sovereignty, as well as our\\textbackslash{}nmoral and our religious principles, against all open and secret attacks.\\textbackslash{}n\\textbackslash{}nOur envoys extraordinary to the French Republic embarked--one in July, the\\textbackslash{}nother in August--to join their colleague in Holland. I have received\\textbackslash{}nintelligence of the arrival of both of them in Holland, from whence they\\textbackslash{}nall proceeded on their journeys to Paris within a few days of the 19th of\\textbackslash{}nSeptember. Whatever may be the result of this mission, I trust that nothing\\textbackslash{}nwill have been omitted on my part to conduct the negotiation to a\\textbackslash{}nsuccessful conclusion, on such equitable terms as may be compatible with\\textbackslash{}nthe safety, honor and interest of the United States. Nothing, in the mean\\textbackslash{}ntime, will contribute so much to the preservation of peace and the\\textbackslash{}nattainment of justice as manifestation of that energy and unanimity of\\textbackslash{}nwhich on many former occasions the people of the United States have given\\textbackslash{}nsuch memorable proofs, and the exertion of those resources for national\\textbackslash{}ndefense which a beneficent Providence has kindly placed within their\\textbackslash{}npower.\\textbackslash{}n\\textbackslash{}nIt may be confidently asserted that nothing has occurred since the\\textbackslash{}nadjournment of Congress which renders inexpedient those precautionary\\textbackslash{}nmeasures recommended by me to the consideration of the two Houses at the\\textbackslash{}nopening of your late extraordinary session. If that system was then\\textbackslash{}nprudent, it is more so now, as increasing depredations strengthen the\\textbackslash{}nreasons for its adoption.\\textbackslash{}n\\textbackslash{}nIndeed, whatever may be the issue of the negotiation with France, and\\textbackslash{}nwhether the war in Europe is or is not to continue, I hold it most certain\\textbackslash{}nthat permanent tranquillity and order will not soon be obtained. The state\\textbackslash{}nof society has so long been disturbed, the sense of moral and religious\\textbackslash{}nobligations so much weakened, public faith and national honor have been so\\textbackslash{}nimpaired, respect to treaties has been so diminished, and the law of\\textbackslash{}nnations has lost so much of its force, while pride, ambition, avarice and\\textbackslash{}nviolence have been so long unrestrained, there remains no reasonable ground\\textbackslash{}non which to raise an expectation that a commerce without protection or\\textbackslash{}ndefense will not be plundered.\\textbackslash{}n\\textbackslash{}nThe commerce of the United States is essential, if not to their existence,\\textbackslash{}nat least to their comfort, their growth, prosperity, and happiness. The\\textbackslash{}ngenius, character, and habits of the people are highly commercial. Their\\textbackslash{}ncities have been formed and exist upon commerce. Our agriculture,\\textbackslash{}nfisheries, arts, and manufactures are connected with and depend upon it. In\\textbackslash{}nshort, commerce has made this country what it is, and it can not be\\textbackslash{}ndestroyed or neglected without involving the people in poverty and\\textbackslash{}ndistress. Great numbers are directly and solely supported by navigation.\\textbackslash{}nThe faith of society is pledged for the preservation of the rights of\\textbackslash{}ncommercial and sea faring no less than of the other citizens. Under this\\textbackslash{}nview of our affairs, I should hold myself guilty of a neglect of duty if I\\textbackslash{}nforbore to recommend that we should make every exertion to protect our\\textbackslash{}ncommerce and to place our country in a suitable posture of defense as the\\textbackslash{}nonly sure means of preserving both.\\textbackslash{}n\\textbackslash{}nI have entertained an expectation that it would have been in my power at\\textbackslash{}nthe opening of this session to have communicated to you the agreeable\\textbackslash{}ninformation of the due execution of our treaty with His Catholic Majesty\\textbackslash{}nrespecting the withdrawing of his troops from our territory and the\\textbackslash{}ndemarcation of the line of limits, but by the latest authentic intelligence\\textbackslash{}nSpanish garrisons were still continued within our country, and the running\\textbackslash{}nof the boundary line had not been commenced. These circumstances are the\\textbackslash{}nmore to be regretted as they can not fail to affect the Indians in a manner\\textbackslash{}ninjurious to the United States. Still, however, indulging the hope that the\\textbackslash{}nanswers which have been given will remove the objections offered by the\\textbackslash{}nSpanish officers to the immediate execution of the treaty, I have judged it\\textbackslash{}nproper that we should continue in readiness to receive the posts and to run\\textbackslash{}nthe line of limits. Further information on this subject will be\\textbackslash{}ncommunicated in the course of the session.\\textbackslash{}n\\textbackslash{}nIn connection with this unpleasant state of things on our western frontier\\textbackslash{}nit is proper for me to mention the attempts of foreign agents to alienate\\textbackslash{}nthe affections of the Indian nations and to excite them to actual\\textbackslash{}nhostilities against the United States. Great activity has been exerted by\\textbackslash{}nthose persons who have insinuated themselves among the Indian tribes\\textbackslash{}nresiding within the territory of the United States to influence them to\\textbackslash{}ntransfer their affections and force to a foreign nation, to form them into\\textbackslash{}na confederacy, and prepare them for war against the United States. Although\\textbackslash{}nmeasures have been taken to counteract these infractions of our rights, to\\textbackslash{}nprevent Indian hostilities, and to preserve entire their attachment to the\\textbackslash{}nUnited States, it is my duty to observe that to give a better effect to\\textbackslash{}nthese measures and to obviate the consequences of a repetition of such\\textbackslash{}npractices a law providing adequate punishment for such offenses may be\\textbackslash{}nnecessary.\\textbackslash{}n\\textbackslash{}nThe commissioners appointed under the 5th article of the treaty of amity,\\textbackslash{}ncommerce, and navigation between the United States and Great Britain to\\textbackslash{}nascertain the river which was truly intended under the name of the river\\textbackslash{}nSt. Croix mentioned in the treaty of peace, met at Passamaquoddy Bay in\\textbackslash{}n1796 October, and viewed the mouths of the rivers in question and the\\textbackslash{}nadjacent shores and islands, and, being of opinion that actual surveys of\\textbackslash{}nboth rivers to their sources were necessary, gave to the agents of the two\\textbackslash{}nnations instructions for that purpose, and adjourned to meet at Boston in\\textbackslash{}nAugust. They met, but the surveys requiring more time than had been\\textbackslash{}nsupposed, and not being then completed, the commissioners again adjourned,\\textbackslash{}nto meet at Providence, in the State of Rhode Island, in June next, when we\\textbackslash{}nmay expect a final examination and decision.\\textbackslash{}n\\textbackslash{}nThe commissioners appointed in pursuance of the 6th article of the treaty\\textbackslash{}nmet at Philadelphia in May last to examine the claims of British subjects\\textbackslash{}nfor debts contracted before the peace and still remaining due to them from\\textbackslash{}ncitizens or inhabitants of the United States. Various causes have hitherto\\textbackslash{}nprevented any determinations, but the business is now resumed, and\\textbackslash{}ndoubtless will be prosecuted without interruption.\\textbackslash{}n\\textbackslash{}nSeveral decisions on the claims of citizens of the United States for losses\\textbackslash{}nand damages sustained by reason of irregular and illegal captures or\\textbackslash{}ncondemnations of their vessels or other property have been made by the\\textbackslash{}ncommissioners in London conformably to the 7th article of the treaty. The\\textbackslash{}nsums awarded by the commissioners have been paid by the British Government.\\textbackslash{}nA considerable number of other claims, where costs and damages, and not\\textbackslash{}ncaptured property, were the only objects in question, have been decided by\\textbackslash{}narbitration, and the sums awarded to the citizens of the United States have\\textbackslash{}nalso been paid.\\textbackslash{}n\\textbackslash{}nThe commissioners appointed agreeably to the 21st article of our treaty\\textbackslash{}nwith Spain met at Philadelphia in the summer past to examine and decide on\\textbackslash{}nthe claims of our citizens for losses they have sustained in consequence of\\textbackslash{}ntheir vessels and cargoes having been taken by the subjects of His Catholic\\textbackslash{}nMajesty during the late war between Spain and France. Their sittings have\\textbackslash{}nbeen interrupted, but are now resumed.\\textbackslash{}n\\textbackslash{}nThe United States being obligated to make compensation for the losses and\\textbackslash{}ndamages sustained by British subjects, upon the award of the commissioners\\textbackslash{}nacting under the 6th article of the treaty with Great Britain, and for the\\textbackslash{}nlosses and damages sustained by British subjects by reason of the capture\\textbackslash{}nof their vessels and merchandise taken within the limits and jurisdiction\\textbackslash{}nof the United States and brought into their ports, or taken by vessels\\textbackslash{}noriginally armed in ports of the United States, upon the awards of the\\textbackslash{}ncommissioners acting under the 7th article of the same treaty, it is\\textbackslash{}nnecessary that provision be made for fulfilling these obligations.\\textbackslash{}n\\textbackslash{}nThe numerous captures of American vessels by the cruisers of the French\\textbackslash{}nRepublic and of some by those of Spain have occasioned considerable\\textbackslash{}nexpenses in making and supporting the claims of our citizens before their\\textbackslash{}ntribunals. The sums required for this purpose have in divers instances been\\textbackslash{}ndisbursed by the consuls of the United States. By means of the same\\textbackslash{}ncaptures great numbers of our sea men have been thrown ashore in foreign\\textbackslash{}ncountries, destitute of all means of subsistence, and the sick in\\textbackslash{}nparticular have been exposed to grievous sufferings. The consuls have in\\textbackslash{}nthese cases also advanced moneys for their relief. For these advances they\\textbackslash{}nreasonably expect reimbursements from the United States.\\textbackslash{}n\\textbackslash{}nThe consular act relative to sea men requires revision and amendment. The\\textbackslash{}nprovisions for their support in foreign countries and for their return are\\textbackslash{}nfound to be inadequate and ineffectual. Another provision seems necessary\\textbackslash{}nto be added to the consular act. Some foreign vessels have been discovered\\textbackslash{}nsailing under the flag of the United States and with forged papers. It\\textbackslash{}nseldom happens that the consuls can detect this deception, because they\\textbackslash{}nhave no authority to demand an inspection of the registers and sea\\textbackslash{}nletters.\\textbackslash{}n\\textbackslash{}nGentlemen of the House of Representatives:\\textbackslash{}n\\textbackslash{}nIt is my duty to recommend to your serious consideration those objects\\textbackslash{}nwhich by the Constitution are placed particularly within your sphere--the\\textbackslash{}nnational debts and taxes.\\textbackslash{}n\\textbackslash{}nSince the decay of the feudal system, by which the public defense was\\textbackslash{}nprovided for chiefly at the expense of individuals, the system of loans has\\textbackslash{}nbeen introduced, and as no nation can raise within the year by taxes\\textbackslash{}nsufficient sums for its defense and military operations in time of war the\\textbackslash{}nsums loaned and debts contracted have necessarily become the subjects of\\textbackslash{}nwhat have been called funding systems. The consequences arising from the\\textbackslash{}ncontinual accumulation of public debts in other countries ought to admonish\\textbackslash{}nus to be careful to prevent their growth in our own. The national defense\\textbackslash{}nmust be provided for as well as the support of Government; but both should\\textbackslash{}nbe accomplished as much as possible by immediate taxes, and as little as\\textbackslash{}npossible by loans.\\textbackslash{}n\\textbackslash{}nThe estimates for the service of the ensuing year will by my direction be\\textbackslash{}nlaid before you.\\textbackslash{}n\\textbackslash{}nGentlemen of the Senate and Gentlemen of the House of Representatives:\\textbackslash{}n\\textbackslash{}nWe are met together at a most interesting period. The situations of the\\textbackslash{}nprincipal powers of Europe are singular and portentous. Connected with some\\textbackslash{}nby treaties and with all by commerce, no important event there can be\\textbackslash{}nindifferent to us. Such circumstances call with peculiar importunity not\\textbackslash{}nless for a disposition to unite in all those measures on which the honor,\\textbackslash{}nsafety, and prosperity of our country depend than for all the exertions of\\textbackslash{}nwisdom and firmness.\\textbackslash{}n\\textbackslash{}nIn all such measures you may rely on my zealous and hearty concurrence.'"
      ],
      "text/markdown": [
       "'Gentlemen of the Senate and Gentlemen of the House of Representatives:\\n\\nI was for some time apprehensive that it would be necessary, on account of\\nthe contagious sickness which afflicted the city of Philadelphia, to\\nconvene the National Legislature at some other place. This measure it was\\ndesirable to avoid, because it would occasion much public inconvenience and\\na considerable public expense and add to the calamities of the inhabitants\\nof this city, whose sufferings must have excited the sympathy of all their\\nfellow citizens. Therefore, after taking measures to ascertain the state\\nand decline of the sickness, I postponed my determination, having hopes,\\nnow happily realized, that, without hazard to the lives or health of the\\nmembers, Congress might assemble at this place, where it was next by law to\\nmeet. I submit, however, to your consideration whether a power to postpone\\nthe meeting of Congress, without passing the time fixed by the Constitution\\nupon such occasions, would not be a useful amendment to the law of 1794.\\n\\nAlthough I can not yet congratulate you on the reestablishment of peace in\\nEurope and the restoration of security to the persons and properties of our\\ncitizens from injustice and violence at sea, we have, nevertheless,\\nabundant cause of gratitude to the source of benevolence and influence for\\ninterior tranquillity and personal security, for propitious seasons,\\nprosperous agriculture, productive fisheries, and general improvements,\\nand, above all, for a rational spirit of civil and religious liberty and a\\ncalm but steady determination to support our sovereignty, as well as our\\nmoral and our religious principles, against all open and secret attacks.\\n\\nOur envoys extraordinary to the French Republic embarked--one in July, the\\nother in August--to join their colleague in Holland. I have received\\nintelligence of the arrival of both of them in Holland, from whence they\\nall proceeded on their journeys to Paris within a few days of the 19th of\\nSeptember. Whatever may be the result of this mission, I trust that nothing\\nwill have been omitted on my part to conduct the negotiation to a\\nsuccessful conclusion, on such equitable terms as may be compatible with\\nthe safety, honor and interest of the United States. Nothing, in the mean\\ntime, will contribute so much to the preservation of peace and the\\nattainment of justice as manifestation of that energy and unanimity of\\nwhich on many former occasions the people of the United States have given\\nsuch memorable proofs, and the exertion of those resources for national\\ndefense which a beneficent Providence has kindly placed within their\\npower.\\n\\nIt may be confidently asserted that nothing has occurred since the\\nadjournment of Congress which renders inexpedient those precautionary\\nmeasures recommended by me to the consideration of the two Houses at the\\nopening of your late extraordinary session. If that system was then\\nprudent, it is more so now, as increasing depredations strengthen the\\nreasons for its adoption.\\n\\nIndeed, whatever may be the issue of the negotiation with France, and\\nwhether the war in Europe is or is not to continue, I hold it most certain\\nthat permanent tranquillity and order will not soon be obtained. The state\\nof society has so long been disturbed, the sense of moral and religious\\nobligations so much weakened, public faith and national honor have been so\\nimpaired, respect to treaties has been so diminished, and the law of\\nnations has lost so much of its force, while pride, ambition, avarice and\\nviolence have been so long unrestrained, there remains no reasonable ground\\non which to raise an expectation that a commerce without protection or\\ndefense will not be plundered.\\n\\nThe commerce of the United States is essential, if not to their existence,\\nat least to their comfort, their growth, prosperity, and happiness. The\\ngenius, character, and habits of the people are highly commercial. Their\\ncities have been formed and exist upon commerce. Our agriculture,\\nfisheries, arts, and manufactures are connected with and depend upon it. In\\nshort, commerce has made this country what it is, and it can not be\\ndestroyed or neglected without involving the people in poverty and\\ndistress. Great numbers are directly and solely supported by navigation.\\nThe faith of society is pledged for the preservation of the rights of\\ncommercial and sea faring no less than of the other citizens. Under this\\nview of our affairs, I should hold myself guilty of a neglect of duty if I\\nforbore to recommend that we should make every exertion to protect our\\ncommerce and to place our country in a suitable posture of defense as the\\nonly sure means of preserving both.\\n\\nI have entertained an expectation that it would have been in my power at\\nthe opening of this session to have communicated to you the agreeable\\ninformation of the due execution of our treaty with His Catholic Majesty\\nrespecting the withdrawing of his troops from our territory and the\\ndemarcation of the line of limits, but by the latest authentic intelligence\\nSpanish garrisons were still continued within our country, and the running\\nof the boundary line had not been commenced. These circumstances are the\\nmore to be regretted as they can not fail to affect the Indians in a manner\\ninjurious to the United States. Still, however, indulging the hope that the\\nanswers which have been given will remove the objections offered by the\\nSpanish officers to the immediate execution of the treaty, I have judged it\\nproper that we should continue in readiness to receive the posts and to run\\nthe line of limits. Further information on this subject will be\\ncommunicated in the course of the session.\\n\\nIn connection with this unpleasant state of things on our western frontier\\nit is proper for me to mention the attempts of foreign agents to alienate\\nthe affections of the Indian nations and to excite them to actual\\nhostilities against the United States. Great activity has been exerted by\\nthose persons who have insinuated themselves among the Indian tribes\\nresiding within the territory of the United States to influence them to\\ntransfer their affections and force to a foreign nation, to form them into\\na confederacy, and prepare them for war against the United States. Although\\nmeasures have been taken to counteract these infractions of our rights, to\\nprevent Indian hostilities, and to preserve entire their attachment to the\\nUnited States, it is my duty to observe that to give a better effect to\\nthese measures and to obviate the consequences of a repetition of such\\npractices a law providing adequate punishment for such offenses may be\\nnecessary.\\n\\nThe commissioners appointed under the 5th article of the treaty of amity,\\ncommerce, and navigation between the United States and Great Britain to\\nascertain the river which was truly intended under the name of the river\\nSt. Croix mentioned in the treaty of peace, met at Passamaquoddy Bay in\\n1796 October, and viewed the mouths of the rivers in question and the\\nadjacent shores and islands, and, being of opinion that actual surveys of\\nboth rivers to their sources were necessary, gave to the agents of the two\\nnations instructions for that purpose, and adjourned to meet at Boston in\\nAugust. They met, but the surveys requiring more time than had been\\nsupposed, and not being then completed, the commissioners again adjourned,\\nto meet at Providence, in the State of Rhode Island, in June next, when we\\nmay expect a final examination and decision.\\n\\nThe commissioners appointed in pursuance of the 6th article of the treaty\\nmet at Philadelphia in May last to examine the claims of British subjects\\nfor debts contracted before the peace and still remaining due to them from\\ncitizens or inhabitants of the United States. Various causes have hitherto\\nprevented any determinations, but the business is now resumed, and\\ndoubtless will be prosecuted without interruption.\\n\\nSeveral decisions on the claims of citizens of the United States for losses\\nand damages sustained by reason of irregular and illegal captures or\\ncondemnations of their vessels or other property have been made by the\\ncommissioners in London conformably to the 7th article of the treaty. The\\nsums awarded by the commissioners have been paid by the British Government.\\nA considerable number of other claims, where costs and damages, and not\\ncaptured property, were the only objects in question, have been decided by\\narbitration, and the sums awarded to the citizens of the United States have\\nalso been paid.\\n\\nThe commissioners appointed agreeably to the 21st article of our treaty\\nwith Spain met at Philadelphia in the summer past to examine and decide on\\nthe claims of our citizens for losses they have sustained in consequence of\\ntheir vessels and cargoes having been taken by the subjects of His Catholic\\nMajesty during the late war between Spain and France. Their sittings have\\nbeen interrupted, but are now resumed.\\n\\nThe United States being obligated to make compensation for the losses and\\ndamages sustained by British subjects, upon the award of the commissioners\\nacting under the 6th article of the treaty with Great Britain, and for the\\nlosses and damages sustained by British subjects by reason of the capture\\nof their vessels and merchandise taken within the limits and jurisdiction\\nof the United States and brought into their ports, or taken by vessels\\noriginally armed in ports of the United States, upon the awards of the\\ncommissioners acting under the 7th article of the same treaty, it is\\nnecessary that provision be made for fulfilling these obligations.\\n\\nThe numerous captures of American vessels by the cruisers of the French\\nRepublic and of some by those of Spain have occasioned considerable\\nexpenses in making and supporting the claims of our citizens before their\\ntribunals. The sums required for this purpose have in divers instances been\\ndisbursed by the consuls of the United States. By means of the same\\ncaptures great numbers of our sea men have been thrown ashore in foreign\\ncountries, destitute of all means of subsistence, and the sick in\\nparticular have been exposed to grievous sufferings. The consuls have in\\nthese cases also advanced moneys for their relief. For these advances they\\nreasonably expect reimbursements from the United States.\\n\\nThe consular act relative to sea men requires revision and amendment. The\\nprovisions for their support in foreign countries and for their return are\\nfound to be inadequate and ineffectual. Another provision seems necessary\\nto be added to the consular act. Some foreign vessels have been discovered\\nsailing under the flag of the United States and with forged papers. It\\nseldom happens that the consuls can detect this deception, because they\\nhave no authority to demand an inspection of the registers and sea\\nletters.\\n\\nGentlemen of the House of Representatives:\\n\\nIt is my duty to recommend to your serious consideration those objects\\nwhich by the Constitution are placed particularly within your sphere--the\\nnational debts and taxes.\\n\\nSince the decay of the feudal system, by which the public defense was\\nprovided for chiefly at the expense of individuals, the system of loans has\\nbeen introduced, and as no nation can raise within the year by taxes\\nsufficient sums for its defense and military operations in time of war the\\nsums loaned and debts contracted have necessarily become the subjects of\\nwhat have been called funding systems. The consequences arising from the\\ncontinual accumulation of public debts in other countries ought to admonish\\nus to be careful to prevent their growth in our own. The national defense\\nmust be provided for as well as the support of Government; but both should\\nbe accomplished as much as possible by immediate taxes, and as little as\\npossible by loans.\\n\\nThe estimates for the service of the ensuing year will by my direction be\\nlaid before you.\\n\\nGentlemen of the Senate and Gentlemen of the House of Representatives:\\n\\nWe are met together at a most interesting period. The situations of the\\nprincipal powers of Europe are singular and portentous. Connected with some\\nby treaties and with all by commerce, no important event there can be\\nindifferent to us. Such circumstances call with peculiar importunity not\\nless for a disposition to unite in all those measures on which the honor,\\nsafety, and prosperity of our country depend than for all the exertions of\\nwisdom and firmness.\\n\\nIn all such measures you may rely on my zealous and hearty concurrence.'"
      ],
      "text/plain": [
       "Gentlemen of the Senate and Gentlemen of the House of Representatives:\n",
       "\n",
       "I was for some time apprehensive that it would be necessary, on account of\n",
       "the contagious sickness which afflicted the city of Philadelphia, to\n",
       "convene the National Legislature at some other place. This measure it was\n",
       "desirable to avoid, because it would occasion much public inconvenience and\n",
       "a considerable public expense and add to the calamities of the inhabitants\n",
       "of this city, whose sufferings must have excited the sympathy of all their\n",
       "fellow citizens. Therefore, after taking measures to ascertain the state\n",
       "and decline of the sickness, I postponed my determination, having hopes,\n",
       "now happily realized, that, without hazard to the lives or health of the\n",
       "members, Congress might assemble at this place, where it was next by law to\n",
       "meet. I submit, however, to your consideration whether a power to postpone\n",
       "the meeting of Congress, without passing the time fixed by the Constitution\n",
       "upon such occasions, would not be a useful amendment to the law of 1794.\n",
       "\n",
       "Although I can not yet congratulate you on the reestablishment of peace in\n",
       "Europe and the restoration of security to the persons and properties of our\n",
       "citizens from injustice and violence at sea, we have, nevertheless,\n",
       "abundant cause of gratitude to the source of benevolence and influence for\n",
       "interior tranquillity and personal security, for propitious seasons,\n",
       "prosperous agriculture, productive fisheries, and general improvements,\n",
       "and, above all, for a rational spirit of civil and religious liberty and a\n",
       "calm but steady determination to support our sovereignty, as well as our\n",
       "moral and our religious principles, against all open and secret attacks.\n",
       "\n",
       "Our envoys extraordinary to the French Republic embarked--one in July, the\n",
       "other in August--to join their colleague in Holland. I have received\n",
       "intelligence of the arrival of both of them in Holland, from whence they\n",
       "all proceeded on their journeys to Paris within a few days of the 19th of\n",
       "September. Whatever may be the result of this mission, I trust that nothing\n",
       "will have been omitted on my part to conduct the negotiation to a\n",
       "successful conclusion, on such equitable terms as may be compatible with\n",
       "the safety, honor and interest of the United States. Nothing, in the mean\n",
       "time, will contribute so much to the preservation of peace and the\n",
       "attainment of justice as manifestation of that energy and unanimity of\n",
       "which on many former occasions the people of the United States have given\n",
       "such memorable proofs, and the exertion of those resources for national\n",
       "defense which a beneficent Providence has kindly placed within their\n",
       "power.\n",
       "\n",
       "It may be confidently asserted that nothing has occurred since the\n",
       "adjournment of Congress which renders inexpedient those precautionary\n",
       "measures recommended by me to the consideration of the two Houses at the\n",
       "opening of your late extraordinary session. If that system was then\n",
       "prudent, it is more so now, as increasing depredations strengthen the\n",
       "reasons for its adoption.\n",
       "\n",
       "Indeed, whatever may be the issue of the negotiation with France, and\n",
       "whether the war in Europe is or is not to continue, I hold it most certain\n",
       "that permanent tranquillity and order will not soon be obtained. The state\n",
       "of society has so long been disturbed, the sense of moral and religious\n",
       "obligations so much weakened, public faith and national honor have been so\n",
       "impaired, respect to treaties has been so diminished, and the law of\n",
       "nations has lost so much of its force, while pride, ambition, avarice and\n",
       "violence have been so long unrestrained, there remains no reasonable ground\n",
       "on which to raise an expectation that a commerce without protection or\n",
       "defense will not be plundered.\n",
       "\n",
       "The commerce of the United States is essential, if not to their existence,\n",
       "at least to their comfort, their growth, prosperity, and happiness. The\n",
       "genius, character, and habits of the people are highly commercial. Their\n",
       "cities have been formed and exist upon commerce. Our agriculture,\n",
       "fisheries, arts, and manufactures are connected with and depend upon it. In\n",
       "short, commerce has made this country what it is, and it can not be\n",
       "destroyed or neglected without involving the people in poverty and\n",
       "distress. Great numbers are directly and solely supported by navigation.\n",
       "The faith of society is pledged for the preservation of the rights of\n",
       "commercial and sea faring no less than of the other citizens. Under this\n",
       "view of our affairs, I should hold myself guilty of a neglect of duty if I\n",
       "forbore to recommend that we should make every exertion to protect our\n",
       "commerce and to place our country in a suitable posture of defense as the\n",
       "only sure means of preserving both.\n",
       "\n",
       "I have entertained an expectation that it would have been in my power at\n",
       "the opening of this session to have communicated to you the agreeable\n",
       "information of the due execution of our treaty with His Catholic Majesty\n",
       "respecting the withdrawing of his troops from our territory and the\n",
       "demarcation of the line of limits, but by the latest authentic intelligence\n",
       "Spanish garrisons were still continued within our country, and the running\n",
       "of the boundary line had not been commenced. These circumstances are the\n",
       "more to be regretted as they can not fail to affect the Indians in a manner\n",
       "injurious to the United States. Still, however, indulging the hope that the\n",
       "answers which have been given will remove the objections offered by the\n",
       "Spanish officers to the immediate execution of the treaty, I have judged it\n",
       "proper that we should continue in readiness to receive the posts and to run\n",
       "the line of limits. Further information on this subject will be\n",
       "communicated in the course of the session.\n",
       "\n",
       "In connection with this unpleasant state of things on our western frontier\n",
       "it is proper for me to mention the attempts of foreign agents to alienate\n",
       "the affections of the Indian nations and to excite them to actual\n",
       "hostilities against the United States. Great activity has been exerted by\n",
       "those persons who have insinuated themselves among the Indian tribes\n",
       "residing within the territory of the United States to influence them to\n",
       "transfer their affections and force to a foreign nation, to form them into\n",
       "a confederacy, and prepare them for war against the United States. Although\n",
       "measures have been taken to counteract these infractions of our rights, to\n",
       "prevent Indian hostilities, and to preserve entire their attachment to the\n",
       "United States, it is my duty to observe that to give a better effect to\n",
       "these measures and to obviate the consequences of a repetition of such\n",
       "practices a law providing adequate punishment for such offenses may be\n",
       "necessary.\n",
       "\n",
       "The commissioners appointed under the 5th article of the treaty of amity,\n",
       "commerce, and navigation between the United States and Great Britain to\n",
       "ascertain the river which was truly intended under the name of the river\n",
       "St. Croix mentioned in the treaty of peace, met at Passamaquoddy Bay in\n",
       "1796 October, and viewed the mouths of the rivers in question and the\n",
       "adjacent shores and islands, and, being of opinion that actual surveys of\n",
       "both rivers to their sources were necessary, gave to the agents of the two\n",
       "nations instructions for that purpose, and adjourned to meet at Boston in\n",
       "August. They met, but the surveys requiring more time than had been\n",
       "supposed, and not being then completed, the commissioners again adjourned,\n",
       "to meet at Providence, in the State of Rhode Island, in June next, when we\n",
       "may expect a final examination and decision.\n",
       "\n",
       "The commissioners appointed in pursuance of the 6th article of the treaty\n",
       "met at Philadelphia in May last to examine the claims of British subjects\n",
       "for debts contracted before the peace and still remaining due to them from\n",
       "citizens or inhabitants of the United States. Various causes have hitherto\n",
       "prevented any determinations, but the business is now resumed, and\n",
       "doubtless will be prosecuted without interruption.\n",
       "\n",
       "Several decisions on the claims of citizens of the United States for losses\n",
       "and damages sustained by reason of irregular and illegal captures or\n",
       "condemnations of their vessels or other property have been made by the\n",
       "commissioners in London conformably to the 7th article of the treaty. The\n",
       "sums awarded by the commissioners have been paid by the British Government.\n",
       "A considerable number of other claims, where costs and damages, and not\n",
       "captured property, were the only objects in question, have been decided by\n",
       "arbitration, and the sums awarded to the citizens of the United States have\n",
       "also been paid.\n",
       "\n",
       "The commissioners appointed agreeably to the 21st article of our treaty\n",
       "with Spain met at Philadelphia in the summer past to examine and decide on\n",
       "the claims of our citizens for losses they have sustained in consequence of\n",
       "their vessels and cargoes having been taken by the subjects of His Catholic\n",
       "Majesty during the late war between Spain and France. Their sittings have\n",
       "been interrupted, but are now resumed.\n",
       "\n",
       "The United States being obligated to make compensation for the losses and\n",
       "damages sustained by British subjects, upon the award of the commissioners\n",
       "acting under the 6th article of the treaty with Great Britain, and for the\n",
       "losses and damages sustained by British subjects by reason of the capture\n",
       "of their vessels and merchandise taken within the limits and jurisdiction\n",
       "of the United States and brought into their ports, or taken by vessels\n",
       "originally armed in ports of the United States, upon the awards of the\n",
       "commissioners acting under the 7th article of the same treaty, it is\n",
       "necessary that provision be made for fulfilling these obligations.\n",
       "\n",
       "The numerous captures of American vessels by the cruisers of the French\n",
       "Republic and of some by those of Spain have occasioned considerable\n",
       "expenses in making and supporting the claims of our citizens before their\n",
       "tribunals. The sums required for this purpose have in divers instances been\n",
       "disbursed by the consuls of the United States. By means of the same\n",
       "captures great numbers of our sea men have been thrown ashore in foreign\n",
       "countries, destitute of all means of subsistence, and the sick in\n",
       "particular have been exposed to grievous sufferings. The consuls have in\n",
       "these cases also advanced moneys for their relief. For these advances they\n",
       "reasonably expect reimbursements from the United States.\n",
       "\n",
       "The consular act relative to sea men requires revision and amendment. The\n",
       "provisions for their support in foreign countries and for their return are\n",
       "found to be inadequate and ineffectual. Another provision seems necessary\n",
       "to be added to the consular act. Some foreign vessels have been discovered\n",
       "sailing under the flag of the United States and with forged papers. It\n",
       "seldom happens that the consuls can detect this deception, because they\n",
       "have no authority to demand an inspection of the registers and sea\n",
       "letters.\n",
       "\n",
       "Gentlemen of the House of Representatives:\n",
       "\n",
       "It is my duty to recommend to your serious consideration those objects\n",
       "which by the Constitution are placed particularly within your sphere--the\n",
       "national debts and taxes.\n",
       "\n",
       "Since the decay of the feudal system, by which the public defense was\n",
       "provided for chiefly at the expense of individuals, the system of loans has\n",
       "been introduced, and as no nation can raise within the year by taxes\n",
       "sufficient sums for its defense and military operations in time of war the\n",
       "sums loaned and debts contracted have necessarily become the subjects of\n",
       "what have been called funding systems. The consequences arising from the\n",
       "continual accumulation of public debts in other countries ought to admonish\n",
       "us to be careful to prevent their growth in our own. The national defense\n",
       "must be provided for as well as the support of Government; but both should\n",
       "be accomplished as much as possible by immediate taxes, and as little as\n",
       "possible by loans.\n",
       "\n",
       "The estimates for the service of the ensuing year will by my direction be\n",
       "laid before you.\n",
       "\n",
       "Gentlemen of the Senate and Gentlemen of the House of Representatives:\n",
       "\n",
       "We are met together at a most interesting period. The situations of the\n",
       "principal powers of Europe are singular and portentous. Connected with some\n",
       "by treaties and with all by commerce, no important event there can be\n",
       "indifferent to us. Such circumstances call with peculiar importunity not\n",
       "less for a disposition to unite in all those measures on which the honor,\n",
       "safety, and prosperity of our country depend than for all the exertions of\n",
       "wisdom and firmness.\n",
       "\n",
       "In all such measures you may rely on my zealous and hearty concurrence."
      ]
     },
     "metadata": {},
     "output_type": "display_data"
    }
   ],
   "source": [
    "# remove any dollar signs (they're special characters in R)\n",
    "fileText <- gsub(\"\\\\$\", \"\", fileText)\n",
    "head(fileText)"
   ]
  },
  {
   "cell_type": "code",
   "execution_count": 20,
   "metadata": {},
   "outputs": [
    {
     "name": "stdout",
     "output_type": "stream",
     "text": [
      "# A tibble: 6 x 1\n",
      "  word     \n",
      "  <chr>    \n",
      "1 gentlemen\n",
      "2 of       \n",
      "3 the      \n",
      "4 senate   \n",
      "5 and      \n",
      "6 gentlemen\n"
     ]
    }
   ],
   "source": [
    " # tokenize\n",
    "tokens <- data_frame(text = fileText) %>% unnest_tokens(word, text)\n",
    "print(head(tokens))"
   ]
  },
  {
   "cell_type": "markdown",
   "metadata": {},
   "source": [
    "Now that we have a list of tokens, we need to compare them against a list of words with either\n",
    "positive or negative sentiment.\n",
    "A list of words associated with a specific sentiment is usually called a “sentiment lexicon”.\n",
    "Because we’re using the tidytext package, we actually already have some of these lists. We are\n",
    "going to use the “bing” list, which was developed by Bing Liu and co-authors."
   ]
  },
  {
   "cell_type": "markdown",
   "metadata": {},
   "source": [
    "### We will make use of three general purpose lexicons like –"
   ]
  },
  {
   "cell_type": "markdown",
   "metadata": {},
   "source": [
    "• AFINN : In the AFINN lexicon model scores the words in a range from -5 to 5. The increase\n",
    "in negativity corresponds the negative sentiment whereas an increase in positivity corresponds\n",
    "the positive one. http://www2.imm.dtu.dk/pubdb/views/publication_details.php?id=6010"
   ]
  },
  {
   "cell_type": "markdown",
   "metadata": {},
   "source": [
    "• bing : The bing lexicon model on the other hand, classifies the sentiment into a binary\n",
    "category of negative or positive. https://www.cs.uic.edu/~liub/FBS/sentiment-analysis.html"
   ]
  },
  {
   "cell_type": "markdown",
   "metadata": {},
   "source": [
    "• loughran : the loughran model that performs analysis of the shareholder’s reports.\n",
    "http://saifmohammad.com/WebPages/NRC-Emotion-Lexicon.htm\n",
    "These three lexicons make use of the unigrams. Unigrams are a type of n-gram model that consists\n",
    "of a sequence of 1 item, that is, a word collected from a given textual data.\n",
    "we will make use of the bing lexicons to extract the sentiments out of our data. We can retrieve\n",
    "these lexicons using the get_sentiments() function."
   ]
  },
  {
   "cell_type": "code",
   "execution_count": 23,
   "metadata": {},
   "outputs": [
    {
     "data": {
      "text/html": [
       "<table>\n",
       "<caption>A tibble: 6 × 1</caption>\n",
       "<thead>\n",
       "\t<tr><th scope=col>word</th></tr>\n",
       "\t<tr><th scope=col>&lt;chr&gt;</th></tr>\n",
       "</thead>\n",
       "<tbody>\n",
       "\t<tr><td>gentlemen</td></tr>\n",
       "\t<tr><td>of       </td></tr>\n",
       "\t<tr><td>the      </td></tr>\n",
       "\t<tr><td>senate   </td></tr>\n",
       "\t<tr><td>and      </td></tr>\n",
       "\t<tr><td>gentlemen</td></tr>\n",
       "</tbody>\n",
       "</table>\n"
      ],
      "text/latex": [
       "A tibble: 6 × 1\n",
       "\\begin{tabular}{l}\n",
       " word\\\\\n",
       " <chr>\\\\\n",
       "\\hline\n",
       "\t gentlemen\\\\\n",
       "\t of       \\\\\n",
       "\t the      \\\\\n",
       "\t senate   \\\\\n",
       "\t and      \\\\\n",
       "\t gentlemen\\\\\n",
       "\\end{tabular}\n"
      ],
      "text/markdown": [
       "\n",
       "A tibble: 6 × 1\n",
       "\n",
       "| word &lt;chr&gt; |\n",
       "|---|\n",
       "| gentlemen |\n",
       "| of        |\n",
       "| the       |\n",
       "| senate    |\n",
       "| and       |\n",
       "| gentlemen |\n",
       "\n"
      ],
      "text/plain": [
       "  word     \n",
       "1 gentlemen\n",
       "2 of       \n",
       "3 the      \n",
       "4 senate   \n",
       "5 and      \n",
       "6 gentlemen"
      ]
     },
     "metadata": {},
     "output_type": "display_data"
    }
   ],
   "source": [
    "head(tokens)"
   ]
  },
  {
   "cell_type": "code",
   "execution_count": 26,
   "metadata": {},
   "outputs": [
    {
     "name": "stderr",
     "output_type": "stream",
     "text": [
      "Your code contains a unicode char which cannot be displayed in your\n",
      "current locale and R will silently convert it to an escaped form when the\n",
      "R kernel executes this code. This can lead to subtle errors if you use\n",
      "such chars to do comparisons. For more information, please see\n",
      "https://github.com/IRkernel/repr/wiki/Problems-with-unicode-on-windowsJoining, by = \"word\""
     ]
    },
    {
     "data": {
      "text/html": [
       "<table>\n",
       "<caption>A tibble: 1 × 3</caption>\n",
       "<thead>\n",
       "\t<tr><th scope=col>negative</th><th scope=col>positive</th><th scope=col>sentiment</th></tr>\n",
       "\t<tr><th scope=col>&lt;dbl&gt;</th><th scope=col>&lt;dbl&gt;</th><th scope=col>&lt;dbl&gt;</th></tr>\n",
       "</thead>\n",
       "<tbody>\n",
       "\t<tr><td>59</td><td>89</td><td>30</td></tr>\n",
       "</tbody>\n",
       "</table>\n"
      ],
      "text/latex": [
       "A tibble: 1 × 3\n",
       "\\begin{tabular}{lll}\n",
       " negative & positive & sentiment\\\\\n",
       " <dbl> & <dbl> & <dbl>\\\\\n",
       "\\hline\n",
       "\t 59 & 89 & 30\\\\\n",
       "\\end{tabular}\n"
      ],
      "text/markdown": [
       "\n",
       "A tibble: 1 × 3\n",
       "\n",
       "| negative &lt;dbl&gt; | positive &lt;dbl&gt; | sentiment &lt;dbl&gt; |\n",
       "|---|---|---|\n",
       "| 59 | 89 | 30 |\n",
       "\n"
      ],
      "text/plain": [
       "  negative positive sentiment\n",
       "1 59       89       30       "
      ]
     },
     "metadata": {},
     "output_type": "display_data"
    }
   ],
   "source": [
    "# get the sentiment from the first text:\n",
    "tokens %>%\n",
    "inner_join(get_sentiments(\"bing\"))%>% # pull out only sentiment words from␣,→ the target text\n",
    "count(sentiment) %>% # count the total number of positive & negative words␣,→ from the target text\n",
    "spread(sentiment, n, fill = 0) %>% # made data wide rather than narrow␣,→ (changing the format to display)\n",
    "mutate(sentiment = positive - negative) #Total number of positive words -␣,→ Total number of negative words"
   ]
  },
  {
   "cell_type": "markdown",
   "metadata": {},
   "source": [
    "So this text has 59 negative polarity words and 89 positive polarity words. This means that there\n",
    "are 30 more positive than negative words in this text.\n",
    "Now that we know how to get the sentiment for a given text, let’s write a function to do this more\n",
    "quickly and easily and then apply that function to every text in our dataset."
   ]
  },
  {
   "cell_type": "code",
   "execution_count": 29,
   "metadata": {},
   "outputs": [
    {
     "name": "stderr",
     "output_type": "stream",
     "text": [
      "Your code contains a unicode char which cannot be displayed in your\n",
      "current locale and R will silently convert it to an escaped form when the\n",
      "R kernel executes this code. This can lead to subtle errors if you use\n",
      "such chars to do comparisons. For more information, please see\n",
      "https://github.com/IRkernel/repr/wiki/Problems-with-unicode-on-windows"
     ]
    }
   ],
   "source": [
    "# write a function that takes the name of a file and returns the # of postive\n",
    "# sentiment words, negative sentiment words, the difference & the normalized␣,→ difference\n",
    "GetSentiment <- function(file){\n",
    "# get the file\n",
    "fileName <- glue('C:\\\\Users\\\\abine\\\\Dropbox\\\\College\\\\Semester 2\\\\S2 Work\\\\Prog for DS in R\\\\5. NLP\\\\state-of-the-union-corpus-1989-2017\\\\', file, sep = \"\")\n",
    "# get rid of any sneaky trailing spaces\n",
    "fileName <- trimws(fileName)\n",
    "# read in the new file\n",
    "fileText <- glue(read_file(fileName))\n",
    "# remove any dollar signs (they're special characters in R)\n",
    "fileText <- gsub(\"\\\\$\", \"\", fileText)\n",
    "# tokenize\n",
    "tokens <- data_frame(text = fileText) %>% unnest_tokens(word, text)\n",
    "# get the sentiment from the first text:\n",
    "sentiment <- tokens %>%\n",
    "inner_join(get_sentiments(\"bing\")) %>% # pull out only sentimen words\n",
    "count(sentiment) %>% # count the # of positive & negative words\n",
    "spread(sentiment, n, fill = 0) %>% # made data wide rather than narrow\n",
    "mutate(sentiment = positive - negative) %>% # # of positive words - # of␣,→ negative owrds\n",
    "mutate(file = file) %>% # add the name of our file\n",
    "mutate(year = as.numeric(str_match(file, \"\\\\d{4}\"))) %>% # add the year\n",
    "mutate(president = str_match(file, \"(.*?)_\")[2]) # add president\n",
    "# return our sentiment dataframe\n",
    "return(sentiment)\n",
    "}"
   ]
  },
  {
   "cell_type": "code",
   "execution_count": 32,
   "metadata": {},
   "outputs": [
    {
     "name": "stderr",
     "output_type": "stream",
     "text": [
      "Your code contains a unicode char which cannot be displayed in your\n",
      "current locale and R will silently convert it to an escaped form when the\n",
      "R kernel executes this code. This can lead to subtle errors if you use\n",
      "such chars to do comparisons. For more information, please see\n",
      "https://github.com/IRkernel/repr/wiki/Problems-with-unicode-on-windowsJoining, by = \"word\""
     ]
    },
    {
     "data": {
      "text/html": [
       "<table>\n",
       "<caption>A tibble: 1 × 6</caption>\n",
       "<thead>\n",
       "\t<tr><th scope=col>negative</th><th scope=col>positive</th><th scope=col>sentiment</th><th scope=col>file</th><th scope=col>year</th><th scope=col>president</th></tr>\n",
       "\t<tr><th scope=col>&lt;dbl&gt;</th><th scope=col>&lt;dbl&gt;</th><th scope=col>&lt;dbl&gt;</th><th scope=col>&lt;chr&gt;</th><th scope=col>&lt;dbl&gt;</th><th scope=col>&lt;chr&gt;</th></tr>\n",
       "</thead>\n",
       "<tbody>\n",
       "\t<tr><td>59</td><td>89</td><td>30</td><td>Adams_1797.txt</td><td>1797</td><td>Adams</td></tr>\n",
       "</tbody>\n",
       "</table>\n"
      ],
      "text/latex": [
       "A tibble: 1 × 6\n",
       "\\begin{tabular}{llllll}\n",
       " negative & positive & sentiment & file & year & president\\\\\n",
       " <dbl> & <dbl> & <dbl> & <chr> & <dbl> & <chr>\\\\\n",
       "\\hline\n",
       "\t 59 & 89 & 30 & Adams\\_1797.txt & 1797 & Adams\\\\\n",
       "\\end{tabular}\n"
      ],
      "text/markdown": [
       "\n",
       "A tibble: 1 × 6\n",
       "\n",
       "| negative &lt;dbl&gt; | positive &lt;dbl&gt; | sentiment &lt;dbl&gt; | file &lt;chr&gt; | year &lt;dbl&gt; | president &lt;chr&gt; |\n",
       "|---|---|---|---|---|---|\n",
       "| 59 | 89 | 30 | Adams_1797.txt | 1797 | Adams |\n",
       "\n"
      ],
      "text/plain": [
       "  negative positive sentiment file           year president\n",
       "1 59       89       30        Adams_1797.txt 1797 Adams    "
      ]
     },
     "metadata": {},
     "output_type": "display_data"
    }
   ],
   "source": [
    "# test: should return\n",
    "#␣,→ negative positive sentiment file year president\n",
    "# 117 240 123 Bush_1989.txt 1989 Bush\n",
    "GetSentiment(files[1])"
   ]
  },
  {
   "cell_type": "markdown",
   "metadata": {},
   "source": [
    "Now, let’s apply our function over every file in our dataset. We’ll also need to make sure we can\n",
    "tell the difference between the two presidents named “Bush”: Bush and Bush Sr."
   ]
  },
  {
   "cell_type": "code",
   "execution_count": 34,
   "metadata": {},
   "outputs": [
    {
     "name": "stderr",
     "output_type": "stream",
     "text": [
      "Your code contains a unicode char which cannot be displayed in your\n",
      "current locale and R will silently convert it to an escaped form when the\n",
      "R kernel executes this code. This can lead to subtle errors if you use\n",
      "such chars to do comparisons. For more information, please see\n",
      "https://github.com/IRkernel/repr/wiki/Problems-with-unicode-on-windows"
     ]
    },
    {
     "data": {
      "text/html": [
       "229"
      ],
      "text/latex": [
       "229"
      ],
      "text/markdown": [
       "229"
      ],
      "text/plain": [
       "[1] 229"
      ]
     },
     "metadata": {},
     "output_type": "display_data"
    },
    {
     "name": "stderr",
     "output_type": "stream",
     "text": [
      "Joining, by = \"word\"Joining, by = \"word\"Joining, by = \"word\"Joining, by = \"word\"Joining, by = \"word\"Joining, by = \"word\"Joining, by = \"word\"Joining, by = \"word\"Joining, by = \"word\"Joining, by = \"word\"Joining, by = \"word\"Joining, by = \"word\"Joining, by = \"word\"Joining, by = \"word\"Joining, by = \"word\"Joining, by = \"word\"Joining, by = \"word\"Joining, by = \"word\"Joining, by = \"word\"Joining, by = \"word\"Joining, by = \"word\"Joining, by = \"word\"Joining, by = \"word\"Joining, by = \"word\"Joining, by = \"word\"Joining, by = \"word\"Joining, by = \"word\"Joining, by = \"word\"Joining, by = \"word\"Joining, by = \"word\"Joining, by = \"word\"Joining, by = \"word\"Joining, by = \"word\"Joining, by = \"word\"Joining, by = \"word\"Joining, by = \"word\"Joining, by = \"word\"Joining, by = \"word\"Joining, by = \"word\"Joining, by = \"word\"Joining, by = \"word\"Joining, by = \"word\"Joining, by = \"word\"Joining, by = \"word\"Joining, by = \"word\"Joining, by = \"word\"Joining, by = \"word\"Joining, by = \"word\"Joining, by = \"word\"Joining, by = \"word\"Joining, by = \"word\"Joining, by = \"word\"Joining, by = \"word\"Joining, by = \"word\"Joining, by = \"word\"Joining, by = \"word\"Joining, by = \"word\"Joining, by = \"word\"Joining, by = \"word\"Joining, by = \"word\"Joining, by = \"word\"Joining, by = \"word\"Joining, by = \"word\"Joining, by = \"word\"Joining, by = \"word\"Joining, by = \"word\"Joining, by = \"word\"Joining, by = \"word\"Joining, by = \"word\"Joining, by = \"word\"Joining, by = \"word\"Joining, by = \"word\"Joining, by = \"word\"Joining, by = \"word\"Joining, by = \"word\"Joining, by = \"word\"Joining, by = \"word\"Joining, by = \"word\"Joining, by = \"word\"Joining, by = \"word\"Joining, by = \"word\"Joining, by = \"word\"Joining, by = \"word\"Joining, by = \"word\"Joining, by = \"word\"Joining, by = \"word\"Joining, by = \"word\"Joining, by = \"word\"Joining, by = \"word\"Joining, by = \"word\"Joining, by = \"word\"Joining, by = \"word\"Joining, by = \"word\"Joining, by = \"word\"Joining, by = \"word\"Joining, by = \"word\"Joining, by = \"word\"Joining, by = \"word\"Joining, by = \"word\"Joining, by = \"word\"Joining, by = \"word\"Joining, by = \"word\"Joining, by = \"word\"Joining, by = \"word\"Joining, by = \"word\"Joining, by = \"word\"Joining, by = \"word\"Joining, by = \"word\"Joining, by = \"word\"Joining, by = \"word\"Joining, by = \"word\"Joining, by = \"word\"Joining, by = \"word\"Joining, by = \"word\"Joining, by = \"word\"Joining, by = \"word\"Joining, by = \"word\"Joining, by = \"word\"Joining, by = \"word\"Joining, by = \"word\"Joining, by = \"word\"Joining, by = \"word\"Joining, by = \"word\"Joining, by = \"word\"Joining, by = \"word\"Joining, by = \"word\"Joining, by = \"word\"Joining, by = \"word\"Joining, by = \"word\"Joining, by = \"word\"Joining, by = \"word\"Joining, by = \"word\"Joining, by = \"word\"Joining, by = \"word\"Joining, by = \"word\"Joining, by = \"word\"Joining, by = \"word\"Joining, by = \"word\"Joining, by = \"word\"Joining, by = \"word\"Joining, by = \"word\"Joining, by = \"word\"Joining, by = \"word\"Joining, by = \"word\"Joining, by = \"word\"Joining, by = \"word\"Joining, by = \"word\"Joining, by = \"word\"Joining, by = \"word\"Joining, by = \"word\"Joining, by = \"word\"Joining, by = \"word\"Joining, by = \"word\"Joining, by = \"word\"Joining, by = \"word\"Joining, by = \"word\"Joining, by = \"word\"Joining, by = \"word\"Joining, by = \"word\"Joining, by = \"word\"Joining, by = \"word\"Joining, by = \"word\"Joining, by = \"word\"Joining, by = \"word\"Joining, by = \"word\"Joining, by = \"word\"Joining, by = \"word\"Joining, by = \"word\"Joining, by = \"word\"Joining, by = \"word\"Joining, by = \"word\"Joining, by = \"word\"Joining, by = \"word\"Joining, by = \"word\"Joining, by = \"word\"Joining, by = \"word\"Joining, by = \"word\"Joining, by = \"word\"Joining, by = \"word\"Joining, by = \"word\"Joining, by = c(\"negative\", \"positive\", \"sentiment\", \"file\", \"year\", \"president\")Joining, by = c(\"negative\", \"positive\", \"sentiment\", \"file\", \"year\", \"president\")"
     ]
    },
    {
     "data": {
      "text/plain": [
       "    negative        positive        sentiment         file          \n",
       " Min.   : 20.0   Min.   :  73.0   Min.   : 17.0   Length:180        \n",
       " 1st Qu.:103.0   1st Qu.: 200.2   1st Qu.: 84.5   Class :character  \n",
       " Median :146.0   Median : 294.0   Median :134.5   Mode  :character  \n",
       " Mean   :179.9   Mean   : 327.6   Mean   :147.6                     \n",
       " 3rd Qu.:216.2   3rd Qu.: 414.2   3rd Qu.:186.8                     \n",
       " Max.   :820.0   Max.   :1458.0   Max.   :763.0                     \n",
       "      year       president        \n",
       " Min.   :1797   Length:180        \n",
       " 1st Qu.:1846   Class :character  \n",
       " Median :1892   Mode  :character  \n",
       " Mean   :1903                     \n",
       " 3rd Qu.:1971                     \n",
       " Max.   :2016                     "
      ]
     },
     "metadata": {},
     "output_type": "display_data"
    }
   ],
   "source": [
    "# file to put our output in\n",
    "sentiments <- data_frame()\n",
    "length(files)\n",
    "for(i in 1:180){\n",
    "#print(i)\n",
    "sentiments <- rbind(sentiments, GetSentiment(files[i]))\n",
    "}\n",
    "bushSr <- sentiments %>%\n",
    "filter(president == \"Bush\") %>% # get rows where the president is named␣,→ \"Bush\"...\n",
    "filter(year < 2000) %>% # ...and the year is before 2000\n",
    "mutate(president = \"Bush Sr.\") # and change \"Bush\" to \"Bush Sr.\"\n",
    "# remove incorrect rows\n",
    "sentiments <- anti_join(sentiments, sentiments[sentiments$president == \"Bush\" & sentiments$year < 2000, ])\n",
    "# add corrected rows to data_frame\n",
    "sentiments <- full_join(sentiments, bushSr)\n",
    "# summerize the sentiment measures\n",
    "summary(sentiments)"
   ]
  },
  {
   "cell_type": "markdown",
   "metadata": {},
   "source": [
    "It looks like every State of the Union address in this dataset has an overall positive sentiment\n",
    "(according to this measure). This isn’t very surprising: most text, especially formal text, tends to\n",
    "have a positive skew.\n",
    "Let’s plot our sentiment analysis scores to see if we can notice any other patterns. - Has sentiment\n",
    "changed over time? - What about between presidents?"
   ]
  },
  {
   "cell_type": "code",
   "execution_count": 36,
   "metadata": {},
   "outputs": [
    {
     "name": "stderr",
     "output_type": "stream",
     "text": [
      "Your code contains a unicode char which cannot be displayed in your\n",
      "current locale and R will silently convert it to an escaped form when the\n",
      "R kernel executes this code. This can lead to subtle errors if you use\n",
      "such chars to do comparisons. For more information, please see\n",
      "https://github.com/IRkernel/repr/wiki/Problems-with-unicode-on-windows`geom_smooth()` using method = 'loess' and formula 'y ~ x'\n"
     ]
    },
    {
     "data": {
      "image/png": "[encoded data removed]",
      "text/plain": [
       "plot without title"
      ]
     },
     "metadata": {},
     "output_type": "display_data"
    }
   ],
   "source": [
    "# plot of sentiment over time & automatically choose a method to model the␣,→ change\n",
    "ggplot(sentiments, aes(x = as.numeric(year), y = sentiment)) +\n",
    "geom_point(aes(color = president))+ # add points to our plot, color-coded by␣,→ president\n",
    "geom_smooth(method = \"auto\") # pick a method & fit a model"
   ]
  },
  {
   "cell_type": "markdown",
   "metadata": {},
   "source": [
    "While it looks like there haven’t been any strong trends over time, the line above suggests that\n",
    "presidents from the Democratic party (Clinton and Obama) have a slightly more positive sentiment\n",
    "than presidents from the Republican party (Bush Sr., Bush and Trump). Let’s look at individual\n",
    "presidents and see if that pattern holds:"
   ]
  },
  {
   "cell_type": "code",
   "execution_count": 38,
   "metadata": {},
   "outputs": [
    {
     "data": {
      "image/png": "[encoded data removed]",
      "text/plain": [
       "plot without title"
      ]
     },
     "metadata": {},
     "output_type": "display_data"
    }
   ],
   "source": [
    "# plot of sentiment by president\n",
    "ggplot(sentiments, aes(x = president, y = sentiment, color = president)) +\n",
    "geom_boxplot() # draw a boxplot for each president"
   ]
  },
  {
   "cell_type": "markdown",
   "metadata": {},
   "source": [
    "It looks like this is a pretty strong pattern. Let’s directly compare the two parties to see if there’s\n",
    "a reliable difference between them. We’ll need to manually label which presidents were Democratic\n",
    "and which were Republican and then test to see if there’s a difference in their sentiment scores."
   ]
  },
  {
   "cell_type": "code",
   "execution_count": 40,
   "metadata": {},
   "outputs": [
    {
     "name": "stderr",
     "output_type": "stream",
     "text": [
      "Joining, by = c(\"negative\", \"positive\", \"sentiment\", \"file\", \"year\", \"president\", \"party\")"
     ]
    },
    {
     "name": "stdout",
     "output_type": "stream",
     "text": [
      "# A tibble: 6 x 7\n",
      "  negative positive sentiment file              year president party\n",
      "     <dbl>    <dbl>     <dbl> <chr>            <dbl> <chr>     <chr>\n",
      "1      121      260       139 Clinton_1993.txt  1993 Clinton   D    \n",
      "2      186      382       196 Clinton_1995.txt  1995 Clinton   D    \n",
      "3      137      294       157 Clinton_1997.txt  1997 Clinton   D    \n",
      "4      158      329       171 Clinton_1999.txt  1999 Clinton   D    \n",
      "5      169      234        65 Obama_2009.txt    2009 Obama     D    \n",
      "6      103      284       181 Obama_2011.txt    2011 Obama     D    \n"
     ]
    },
    {
     "data": {
      "text/plain": [
       "\n",
       "\tWelch Two Sample t-test\n",
       "\n",
       "data:  democrats$sentiment and republicans$sentiment\n",
       "t = 0.37887, df = 11.107, p-value = 0.7119\n",
       "alternative hypothesis: true difference in means is not equal to 0\n",
       "95 percent confidence interval:\n",
       " -30.20569  42.78496\n",
       "sample estimates:\n",
       "mean of x mean of y \n",
       " 153.3750  147.0854 \n"
      ]
     },
     "metadata": {},
     "output_type": "display_data"
    },
    {
     "data": {
      "image/png": "[encoded data removed]",
      "text/plain": [
       "plot without title"
      ]
     },
     "metadata": {},
     "output_type": "display_data"
    }
   ],
   "source": [
    "# is the difference between parties significant?\n",
    "# get democratic presidents & add party affiliation\n",
    "democrats <- sentiments %>%\n",
    "filter(president == c(\"Clinton\",\"Obama\")) %>% mutate(party = \"D\") # Insert column 'party' with the value D in the dataset\n",
    "# get democratic presidents & party add affiliation\n",
    "republicans <- sentiments %>%\n",
    "filter(president != \"Clinton\" & president != \"Obama\") %>% mutate(party = \"R\") # Insert column 'party' with the value R in the dataset\n",
    "# join both\n",
    "byParty <- full_join(democrats, republicans)\n",
    "print(head(byParty))\n",
    "# the difference between the parties is significant\n",
    "# t-tests: One of the most common tests in statistics is the t-test,\n",
    "#used to determine whether the means of two groups are equal to each other.\n",
    "t.test(democrats$sentiment, republicans$sentiment)\n",
    "# plot sentiment by party\n",
    "ggplot(byParty, aes(x = party, y = sentiment, color = party)) + geom_boxplot() + geom_point()"
   ]
  },
  {
   "cell_type": "markdown",
   "metadata": {},
   "source": [
    "So it looks like there is a reliable difference in the sentiment of the State of the Union addresses\n",
    "given by Democratic and Republican presidents, at least from 1989 to 2017.\n",
    "There a couple things to keep in mind with this analysis, though:\n",
    "We didn’t correct for the length of the documents. It could be that the State of the Union addresses\n",
    "from Democratic presidents have more positive words becuase they are longer rather than becuase\n",
    "they are more positive. We’re using a general-purpose list of words rather than one specifically\n",
    "designed for analyzing political language. Furthermore, we only used one sentiment analysis list.\n",
    "With these two things in mind, I’ve written a couple of exercises for you. You can fork this notebook\n",
    "and continue working in the code chunks below"
   ]
  }
 ],
 "metadata": {
  "kernelspec": {
   "display_name": "R",
   "language": "R",
   "name": "ir"
  },
  "language_info": {
   "codemirror_mode": "r",
   "file_extension": ".r",
   "mimetype": "text/x-r-source",
   "name": "R",
   "pygments_lexer": "r",
   "version": "3.6.1"
  }
 },
 "nbformat": 4,
 "nbformat_minor": 2
}

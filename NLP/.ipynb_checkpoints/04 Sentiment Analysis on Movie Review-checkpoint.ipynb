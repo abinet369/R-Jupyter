{
 "cells": [
  {
   "cell_type": "code",
   "execution_count": 1,
   "metadata": {},
   "outputs": [
    {
     "name": "stderr",
     "output_type": "stream",
     "text": [
      "Warning message:\n",
      "\"package 'tidyverse' was built under R version 3.6.3\"-- Attaching packages --------------------------------------- tidyverse 1.3.0 --\n",
      "v ggplot2 3.2.1     v purrr   0.3.3\n",
      "v tibble  2.1.3     v dplyr   0.8.3\n",
      "v tidyr   1.0.2     v stringr 1.4.0\n",
      "v readr   1.3.1     v forcats 0.4.0\n",
      "Warning message:\n",
      "\"package 'ggplot2' was built under R version 3.6.2\"Warning message:\n",
      "\"package 'tibble' was built under R version 3.6.2\"Warning message:\n",
      "\"package 'tidyr' was built under R version 3.6.3\"Warning message:\n",
      "\"package 'readr' was built under R version 3.6.2\"Warning message:\n",
      "\"package 'purrr' was built under R version 3.6.2\"Warning message:\n",
      "\"package 'dplyr' was built under R version 3.6.2\"Warning message:\n",
      "\"package 'stringr' was built under R version 3.6.2\"-- Conflicts ------------------------------------------ tidyverse_conflicts() --\n",
      "x dplyr::filter() masks stats::filter()\n",
      "x dplyr::lag()    masks stats::lag()\n",
      "Warning message:\n",
      "\"package 'glue' was built under R version 3.6.3\"\n",
      "Attaching package: 'glue'\n",
      "\n",
      "The following object is masked from 'package:dplyr':\n",
      "\n",
      "    collapse\n",
      "\n"
     ]
    }
   ],
   "source": [
    "# load in the libraries we'll need\n",
    "library(tidyverse)\n",
    "library(tidytext)\n",
    "library(glue)\n",
    "library(stringr)"
   ]
  },
  {
   "cell_type": "code",
   "execution_count": 12,
   "metadata": {},
   "outputs": [
    {
     "name": "stdout",
     "output_type": "stream",
     "text": [
      "[1] \"cv000_29416.txt\" \"cv000_29590.txt\" \"cv001_18431.txt\" \"cv001_19502.txt\"\n",
      "[5] \"cv002_15918.txt\" \"cv002_17424.txt\"\n"
     ]
    }
   ],
   "source": [
    "files <- list.files('C:\\\\Users\\\\abine\\\\Dropbox\\\\College\\\\Semester 2\\\\S2 Work\\\\Prog for DS in R\\\\5. NLP\\\\review_polarity\\\\txt_sentoken\\\\')\n",
    "# head(files)\n",
    "print(head(files))"
   ]
  },
  {
   "cell_type": "markdown",
   "metadata": {},
   "source": [
    "This dataset contains Movie Reviews"
   ]
  },
  {
   "cell_type": "markdown",
   "metadata": {},
   "source": [
    "Let’s start with the first file. The first thing we need to do is tokenize it, or break it into individual words."
   ]
  },
  {
   "cell_type": "code",
   "execution_count": 19,
   "metadata": {},
   "outputs": [],
   "source": [
    "# stick together the path to the file & 1st file name\n",
    "fileName <- glue('C:\\\\Users\\\\abine\\\\Dropbox\\\\College\\\\Semester 2\\\\S2 Work\\\\Prog for DS in R\\\\5. NLP\\\\review_polarity\\\\txt_sentoken\\\\', files[1], sep = \"\")"
   ]
  },
  {
   "cell_type": "code",
   "execution_count": 20,
   "metadata": {},
   "outputs": [],
   "source": [
    " # get rid of any sneaky trailing spaces\n",
    "fileName <- trimws(fileName)"
   ]
  },
  {
   "cell_type": "code",
   "execution_count": 21,
   "metadata": {},
   "outputs": [
    {
     "data": {
      "text/html": [
       "'plot : two teen couples go to a church party , drink and then drive . \\nthey get into an accident . \\none of the guys dies , but his girlfriend continues to see him in her life , and has nightmares . \\nwhat\\'s the deal ? \\nwatch the movie and \" sorta \" find out . . . \\ncritique : a mind-fuck movie for the teen generation that touches on a very cool idea , but presents it in a very bad package . \\nwhich is what makes this review an even harder one to write , since i generally applaud films which attempt to break the mold , mess with your head and such ( lost highway &amp; memento ) , but there are good and bad ways of making all types of films , and these folks just didn\\'t snag this one correctly . \\nthey seem to have taken this pretty neat concept , but executed it terribly . \\nso what are the problems with the movie ? \\nwell , its main problem is that it\\'s simply too jumbled . \\nit starts off \" normal \" but then downshifts into this \" fantasy \" world in which you , as an audience member , have no idea what\\'s going on . \\nthere are dreams , there are characters coming back from the dead , there are others who look like the dead , there are strange apparitions , there are disappearances , there are a looooot of chase scenes , there are tons of weird things that happen , and most of it is simply not explained . \\nnow i personally don\\'t mind trying to unravel a film every now and then , but when all it does is give me the same clue over and over again , i get kind of fed up after a while , which is this film\\'s biggest problem . \\nit\\'s obviously got this big secret to hide , but it seems to want to hide it completely until its final five minutes . \\nand do they make things entertaining , thrilling or even engaging , in the meantime ? \\nnot really . \\nthe sad part is that the arrow and i both dig on flicks like this , so we actually figured most of it out by the half-way point , so all of the strangeness after that did start to make a little bit of sense , but it still didn\\'t the make the film all that more entertaining . \\ni guess the bottom line with movies like this is that you should always make sure that the audience is \" into it \" even before they are given the secret password to enter your world of understanding . \\ni mean , showing melissa sagemiller running away from visions for about 20 minutes throughout the movie is just plain lazy ! ! \\nokay , we get it . . . there \\nare people chasing her and we don\\'t know who they are . \\ndo we really need to see it over and over again ? \\nhow about giving us different scenes offering further insight into all of the strangeness going down in the movie ? \\napparently , the studio took this film away from its director and chopped it up themselves , and it shows . \\nthere might\\'ve been a pretty decent teen mind-fuck movie in here somewhere , but i guess \" the suits \" decided that turning it into a music video with little edge , would make more sense . \\nthe actors are pretty good for the most part , although wes bentley just seemed to be playing the exact same character that he did in american beauty , only in a new neighborhood . \\nbut my biggest kudos go out to sagemiller , who holds her own throughout the entire film , and actually has you feeling her character\\'s unraveling . \\noverall , the film doesn\\'t stick because it doesn\\'t entertain , it\\'s confusing , it rarely excites and it feels pretty redundant for most of its runtime , despite a pretty cool ending and explanation to all of the craziness that came before it . \\noh , and by the way , this is not a horror or teen slasher flick . . . it\\'s \\njust packaged to look that way because someone is apparently assuming that the genre is still hot with the kids . \\nit also wrapped production two years ago and has been sitting on the shelves ever since . \\nwhatever . . . skip \\nit ! \\nwhere\\'s joblo coming from ? \\na nightmare of elm street 3 ( 7/10 ) - blair witch 2 ( 7/10 ) - the crow ( 9/10 ) - the crow : salvation ( 4/10 ) - lost highway ( 10/10 ) - memento ( 10/10 ) - the others ( 9/10 ) - stir of echoes ( 8/10 ) '"
      ],
      "text/latex": [
       "'plot : two teen couples go to a church party , drink and then drive . \\textbackslash{}nthey get into an accident . \\textbackslash{}none of the guys dies , but his girlfriend continues to see him in her life , and has nightmares . \\textbackslash{}nwhat\\textbackslash{}'s the deal ? \\textbackslash{}nwatch the movie and \" sorta \" find out . . . \\textbackslash{}ncritique : a mind-fuck movie for the teen generation that touches on a very cool idea , but presents it in a very bad package . \\textbackslash{}nwhich is what makes this review an even harder one to write , since i generally applaud films which attempt to break the mold , mess with your head and such ( lost highway \\& memento ) , but there are good and bad ways of making all types of films , and these folks just didn\\textbackslash{}'t snag this one correctly . \\textbackslash{}nthey seem to have taken this pretty neat concept , but executed it terribly . \\textbackslash{}nso what are the problems with the movie ? \\textbackslash{}nwell , its main problem is that it\\textbackslash{}'s simply too jumbled . \\textbackslash{}nit starts off \" normal \" but then downshifts into this \" fantasy \" world in which you , as an audience member , have no idea what\\textbackslash{}'s going on . \\textbackslash{}nthere are dreams , there are characters coming back from the dead , there are others who look like the dead , there are strange apparitions , there are disappearances , there are a looooot of chase scenes , there are tons of weird things that happen , and most of it is simply not explained . \\textbackslash{}nnow i personally don\\textbackslash{}'t mind trying to unravel a film every now and then , but when all it does is give me the same clue over and over again , i get kind of fed up after a while , which is this film\\textbackslash{}'s biggest problem . \\textbackslash{}nit\\textbackslash{}'s obviously got this big secret to hide , but it seems to want to hide it completely until its final five minutes . \\textbackslash{}nand do they make things entertaining , thrilling or even engaging , in the meantime ? \\textbackslash{}nnot really . \\textbackslash{}nthe sad part is that the arrow and i both dig on flicks like this , so we actually figured most of it out by the half-way point , so all of the strangeness after that did start to make a little bit of sense , but it still didn\\textbackslash{}'t the make the film all that more entertaining . \\textbackslash{}ni guess the bottom line with movies like this is that you should always make sure that the audience is \" into it \" even before they are given the secret password to enter your world of understanding . \\textbackslash{}ni mean , showing melissa sagemiller running away from visions for about 20 minutes throughout the movie is just plain lazy ! ! \\textbackslash{}nokay , we get it . . . there \\textbackslash{}nare people chasing her and we don\\textbackslash{}'t know who they are . \\textbackslash{}ndo we really need to see it over and over again ? \\textbackslash{}nhow about giving us different scenes offering further insight into all of the strangeness going down in the movie ? \\textbackslash{}napparently , the studio took this film away from its director and chopped it up themselves , and it shows . \\textbackslash{}nthere might\\textbackslash{}'ve been a pretty decent teen mind-fuck movie in here somewhere , but i guess \" the suits \" decided that turning it into a music video with little edge , would make more sense . \\textbackslash{}nthe actors are pretty good for the most part , although wes bentley just seemed to be playing the exact same character that he did in american beauty , only in a new neighborhood . \\textbackslash{}nbut my biggest kudos go out to sagemiller , who holds her own throughout the entire film , and actually has you feeling her character\\textbackslash{}'s unraveling . \\textbackslash{}noverall , the film doesn\\textbackslash{}'t stick because it doesn\\textbackslash{}'t entertain , it\\textbackslash{}'s confusing , it rarely excites and it feels pretty redundant for most of its runtime , despite a pretty cool ending and explanation to all of the craziness that came before it . \\textbackslash{}noh , and by the way , this is not a horror or teen slasher flick . . . it\\textbackslash{}'s \\textbackslash{}njust packaged to look that way because someone is apparently assuming that the genre is still hot with the kids . \\textbackslash{}nit also wrapped production two years ago and has been sitting on the shelves ever since . \\textbackslash{}nwhatever . . . skip \\textbackslash{}nit ! \\textbackslash{}nwhere\\textbackslash{}'s joblo coming from ? \\textbackslash{}na nightmare of elm street 3 ( 7/10 ) - blair witch 2 ( 7/10 ) - the crow ( 9/10 ) - the crow : salvation ( 4/10 ) - lost highway ( 10/10 ) - memento ( 10/10 ) - the others ( 9/10 ) - stir of echoes ( 8/10 ) '"
      ],
      "text/markdown": [
       "'plot : two teen couples go to a church party , drink and then drive . \\nthey get into an accident . \\none of the guys dies , but his girlfriend continues to see him in her life , and has nightmares . \\nwhat\\'s the deal ? \\nwatch the movie and \" sorta \" find out . . . \\ncritique : a mind-fuck movie for the teen generation that touches on a very cool idea , but presents it in a very bad package . \\nwhich is what makes this review an even harder one to write , since i generally applaud films which attempt to break the mold , mess with your head and such ( lost highway &amp; memento ) , but there are good and bad ways of making all types of films , and these folks just didn\\'t snag this one correctly . \\nthey seem to have taken this pretty neat concept , but executed it terribly . \\nso what are the problems with the movie ? \\nwell , its main problem is that it\\'s simply too jumbled . \\nit starts off \" normal \" but then downshifts into this \" fantasy \" world in which you , as an audience member , have no idea what\\'s going on . \\nthere are dreams , there are characters coming back from the dead , there are others who look like the dead , there are strange apparitions , there are disappearances , there are a looooot of chase scenes , there are tons of weird things that happen , and most of it is simply not explained . \\nnow i personally don\\'t mind trying to unravel a film every now and then , but when all it does is give me the same clue over and over again , i get kind of fed up after a while , which is this film\\'s biggest problem . \\nit\\'s obviously got this big secret to hide , but it seems to want to hide it completely until its final five minutes . \\nand do they make things entertaining , thrilling or even engaging , in the meantime ? \\nnot really . \\nthe sad part is that the arrow and i both dig on flicks like this , so we actually figured most of it out by the half-way point , so all of the strangeness after that did start to make a little bit of sense , but it still didn\\'t the make the film all that more entertaining . \\ni guess the bottom line with movies like this is that you should always make sure that the audience is \" into it \" even before they are given the secret password to enter your world of understanding . \\ni mean , showing melissa sagemiller running away from visions for about 20 minutes throughout the movie is just plain lazy ! ! \\nokay , we get it . . . there \\nare people chasing her and we don\\'t know who they are . \\ndo we really need to see it over and over again ? \\nhow about giving us different scenes offering further insight into all of the strangeness going down in the movie ? \\napparently , the studio took this film away from its director and chopped it up themselves , and it shows . \\nthere might\\'ve been a pretty decent teen mind-fuck movie in here somewhere , but i guess \" the suits \" decided that turning it into a music video with little edge , would make more sense . \\nthe actors are pretty good for the most part , although wes bentley just seemed to be playing the exact same character that he did in american beauty , only in a new neighborhood . \\nbut my biggest kudos go out to sagemiller , who holds her own throughout the entire film , and actually has you feeling her character\\'s unraveling . \\noverall , the film doesn\\'t stick because it doesn\\'t entertain , it\\'s confusing , it rarely excites and it feels pretty redundant for most of its runtime , despite a pretty cool ending and explanation to all of the craziness that came before it . \\noh , and by the way , this is not a horror or teen slasher flick . . . it\\'s \\njust packaged to look that way because someone is apparently assuming that the genre is still hot with the kids . \\nit also wrapped production two years ago and has been sitting on the shelves ever since . \\nwhatever . . . skip \\nit ! \\nwhere\\'s joblo coming from ? \\na nightmare of elm street 3 ( 7/10 ) - blair witch 2 ( 7/10 ) - the crow ( 9/10 ) - the crow : salvation ( 4/10 ) - lost highway ( 10/10 ) - memento ( 10/10 ) - the others ( 9/10 ) - stir of echoes ( 8/10 ) '"
      ],
      "text/plain": [
       "plot : two teen couples go to a church party , drink and then drive . \n",
       "they get into an accident . \n",
       "one of the guys dies , but his girlfriend continues to see him in her life , and has nightmares . \n",
       "what's the deal ? \n",
       "watch the movie and \" sorta \" find out . . . \n",
       "critique : a mind-fuck movie for the teen generation that touches on a very cool idea , but presents it in a very bad package . \n",
       "which is what makes this review an even harder one to write , since i generally applaud films which attempt to break the mold , mess with your head and such ( lost highway & memento ) , but there are good and bad ways of making all types of films , and these folks just didn't snag this one correctly . \n",
       "they seem to have taken this pretty neat concept , but executed it terribly . \n",
       "so what are the problems with the movie ? \n",
       "well , its main problem is that it's simply too jumbled . \n",
       "it starts off \" normal \" but then downshifts into this \" fantasy \" world in which you , as an audience member , have no idea what's going on . \n",
       "there are dreams , there are characters coming back from the dead , there are others who look like the dead , there are strange apparitions , there are disappearances , there are a looooot of chase scenes , there are tons of weird things that happen , and most of it is simply not explained . \n",
       "now i personally don't mind trying to unravel a film every now and then , but when all it does is give me the same clue over and over again , i get kind of fed up after a while , which is this film's biggest problem . \n",
       "it's obviously got this big secret to hide , but it seems to want to hide it completely until its final five minutes . \n",
       "and do they make things entertaining , thrilling or even engaging , in the meantime ? \n",
       "not really . \n",
       "the sad part is that the arrow and i both dig on flicks like this , so we actually figured most of it out by the half-way point , so all of the strangeness after that did start to make a little bit of sense , but it still didn't the make the film all that more entertaining . \n",
       "i guess the bottom line with movies like this is that you should always make sure that the audience is \" into it \" even before they are given the secret password to enter your world of understanding . \n",
       "i mean , showing melissa sagemiller running away from visions for about 20 minutes throughout the movie is just plain lazy ! ! \n",
       "okay , we get it . . . there \n",
       "are people chasing her and we don't know who they are . \n",
       "do we really need to see it over and over again ? \n",
       "how about giving us different scenes offering further insight into all of the strangeness going down in the movie ? \n",
       "apparently , the studio took this film away from its director and chopped it up themselves , and it shows . \n",
       "there might've been a pretty decent teen mind-fuck movie in here somewhere , but i guess \" the suits \" decided that turning it into a music video with little edge , would make more sense . \n",
       "the actors are pretty good for the most part , although wes bentley just seemed to be playing the exact same character that he did in american beauty , only in a new neighborhood . \n",
       "but my biggest kudos go out to sagemiller , who holds her own throughout the entire film , and actually has you feeling her character's unraveling . \n",
       "overall , the film doesn't stick because it doesn't entertain , it's confusing , it rarely excites and it feels pretty redundant for most of its runtime , despite a pretty cool ending and explanation to all of the craziness that came before it . \n",
       "oh , and by the way , this is not a horror or teen slasher flick . . . it's \n",
       "just packaged to look that way because someone is apparently assuming that the genre is still hot with the kids . \n",
       "it also wrapped production two years ago and has been sitting on the shelves ever since . \n",
       "whatever . . . skip \n",
       "it ! \n",
       "where's joblo coming from ? \n",
       "a nightmare of elm street 3 ( 7/10 ) - blair witch 2 ( 7/10 ) - the crow ( 9/10 ) - the crow : salvation ( 4/10 ) - lost highway ( 10/10 ) - memento ( 10/10 ) - the others ( 9/10 ) - stir of echoes ( 8/10 ) "
      ]
     },
     "metadata": {},
     "output_type": "display_data"
    }
   ],
   "source": [
    " # read in the new file\n",
    "fileText <- glue(read_file(fileName))\n",
    "head(fileText)"
   ]
  },
  {
   "cell_type": "code",
   "execution_count": 22,
   "metadata": {},
   "outputs": [
    {
     "data": {
      "text/html": [
       "'plot : two teen couples go to a church party , drink and then drive . \\nthey get into an accident . \\none of the guys dies , but his girlfriend continues to see him in her life , and has nightmares . \\nwhat\\'s the deal ? \\nwatch the movie and \" sorta \" find out . . . \\ncritique : a mind-fuck movie for the teen generation that touches on a very cool idea , but presents it in a very bad package . \\nwhich is what makes this review an even harder one to write , since i generally applaud films which attempt to break the mold , mess with your head and such ( lost highway &amp; memento ) , but there are good and bad ways of making all types of films , and these folks just didn\\'t snag this one correctly . \\nthey seem to have taken this pretty neat concept , but executed it terribly . \\nso what are the problems with the movie ? \\nwell , its main problem is that it\\'s simply too jumbled . \\nit starts off \" normal \" but then downshifts into this \" fantasy \" world in which you , as an audience member , have no idea what\\'s going on . \\nthere are dreams , there are characters coming back from the dead , there are others who look like the dead , there are strange apparitions , there are disappearances , there are a looooot of chase scenes , there are tons of weird things that happen , and most of it is simply not explained . \\nnow i personally don\\'t mind trying to unravel a film every now and then , but when all it does is give me the same clue over and over again , i get kind of fed up after a while , which is this film\\'s biggest problem . \\nit\\'s obviously got this big secret to hide , but it seems to want to hide it completely until its final five minutes . \\nand do they make things entertaining , thrilling or even engaging , in the meantime ? \\nnot really . \\nthe sad part is that the arrow and i both dig on flicks like this , so we actually figured most of it out by the half-way point , so all of the strangeness after that did start to make a little bit of sense , but it still didn\\'t the make the film all that more entertaining . \\ni guess the bottom line with movies like this is that you should always make sure that the audience is \" into it \" even before they are given the secret password to enter your world of understanding . \\ni mean , showing melissa sagemiller running away from visions for about 20 minutes throughout the movie is just plain lazy ! ! \\nokay , we get it . . . there \\nare people chasing her and we don\\'t know who they are . \\ndo we really need to see it over and over again ? \\nhow about giving us different scenes offering further insight into all of the strangeness going down in the movie ? \\napparently , the studio took this film away from its director and chopped it up themselves , and it shows . \\nthere might\\'ve been a pretty decent teen mind-fuck movie in here somewhere , but i guess \" the suits \" decided that turning it into a music video with little edge , would make more sense . \\nthe actors are pretty good for the most part , although wes bentley just seemed to be playing the exact same character that he did in american beauty , only in a new neighborhood . \\nbut my biggest kudos go out to sagemiller , who holds her own throughout the entire film , and actually has you feeling her character\\'s unraveling . \\noverall , the film doesn\\'t stick because it doesn\\'t entertain , it\\'s confusing , it rarely excites and it feels pretty redundant for most of its runtime , despite a pretty cool ending and explanation to all of the craziness that came before it . \\noh , and by the way , this is not a horror or teen slasher flick . . . it\\'s \\njust packaged to look that way because someone is apparently assuming that the genre is still hot with the kids . \\nit also wrapped production two years ago and has been sitting on the shelves ever since . \\nwhatever . . . skip \\nit ! \\nwhere\\'s joblo coming from ? \\na nightmare of elm street 3 ( 7/10 ) - blair witch 2 ( 7/10 ) - the crow ( 9/10 ) - the crow : salvation ( 4/10 ) - lost highway ( 10/10 ) - memento ( 10/10 ) - the others ( 9/10 ) - stir of echoes ( 8/10 ) '"
      ],
      "text/latex": [
       "'plot : two teen couples go to a church party , drink and then drive . \\textbackslash{}nthey get into an accident . \\textbackslash{}none of the guys dies , but his girlfriend continues to see him in her life , and has nightmares . \\textbackslash{}nwhat\\textbackslash{}'s the deal ? \\textbackslash{}nwatch the movie and \" sorta \" find out . . . \\textbackslash{}ncritique : a mind-fuck movie for the teen generation that touches on a very cool idea , but presents it in a very bad package . \\textbackslash{}nwhich is what makes this review an even harder one to write , since i generally applaud films which attempt to break the mold , mess with your head and such ( lost highway \\& memento ) , but there are good and bad ways of making all types of films , and these folks just didn\\textbackslash{}'t snag this one correctly . \\textbackslash{}nthey seem to have taken this pretty neat concept , but executed it terribly . \\textbackslash{}nso what are the problems with the movie ? \\textbackslash{}nwell , its main problem is that it\\textbackslash{}'s simply too jumbled . \\textbackslash{}nit starts off \" normal \" but then downshifts into this \" fantasy \" world in which you , as an audience member , have no idea what\\textbackslash{}'s going on . \\textbackslash{}nthere are dreams , there are characters coming back from the dead , there are others who look like the dead , there are strange apparitions , there are disappearances , there are a looooot of chase scenes , there are tons of weird things that happen , and most of it is simply not explained . \\textbackslash{}nnow i personally don\\textbackslash{}'t mind trying to unravel a film every now and then , but when all it does is give me the same clue over and over again , i get kind of fed up after a while , which is this film\\textbackslash{}'s biggest problem . \\textbackslash{}nit\\textbackslash{}'s obviously got this big secret to hide , but it seems to want to hide it completely until its final five minutes . \\textbackslash{}nand do they make things entertaining , thrilling or even engaging , in the meantime ? \\textbackslash{}nnot really . \\textbackslash{}nthe sad part is that the arrow and i both dig on flicks like this , so we actually figured most of it out by the half-way point , so all of the strangeness after that did start to make a little bit of sense , but it still didn\\textbackslash{}'t the make the film all that more entertaining . \\textbackslash{}ni guess the bottom line with movies like this is that you should always make sure that the audience is \" into it \" even before they are given the secret password to enter your world of understanding . \\textbackslash{}ni mean , showing melissa sagemiller running away from visions for about 20 minutes throughout the movie is just plain lazy ! ! \\textbackslash{}nokay , we get it . . . there \\textbackslash{}nare people chasing her and we don\\textbackslash{}'t know who they are . \\textbackslash{}ndo we really need to see it over and over again ? \\textbackslash{}nhow about giving us different scenes offering further insight into all of the strangeness going down in the movie ? \\textbackslash{}napparently , the studio took this film away from its director and chopped it up themselves , and it shows . \\textbackslash{}nthere might\\textbackslash{}'ve been a pretty decent teen mind-fuck movie in here somewhere , but i guess \" the suits \" decided that turning it into a music video with little edge , would make more sense . \\textbackslash{}nthe actors are pretty good for the most part , although wes bentley just seemed to be playing the exact same character that he did in american beauty , only in a new neighborhood . \\textbackslash{}nbut my biggest kudos go out to sagemiller , who holds her own throughout the entire film , and actually has you feeling her character\\textbackslash{}'s unraveling . \\textbackslash{}noverall , the film doesn\\textbackslash{}'t stick because it doesn\\textbackslash{}'t entertain , it\\textbackslash{}'s confusing , it rarely excites and it feels pretty redundant for most of its runtime , despite a pretty cool ending and explanation to all of the craziness that came before it . \\textbackslash{}noh , and by the way , this is not a horror or teen slasher flick . . . it\\textbackslash{}'s \\textbackslash{}njust packaged to look that way because someone is apparently assuming that the genre is still hot with the kids . \\textbackslash{}nit also wrapped production two years ago and has been sitting on the shelves ever since . \\textbackslash{}nwhatever . . . skip \\textbackslash{}nit ! \\textbackslash{}nwhere\\textbackslash{}'s joblo coming from ? \\textbackslash{}na nightmare of elm street 3 ( 7/10 ) - blair witch 2 ( 7/10 ) - the crow ( 9/10 ) - the crow : salvation ( 4/10 ) - lost highway ( 10/10 ) - memento ( 10/10 ) - the others ( 9/10 ) - stir of echoes ( 8/10 ) '"
      ],
      "text/markdown": [
       "'plot : two teen couples go to a church party , drink and then drive . \\nthey get into an accident . \\none of the guys dies , but his girlfriend continues to see him in her life , and has nightmares . \\nwhat\\'s the deal ? \\nwatch the movie and \" sorta \" find out . . . \\ncritique : a mind-fuck movie for the teen generation that touches on a very cool idea , but presents it in a very bad package . \\nwhich is what makes this review an even harder one to write , since i generally applaud films which attempt to break the mold , mess with your head and such ( lost highway &amp; memento ) , but there are good and bad ways of making all types of films , and these folks just didn\\'t snag this one correctly . \\nthey seem to have taken this pretty neat concept , but executed it terribly . \\nso what are the problems with the movie ? \\nwell , its main problem is that it\\'s simply too jumbled . \\nit starts off \" normal \" but then downshifts into this \" fantasy \" world in which you , as an audience member , have no idea what\\'s going on . \\nthere are dreams , there are characters coming back from the dead , there are others who look like the dead , there are strange apparitions , there are disappearances , there are a looooot of chase scenes , there are tons of weird things that happen , and most of it is simply not explained . \\nnow i personally don\\'t mind trying to unravel a film every now and then , but when all it does is give me the same clue over and over again , i get kind of fed up after a while , which is this film\\'s biggest problem . \\nit\\'s obviously got this big secret to hide , but it seems to want to hide it completely until its final five minutes . \\nand do they make things entertaining , thrilling or even engaging , in the meantime ? \\nnot really . \\nthe sad part is that the arrow and i both dig on flicks like this , so we actually figured most of it out by the half-way point , so all of the strangeness after that did start to make a little bit of sense , but it still didn\\'t the make the film all that more entertaining . \\ni guess the bottom line with movies like this is that you should always make sure that the audience is \" into it \" even before they are given the secret password to enter your world of understanding . \\ni mean , showing melissa sagemiller running away from visions for about 20 minutes throughout the movie is just plain lazy ! ! \\nokay , we get it . . . there \\nare people chasing her and we don\\'t know who they are . \\ndo we really need to see it over and over again ? \\nhow about giving us different scenes offering further insight into all of the strangeness going down in the movie ? \\napparently , the studio took this film away from its director and chopped it up themselves , and it shows . \\nthere might\\'ve been a pretty decent teen mind-fuck movie in here somewhere , but i guess \" the suits \" decided that turning it into a music video with little edge , would make more sense . \\nthe actors are pretty good for the most part , although wes bentley just seemed to be playing the exact same character that he did in american beauty , only in a new neighborhood . \\nbut my biggest kudos go out to sagemiller , who holds her own throughout the entire film , and actually has you feeling her character\\'s unraveling . \\noverall , the film doesn\\'t stick because it doesn\\'t entertain , it\\'s confusing , it rarely excites and it feels pretty redundant for most of its runtime , despite a pretty cool ending and explanation to all of the craziness that came before it . \\noh , and by the way , this is not a horror or teen slasher flick . . . it\\'s \\njust packaged to look that way because someone is apparently assuming that the genre is still hot with the kids . \\nit also wrapped production two years ago and has been sitting on the shelves ever since . \\nwhatever . . . skip \\nit ! \\nwhere\\'s joblo coming from ? \\na nightmare of elm street 3 ( 7/10 ) - blair witch 2 ( 7/10 ) - the crow ( 9/10 ) - the crow : salvation ( 4/10 ) - lost highway ( 10/10 ) - memento ( 10/10 ) - the others ( 9/10 ) - stir of echoes ( 8/10 ) '"
      ],
      "text/plain": [
       "plot : two teen couples go to a church party , drink and then drive . \n",
       "they get into an accident . \n",
       "one of the guys dies , but his girlfriend continues to see him in her life , and has nightmares . \n",
       "what's the deal ? \n",
       "watch the movie and \" sorta \" find out . . . \n",
       "critique : a mind-fuck movie for the teen generation that touches on a very cool idea , but presents it in a very bad package . \n",
       "which is what makes this review an even harder one to write , since i generally applaud films which attempt to break the mold , mess with your head and such ( lost highway & memento ) , but there are good and bad ways of making all types of films , and these folks just didn't snag this one correctly . \n",
       "they seem to have taken this pretty neat concept , but executed it terribly . \n",
       "so what are the problems with the movie ? \n",
       "well , its main problem is that it's simply too jumbled . \n",
       "it starts off \" normal \" but then downshifts into this \" fantasy \" world in which you , as an audience member , have no idea what's going on . \n",
       "there are dreams , there are characters coming back from the dead , there are others who look like the dead , there are strange apparitions , there are disappearances , there are a looooot of chase scenes , there are tons of weird things that happen , and most of it is simply not explained . \n",
       "now i personally don't mind trying to unravel a film every now and then , but when all it does is give me the same clue over and over again , i get kind of fed up after a while , which is this film's biggest problem . \n",
       "it's obviously got this big secret to hide , but it seems to want to hide it completely until its final five minutes . \n",
       "and do they make things entertaining , thrilling or even engaging , in the meantime ? \n",
       "not really . \n",
       "the sad part is that the arrow and i both dig on flicks like this , so we actually figured most of it out by the half-way point , so all of the strangeness after that did start to make a little bit of sense , but it still didn't the make the film all that more entertaining . \n",
       "i guess the bottom line with movies like this is that you should always make sure that the audience is \" into it \" even before they are given the secret password to enter your world of understanding . \n",
       "i mean , showing melissa sagemiller running away from visions for about 20 minutes throughout the movie is just plain lazy ! ! \n",
       "okay , we get it . . . there \n",
       "are people chasing her and we don't know who they are . \n",
       "do we really need to see it over and over again ? \n",
       "how about giving us different scenes offering further insight into all of the strangeness going down in the movie ? \n",
       "apparently , the studio took this film away from its director and chopped it up themselves , and it shows . \n",
       "there might've been a pretty decent teen mind-fuck movie in here somewhere , but i guess \" the suits \" decided that turning it into a music video with little edge , would make more sense . \n",
       "the actors are pretty good for the most part , although wes bentley just seemed to be playing the exact same character that he did in american beauty , only in a new neighborhood . \n",
       "but my biggest kudos go out to sagemiller , who holds her own throughout the entire film , and actually has you feeling her character's unraveling . \n",
       "overall , the film doesn't stick because it doesn't entertain , it's confusing , it rarely excites and it feels pretty redundant for most of its runtime , despite a pretty cool ending and explanation to all of the craziness that came before it . \n",
       "oh , and by the way , this is not a horror or teen slasher flick . . . it's \n",
       "just packaged to look that way because someone is apparently assuming that the genre is still hot with the kids . \n",
       "it also wrapped production two years ago and has been sitting on the shelves ever since . \n",
       "whatever . . . skip \n",
       "it ! \n",
       "where's joblo coming from ? \n",
       "a nightmare of elm street 3 ( 7/10 ) - blair witch 2 ( 7/10 ) - the crow ( 9/10 ) - the crow : salvation ( 4/10 ) - lost highway ( 10/10 ) - memento ( 10/10 ) - the others ( 9/10 ) - stir of echoes ( 8/10 ) "
      ]
     },
     "metadata": {},
     "output_type": "display_data"
    }
   ],
   "source": [
    "# remove any dollar signs (they're special characters in R)\n",
    "fileText <- gsub(\"\\\\$\", \"\", fileText)\n",
    "head(fileText)"
   ]
  },
  {
   "cell_type": "code",
   "execution_count": 23,
   "metadata": {},
   "outputs": [
    {
     "name": "stdout",
     "output_type": "stream",
     "text": [
      "# A tibble: 6 x 1\n",
      "  word   \n",
      "  <chr>  \n",
      "1 plot   \n",
      "2 two    \n",
      "3 teen   \n",
      "4 couples\n",
      "5 go     \n",
      "6 to     \n"
     ]
    }
   ],
   "source": [
    " # tokenize\n",
    "tokens <- data_frame(text = fileText) %>% unnest_tokens(word, text)\n",
    "print(head(tokens))"
   ]
  },
  {
   "cell_type": "markdown",
   "metadata": {},
   "source": [
    "Now that we have a list of tokens, we need to compare them against a list of words with either positive or negative sentiment."
   ]
  },
  {
   "cell_type": "code",
   "execution_count": 24,
   "metadata": {},
   "outputs": [
    {
     "name": "stderr",
     "output_type": "stream",
     "text": [
      "Your code contains a unicode char which cannot be displayed in your\n",
      "current locale and R will silently convert it to an escaped form when the\n",
      "R kernel executes this code. This can lead to subtle errors if you use\n",
      "such chars to do comparisons. For more information, please see\n",
      "https://github.com/IRkernel/repr/wiki/Problems-with-unicode-on-windowsJoining, by = \"word\""
     ]
    },
    {
     "data": {
      "text/html": [
       "<table>\n",
       "<caption>A tibble: 1 × 3</caption>\n",
       "<thead>\n",
       "\t<tr><th scope=col>negative</th><th scope=col>positive</th><th scope=col>sentiment</th></tr>\n",
       "\t<tr><th scope=col>&lt;dbl&gt;</th><th scope=col>&lt;dbl&gt;</th><th scope=col>&lt;dbl&gt;</th></tr>\n",
       "</thead>\n",
       "<tbody>\n",
       "\t<tr><td>26</td><td>26</td><td>0</td></tr>\n",
       "</tbody>\n",
       "</table>\n"
      ],
      "text/latex": [
       "A tibble: 1 × 3\n",
       "\\begin{tabular}{lll}\n",
       " negative & positive & sentiment\\\\\n",
       " <dbl> & <dbl> & <dbl>\\\\\n",
       "\\hline\n",
       "\t 26 & 26 & 0\\\\\n",
       "\\end{tabular}\n"
      ],
      "text/markdown": [
       "\n",
       "A tibble: 1 × 3\n",
       "\n",
       "| negative &lt;dbl&gt; | positive &lt;dbl&gt; | sentiment &lt;dbl&gt; |\n",
       "|---|---|---|\n",
       "| 26 | 26 | 0 |\n",
       "\n"
      ],
      "text/plain": [
       "  negative positive sentiment\n",
       "1 26       26       0        "
      ]
     },
     "metadata": {},
     "output_type": "display_data"
    }
   ],
   "source": [
    "# get the sentiment from the first text:\n",
    "tokens %>%\n",
    "inner_join(get_sentiments(\"bing\"))%>% # pull out only sentiment words from␣,→ the target text\n",
    "count(sentiment) %>% # count the total number of positive & negative words␣,→ from the target text\n",
    "spread(sentiment, n, fill = 0) %>% # made data wide rather than narrow␣,→ (changing the format to display)\n",
    "mutate(sentiment = positive - negative) #Total number of positive words -␣,→ Total number of negative words"
   ]
  },
  {
   "cell_type": "markdown",
   "metadata": {},
   "source": [
    "So this text has 26 negative polarity words and 26 positive polarity words. This means that there are equal positive and negative words in this text. Now that we know how to get the sentiment for a given text, let’s write a function to do this more quickly and easily and then apply that function to every text in our dataset"
   ]
  },
  {
   "cell_type": "code",
   "execution_count": 28,
   "metadata": {},
   "outputs": [
    {
     "name": "stderr",
     "output_type": "stream",
     "text": [
      "Your code contains a unicode char which cannot be displayed in your\n",
      "current locale and R will silently convert it to an escaped form when the\n",
      "R kernel executes this code. This can lead to subtle errors if you use\n",
      "such chars to do comparisons. For more information, please see\n",
      "https://github.com/IRkernel/repr/wiki/Problems-with-unicode-on-windows"
     ]
    }
   ],
   "source": [
    "# write a function that takes the name of a file and returns the # of postive\n",
    "# sentiment words, negative sentiment words, the difference & the normalized␣,→ difference\n",
    "GetSentiment <- function(file){\n",
    "# get the file\n",
    "fileName <- glue('C:\\\\Users\\\\abine\\\\Dropbox\\\\College\\\\Semester 2\\\\S2 Work\\\\Prog for DS in R\\\\5. NLP\\\\review_polarity\\\\txt_sentoken\\\\', file, sep = \"\")\n",
    "# get rid of any sneaky trailing spaces\n",
    "fileName <- trimws(fileName)\n",
    "# read in the new file\n",
    "fileText <- glue(read_file(fileName))\n",
    "# remove any dollar signs (they're special characters in R)\n",
    "fileText <- gsub(\"\\\\$\", \"\", fileText)\n",
    "# tokenize\n",
    "tokens <- data_frame(text = fileText) %>% unnest_tokens(word, text)\n",
    "# get the sentiment from the first text:\n",
    "sentiment <- tokens %>%\n",
    "inner_join(get_sentiments(\"bing\")) %>% # pull out only sentimen words\n",
    "count(sentiment) %>% # count the # of positive & negative words\n",
    "spread(sentiment, n, fill = 0) %>% # made data wide rather than narrow\n",
    "mutate(sentiment = positive - negative) %>% # # of positive words - # of␣,→ negative owrds\n",
    "mutate(file = file) # add the name of our file\n",
    "# return our sentiment dataframe\n",
    "return(sentiment)\n",
    "}"
   ]
  },
  {
   "cell_type": "code",
   "execution_count": 30,
   "metadata": {},
   "outputs": [
    {
     "name": "stderr",
     "output_type": "stream",
     "text": [
      "Joining, by = \"word\""
     ]
    },
    {
     "data": {
      "text/html": [
       "<table>\n",
       "<caption>A tibble: 1 × 4</caption>\n",
       "<thead>\n",
       "\t<tr><th scope=col>negative</th><th scope=col>positive</th><th scope=col>sentiment</th><th scope=col>file</th></tr>\n",
       "\t<tr><th scope=col>&lt;dbl&gt;</th><th scope=col>&lt;dbl&gt;</th><th scope=col>&lt;dbl&gt;</th><th scope=col>&lt;chr&gt;</th></tr>\n",
       "</thead>\n",
       "<tbody>\n",
       "\t<tr><td>26</td><td>26</td><td>0</td><td>cv000_29416.txt</td></tr>\n",
       "</tbody>\n",
       "</table>\n"
      ],
      "text/latex": [
       "A tibble: 1 × 4\n",
       "\\begin{tabular}{llll}\n",
       " negative & positive & sentiment & file\\\\\n",
       " <dbl> & <dbl> & <dbl> & <chr>\\\\\n",
       "\\hline\n",
       "\t 26 & 26 & 0 & cv000\\_29416.txt\\\\\n",
       "\\end{tabular}\n"
      ],
      "text/markdown": [
       "\n",
       "A tibble: 1 × 4\n",
       "\n",
       "| negative &lt;dbl&gt; | positive &lt;dbl&gt; | sentiment &lt;dbl&gt; | file &lt;chr&gt; |\n",
       "|---|---|---|---|\n",
       "| 26 | 26 | 0 | cv000_29416.txt |\n",
       "\n"
      ],
      "text/plain": [
       "  negative positive sentiment file           \n",
       "1 26       26       0         cv000_29416.txt"
      ]
     },
     "metadata": {},
     "output_type": "display_data"
    }
   ],
   "source": [
    "GetSentiment(files[1])"
   ]
  },
  {
   "cell_type": "markdown",
   "metadata": {},
   "source": [
    "So this text has 35 negative polarity words and 40 positive polarity words. This means that there are 5 more positive than negative words in this text. Now that we know how to get the sentiment for a given text, let’s write a function to do this more quickly and easily and then apply that function to every text in our dataset"
   ]
  },
  {
   "cell_type": "code",
   "execution_count": 31,
   "metadata": {},
   "outputs": [
    {
     "data": {
      "text/html": [
       "2000"
      ],
      "text/latex": [
       "2000"
      ],
      "text/markdown": [
       "2000"
      ],
      "text/plain": [
       "[1] 2000"
      ]
     },
     "metadata": {},
     "output_type": "display_data"
    }
   ],
   "source": [
    "# file to put our output in\n",
    "sentiments <- data_frame()\n",
    "length(files)"
   ]
  },
  {
   "cell_type": "code",
   "execution_count": 35,
   "metadata": {},
   "outputs": [
    {
     "name": "stderr",
     "output_type": "stream",
     "text": [
      "Joining, by = \"word\"Joining, by = \"word\"Joining, by = \"word\"Joining, by = \"word\"Joining, by = \"word\"Joining, by = \"word\"Joining, by = \"word\"Joining, by = \"word\"Joining, by = \"word\"Joining, by = \"word\"Joining, by = \"word\"Joining, by = \"word\"Joining, by = \"word\"Joining, by = \"word\"Joining, by = \"word\"Joining, by = \"word\"Joining, by = \"word\"Joining, by = \"word\"Joining, by = \"word\"Joining, by = \"word\"Joining, by = \"word\"Joining, by = \"word\"Joining, by = \"word\"Joining, by = \"word\"Joining, by = \"word\"Joining, by = \"word\"Joining, by = \"word\"Joining, by = \"word\"Joining, by = \"word\"Joining, by = \"word\"Joining, by = \"word\"Joining, by = \"word\"Joining, by = \"word\"Joining, by = \"word\"Joining, by = \"word\"Joining, by = \"word\"Joining, by = \"word\"Joining, by = \"word\"Joining, by = \"word\"Joining, by = \"word\"Joining, by = \"word\"Joining, by = \"word\"Joining, by = \"word\"Joining, by = \"word\"Joining, by = \"word\"Joining, by = \"word\"Joining, by = \"word\"Joining, by = \"word\"Joining, by = \"word\"Joining, by = \"word\"Joining, by = \"word\"Joining, by = \"word\"Joining, by = \"word\"Joining, by = \"word\"Joining, by = \"word\"Joining, by = \"word\"Joining, by = \"word\"Joining, by = \"word\"Joining, by = \"word\"Joining, by = \"word\"Joining, by = \"word\"Joining, by = \"word\"Joining, by = \"word\"Joining, by = \"word\"Joining, by = \"word\"Joining, by = \"word\"Joining, by = \"word\"Joining, by = \"word\"Joining, by = \"word\"Joining, by = \"word\"Joining, by = \"word\"Joining, by = \"word\"Joining, by = \"word\"Joining, by = \"word\"Joining, by = \"word\"Joining, by = \"word\"Joining, by = \"word\"Joining, by = \"word\"Joining, by = \"word\"Joining, by = \"word\"Joining, by = \"word\"Joining, by = \"word\"Joining, by = \"word\"Joining, by = \"word\"Joining, by = \"word\"Joining, by = \"word\"Joining, by = \"word\"Joining, by = \"word\"Joining, by = \"word\"Joining, by = \"word\"Joining, by = \"word\"Joining, by = \"word\"Joining, by = \"word\"Joining, by = \"word\"Joining, by = \"word\"Joining, by = \"word\"Joining, by = \"word\"Joining, by = \"word\"Joining, by = \"word\"Joining, by = \"word\"Joining, by = \"word\"Joining, by = \"word\"Joining, by = \"word\"Joining, by = \"word\"Joining, by = \"word\"Joining, by = \"word\"Joining, by = \"word\"Joining, by = \"word\"Joining, by = \"word\"Joining, by = \"word\"Joining, by = \"word\"Joining, by = \"word\"Joining, by = \"word\"Joining, by = \"word\"Joining, by = \"word\"Joining, by = \"word\"Joining, by = \"word\"Joining, by = \"word\"Joining, by = \"word\"Joining, by = \"word\"Joining, by = \"word\"Joining, by = \"word\"Joining, by = \"word\"Joining, by = \"word\"Joining, by = \"word\"Joining, by = \"word\"Joining, by = \"word\"Joining, by = \"word\"Joining, by = \"word\"Joining, by = \"word\"Joining, by = \"word\"Joining, by = \"word\"Joining, by = \"word\"Joining, by = \"word\"Joining, by = \"word\"Joining, by = \"word\"Joining, by = \"word\"Joining, by = \"word\"Joining, by = \"word\"Joining, by = \"word\"Joining, by = \"word\"Joining, by = \"word\"Joining, by = \"word\"Joining, by = \"word\"Joining, by = \"word\"Joining, by = \"word\"Joining, by = \"word\"Joining, by = \"word\"Joining, by = \"word\"Joining, by = \"word\"Joining, by = \"word\"Joining, by = \"word\"Joining, by = \"word\"Joining, by = \"word\"Joining, by = \"word\"Joining, by = \"word\"Joining, by = \"word\"Joining, by = \"word\"Joining, by = \"word\"Joining, by = \"word\"Joining, by = \"word\"Joining, by = \"word\"Joining, by = \"word\"Joining, by = \"word\"Joining, by = \"word\"Joining, by = \"word\"Joining, by = \"word\"Joining, by = \"word\"Joining, by = \"word\"Joining, by = \"word\"Joining, by = \"word\"Joining, by = \"word\"Joining, by = \"word\"Joining, by = \"word\"Joining, by = \"word\"Joining, by = \"word\"Joining, by = \"word\"Joining, by = \"word\"Joining, by = \"word\"Joining, by = \"word\"Joining, by = \"word\"Joining, by = \"word\"Joining, by = \"word\"Joining, by = \"word\"Joining, by = \"word\"Joining, by = \"word\"Joining, by = \"word\"Joining, by = \"word\"Joining, by = \"word\"Joining, by = \"word\"Joining, by = \"word\"Joining, by = \"word\"Joining, by = \"word\"Joining, by = \"word\"Joining, by = \"word\"Joining, by = \"word\"Joining, by = \"word\"Joining, by = \"word\"Joining, by = \"word\"Joining, by = \"word\"Joining, by = \"word\"Joining, by = \"word\"Joining, by = \"word\"Joining, by = \"word\"Joining, by = \"word\"Joining, by = \"word\"Joining, by = \"word\"Joining, by = \"word\"Joining, by = \"word\"Joining, by = \"word\"Joining, by = \"word\"Joining, by = \"word\"Joining, by = \"word\"Joining, by = \"word\"Joining, by = \"word\"Joining, by = \"word\"Joining, by = \"word\"Joining, by = \"word\"Joining, by = \"word\"Joining, by = \"word\"Joining, by = \"word\"Joining, by = \"word\"Joining, by = \"word\"Joining, by = \"word\"Joining, by = \"word\"Joining, by = \"word\"Joining, by = \"word\"Joining, by = \"word\"Joining, by = \"word\"Joining, by = \"word\"Joining, by = \"word\"Joining, by = \"word\"Joining, by = \"word\"Joining, by = \"word\"Joining, by = \"word\"Joining, by = \"word\"Joining, by = \"word\"Joining, by = \"word\"Joining, by = \"word\"Joining, by = \"word\"Joining, by = \"word\"Joining, by = \"word\"Joining, by = \"word\"Joining, by = \"word\"Joining, by = \"word\"Joining, by = \"word\"Joining, by = \"word\"Joining, by = \"word\"Joining, by = \"word\"Joining, by = \"word\"Joining, by = \"word\"Joining, by = \"word\"Joining, by = \"word\"Joining, by = \"word\"Joining, by = \"word\"Joining, by = \"word\"Joining, by = \"word\"Joining, by = \"word\"Joining, by = \"word\"Joining, by = \"word\"Joining, by = \"word\"Joining, by = \"word\"Joining, by = \"word\"Joining, by = \"word\"Joining, by = \"word\"Joining, by = \"word\"Joining, by = \"word\"Joining, by = \"word\"Joining, by = \"word\"Joining, by = \"word\"Joining, by = \"word\"Joining, by = \"word\"Joining, by = \"word\"Joining, by = \"word\"Joining, by = \"word\"Joining, by = \"word\"Joining, by = \"word\"Joining, by = \"word\"Joining, by = \"word\"Joining, by = \"word\"Joining, by = \"word\"Joining, by = \"word\"Joining, by = \"word\"Joining, by = \"word\"Joining, by = \"word\"Joining, by = \"word\"Joining, by = \"word\"Joining, by = \"word\"Joining, by = \"word\"Joining, by = \"word\"Joining, by = \"word\"Joining, by = \"word\"Joining, by = \"word\"Joining, by = \"word\"Joining, by = \"word\"Joining, by = \"word\"Joining, by = \"word\"Joining, by = \"word\"Joining, by = \"word\"Joining, by = \"word\"Joining, by = \"word\"Joining, by = \"word\"Joining, by = \"word\"Joining, by = \"word\"Joining, by = \"word\"Joining, by = \"word\"Joining, by = \"word\"Joining, by = \"word\"Joining, by = \"word\"Joining, by = \"word\"Joining, by = \"word\"Joining, by = \"word\"Joining, by = \"word\"Joining, by = \"word\"Joining, by = \"word\"Joining, by = \"word\"Joining, by = \"word\"Joining, by = \"word\"Joining, by = \"word\"Joining, by = \"word\"Joining, by = \"word\"Joining, by = \"word\"Joining, by = \"word\"Joining, by = \"word\"Joining, by = \"word\"Joining, by = \"word\"Joining, by = \"word\"Joining, by = \"word\"Joining, by = \"word\"Joining, by = \"word\"Joining, by = \"word\"Joining, by = \"word\"Joining, by = \"word\"Joining, by = \"word\"Joining, by = \"word\"Joining, by = \"word\"Joining, by = \"word\"Joining, by = \"word\"Joining, by = \"word\"Joining, by = \"word\"Joining, by = \"word\"Joining, by = \"word\"Joining, by = \"word\"Joining, by = \"word\"Joining, by = \"word\"Joining, by = \"word\"Joining, by = \"word\"Joining, by = \"word\"Joining, by = \"word\"Joining, by = \"word\"Joining, by = \"word\"Joining, by = \"word\"Joining, by = \"word\"Joining, by = \"word\"Joining, by = \"word\"Joining, by = \"word\"Joining, by = \"word\"Joining, by = \"word\"Joining, by = \"word\"Joining, by = \"word\"Joining, by = \"word\"Joining, by = \"word\"Joining, by = \"word\"Joining, by = \"word\"Joining, by = \"word\"Joining, by = \"word\"Joining, by = \"word\"Joining, by = \"word\"Joining, by = \"word\"Joining, by = \"word\"Joining, by = \"word\"Joining, by = \"word\"Joining, by = \"word\"Joining, by = \"word\"Joining, by = \"word\"Joining, by = \"word\"Joining, by = \"word\"Joining, by = \"word\"Joining, by = \"word\"Joining, by = \"word\"Joining, by = \"word\"Joining, by = \"word\"Joining, by = \"word\"Joining, by = \"word\"Joining, by = \"word\"Joining, by = \"word\"Joining, by = \"word\"Joining, by = \"word\"Joining, by = \"word\"Joining, by = \"word\"Joining, by = \"word\"Joining, by = \"word\"Joining, by = \"word\"Joining, by = \"word\"Joining, by = \"word\"Joining, by = \"word\"Joining, by = \"word\"Joining, by = \"word\"Joining, by = \"word\"Joining, by = \"word\"Joining, by = \"word\"Joining, by = \"word\"Joining, by = \"word\"Joining, by = \"word\"Joining, by = \"word\"Joining, by = \"word\"Joining, by = \"word\"Joining, by = \"word\"Joining, by = \"word\"Joining, by = \"word\""
     ]
    },
    {
     "name": "stderr",
     "output_type": "stream",
     "text": [
      "Joining, by = \"word\"Joining, by = \"word\"Joining, by = \"word\"Joining, by = \"word\"Joining, by = \"word\"Joining, by = \"word\"Joining, by = \"word\"Joining, by = \"word\"Joining, by = \"word\"Joining, by = \"word\"Joining, by = \"word\"Joining, by = \"word\"Joining, by = \"word\"Joining, by = \"word\"Joining, by = \"word\"Joining, by = \"word\"Joining, by = \"word\"Joining, by = \"word\"Joining, by = \"word\"Joining, by = \"word\"Joining, by = \"word\"Joining, by = \"word\"Joining, by = \"word\"Joining, by = \"word\"Joining, by = \"word\"Joining, by = \"word\"Joining, by = \"word\"Joining, by = \"word\"Joining, by = \"word\"Joining, by = \"word\"Joining, by = \"word\"Joining, by = \"word\"Joining, by = \"word\"Joining, by = \"word\"Joining, by = \"word\"Joining, by = \"word\"Joining, by = \"word\"Joining, by = \"word\"Joining, by = \"word\"Joining, by = \"word\"Joining, by = \"word\"Joining, by = \"word\"Joining, by = \"word\"Joining, by = \"word\"Joining, by = \"word\"Joining, by = \"word\"Joining, by = \"word\"Joining, by = \"word\"Joining, by = \"word\"Joining, by = \"word\"Joining, by = \"word\"Joining, by = \"word\"Joining, by = \"word\"Joining, by = \"word\"Joining, by = \"word\"Joining, by = \"word\"Joining, by = \"word\"Joining, by = \"word\"Joining, by = \"word\"Joining, by = \"word\"Joining, by = \"word\"Joining, by = \"word\"Joining, by = \"word\"Joining, by = \"word\"Joining, by = \"word\"Joining, by = \"word\"Joining, by = \"word\"Joining, by = \"word\"Joining, by = \"word\"Joining, by = \"word\"Joining, by = \"word\"Joining, by = \"word\"Joining, by = \"word\"Joining, by = \"word\"Joining, by = \"word\"Joining, by = \"word\"Joining, by = \"word\"Joining, by = \"word\"Joining, by = \"word\"Joining, by = \"word\"Joining, by = \"word\"Joining, by = \"word\"Joining, by = \"word\"Joining, by = \"word\"Joining, by = \"word\"Joining, by = \"word\"Joining, by = \"word\"Joining, by = \"word\"Joining, by = \"word\"Joining, by = \"word\"Joining, by = \"word\"Joining, by = \"word\"Joining, by = \"word\"Joining, by = \"word\"Joining, by = \"word\"Joining, by = \"word\"Joining, by = \"word\"Joining, by = \"word\"Joining, by = \"word\"Joining, by = \"word\"Joining, by = \"word\"Joining, by = \"word\"Joining, by = \"word\"Joining, by = \"word\"Joining, by = \"word\"Joining, by = \"word\"Joining, by = \"word\"Joining, by = \"word\"Joining, by = \"word\"Joining, by = \"word\"Joining, by = \"word\"Joining, by = \"word\"Joining, by = \"word\"Joining, by = \"word\"Joining, by = \"word\"Joining, by = \"word\"Joining, by = \"word\"Joining, by = \"word\"Joining, by = \"word\"Joining, by = \"word\"Joining, by = \"word\"Joining, by = \"word\"Joining, by = \"word\"Joining, by = \"word\"Joining, by = \"word\"Joining, by = \"word\"Joining, by = \"word\"Joining, by = \"word\"Joining, by = \"word\"Joining, by = \"word\"Joining, by = \"word\"Joining, by = \"word\"Joining, by = \"word\"Joining, by = \"word\"Joining, by = \"word\"Joining, by = \"word\"Joining, by = \"word\"Joining, by = \"word\"Joining, by = \"word\"Joining, by = \"word\"Joining, by = \"word\"Joining, by = \"word\"Joining, by = \"word\"Joining, by = \"word\"Joining, by = \"word\"Joining, by = \"word\"Joining, by = \"word\"Joining, by = \"word\"Joining, by = \"word\"Joining, by = \"word\"Joining, by = \"word\"Joining, by = \"word\"Joining, by = \"word\"Joining, by = \"word\"Joining, by = \"word\"Joining, by = \"word\"Joining, by = \"word\"Joining, by = \"word\"Joining, by = \"word\"Joining, by = \"word\"Joining, by = \"word\"Joining, by = \"word\"Joining, by = \"word\"Joining, by = \"word\"Joining, by = \"word\"Joining, by = \"word\"Joining, by = \"word\"Joining, by = \"word\"Joining, by = \"word\"Joining, by = \"word\"Joining, by = \"word\"Joining, by = \"word\"Joining, by = \"word\"Joining, by = \"word\"Joining, by = \"word\"Joining, by = \"word\"Joining, by = \"word\"Joining, by = \"word\"Joining, by = \"word\"Joining, by = \"word\"Joining, by = \"word\"Joining, by = \"word\"Joining, by = \"word\"Joining, by = \"word\"Joining, by = \"word\"Joining, by = \"word\"Joining, by = \"word\"Joining, by = \"word\"Joining, by = \"word\"Joining, by = \"word\"Joining, by = \"word\"Joining, by = \"word\"Joining, by = \"word\"Joining, by = \"word\"Joining, by = \"word\"Joining, by = \"word\"Joining, by = \"word\"Joining, by = \"word\"Joining, by = \"word\"Joining, by = \"word\"Joining, by = \"word\"Joining, by = \"word\"Joining, by = \"word\"Joining, by = \"word\"Joining, by = \"word\"Joining, by = \"word\"Joining, by = \"word\"Joining, by = \"word\"Joining, by = \"word\"Joining, by = \"word\"Joining, by = \"word\"Joining, by = \"word\"Joining, by = \"word\"Joining, by = \"word\"Joining, by = \"word\"Joining, by = \"word\"Joining, by = \"word\"Joining, by = \"word\"Joining, by = \"word\"Joining, by = \"word\"Joining, by = \"word\"Joining, by = \"word\"Joining, by = \"word\"Joining, by = \"word\"Joining, by = \"word\"Joining, by = \"word\"Joining, by = \"word\"Joining, by = \"word\"Joining, by = \"word\"Joining, by = \"word\"Joining, by = \"word\"Joining, by = \"word\"Joining, by = \"word\"Joining, by = \"word\"Joining, by = \"word\"Joining, by = \"word\"Joining, by = \"word\"Joining, by = \"word\"Joining, by = \"word\"Joining, by = \"word\"Joining, by = \"word\"Joining, by = \"word\"Joining, by = \"word\"Joining, by = \"word\"Joining, by = \"word\"Joining, by = \"word\"Joining, by = \"word\"Joining, by = \"word\"Joining, by = \"word\"Joining, by = \"word\"Joining, by = \"word\"Joining, by = \"word\"Joining, by = \"word\"Joining, by = \"word\"Joining, by = \"word\"Joining, by = \"word\"Joining, by = \"word\"Joining, by = \"word\"Joining, by = \"word\"Joining, by = \"word\"Joining, by = \"word\"Joining, by = \"word\"Joining, by = \"word\"Joining, by = \"word\"Joining, by = \"word\"Joining, by = \"word\"Joining, by = \"word\"Joining, by = \"word\"Joining, by = \"word\"Joining, by = \"word\"Joining, by = \"word\"Joining, by = \"word\"Joining, by = \"word\"Joining, by = \"word\"Joining, by = \"word\"Joining, by = \"word\"Joining, by = \"word\"Joining, by = \"word\"Joining, by = \"word\"Joining, by = \"word\"Joining, by = \"word\"Joining, by = \"word\"Joining, by = \"word\"Joining, by = \"word\"Joining, by = \"word\"Joining, by = \"word\"Joining, by = \"word\"Joining, by = \"word\"Joining, by = \"word\"Joining, by = \"word\"Joining, by = \"word\"Joining, by = \"word\"Joining, by = \"word\"Joining, by = \"word\"Joining, by = \"word\"Joining, by = \"word\"Joining, by = \"word\"Joining, by = \"word\"Joining, by = \"word\"Joining, by = \"word\"Joining, by = \"word\"Joining, by = \"word\"Joining, by = \"word\"Joining, by = \"word\"Joining, by = \"word\"Joining, by = \"word\"Joining, by = \"word\"Joining, by = \"word\"Joining, by = \"word\"Joining, by = \"word\"Joining, by = \"word\"Joining, by = \"word\"Joining, by = \"word\"Joining, by = \"word\"Joining, by = \"word\"Joining, by = \"word\"Joining, by = \"word\"Joining, by = \"word\"Joining, by = \"word\"Joining, by = \"word\"Joining, by = \"word\"Joining, by = \"word\"Joining, by = \"word\"Joining, by = \"word\"Joining, by = \"word\"Joining, by = \"word\"Joining, by = \"word\"Joining, by = \"word\"Joining, by = \"word\"Joining, by = \"word\"Joining, by = \"word\"Joining, by = \"word\"Joining, by = \"word\"Joining, by = \"word\"Joining, by = \"word\"Joining, by = \"word\"Joining, by = \"word\"Joining, by = \"word\"Joining, by = \"word\"Joining, by = \"word\"Joining, by = \"word\"Joining, by = \"word\"Joining, by = \"word\"Joining, by = \"word\"Joining, by = \"word\"Joining, by = \"word\"Joining, by = \"word\"Joining, by = \"word\"Joining, by = \"word\"Joining, by = \"word\"Joining, by = \"word\"Joining, by = \"word\"Joining, by = \"word\"Joining, by = \"word\"Joining, by = \"word\"Joining, by = \"word\"Joining, by = \"word\"Joining, by = \"word\"Joining, by = \"word\"Joining, by = \"word\"Joining, by = \"word\"Joining, by = \"word\"Joining, by = \"word\"Joining, by = \"word\"Joining, by = \"word\"Joining, by = \"word\"Joining, by = \"word\"Joining, by = \"word\"Joining, by = \"word\"Joining, by = \"word\"Joining, by = \"word\"Joining, by = \"word\"Joining, by = \"word\"Joining, by = \"word\"Joining, by = \"word\"Joining, by = \"word\"Joining, by = \"word\"Joining, by = \"word\"Joining, by = \"word\"Joining, by = \"word\"Joining, by = \"word\"Joining, by = \"word\"Joining, by = \"word\"Joining, by = \"word\"Joining, by = \"word\"Joining, by = \"word\"Joining, by = \"word\"Joining, by = \"word\"Joining, by = \"word\"Joining, by = \"word\""
     ]
    }
   ],
   "source": [
    "for(i in 1:800){\n",
    "#print(i)\n",
    "sentiments <- rbind(sentiments, GetSentiment(files[i]))\n",
    "}\n",
    "# summerize the sentiment measures"
   ]
  },
  {
   "cell_type": "code",
   "execution_count": 36,
   "metadata": {},
   "outputs": [
    {
     "data": {
      "text/plain": [
       "    negative        positive     sentiment            file          \n",
       " Min.   : 2.00   Min.   :  1   Min.   :-52.0000   Length:2688       \n",
       " 1st Qu.:17.00   1st Qu.: 16   1st Qu.: -9.0000   Class :character  \n",
       " Median :24.00   Median : 23   Median : -1.0000   Mode  :character  \n",
       " Mean   :26.58   Mean   : 26   Mean   : -0.5759                     \n",
       " 3rd Qu.:34.00   3rd Qu.: 33   3rd Qu.:  7.0000                     \n",
       " Max.   :89.00   Max.   :100   Max.   : 73.0000                     "
      ]
     },
     "metadata": {},
     "output_type": "display_data"
    }
   ],
   "source": [
    "summary(sentiments)"
   ]
  },
  {
   "cell_type": "code",
   "execution_count": 34,
   "metadata": {},
   "outputs": [
    {
     "name": "stderr",
     "output_type": "stream",
     "text": [
      "`stat_bin()` using `bins = 30`. Pick better value with `binwidth`.\n"
     ]
    },
    {
     "data": {
      "image/png": "[encoded data removed]",
      "text/plain": [
       "plot without title"
      ]
     },
     "metadata": {},
     "output_type": "display_data"
    }
   ],
   "source": [
    "ggplot(sentiments,aes(sentiment))+geom_freqpoly()"
   ]
  },
  {
   "cell_type": "markdown",
   "metadata": {},
   "source": [
    "Most of the reviews are neutral"
   ]
  }
 ],
 "metadata": {
  "kernelspec": {
   "display_name": "R",
   "language": "R",
   "name": "ir"
  },
  "language_info": {
   "codemirror_mode": "r",
   "file_extension": ".r",
   "mimetype": "text/x-r-source",
   "name": "R",
   "pygments_lexer": "r",
   "version": "3.6.1"
  }
 },
 "nbformat": 4,
 "nbformat_minor": 2
}

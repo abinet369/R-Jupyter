{
 "cells": [
  {
   "cell_type": "code",
   "execution_count": 1,
   "metadata": {},
   "outputs": [
    {
     "name": "stderr",
     "output_type": "stream",
     "text": [
      "Installing package into 'C:/Users/abine/OneDrive/Documents/R/win-library/3.6'\n",
      "(as 'lib' is unspecified)\n",
      "also installing the dependencies 'dbplyr', 'haven', 'httr', 'modelr', 'reprex', 'rvest', 'tidyr', 'xml2'\n",
      "\n"
     ]
    },
    {
     "name": "stdout",
     "output_type": "stream",
     "text": [
      "package 'dbplyr' successfully unpacked and MD5 sums checked\n",
      "package 'haven' successfully unpacked and MD5 sums checked\n",
      "package 'httr' successfully unpacked and MD5 sums checked\n",
      "package 'modelr' successfully unpacked and MD5 sums checked\n",
      "package 'reprex' successfully unpacked and MD5 sums checked\n",
      "package 'rvest' successfully unpacked and MD5 sums checked\n",
      "package 'tidyr' successfully unpacked and MD5 sums checked\n",
      "package 'xml2' successfully unpacked and MD5 sums checked\n",
      "package 'tidyverse' successfully unpacked and MD5 sums checked\n",
      "\n",
      "The downloaded binary packages are in\n",
      "\tC:\\Users\\abine\\AppData\\Local\\Temp\\RtmpW6jdgx\\downloaded_packages\n"
     ]
    },
    {
     "name": "stderr",
     "output_type": "stream",
     "text": [
      "Installing package into 'C:/Users/abine/OneDrive/Documents/R/win-library/3.6'\n",
      "(as 'lib' is unspecified)\n",
      "also installing the dependencies 'SnowballC', 'ISOcodes', 'hunspell', 'tokenizers', 'janeaustenr', 'stopwords'\n",
      "\n"
     ]
    },
    {
     "name": "stdout",
     "output_type": "stream",
     "text": [
      "\n",
      "  There is a binary version available but the source version is later:\n",
      "         binary source needs_compilation\n",
      "tidytext  0.2.2  0.2.3             FALSE\n",
      "\n",
      "package 'SnowballC' successfully unpacked and MD5 sums checked\n",
      "package 'ISOcodes' successfully unpacked and MD5 sums checked\n",
      "package 'hunspell' successfully unpacked and MD5 sums checked\n",
      "package 'tokenizers' successfully unpacked and MD5 sums checked\n",
      "package 'janeaustenr' successfully unpacked and MD5 sums checked\n",
      "package 'stopwords' successfully unpacked and MD5 sums checked\n",
      "\n",
      "The downloaded binary packages are in\n",
      "\tC:\\Users\\abine\\AppData\\Local\\Temp\\RtmpW6jdgx\\downloaded_packages\n"
     ]
    },
    {
     "name": "stderr",
     "output_type": "stream",
     "text": [
      "installing the source package 'tidytext'\n",
      "\n",
      "Installing package into 'C:/Users/abine/OneDrive/Documents/R/win-library/3.6'\n",
      "(as 'lib' is unspecified)\n"
     ]
    },
    {
     "name": "stdout",
     "output_type": "stream",
     "text": [
      "package 'glue' successfully unpacked and MD5 sums checked\n",
      "\n",
      "The downloaded binary packages are in\n",
      "\tC:\\Users\\abine\\AppData\\Local\\Temp\\RtmpW6jdgx\\downloaded_packages\n"
     ]
    },
    {
     "name": "stderr",
     "output_type": "stream",
     "text": [
      "Installing package into 'C:/Users/abine/OneDrive/Documents/R/win-library/3.6'\n",
      "(as 'lib' is unspecified)\n"
     ]
    },
    {
     "name": "stdout",
     "output_type": "stream",
     "text": [
      "package 'data.table' successfully unpacked and MD5 sums checked\n",
      "\n",
      "The downloaded binary packages are in\n",
      "\tC:\\Users\\abine\\AppData\\Local\\Temp\\RtmpW6jdgx\\downloaded_packages\n"
     ]
    }
   ],
   "source": [
    "install.packages(\"tidyverse\")\n",
    "install.packages(\"tidytext\")\n",
    "install.packages(\"glue\")\n",
    "install.packages(\"data.table\")"
   ]
  },
  {
   "cell_type": "code",
   "execution_count": 19,
   "metadata": {},
   "outputs": [],
   "source": [
    "library(tidyverse)"
   ]
  },
  {
   "cell_type": "code",
   "execution_count": 20,
   "metadata": {},
   "outputs": [],
   "source": [
    "library(tidytext)"
   ]
  },
  {
   "cell_type": "code",
   "execution_count": 21,
   "metadata": {},
   "outputs": [],
   "source": [
    "library(glue)"
   ]
  },
  {
   "cell_type": "code",
   "execution_count": 22,
   "metadata": {},
   "outputs": [],
   "source": [
    "library(data.table)"
   ]
  },
  {
   "cell_type": "code",
   "execution_count": 25,
   "metadata": {},
   "outputs": [
    {
     "data": {
      "text/html": [
       "<table>\n",
       "<thead><tr><th scope=col>file_name</th><th scope=col>first_language</th><th scope=col>gender</th><th scope=col>age_of_arrival_to_Canada_months</th><th scope=col>age_of_English_exposure_months</th><th scope=col>age_at_recording_months</th><th scope=col>months_of_english</th></tr></thead>\n",
       "<tbody>\n",
       "\t<tr><td>bnfs1.cha  </td><td>Farsi      </td><td>F          </td><td>58         </td><td>63         </td><td>73         </td><td>10         </td></tr>\n",
       "\t<tr><td>brnd1.cha  </td><td>Spanish    </td><td>M          </td><td>53         </td><td>56         </td><td>66         </td><td>10         </td></tr>\n",
       "\t<tr><td>chrs1.cha  </td><td>Romanian   </td><td>F          </td><td>69         </td><td>69         </td><td>74         </td><td> 5         </td></tr>\n",
       "\t<tr><td>cndx1.cha  </td><td>Mandarin   </td><td>F          </td><td>73         </td><td>73         </td><td>81         </td><td> 8         </td></tr>\n",
       "\t<tr><td>dnln1.cha  </td><td>Cantonese  </td><td>M          </td><td> 1         </td><td>48         </td><td>62         </td><td>14         </td></tr>\n",
       "\t<tr><td>dnnc1.cha  </td><td>Mandarin   </td><td>M          </td><td>53         </td><td>55         </td><td>64         </td><td> 9         </td></tr>\n",
       "\t<tr><td>dnns1.cha  </td><td>Mandarin   </td><td>M          </td><td>42         </td><td>47         </td><td>54         </td><td> 7         </td></tr>\n",
       "\t<tr><td>dvdc1.cha  </td><td>Spanish    </td><td>M          </td><td>67         </td><td>67         </td><td>75         </td><td> 8         </td></tr>\n",
       "\t<tr><td>flpp1.cha  </td><td>Spanish    </td><td>M          </td><td>45         </td><td>58         </td><td>68         </td><td>10         </td></tr>\n",
       "\t<tr><td>gsyn1.cha  </td><td>Korean     </td><td>F          </td><td>48         </td><td>60         </td><td>62         </td><td> 2         </td></tr>\n",
       "\t<tr><td>jnnh1.cha  </td><td>Mandarin   </td><td>F          </td><td>53         </td><td>53         </td><td>71         </td><td>18         </td></tr>\n",
       "\t<tr><td>lgkr1.cha  </td><td>Ukrainian  </td><td>M          </td><td>66         </td><td>66         </td><td>79         </td><td>13         </td></tr>\n",
       "\t<tr><td>llkc1.cha  </td><td>Arabic     </td><td>F          </td><td> 1         </td><td>47         </td><td>58         </td><td>11         </td></tr>\n",
       "\t<tr><td>mrss1.cha  </td><td>Mandarin   </td><td>F          </td><td>56         </td><td>56         </td><td>60         </td><td> 4         </td></tr>\n",
       "\t<tr><td>rmlm1.cha  </td><td>Japanese   </td><td>F          </td><td>26         </td><td>42         </td><td>51         </td><td> 9         </td></tr>\n",
       "\t<tr><td>rndl1.cha  </td><td>Spanish    </td><td>M          </td><td>88         </td><td>89         </td><td>94         </td><td> 5         </td></tr>\n",
       "\t<tr><td>rnl01.cha  </td><td>Cantonese  </td><td>M          </td><td> 1         </td><td>40         </td><td>56         </td><td>16         </td></tr>\n",
       "\t<tr><td>sbst1.cha  </td><td>Spanish    </td><td>M          </td><td>45         </td><td>46         </td><td>61         </td><td>15         </td></tr>\n",
       "\t<tr><td>shhn1.cha  </td><td>Farsi      </td><td>M          </td><td>64         </td><td>66         </td><td>78         </td><td>12         </td></tr>\n",
       "\t<tr><td>smns1.cha  </td><td>Spanish    </td><td>M          </td><td>60         </td><td>60         </td><td>66         </td><td> 6         </td></tr>\n",
       "\t<tr><td>thrj1.cha  </td><td>Farsi      </td><td>M          </td><td>37         </td><td>39         </td><td>50         </td><td>11         </td></tr>\n",
       "\t<tr><td>tnyn1.cha  </td><td>Mandarin   </td><td>M          </td><td>68         </td><td>70         </td><td>77         </td><td> 7         </td></tr>\n",
       "\t<tr><td>trrk1.cha  </td><td>Arabic     </td><td>M          </td><td> 1         </td><td>42         </td><td>50         </td><td> 8         </td></tr>\n",
       "\t<tr><td>yssf1.cha  </td><td>Arabic     </td><td>M          </td><td> 1         </td><td>57         </td><td>59         </td><td> 9         </td></tr>\n",
       "</tbody>\n",
       "</table>\n"
      ],
      "text/latex": [
       "\\begin{tabular}{r|lllllll}\n",
       " file\\_name & first\\_language & gender & age\\_of\\_arrival\\_to\\_Canada\\_months & age\\_of\\_English\\_exposure\\_months & age\\_at\\_recording\\_months & months\\_of\\_english\\\\\n",
       "\\hline\n",
       "\t bnfs1.cha   & Farsi       & F           & 58          & 63          & 73          & 10         \\\\\n",
       "\t brnd1.cha   & Spanish     & M           & 53          & 56          & 66          & 10         \\\\\n",
       "\t chrs1.cha   & Romanian    & F           & 69          & 69          & 74          &  5         \\\\\n",
       "\t cndx1.cha   & Mandarin    & F           & 73          & 73          & 81          &  8         \\\\\n",
       "\t dnln1.cha   & Cantonese   & M           &  1          & 48          & 62          & 14         \\\\\n",
       "\t dnnc1.cha   & Mandarin    & M           & 53          & 55          & 64          &  9         \\\\\n",
       "\t dnns1.cha   & Mandarin    & M           & 42          & 47          & 54          &  7         \\\\\n",
       "\t dvdc1.cha   & Spanish     & M           & 67          & 67          & 75          &  8         \\\\\n",
       "\t flpp1.cha   & Spanish     & M           & 45          & 58          & 68          & 10         \\\\\n",
       "\t gsyn1.cha   & Korean      & F           & 48          & 60          & 62          &  2         \\\\\n",
       "\t jnnh1.cha   & Mandarin    & F           & 53          & 53          & 71          & 18         \\\\\n",
       "\t lgkr1.cha   & Ukrainian   & M           & 66          & 66          & 79          & 13         \\\\\n",
       "\t llkc1.cha   & Arabic      & F           &  1          & 47          & 58          & 11         \\\\\n",
       "\t mrss1.cha   & Mandarin    & F           & 56          & 56          & 60          &  4         \\\\\n",
       "\t rmlm1.cha   & Japanese    & F           & 26          & 42          & 51          &  9         \\\\\n",
       "\t rndl1.cha   & Spanish     & M           & 88          & 89          & 94          &  5         \\\\\n",
       "\t rnl01.cha   & Cantonese   & M           &  1          & 40          & 56          & 16         \\\\\n",
       "\t sbst1.cha   & Spanish     & M           & 45          & 46          & 61          & 15         \\\\\n",
       "\t shhn1.cha   & Farsi       & M           & 64          & 66          & 78          & 12         \\\\\n",
       "\t smns1.cha   & Spanish     & M           & 60          & 60          & 66          &  6         \\\\\n",
       "\t thrj1.cha   & Farsi       & M           & 37          & 39          & 50          & 11         \\\\\n",
       "\t tnyn1.cha   & Mandarin    & M           & 68          & 70          & 77          &  7         \\\\\n",
       "\t trrk1.cha   & Arabic      & M           &  1          & 42          & 50          &  8         \\\\\n",
       "\t yssf1.cha   & Arabic      & M           &  1          & 57          & 59          &  9         \\\\\n",
       "\\end{tabular}\n"
      ],
      "text/markdown": [
       "\n",
       "| file_name | first_language | gender | age_of_arrival_to_Canada_months | age_of_English_exposure_months | age_at_recording_months | months_of_english |\n",
       "|---|---|---|---|---|---|---|\n",
       "| bnfs1.cha   | Farsi       | F           | 58          | 63          | 73          | 10          |\n",
       "| brnd1.cha   | Spanish     | M           | 53          | 56          | 66          | 10          |\n",
       "| chrs1.cha   | Romanian    | F           | 69          | 69          | 74          |  5          |\n",
       "| cndx1.cha   | Mandarin    | F           | 73          | 73          | 81          |  8          |\n",
       "| dnln1.cha   | Cantonese   | M           |  1          | 48          | 62          | 14          |\n",
       "| dnnc1.cha   | Mandarin    | M           | 53          | 55          | 64          |  9          |\n",
       "| dnns1.cha   | Mandarin    | M           | 42          | 47          | 54          |  7          |\n",
       "| dvdc1.cha   | Spanish     | M           | 67          | 67          | 75          |  8          |\n",
       "| flpp1.cha   | Spanish     | M           | 45          | 58          | 68          | 10          |\n",
       "| gsyn1.cha   | Korean      | F           | 48          | 60          | 62          |  2          |\n",
       "| jnnh1.cha   | Mandarin    | F           | 53          | 53          | 71          | 18          |\n",
       "| lgkr1.cha   | Ukrainian   | M           | 66          | 66          | 79          | 13          |\n",
       "| llkc1.cha   | Arabic      | F           |  1          | 47          | 58          | 11          |\n",
       "| mrss1.cha   | Mandarin    | F           | 56          | 56          | 60          |  4          |\n",
       "| rmlm1.cha   | Japanese    | F           | 26          | 42          | 51          |  9          |\n",
       "| rndl1.cha   | Spanish     | M           | 88          | 89          | 94          |  5          |\n",
       "| rnl01.cha   | Cantonese   | M           |  1          | 40          | 56          | 16          |\n",
       "| sbst1.cha   | Spanish     | M           | 45          | 46          | 61          | 15          |\n",
       "| shhn1.cha   | Farsi       | M           | 64          | 66          | 78          | 12          |\n",
       "| smns1.cha   | Spanish     | M           | 60          | 60          | 66          |  6          |\n",
       "| thrj1.cha   | Farsi       | M           | 37          | 39          | 50          | 11          |\n",
       "| tnyn1.cha   | Mandarin    | M           | 68          | 70          | 77          |  7          |\n",
       "| trrk1.cha   | Arabic      | M           |  1          | 42          | 50          |  8          |\n",
       "| yssf1.cha   | Arabic      | M           |  1          | 57          | 59          |  9          |\n",
       "\n"
      ],
      "text/plain": [
       "   file_name   first_language gender age_of_arrival_to_Canada_months\n",
       "1  bnfs1.cha   Farsi          F      58                             \n",
       "2  brnd1.cha   Spanish        M      53                             \n",
       "3  chrs1.cha   Romanian       F      69                             \n",
       "4  cndx1.cha   Mandarin       F      73                             \n",
       "5  dnln1.cha   Cantonese      M       1                             \n",
       "6  dnnc1.cha   Mandarin       M      53                             \n",
       "7  dnns1.cha   Mandarin       M      42                             \n",
       "8  dvdc1.cha   Spanish        M      67                             \n",
       "9  flpp1.cha   Spanish        M      45                             \n",
       "10 gsyn1.cha   Korean         F      48                             \n",
       "11 jnnh1.cha   Mandarin       F      53                             \n",
       "12 lgkr1.cha   Ukrainian      M      66                             \n",
       "13 llkc1.cha   Arabic         F       1                             \n",
       "14 mrss1.cha   Mandarin       F      56                             \n",
       "15 rmlm1.cha   Japanese       F      26                             \n",
       "16 rndl1.cha   Spanish        M      88                             \n",
       "17 rnl01.cha   Cantonese      M       1                             \n",
       "18 sbst1.cha   Spanish        M      45                             \n",
       "19 shhn1.cha   Farsi          M      64                             \n",
       "20 smns1.cha   Spanish        M      60                             \n",
       "21 thrj1.cha   Farsi          M      37                             \n",
       "22 tnyn1.cha   Mandarin       M      68                             \n",
       "23 trrk1.cha   Arabic         M       1                             \n",
       "24 yssf1.cha   Arabic         M       1                             \n",
       "   age_of_English_exposure_months age_at_recording_months months_of_english\n",
       "1  63                             73                      10               \n",
       "2  56                             66                      10               \n",
       "3  69                             74                       5               \n",
       "4  73                             81                       8               \n",
       "5  48                             62                      14               \n",
       "6  55                             64                       9               \n",
       "7  47                             54                       7               \n",
       "8  67                             75                       8               \n",
       "9  58                             68                      10               \n",
       "10 60                             62                       2               \n",
       "11 53                             71                      18               \n",
       "12 66                             79                      13               \n",
       "13 47                             58                      11               \n",
       "14 56                             60                       4               \n",
       "15 42                             51                       9               \n",
       "16 89                             94                       5               \n",
       "17 40                             56                      16               \n",
       "18 46                             61                      15               \n",
       "19 66                             78                      12               \n",
       "20 60                             66                       6               \n",
       "21 39                             50                      11               \n",
       "22 70                             77                       7               \n",
       "23 42                             50                       8               \n",
       "24 57                             59                       9               "
      ]
     },
     "metadata": {},
     "output_type": "display_data"
    }
   ],
   "source": [
    "file_info=as_data_frame(read.csv(\"C:\\\\Users\\\\abine\\\\OneDrive\\\\Documents\\\\S2 Work\\\\Prog for DS in R\\\\corpus-of-bilingual-childrens-speech\\\\guide_to_files.csv\"))\n",
    "file_info"
   ]
  },
  {
   "cell_type": "code",
   "execution_count": 31,
   "metadata": {},
   "outputs": [
    {
     "data": {
      "text/html": [
       "<span style=white-space:pre-wrap>'C:\\\\Users\\\\abine\\\\OneDrive\\\\Documents\\\\S2 Work\\\\Prog for DS in R\\\\corpus-of-bilingual-childrens-speech\\\\bnfs1.cha  '</span>"
      ],
      "text/latex": [
       "'C:\\textbackslash{}\\textbackslash{}Users\\textbackslash{}\\textbackslash{}abine\\textbackslash{}\\textbackslash{}OneDrive\\textbackslash{}\\textbackslash{}Documents\\textbackslash{}\\textbackslash{}S2 Work\\textbackslash{}\\textbackslash{}Prog for DS in R\\textbackslash{}\\textbackslash{}corpus-of-bilingual-childrens-speech\\textbackslash{}\\textbackslash{}bnfs1.cha  '"
      ],
      "text/markdown": [
       "<span style=white-space:pre-wrap>'C:\\\\Users\\\\abine\\\\OneDrive\\\\Documents\\\\S2 Work\\\\Prog for DS in R\\\\corpus-of-bilingual-childrens-speech\\\\bnfs1.cha  '</span>"
      ],
      "text/plain": [
       "C:\\Users\\abine\\OneDrive\\Documents\\S2 Work\\Prog for DS in R\\corpus-of-bilingual-childrens-speech\\bnfs1.cha  "
      ]
     },
     "metadata": {},
     "output_type": "display_data"
    }
   ],
   "source": [
    "#get file using file info\n",
    "fileName=glue(\"C:\\\\Users\\\\abine\\\\OneDrive\\\\Documents\\\\S2 Work\\\\Prog for DS in R\\\\corpus-of-bilingual-childrens-speech\\\\\",as.character(file_info$file_name[1]),sep=\"\")\n",
    "fileName"
   ]
  },
  {
   "cell_type": "code",
   "execution_count": 34,
   "metadata": {},
   "outputs": [
    {
     "data": {
      "text/html": [
       "'C:\\\\Users\\\\abine\\\\OneDrive\\\\Documents\\\\S2 Work\\\\Prog for DS in R\\\\corpus-of-bilingual-childrens-speech\\\\bnfs1.cha'"
      ],
      "text/latex": [
       "'C:\\textbackslash{}\\textbackslash{}Users\\textbackslash{}\\textbackslash{}abine\\textbackslash{}\\textbackslash{}OneDrive\\textbackslash{}\\textbackslash{}Documents\\textbackslash{}\\textbackslash{}S2 Work\\textbackslash{}\\textbackslash{}Prog for DS in R\\textbackslash{}\\textbackslash{}corpus-of-bilingual-childrens-speech\\textbackslash{}\\textbackslash{}bnfs1.cha'"
      ],
      "text/markdown": [
       "'C:\\\\Users\\\\abine\\\\OneDrive\\\\Documents\\\\S2 Work\\\\Prog for DS in R\\\\corpus-of-bilingual-childrens-speech\\\\bnfs1.cha'"
      ],
      "text/plain": [
       "C:\\Users\\abine\\OneDrive\\Documents\\S2 Work\\Prog for DS in R\\corpus-of-bilingual-childrens-speech\\bnfs1.cha"
      ]
     },
     "metadata": {},
     "output_type": "display_data"
    }
   ],
   "source": [
    "#removing space & tab\n",
    "fileName=trimws(fileName)\n",
    "fileName"
   ]
  },
  {
   "cell_type": "code",
   "execution_count": 39,
   "metadata": {},
   "outputs": [
    {
     "data": {
      "text/html": [
       "<ol class=list-inline>\n",
       "\t<li>'@UTF8'</li>\n",
       "\t<li>'@PID:\\t11312/c-00001680-1'</li>\n",
       "\t<li>'@Begin'</li>\n",
       "\t<li>'@Languages:\\teng'</li>\n",
       "\t<li>'@Participants:\\tCHI BNFS Target_Child , EXP Lisa Investigator , MOT Masooma Mother'</li>\n",
       "\t<li>'@ID:\\teng|Paradis|CHI|6;01.10|female|||Target_Child|||'</li>\n",
       "</ol>\n"
      ],
      "text/latex": [
       "\\begin{enumerate*}\n",
       "\\item '@UTF8'\n",
       "\\item '@PID:\\textbackslash{}t11312/c-00001680-1'\n",
       "\\item '@Begin'\n",
       "\\item '@Languages:\\textbackslash{}teng'\n",
       "\\item '@Participants:\\textbackslash{}tCHI BNFS Target\\_Child , EXP Lisa Investigator , MOT Masooma Mother'\n",
       "\\item '@ID:\\textbackslash{}teng\\textbar{}Paradis\\textbar{}CHI\\textbar{}6;01.10\\textbar{}female\\textbar{}\\textbar{}\\textbar{}Target\\_Child\\textbar{}\\textbar{}\\textbar{}'\n",
       "\\end{enumerate*}\n"
      ],
      "text/markdown": [
       "1. '@UTF8'\n",
       "2. '@PID:\\t11312/c-00001680-1'\n",
       "3. '@Begin'\n",
       "4. '@Languages:\\teng'\n",
       "5. '@Participants:\\tCHI BNFS Target_Child , EXP Lisa Investigator , MOT Masooma Mother'\n",
       "6. '@ID:\\teng|Paradis|CHI|6;01.10|female|||Target_Child|||'\n",
       "\n",
       "\n"
      ],
      "text/plain": [
       "[1] \"@UTF8\"                                                                            \n",
       "[2] \"@PID:\\t11312/c-00001680-1\"                                                         \n",
       "[3] \"@Begin\"                                                                           \n",
       "[4] \"@Languages:\\teng\"                                                                  \n",
       "[5] \"@Participants:\\tCHI BNFS Target_Child , EXP Lisa Investigator , MOT Masooma Mother\"\n",
       "[6] \"@ID:\\teng|Paradis|CHI|6;01.10|female|||Target_Child|||\"                            "
      ]
     },
     "metadata": {},
     "output_type": "display_data"
    }
   ],
   "source": [
    "#read in the new file\n",
    "fileText=paste(readLines(fileName))\n",
    "head(fileText)"
   ]
  },
  {
   "cell_type": "code",
   "execution_count": 41,
   "metadata": {},
   "outputs": [
    {
     "name": "stdout",
     "output_type": "stream",
     "text": [
      " chr [1:1887] \"@UTF8\" \"@PID:\\t11312/c-00001680-1\" \"@Begin\" ...\n"
     ]
    }
   ],
   "source": [
    "str(fileText)"
   ]
  },
  {
   "cell_type": "markdown",
   "metadata": {},
   "source": [
    "We have to find how many time,child uses \"um\" and \"ah\""
   ]
  },
  {
   "cell_type": "code",
   "execution_count": 45,
   "metadata": {},
   "outputs": [
    {
     "data": {
      "text/html": [
       "<table>\n",
       "<thead><tr><th scope=col>value</th></tr></thead>\n",
       "<tbody>\n",
       "\t<tr><td><span style=white-space:pre-wrap>*CHI:\t(.) &amp;-um (.).            </span></td></tr>\n",
       "\t<tr><td>*CHI:\tsix.                     </td></tr>\n",
       "\t<tr><td><span style=white-space:pre-wrap>*CHI:\t(.) &amp;-um (.).            </span></td></tr>\n",
       "\t<tr><td>*CHI:\tit's finished.           </td></tr>\n",
       "\t<tr><td>*CHI:\tmy birthday's finished.  </td></tr>\n",
       "\t<tr><td>*CHI:\t(.) &amp;ah (..) &amp;-um (.) it.</td></tr>\n",
       "</tbody>\n",
       "</table>\n"
      ],
      "text/latex": [
       "\\begin{tabular}{r|l}\n",
       " value\\\\\n",
       "\\hline\n",
       "\t *CHI:\t(.) \\&-um (.).            \\\\\n",
       "\t *CHI:\tsix.                     \\\\\n",
       "\t *CHI:\t(.) \\&-um (.).            \\\\\n",
       "\t *CHI:\tit's finished.           \\\\\n",
       "\t *CHI:\tmy birthday's finished.  \\\\\n",
       "\t *CHI:\t(.) \\&ah (..) \\&-um (.) it.\\\\\n",
       "\\end{tabular}\n"
      ],
      "text/markdown": [
       "\n",
       "| value |\n",
       "|---|\n",
       "| *CHI:\t(.) &-um (.).             |\n",
       "| *CHI:\tsix.                      |\n",
       "| *CHI:\t(.) &-um (.).             |\n",
       "| *CHI:\tit's finished.            |\n",
       "| *CHI:\tmy birthday's finished.   |\n",
       "| *CHI:\t(.) &ah (..) &-um (.) it. |\n",
       "\n"
      ],
      "text/plain": [
       "  value                          \n",
       "1 *CHI:\\t(.) &-um (.).            \n",
       "2 *CHI:\\tsix.                     \n",
       "3 *CHI:\\t(.) &-um (.).            \n",
       "4 *CHI:\\tit's finished.           \n",
       "5 *CHI:\\tmy birthday's finished.  \n",
       "6 *CHI:\\t(.) &ah (..) &-um (.) it."
      ]
     },
     "metadata": {},
     "output_type": "display_data"
    }
   ],
   "source": [
    "childsSpeech=as_data_frame(fileText[grep(\"\\\\*CHI:\",fileText)])  #\\\\ escape for * --> since * has seperate meaning\n",
    "head(childsSpeech)"
   ]
  },
  {
   "cell_type": "code",
   "execution_count": 49,
   "metadata": {},
   "outputs": [],
   "source": [
    "#use unnest to get words from the \"value\" column of childsSpeech\n",
    "childsTokens=childsSpeech %>% unnest_tokens(word,value)"
   ]
  },
  {
   "cell_type": "code",
   "execution_count": 50,
   "metadata": {},
   "outputs": [
    {
     "data": {
      "text/html": [
       "<table>\n",
       "<thead><tr><th scope=col>word</th></tr></thead>\n",
       "<tbody>\n",
       "\t<tr><td>chi</td></tr>\n",
       "\t<tr><td>um </td></tr>\n",
       "\t<tr><td>chi</td></tr>\n",
       "\t<tr><td>six</td></tr>\n",
       "\t<tr><td>chi</td></tr>\n",
       "\t<tr><td>um </td></tr>\n",
       "</tbody>\n",
       "</table>\n"
      ],
      "text/latex": [
       "\\begin{tabular}{r|l}\n",
       " word\\\\\n",
       "\\hline\n",
       "\t chi\\\\\n",
       "\t um \\\\\n",
       "\t chi\\\\\n",
       "\t six\\\\\n",
       "\t chi\\\\\n",
       "\t um \\\\\n",
       "\\end{tabular}\n"
      ],
      "text/markdown": [
       "\n",
       "| word |\n",
       "|---|\n",
       "| chi |\n",
       "| um  |\n",
       "| chi |\n",
       "| six |\n",
       "| chi |\n",
       "| um  |\n",
       "\n"
      ],
      "text/plain": [
       "  word\n",
       "1 chi \n",
       "2 um  \n",
       "3 chi \n",
       "4 six \n",
       "5 chi \n",
       "6 um  "
      ]
     },
     "metadata": {},
     "output_type": "display_data"
    }
   ],
   "source": [
    "head(childsTokens)"
   ]
  },
  {
   "cell_type": "code",
   "execution_count": 54,
   "metadata": {},
   "outputs": [
    {
     "data": {
      "text/html": [
       "<table>\n",
       "<thead><tr><th scope=col>word</th><th scope=col>n</th></tr></thead>\n",
       "<tbody>\n",
       "\t<tr><td>chi </td><td>956 </td></tr>\n",
       "\t<tr><td>yeah</td><td>263 </td></tr>\n",
       "\t<tr><td>i   </td><td>215 </td></tr>\n",
       "\t<tr><td>um  </td><td>141 </td></tr>\n",
       "\t<tr><td>and </td><td>123 </td></tr>\n",
       "\t<tr><td>no  </td><td> 96 </td></tr>\n",
       "</tbody>\n",
       "</table>\n"
      ],
      "text/latex": [
       "\\begin{tabular}{r|ll}\n",
       " word & n\\\\\n",
       "\\hline\n",
       "\t chi  & 956 \\\\\n",
       "\t yeah & 263 \\\\\n",
       "\t i    & 215 \\\\\n",
       "\t um   & 141 \\\\\n",
       "\t and  & 123 \\\\\n",
       "\t no   &  96 \\\\\n",
       "\\end{tabular}\n"
      ],
      "text/markdown": [
       "\n",
       "| word | n |\n",
       "|---|---|\n",
       "| chi  | 956  |\n",
       "| yeah | 263  |\n",
       "| i    | 215  |\n",
       "| um   | 141  |\n",
       "| and  | 123  |\n",
       "| no   |  96  |\n",
       "\n"
      ],
      "text/plain": [
       "  word n  \n",
       "1 chi  956\n",
       "2 yeah 263\n",
       "3 i    215\n",
       "4 um   141\n",
       "5 and  123\n",
       "6 no    96"
      ]
     },
     "metadata": {},
     "output_type": "display_data"
    }
   ],
   "source": [
    "childsTokens %>% count(word,sort=T) %>% head()"
   ]
  },
  {
   "cell_type": "code",
   "execution_count": 59,
   "metadata": {},
   "outputs": [
    {
     "name": "stderr",
     "output_type": "stream",
     "text": [
      "Joining, by = \"word\""
     ]
    },
    {
     "data": {
      "text/html": [
       "<table>\n",
       "<thead><tr><th scope=col>word</th><th scope=col>n</th></tr></thead>\n",
       "<tbody>\n",
       "\t<tr><td>yeah</td><td>263 </td></tr>\n",
       "\t<tr><td>i   </td><td>215 </td></tr>\n",
       "\t<tr><td>um  </td><td>141 </td></tr>\n",
       "\t<tr><td>and </td><td>123 </td></tr>\n",
       "\t<tr><td>no  </td><td> 96 </td></tr>\n",
       "\t<tr><td>have</td><td> 77 </td></tr>\n",
       "</tbody>\n",
       "</table>\n"
      ],
      "text/latex": [
       "\\begin{tabular}{r|ll}\n",
       " word & n\\\\\n",
       "\\hline\n",
       "\t yeah & 263 \\\\\n",
       "\t i    & 215 \\\\\n",
       "\t um   & 141 \\\\\n",
       "\t and  & 123 \\\\\n",
       "\t no   &  96 \\\\\n",
       "\t have &  77 \\\\\n",
       "\\end{tabular}\n"
      ],
      "text/markdown": [
       "\n",
       "| word | n |\n",
       "|---|---|\n",
       "| yeah | 263  |\n",
       "| i    | 215  |\n",
       "| um   | 141  |\n",
       "| and  | 123  |\n",
       "| no   |  96  |\n",
       "| have |  77  |\n",
       "\n"
      ],
      "text/plain": [
       "  word n  \n",
       "1 yeah 263\n",
       "2 i    215\n",
       "3 um   141\n",
       "4 and  123\n",
       "5 no    96\n",
       "6 have  77"
      ]
     },
     "metadata": {},
     "output_type": "display_data"
    }
   ],
   "source": [
    "sortedTokens=childsSpeech %>% unnest_tokens(word,value) %>% anti_join(data_frame(word=\"chi\")) %>% count(word,sort=T)\n",
    "head(sortedTokens)"
   ]
  }
 ],
 "metadata": {
  "kernelspec": {
   "display_name": "R",
   "language": "R",
   "name": "ir"
  },
  "language_info": {
   "codemirror_mode": "r",
   "file_extension": ".r",
   "mimetype": "text/x-r-source",
   "name": "R",
   "pygments_lexer": "r",
   "version": "3.6.1"
  }
 },
 "nbformat": 4,
 "nbformat_minor": 2
}

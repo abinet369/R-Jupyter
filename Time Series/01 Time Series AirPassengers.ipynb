{
 "cells": [
  {
   "cell_type": "code",
   "execution_count": 1,
   "metadata": {},
   "outputs": [
    {
     "name": "stderr",
     "output_type": "stream",
     "text": [
      "Installing package into 'C:/Users/abine/OneDrive/Documents/R/win-library/3.6'\n",
      "(as 'lib' is unspecified)\n"
     ]
    },
    {
     "name": "stdout",
     "output_type": "stream",
     "text": [
      "package 'forecast' successfully unpacked and MD5 sums checked\n",
      "\n",
      "The downloaded binary packages are in\n",
      "\tC:\\Users\\abine\\AppData\\Local\\Temp\\RtmpWgFKvY\\downloaded_packages\n"
     ]
    }
   ],
   "source": [
    "install.packages(\"forecast\")"
   ]
  },
  {
   "cell_type": "code",
   "execution_count": 2,
   "metadata": {},
   "outputs": [
    {
     "name": "stderr",
     "output_type": "stream",
     "text": [
      "Warning message:\n",
      "\"package 'forecast' was built under R version 3.6.3\"Registered S3 method overwritten by 'xts':\n",
      "  method     from\n",
      "  as.zoo.xts zoo \n",
      "Registered S3 method overwritten by 'quantmod':\n",
      "  method            from\n",
      "  as.zoo.data.frame zoo \n"
     ]
    }
   ],
   "source": [
    "library('forecast')"
   ]
  },
  {
   "cell_type": "code",
   "execution_count": 23,
   "metadata": {},
   "outputs": [],
   "source": [
    "df=AirPassengers"
   ]
  },
  {
   "cell_type": "code",
   "execution_count": 24,
   "metadata": {},
   "outputs": [
    {
     "data": {
      "text/html": [
       "<table>\n",
       "<caption>A Time Series: 12 × 12</caption>\n",
       "<thead>\n",
       "\t<tr><th></th><th scope=col>Jan</th><th scope=col>Feb</th><th scope=col>Mar</th><th scope=col>Apr</th><th scope=col>May</th><th scope=col>Jun</th><th scope=col>Jul</th><th scope=col>Aug</th><th scope=col>Sep</th><th scope=col>Oct</th><th scope=col>Nov</th><th scope=col>Dec</th></tr>\n",
       "</thead>\n",
       "<tbody>\n",
       "\t<tr><th scope=row>1949</th><td>112</td><td>118</td><td>132</td><td>129</td><td>121</td><td>135</td><td>148</td><td>148</td><td>136</td><td>119</td><td>104</td><td>118</td></tr>\n",
       "\t<tr><th scope=row>1950</th><td>115</td><td>126</td><td>141</td><td>135</td><td>125</td><td>149</td><td>170</td><td>170</td><td>158</td><td>133</td><td>114</td><td>140</td></tr>\n",
       "\t<tr><th scope=row>1951</th><td>145</td><td>150</td><td>178</td><td>163</td><td>172</td><td>178</td><td>199</td><td>199</td><td>184</td><td>162</td><td>146</td><td>166</td></tr>\n",
       "\t<tr><th scope=row>1952</th><td>171</td><td>180</td><td>193</td><td>181</td><td>183</td><td>218</td><td>230</td><td>242</td><td>209</td><td>191</td><td>172</td><td>194</td></tr>\n",
       "\t<tr><th scope=row>1953</th><td>196</td><td>196</td><td>236</td><td>235</td><td>229</td><td>243</td><td>264</td><td>272</td><td>237</td><td>211</td><td>180</td><td>201</td></tr>\n",
       "\t<tr><th scope=row>1954</th><td>204</td><td>188</td><td>235</td><td>227</td><td>234</td><td>264</td><td>302</td><td>293</td><td>259</td><td>229</td><td>203</td><td>229</td></tr>\n",
       "\t<tr><th scope=row>1955</th><td>242</td><td>233</td><td>267</td><td>269</td><td>270</td><td>315</td><td>364</td><td>347</td><td>312</td><td>274</td><td>237</td><td>278</td></tr>\n",
       "\t<tr><th scope=row>1956</th><td>284</td><td>277</td><td>317</td><td>313</td><td>318</td><td>374</td><td>413</td><td>405</td><td>355</td><td>306</td><td>271</td><td>306</td></tr>\n",
       "\t<tr><th scope=row>1957</th><td>315</td><td>301</td><td>356</td><td>348</td><td>355</td><td>422</td><td>465</td><td>467</td><td>404</td><td>347</td><td>305</td><td>336</td></tr>\n",
       "\t<tr><th scope=row>1958</th><td>340</td><td>318</td><td>362</td><td>348</td><td>363</td><td>435</td><td>491</td><td>505</td><td>404</td><td>359</td><td>310</td><td>337</td></tr>\n",
       "\t<tr><th scope=row>1959</th><td>360</td><td>342</td><td>406</td><td>396</td><td>420</td><td>472</td><td>548</td><td>559</td><td>463</td><td>407</td><td>362</td><td>405</td></tr>\n",
       "\t<tr><th scope=row>1960</th><td>417</td><td>391</td><td>419</td><td>461</td><td>472</td><td>535</td><td>622</td><td>606</td><td>508</td><td>461</td><td>390</td><td>432</td></tr>\n",
       "</tbody>\n",
       "</table>\n"
      ],
      "text/latex": [
       "A Time Series: 12 × 12\n",
       "\\begin{tabular}{r|llllllllllll}\n",
       "  & Jan & Feb & Mar & Apr & May & Jun & Jul & Aug & Sep & Oct & Nov & Dec\\\\\n",
       "\\hline\n",
       "\t1949 & 112 & 118 & 132 & 129 & 121 & 135 & 148 & 148 & 136 & 119 & 104 & 118\\\\\n",
       "\t1950 & 115 & 126 & 141 & 135 & 125 & 149 & 170 & 170 & 158 & 133 & 114 & 140\\\\\n",
       "\t1951 & 145 & 150 & 178 & 163 & 172 & 178 & 199 & 199 & 184 & 162 & 146 & 166\\\\\n",
       "\t1952 & 171 & 180 & 193 & 181 & 183 & 218 & 230 & 242 & 209 & 191 & 172 & 194\\\\\n",
       "\t1953 & 196 & 196 & 236 & 235 & 229 & 243 & 264 & 272 & 237 & 211 & 180 & 201\\\\\n",
       "\t1954 & 204 & 188 & 235 & 227 & 234 & 264 & 302 & 293 & 259 & 229 & 203 & 229\\\\\n",
       "\t1955 & 242 & 233 & 267 & 269 & 270 & 315 & 364 & 347 & 312 & 274 & 237 & 278\\\\\n",
       "\t1956 & 284 & 277 & 317 & 313 & 318 & 374 & 413 & 405 & 355 & 306 & 271 & 306\\\\\n",
       "\t1957 & 315 & 301 & 356 & 348 & 355 & 422 & 465 & 467 & 404 & 347 & 305 & 336\\\\\n",
       "\t1958 & 340 & 318 & 362 & 348 & 363 & 435 & 491 & 505 & 404 & 359 & 310 & 337\\\\\n",
       "\t1959 & 360 & 342 & 406 & 396 & 420 & 472 & 548 & 559 & 463 & 407 & 362 & 405\\\\\n",
       "\t1960 & 417 & 391 & 419 & 461 & 472 & 535 & 622 & 606 & 508 & 461 & 390 & 432\\\\\n",
       "\\end{tabular}\n"
      ],
      "text/markdown": [
       "\n",
       "A Time Series: 12 × 12\n",
       "\n",
       "| <!--/--> | Jan | Feb | Mar | Apr | May | Jun | Jul | Aug | Sep | Oct | Nov | Dec |\n",
       "|---|---|---|---|---|---|---|---|---|---|---|---|---|\n",
       "| 1949 | 112 | 118 | 132 | 129 | 121 | 135 | 148 | 148 | 136 | 119 | 104 | 118 |\n",
       "| 1950 | 115 | 126 | 141 | 135 | 125 | 149 | 170 | 170 | 158 | 133 | 114 | 140 |\n",
       "| 1951 | 145 | 150 | 178 | 163 | 172 | 178 | 199 | 199 | 184 | 162 | 146 | 166 |\n",
       "| 1952 | 171 | 180 | 193 | 181 | 183 | 218 | 230 | 242 | 209 | 191 | 172 | 194 |\n",
       "| 1953 | 196 | 196 | 236 | 235 | 229 | 243 | 264 | 272 | 237 | 211 | 180 | 201 |\n",
       "| 1954 | 204 | 188 | 235 | 227 | 234 | 264 | 302 | 293 | 259 | 229 | 203 | 229 |\n",
       "| 1955 | 242 | 233 | 267 | 269 | 270 | 315 | 364 | 347 | 312 | 274 | 237 | 278 |\n",
       "| 1956 | 284 | 277 | 317 | 313 | 318 | 374 | 413 | 405 | 355 | 306 | 271 | 306 |\n",
       "| 1957 | 315 | 301 | 356 | 348 | 355 | 422 | 465 | 467 | 404 | 347 | 305 | 336 |\n",
       "| 1958 | 340 | 318 | 362 | 348 | 363 | 435 | 491 | 505 | 404 | 359 | 310 | 337 |\n",
       "| 1959 | 360 | 342 | 406 | 396 | 420 | 472 | 548 | 559 | 463 | 407 | 362 | 405 |\n",
       "| 1960 | 417 | 391 | 419 | 461 | 472 | 535 | 622 | 606 | 508 | 461 | 390 | 432 |\n",
       "\n"
      ],
      "text/plain": [
       "     Jan Feb Mar Apr May Jun Jul Aug Sep Oct Nov Dec\n",
       "1949 112 118 132 129 121 135 148 148 136 119 104 118\n",
       "1950 115 126 141 135 125 149 170 170 158 133 114 140\n",
       "1951 145 150 178 163 172 178 199 199 184 162 146 166\n",
       "1952 171 180 193 181 183 218 230 242 209 191 172 194\n",
       "1953 196 196 236 235 229 243 264 272 237 211 180 201\n",
       "1954 204 188 235 227 234 264 302 293 259 229 203 229\n",
       "1955 242 233 267 269 270 315 364 347 312 274 237 278\n",
       "1956 284 277 317 313 318 374 413 405 355 306 271 306\n",
       "1957 315 301 356 348 355 422 465 467 404 347 305 336\n",
       "1958 340 318 362 348 363 435 491 505 404 359 310 337\n",
       "1959 360 342 406 396 420 472 548 559 463 407 362 405\n",
       "1960 417 391 419 461 472 535 622 606 508 461 390 432"
      ]
     },
     "metadata": {},
     "output_type": "display_data"
    }
   ],
   "source": [
    "df"
   ]
  },
  {
   "cell_type": "code",
   "execution_count": 25,
   "metadata": {},
   "outputs": [
    {
     "data": {
      "text/html": [
       "<style>\n",
       ".list-inline {list-style: none; margin:0; padding: 0}\n",
       ".list-inline>li {display: inline-block}\n",
       ".list-inline>li:not(:last-child)::after {content: \"\\00b7\"; padding: 0 .5ex}\n",
       "</style>\n",
       "<ol class=list-inline><li>1949</li><li>1</li></ol>\n"
      ],
      "text/latex": [
       "\\begin{enumerate*}\n",
       "\\item 1949\n",
       "\\item 1\n",
       "\\end{enumerate*}\n"
      ],
      "text/markdown": [
       "1. 1949\n",
       "2. 1\n",
       "\n",
       "\n"
      ],
      "text/plain": [
       "[1] 1949    1"
      ]
     },
     "metadata": {},
     "output_type": "display_data"
    }
   ],
   "source": [
    "start(df)"
   ]
  },
  {
   "cell_type": "code",
   "execution_count": 26,
   "metadata": {},
   "outputs": [
    {
     "data": {
      "text/html": [
       "<style>\n",
       ".list-inline {list-style: none; margin:0; padding: 0}\n",
       ".list-inline>li {display: inline-block}\n",
       ".list-inline>li:not(:last-child)::after {content: \"\\00b7\"; padding: 0 .5ex}\n",
       "</style>\n",
       "<ol class=list-inline><li>1960</li><li>12</li></ol>\n"
      ],
      "text/latex": [
       "\\begin{enumerate*}\n",
       "\\item 1960\n",
       "\\item 12\n",
       "\\end{enumerate*}\n"
      ],
      "text/markdown": [
       "1. 1960\n",
       "2. 12\n",
       "\n",
       "\n"
      ],
      "text/plain": [
       "[1] 1960   12"
      ]
     },
     "metadata": {},
     "output_type": "display_data"
    }
   ],
   "source": [
    "end(df)"
   ]
  },
  {
   "cell_type": "code",
   "execution_count": 27,
   "metadata": {},
   "outputs": [
    {
     "data": {
      "text/html": [
       "12"
      ],
      "text/latex": [
       "12"
      ],
      "text/markdown": [
       "12"
      ],
      "text/plain": [
       "[1] 12"
      ]
     },
     "metadata": {},
     "output_type": "display_data"
    }
   ],
   "source": [
    "# Intevals of the data\n",
    "frequency(df)"
   ]
  },
  {
   "cell_type": "code",
   "execution_count": 28,
   "metadata": {},
   "outputs": [
    {
     "data": {
      "text/html": [
       "0"
      ],
      "text/latex": [
       "0"
      ],
      "text/markdown": [
       "0"
      ],
      "text/plain": [
       "[1] 0"
      ]
     },
     "metadata": {},
     "output_type": "display_data"
    }
   ],
   "source": [
    "sum(is.na(df))"
   ]
  },
  {
   "cell_type": "code",
   "execution_count": 29,
   "metadata": {},
   "outputs": [
    {
     "data": {
      "text/plain": [
       "   Min. 1st Qu.  Median    Mean 3rd Qu.    Max. \n",
       "  104.0   180.0   265.5   280.3   360.5   622.0 "
      ]
     },
     "metadata": {},
     "output_type": "display_data"
    }
   ],
   "source": [
    "summary(df)"
   ]
  },
  {
   "cell_type": "code",
   "execution_count": 48,
   "metadata": {},
   "outputs": [
    {
     "data": {
      "image/png": "[encoded data removed]",
      "text/plain": [
       "plot without title"
      ]
     },
     "metadata": {},
     "output_type": "display_data"
    }
   ],
   "source": [
    "plot(df,ylab=\"Air Passengers\")"
   ]
  },
  {
   "cell_type": "code",
   "execution_count": 31,
   "metadata": {
    "scrolled": false
   },
   "outputs": [
    {
     "data": {
      "text/html": [
       "<table>\n",
       "<caption>A Time Series: 12 × 12</caption>\n",
       "<thead>\n",
       "\t<tr><th></th><th scope=col>Jan</th><th scope=col>Feb</th><th scope=col>Mar</th><th scope=col>Apr</th><th scope=col>May</th><th scope=col>Jun</th><th scope=col>Jul</th><th scope=col>Aug</th><th scope=col>Sep</th><th scope=col>Oct</th><th scope=col>Nov</th><th scope=col>Dec</th></tr>\n",
       "</thead>\n",
       "<tbody>\n",
       "\t<tr><th scope=row>1949</th><td> 1</td><td> 2</td><td> 3</td><td> 4</td><td> 5</td><td> 6</td><td> 7</td><td> 8</td><td> 9</td><td>10</td><td>11</td><td>12</td></tr>\n",
       "\t<tr><th scope=row>1950</th><td> 1</td><td> 2</td><td> 3</td><td> 4</td><td> 5</td><td> 6</td><td> 7</td><td> 8</td><td> 9</td><td>10</td><td>11</td><td>12</td></tr>\n",
       "\t<tr><th scope=row>1951</th><td> 1</td><td> 2</td><td> 3</td><td> 4</td><td> 5</td><td> 6</td><td> 7</td><td> 8</td><td> 9</td><td>10</td><td>11</td><td>12</td></tr>\n",
       "\t<tr><th scope=row>1952</th><td> 1</td><td> 2</td><td> 3</td><td> 4</td><td> 5</td><td> 6</td><td> 7</td><td> 8</td><td> 9</td><td>10</td><td>11</td><td>12</td></tr>\n",
       "\t<tr><th scope=row>1953</th><td> 1</td><td> 2</td><td> 3</td><td> 4</td><td> 5</td><td> 6</td><td> 7</td><td> 8</td><td> 9</td><td>10</td><td>11</td><td>12</td></tr>\n",
       "\t<tr><th scope=row>1954</th><td> 1</td><td> 2</td><td> 3</td><td> 4</td><td> 5</td><td> 6</td><td> 7</td><td> 8</td><td> 9</td><td>10</td><td>11</td><td>12</td></tr>\n",
       "\t<tr><th scope=row>1955</th><td> 1</td><td> 2</td><td> 3</td><td> 4</td><td> 5</td><td> 6</td><td> 7</td><td> 8</td><td> 9</td><td>10</td><td>11</td><td>12</td></tr>\n",
       "\t<tr><th scope=row>1956</th><td> 1</td><td> 2</td><td> 3</td><td> 4</td><td> 5</td><td> 6</td><td> 7</td><td> 8</td><td> 9</td><td>10</td><td>11</td><td>12</td></tr>\n",
       "\t<tr><th scope=row>1957</th><td> 1</td><td> 2</td><td> 3</td><td> 4</td><td> 5</td><td> 6</td><td> 7</td><td> 8</td><td> 9</td><td>10</td><td>11</td><td>12</td></tr>\n",
       "\t<tr><th scope=row>1958</th><td> 1</td><td> 2</td><td> 3</td><td> 4</td><td> 5</td><td> 6</td><td> 7</td><td> 8</td><td> 9</td><td>10</td><td>11</td><td>12</td></tr>\n",
       "\t<tr><th scope=row>1959</th><td> 1</td><td> 2</td><td> 3</td><td> 4</td><td> 5</td><td> 6</td><td> 7</td><td> 8</td><td> 9</td><td>10</td><td>11</td><td>12</td></tr>\n",
       "\t<tr><th scope=row>1960</th><td> 1</td><td> 2</td><td> 3</td><td> 4</td><td> 5</td><td> 6</td><td> 7</td><td> 8</td><td> 9</td><td>10</td><td>11</td><td>12</td></tr>\n",
       "</tbody>\n",
       "</table>\n"
      ],
      "text/latex": [
       "A Time Series: 12 × 12\n",
       "\\begin{tabular}{r|llllllllllll}\n",
       "  & Jan & Feb & Mar & Apr & May & Jun & Jul & Aug & Sep & Oct & Nov & Dec\\\\\n",
       "\\hline\n",
       "\t1949 &  1 &  2 &  3 &  4 &  5 &  6 &  7 &  8 &  9 & 10 & 11 & 12\\\\\n",
       "\t1950 &  1 &  2 &  3 &  4 &  5 &  6 &  7 &  8 &  9 & 10 & 11 & 12\\\\\n",
       "\t1951 &  1 &  2 &  3 &  4 &  5 &  6 &  7 &  8 &  9 & 10 & 11 & 12\\\\\n",
       "\t1952 &  1 &  2 &  3 &  4 &  5 &  6 &  7 &  8 &  9 & 10 & 11 & 12\\\\\n",
       "\t1953 &  1 &  2 &  3 &  4 &  5 &  6 &  7 &  8 &  9 & 10 & 11 & 12\\\\\n",
       "\t1954 &  1 &  2 &  3 &  4 &  5 &  6 &  7 &  8 &  9 & 10 & 11 & 12\\\\\n",
       "\t1955 &  1 &  2 &  3 &  4 &  5 &  6 &  7 &  8 &  9 & 10 & 11 & 12\\\\\n",
       "\t1956 &  1 &  2 &  3 &  4 &  5 &  6 &  7 &  8 &  9 & 10 & 11 & 12\\\\\n",
       "\t1957 &  1 &  2 &  3 &  4 &  5 &  6 &  7 &  8 &  9 & 10 & 11 & 12\\\\\n",
       "\t1958 &  1 &  2 &  3 &  4 &  5 &  6 &  7 &  8 &  9 & 10 & 11 & 12\\\\\n",
       "\t1959 &  1 &  2 &  3 &  4 &  5 &  6 &  7 &  8 &  9 & 10 & 11 & 12\\\\\n",
       "\t1960 &  1 &  2 &  3 &  4 &  5 &  6 &  7 &  8 &  9 & 10 & 11 & 12\\\\\n",
       "\\end{tabular}\n"
      ],
      "text/markdown": [
       "\n",
       "A Time Series: 12 × 12\n",
       "\n",
       "| <!--/--> | Jan | Feb | Mar | Apr | May | Jun | Jul | Aug | Sep | Oct | Nov | Dec |\n",
       "|---|---|---|---|---|---|---|---|---|---|---|---|---|\n",
       "| 1949 |  1 |  2 |  3 |  4 |  5 |  6 |  7 |  8 |  9 | 10 | 11 | 12 |\n",
       "| 1950 |  1 |  2 |  3 |  4 |  5 |  6 |  7 |  8 |  9 | 10 | 11 | 12 |\n",
       "| 1951 |  1 |  2 |  3 |  4 |  5 |  6 |  7 |  8 |  9 | 10 | 11 | 12 |\n",
       "| 1952 |  1 |  2 |  3 |  4 |  5 |  6 |  7 |  8 |  9 | 10 | 11 | 12 |\n",
       "| 1953 |  1 |  2 |  3 |  4 |  5 |  6 |  7 |  8 |  9 | 10 | 11 | 12 |\n",
       "| 1954 |  1 |  2 |  3 |  4 |  5 |  6 |  7 |  8 |  9 | 10 | 11 | 12 |\n",
       "| 1955 |  1 |  2 |  3 |  4 |  5 |  6 |  7 |  8 |  9 | 10 | 11 | 12 |\n",
       "| 1956 |  1 |  2 |  3 |  4 |  5 |  6 |  7 |  8 |  9 | 10 | 11 | 12 |\n",
       "| 1957 |  1 |  2 |  3 |  4 |  5 |  6 |  7 |  8 |  9 | 10 | 11 | 12 |\n",
       "| 1958 |  1 |  2 |  3 |  4 |  5 |  6 |  7 |  8 |  9 | 10 | 11 | 12 |\n",
       "| 1959 |  1 |  2 |  3 |  4 |  5 |  6 |  7 |  8 |  9 | 10 | 11 | 12 |\n",
       "| 1960 |  1 |  2 |  3 |  4 |  5 |  6 |  7 |  8 |  9 | 10 | 11 | 12 |\n",
       "\n"
      ],
      "text/plain": [
       "     Jan Feb Mar Apr May Jun Jul Aug Sep Oct Nov Dec\n",
       "1949  1   2   3   4   5   6   7   8   9  10  11  12 \n",
       "1950  1   2   3   4   5   6   7   8   9  10  11  12 \n",
       "1951  1   2   3   4   5   6   7   8   9  10  11  12 \n",
       "1952  1   2   3   4   5   6   7   8   9  10  11  12 \n",
       "1953  1   2   3   4   5   6   7   8   9  10  11  12 \n",
       "1954  1   2   3   4   5   6   7   8   9  10  11  12 \n",
       "1955  1   2   3   4   5   6   7   8   9  10  11  12 \n",
       "1956  1   2   3   4   5   6   7   8   9  10  11  12 \n",
       "1957  1   2   3   4   5   6   7   8   9  10  11  12 \n",
       "1958  1   2   3   4   5   6   7   8   9  10  11  12 \n",
       "1959  1   2   3   4   5   6   7   8   9  10  11  12 \n",
       "1960  1   2   3   4   5   6   7   8   9  10  11  12 "
      ]
     },
     "metadata": {},
     "output_type": "display_data"
    }
   ],
   "source": [
    "cycle(df)"
   ]
  },
  {
   "cell_type": "code",
   "execution_count": 117,
   "metadata": {},
   "outputs": [
    {
     "data": {
      "image/png": "[encoded data removed]",
      "text/plain": [
       "plot without title"
      ]
     },
     "metadata": {},
     "output_type": "display_data"
    }
   ],
   "source": [
    "#box plot to check how the data of each month varies\n",
    "#get box plot of the cycle\n",
    "boxplot(df~cycle(df),ylab=\"Air Passengers\")"
   ]
  },
  {
   "cell_type": "markdown",
   "metadata": {},
   "source": [
    "Inferences from data:"
   ]
  },
  {
   "cell_type": "markdown",
   "metadata": {},
   "source": [
    "Trend: Passenger number increase over time indicating an increasing linear trend"
   ]
  },
  {
   "cell_type": "markdown",
   "metadata": {},
   "source": [
    "Seasonality : in the box plot there are more passenger are travelling in the months of 6 to 9, indicating seasonality with a apparent cycle of 12 months"
   ]
  },
  {
   "cell_type": "markdown",
   "metadata": {},
   "source": [
    "Air Passengers appears to be multiplicative time series as the passenger nymbers increase, it appears so does the pattern of seasonality"
   ]
  },
  {
   "cell_type": "markdown",
   "metadata": {},
   "source": [
    "There do not appear to be any outliers and there are no missing values. Therefore no data cleaning is required"
   ]
  },
  {
   "cell_type": "markdown",
   "metadata": {},
   "source": [
    "# Time Series Decomposition"
   ]
  },
  {
   "cell_type": "code",
   "execution_count": null,
   "metadata": {},
   "outputs": [],
   "source": []
  },
  {
   "cell_type": "code",
   "execution_count": 39,
   "metadata": {},
   "outputs": [],
   "source": [
    "tsdata=ts(df,frequency = 12)\n",
    "ddata=decompose(tsdata,\"multiplicative\")\n",
    "# A multiplicative model suggests that components are multiplied together"
   ]
  },
  {
   "cell_type": "code",
   "execution_count": 41,
   "metadata": {
    "scrolled": false
   },
   "outputs": [
    {
     "data": {
      "image/png": "[encoded data removed]",
      "text/plain": [
       "plot without title"
      ]
     },
     "metadata": {},
     "output_type": "display_data"
    }
   ],
   "source": [
    "plot(ddata)"
   ]
  },
  {
   "cell_type": "code",
   "execution_count": null,
   "metadata": {},
   "outputs": [],
   "source": []
  },
  {
   "cell_type": "code",
   "execution_count": 44,
   "metadata": {},
   "outputs": [
    {
     "data": {
      "image/png": "[encoded data removed]",
      "text/plain": [
       "plot without title"
      ]
     },
     "metadata": {},
     "output_type": "display_data"
    }
   ],
   "source": [
    "plot(df)\n",
    "abline(reg=lm(df~time(df)))"
   ]
  },
  {
   "cell_type": "markdown",
   "metadata": {},
   "source": [
    "# Making the Data Stationery"
   ]
  },
  {
   "cell_type": "markdown",
   "metadata": {},
   "source": [
    "log() functions make variance reduce"
   ]
  },
  {
   "cell_type": "code",
   "execution_count": 50,
   "metadata": {},
   "outputs": [
    {
     "data": {
      "image/png": "[encoded data removed]",
      "text/plain": [
       "plot without title"
      ]
     },
     "metadata": {},
     "output_type": "display_data"
    }
   ],
   "source": [
    "plot(log(df))"
   ]
  },
  {
   "cell_type": "markdown",
   "metadata": {},
   "source": [
    "to reduce mean also using diff"
   ]
  },
  {
   "cell_type": "code",
   "execution_count": 51,
   "metadata": {},
   "outputs": [
    {
     "data": {
      "image/png": "[encoded data removed]",
      "text/plain": [
       "plot without title"
      ]
     },
     "metadata": {},
     "output_type": "display_data"
    }
   ],
   "source": [
    "plot(diff(log(df)))"
   ]
  },
  {
   "cell_type": "markdown",
   "metadata": {},
   "source": [
    "# Finding the Time Series Model"
   ]
  },
  {
   "cell_type": "code",
   "execution_count": null,
   "metadata": {},
   "outputs": [],
   "source": []
  },
  {
   "cell_type": "code",
   "execution_count": 55,
   "metadata": {},
   "outputs": [
    {
     "data": {
      "text/plain": [
       "Series: df \n",
       "ARIMA(2,1,1)(0,1,0)[12] \n",
       "\n",
       "Coefficients:\n",
       "         ar1     ar2      ma1\n",
       "      0.5960  0.2143  -0.9819\n",
       "s.e.  0.0888  0.0880   0.0292\n",
       "\n",
       "sigma^2 estimated as 132.3:  log likelihood=-504.92\n",
       "AIC=1017.85   AICc=1018.17   BIC=1029.35"
      ]
     },
     "metadata": {},
     "output_type": "display_data"
    }
   ],
   "source": [
    "mymodel=auto.arima(df)\n",
    "mymodel"
   ]
  },
  {
   "cell_type": "code",
   "execution_count": 57,
   "metadata": {},
   "outputs": [
    {
     "data": {
      "image/png": "[encoded data removed]",
      "text/plain": [
       "Plot with title \"Series  df\""
      ]
     },
     "metadata": {},
     "output_type": "display_data"
    }
   ],
   "source": [
    "acf(df)"
   ]
  },
  {
   "cell_type": "markdown",
   "metadata": {},
   "source": [
    "we need get the vertical lines between blue horizontal lines"
   ]
  },
  {
   "cell_type": "markdown",
   "metadata": {},
   "source": [
    "so using acf"
   ]
  },
  {
   "cell_type": "code",
   "execution_count": 58,
   "metadata": {},
   "outputs": [
    {
     "data": {
      "image/png": "[encoded data removed]",
      "text/plain": [
       "Plot with title \"Series  diff(log(df))\""
      ]
     },
     "metadata": {},
     "output_type": "display_data"
    }
   ],
   "source": [
    "acf(diff(log(df)))"
   ]
  },
  {
   "cell_type": "markdown",
   "metadata": {},
   "source": [
    "pacf is partial only"
   ]
  },
  {
   "cell_type": "code",
   "execution_count": 60,
   "metadata": {},
   "outputs": [
    {
     "data": {
      "image/png": "[encoded data removed]",
      "text/plain": [
       "Plot with title \"Series  diff(df)\""
      ]
     },
     "metadata": {},
     "output_type": "display_data"
    }
   ],
   "source": [
    "pacf(diff(df))"
   ]
  },
  {
   "cell_type": "code",
   "execution_count": 62,
   "metadata": {},
   "outputs": [],
   "source": [
    "fit=arima(log(df),c(0,1,1),seasonal=list(order=c(0,1,1),period=12))"
   ]
  },
  {
   "cell_type": "code",
   "execution_count": 64,
   "metadata": {},
   "outputs": [],
   "source": [
    "pred=predict(fit,n.ahead=10*12) #10 bcoz we want predict for nxt 10years"
   ]
  },
  {
   "cell_type": "code",
   "execution_count": 66,
   "metadata": {},
   "outputs": [],
   "source": [
    "#our values are in logarithmic form, we have to change it back to decimal format\n",
    "pred1=2.718^pred$pred"
   ]
  },
  {
   "cell_type": "code",
   "execution_count": 68,
   "metadata": {},
   "outputs": [
    {
     "data": {
      "text/html": [
       "<table>\n",
       "<caption>A Time Series: 10 × 12</caption>\n",
       "<thead>\n",
       "\t<tr><th></th><th scope=col>Jan</th><th scope=col>Feb</th><th scope=col>Mar</th><th scope=col>Apr</th><th scope=col>May</th><th scope=col>Jun</th><th scope=col>Jul</th><th scope=col>Aug</th><th scope=col>Sep</th><th scope=col>Oct</th><th scope=col>Nov</th><th scope=col>Dec</th></tr>\n",
       "</thead>\n",
       "<tbody>\n",
       "\t<tr><th scope=row>1961</th><td> 450.1371</td><td> 425.4501</td><td> 478.7004</td><td> 492.0881</td><td> 508.7261</td><td> 582.9599</td><td> 669.5589</td><td> 666.6280</td><td> 557.8234</td><td> 496.8878</td><td> 429.6018</td><td> 476.9375</td></tr>\n",
       "\t<tr><th scope=row>1962</th><td> 495.6111</td><td> 468.4301</td><td> 527.0599</td><td> 541.8000</td><td> 560.1189</td><td> 641.8519</td><td> 737.1994</td><td> 733.9724</td><td> 614.1761</td><td> 547.0846</td><td> 473.0012</td><td> 525.1189</td></tr>\n",
       "\t<tr><th scope=row>1963</th><td> 545.6789</td><td> 515.7521</td><td> 580.3048</td><td> 596.5340</td><td> 616.7035</td><td> 706.6934</td><td> 811.6731</td><td> 808.1201</td><td> 676.2217</td><td> 602.3525</td><td> 520.7850</td><td> 578.1677</td></tr>\n",
       "\t<tr><th scope=row>1964</th><td> 600.8048</td><td> 567.8546</td><td> 638.9286</td><td> 656.7973</td><td> 679.0044</td><td> 778.0853</td><td> 893.6703</td><td> 889.7584</td><td> 744.5353</td><td> 663.2036</td><td> 573.3960</td><td> 636.5756</td></tr>\n",
       "\t<tr><th scope=row>1965</th><td> 661.4995</td><td> 625.2207</td><td> 703.4748</td><td> 723.1486</td><td> 747.5991</td><td> 856.6894</td><td> 983.9511</td><td> 979.6440</td><td> 819.7501</td><td> 730.2021</td><td> 631.3219</td><td> 700.8840</td></tr>\n",
       "\t<tr><th scope=row>1966</th><td> 728.3259</td><td> 688.3820</td><td> 774.5415</td><td> 796.2029</td><td> 823.1234</td><td> 943.2343</td><td>1083.3522</td><td>1078.6101</td><td> 902.5633</td><td> 803.9689</td><td> 695.0996</td><td> 771.6891</td></tr>\n",
       "\t<tr><th scope=row>1967</th><td> 801.9031</td><td> 757.9241</td><td> 852.7876</td><td> 876.6373</td><td> 906.2773</td><td>1038.5221</td><td>1192.7951</td><td>1187.5739</td><td> 993.7425</td><td> 885.1878</td><td> 765.3202</td><td> 849.6470</td></tr>\n",
       "\t<tr><th scope=row>1968</th><td> 882.9134</td><td> 834.4914</td><td> 938.9384</td><td> 965.1973</td><td> 997.8317</td><td>1143.4362</td><td>1313.2943</td><td>1307.5456</td><td>1094.1328</td><td> 974.6117</td><td> 842.6348</td><td> 935.4804</td></tr>\n",
       "\t<tr><th scope=row>1969</th><td> 972.1075</td><td> 918.7938</td><td>1033.7922</td><td>1062.7040</td><td>1098.6352</td><td>1258.9490</td><td>1445.9665</td><td>1439.6371</td><td>1204.6648</td><td>1073.0694</td><td> 927.7598</td><td>1029.9850</td></tr>\n",
       "\t<tr><th scope=row>1970</th><td>1070.3122</td><td>1011.6126</td><td>1138.2285</td><td>1170.0609</td><td>1209.6220</td><td>1386.1311</td><td>1592.0416</td><td>1585.0728</td><td>1326.3630</td><td>1181.4735</td><td>1021.4844</td><td>1134.0366</td></tr>\n",
       "</tbody>\n",
       "</table>\n"
      ],
      "text/latex": [
       "A Time Series: 10 × 12\n",
       "\\begin{tabular}{r|llllllllllll}\n",
       "  & Jan & Feb & Mar & Apr & May & Jun & Jul & Aug & Sep & Oct & Nov & Dec\\\\\n",
       "\\hline\n",
       "\t1961 &  450.1371 &  425.4501 &  478.7004 &  492.0881 &  508.7261 &  582.9599 &  669.5589 &  666.6280 &  557.8234 &  496.8878 &  429.6018 &  476.9375\\\\\n",
       "\t1962 &  495.6111 &  468.4301 &  527.0599 &  541.8000 &  560.1189 &  641.8519 &  737.1994 &  733.9724 &  614.1761 &  547.0846 &  473.0012 &  525.1189\\\\\n",
       "\t1963 &  545.6789 &  515.7521 &  580.3048 &  596.5340 &  616.7035 &  706.6934 &  811.6731 &  808.1201 &  676.2217 &  602.3525 &  520.7850 &  578.1677\\\\\n",
       "\t1964 &  600.8048 &  567.8546 &  638.9286 &  656.7973 &  679.0044 &  778.0853 &  893.6703 &  889.7584 &  744.5353 &  663.2036 &  573.3960 &  636.5756\\\\\n",
       "\t1965 &  661.4995 &  625.2207 &  703.4748 &  723.1486 &  747.5991 &  856.6894 &  983.9511 &  979.6440 &  819.7501 &  730.2021 &  631.3219 &  700.8840\\\\\n",
       "\t1966 &  728.3259 &  688.3820 &  774.5415 &  796.2029 &  823.1234 &  943.2343 & 1083.3522 & 1078.6101 &  902.5633 &  803.9689 &  695.0996 &  771.6891\\\\\n",
       "\t1967 &  801.9031 &  757.9241 &  852.7876 &  876.6373 &  906.2773 & 1038.5221 & 1192.7951 & 1187.5739 &  993.7425 &  885.1878 &  765.3202 &  849.6470\\\\\n",
       "\t1968 &  882.9134 &  834.4914 &  938.9384 &  965.1973 &  997.8317 & 1143.4362 & 1313.2943 & 1307.5456 & 1094.1328 &  974.6117 &  842.6348 &  935.4804\\\\\n",
       "\t1969 &  972.1075 &  918.7938 & 1033.7922 & 1062.7040 & 1098.6352 & 1258.9490 & 1445.9665 & 1439.6371 & 1204.6648 & 1073.0694 &  927.7598 & 1029.9850\\\\\n",
       "\t1970 & 1070.3122 & 1011.6126 & 1138.2285 & 1170.0609 & 1209.6220 & 1386.1311 & 1592.0416 & 1585.0728 & 1326.3630 & 1181.4735 & 1021.4844 & 1134.0366\\\\\n",
       "\\end{tabular}\n"
      ],
      "text/markdown": [
       "\n",
       "A Time Series: 10 × 12\n",
       "\n",
       "| <!--/--> | Jan | Feb | Mar | Apr | May | Jun | Jul | Aug | Sep | Oct | Nov | Dec |\n",
       "|---|---|---|---|---|---|---|---|---|---|---|---|---|\n",
       "| 1961 |  450.1371 |  425.4501 |  478.7004 |  492.0881 |  508.7261 |  582.9599 |  669.5589 |  666.6280 |  557.8234 |  496.8878 |  429.6018 |  476.9375 |\n",
       "| 1962 |  495.6111 |  468.4301 |  527.0599 |  541.8000 |  560.1189 |  641.8519 |  737.1994 |  733.9724 |  614.1761 |  547.0846 |  473.0012 |  525.1189 |\n",
       "| 1963 |  545.6789 |  515.7521 |  580.3048 |  596.5340 |  616.7035 |  706.6934 |  811.6731 |  808.1201 |  676.2217 |  602.3525 |  520.7850 |  578.1677 |\n",
       "| 1964 |  600.8048 |  567.8546 |  638.9286 |  656.7973 |  679.0044 |  778.0853 |  893.6703 |  889.7584 |  744.5353 |  663.2036 |  573.3960 |  636.5756 |\n",
       "| 1965 |  661.4995 |  625.2207 |  703.4748 |  723.1486 |  747.5991 |  856.6894 |  983.9511 |  979.6440 |  819.7501 |  730.2021 |  631.3219 |  700.8840 |\n",
       "| 1966 |  728.3259 |  688.3820 |  774.5415 |  796.2029 |  823.1234 |  943.2343 | 1083.3522 | 1078.6101 |  902.5633 |  803.9689 |  695.0996 |  771.6891 |\n",
       "| 1967 |  801.9031 |  757.9241 |  852.7876 |  876.6373 |  906.2773 | 1038.5221 | 1192.7951 | 1187.5739 |  993.7425 |  885.1878 |  765.3202 |  849.6470 |\n",
       "| 1968 |  882.9134 |  834.4914 |  938.9384 |  965.1973 |  997.8317 | 1143.4362 | 1313.2943 | 1307.5456 | 1094.1328 |  974.6117 |  842.6348 |  935.4804 |\n",
       "| 1969 |  972.1075 |  918.7938 | 1033.7922 | 1062.7040 | 1098.6352 | 1258.9490 | 1445.9665 | 1439.6371 | 1204.6648 | 1073.0694 |  927.7598 | 1029.9850 |\n",
       "| 1970 | 1070.3122 | 1011.6126 | 1138.2285 | 1170.0609 | 1209.6220 | 1386.1311 | 1592.0416 | 1585.0728 | 1326.3630 | 1181.4735 | 1021.4844 | 1134.0366 |\n",
       "\n"
      ],
      "text/plain": [
       "     Jan       Feb       Mar       Apr       May       Jun       Jul      \n",
       "1961  450.1371  425.4501  478.7004  492.0881  508.7261  582.9599  669.5589\n",
       "1962  495.6111  468.4301  527.0599  541.8000  560.1189  641.8519  737.1994\n",
       "1963  545.6789  515.7521  580.3048  596.5340  616.7035  706.6934  811.6731\n",
       "1964  600.8048  567.8546  638.9286  656.7973  679.0044  778.0853  893.6703\n",
       "1965  661.4995  625.2207  703.4748  723.1486  747.5991  856.6894  983.9511\n",
       "1966  728.3259  688.3820  774.5415  796.2029  823.1234  943.2343 1083.3522\n",
       "1967  801.9031  757.9241  852.7876  876.6373  906.2773 1038.5221 1192.7951\n",
       "1968  882.9134  834.4914  938.9384  965.1973  997.8317 1143.4362 1313.2943\n",
       "1969  972.1075  918.7938 1033.7922 1062.7040 1098.6352 1258.9490 1445.9665\n",
       "1970 1070.3122 1011.6126 1138.2285 1170.0609 1209.6220 1386.1311 1592.0416\n",
       "     Aug       Sep       Oct       Nov       Dec      \n",
       "1961  666.6280  557.8234  496.8878  429.6018  476.9375\n",
       "1962  733.9724  614.1761  547.0846  473.0012  525.1189\n",
       "1963  808.1201  676.2217  602.3525  520.7850  578.1677\n",
       "1964  889.7584  744.5353  663.2036  573.3960  636.5756\n",
       "1965  979.6440  819.7501  730.2021  631.3219  700.8840\n",
       "1966 1078.6101  902.5633  803.9689  695.0996  771.6891\n",
       "1967 1187.5739  993.7425  885.1878  765.3202  849.6470\n",
       "1968 1307.5456 1094.1328  974.6117  842.6348  935.4804\n",
       "1969 1439.6371 1204.6648 1073.0694  927.7598 1029.9850\n",
       "1970 1585.0728 1326.3630 1181.4735 1021.4844 1134.0366"
      ]
     },
     "metadata": {},
     "output_type": "display_data"
    }
   ],
   "source": [
    "pred1"
   ]
  },
  {
   "cell_type": "code",
   "execution_count": 77,
   "metadata": {},
   "outputs": [
    {
     "data": {
      "image/png": "[encoded data removed]",
      "text/plain": [
       "plot without title"
      ]
     },
     "metadata": {},
     "output_type": "display_data"
    }
   ],
   "source": [
    "ts.plot(df,pred1,log=\"y\",lty=c(1,3))"
   ]
  },
  {
   "cell_type": "markdown",
   "metadata": {},
   "source": [
    "The dotted part is the predicted part from 1961 to 1970"
   ]
  },
  {
   "cell_type": "markdown",
   "metadata": {},
   "source": [
    "# Testing the Model"
   ]
  },
  {
   "cell_type": "code",
   "execution_count": 79,
   "metadata": {},
   "outputs": [],
   "source": [
    "datawide=ts(df,frequency=12,start=c(1949,1),end=c(1959,12))"
   ]
  },
  {
   "cell_type": "code",
   "execution_count": 81,
   "metadata": {},
   "outputs": [
    {
     "data": {
      "text/html": [
       "<table>\n",
       "<caption>A Time Series: 11 × 12</caption>\n",
       "<thead>\n",
       "\t<tr><th></th><th scope=col>Jan</th><th scope=col>Feb</th><th scope=col>Mar</th><th scope=col>Apr</th><th scope=col>May</th><th scope=col>Jun</th><th scope=col>Jul</th><th scope=col>Aug</th><th scope=col>Sep</th><th scope=col>Oct</th><th scope=col>Nov</th><th scope=col>Dec</th></tr>\n",
       "</thead>\n",
       "<tbody>\n",
       "\t<tr><th scope=row>1949</th><td>112</td><td>118</td><td>132</td><td>129</td><td>121</td><td>135</td><td>148</td><td>148</td><td>136</td><td>119</td><td>104</td><td>118</td></tr>\n",
       "\t<tr><th scope=row>1950</th><td>115</td><td>126</td><td>141</td><td>135</td><td>125</td><td>149</td><td>170</td><td>170</td><td>158</td><td>133</td><td>114</td><td>140</td></tr>\n",
       "\t<tr><th scope=row>1951</th><td>145</td><td>150</td><td>178</td><td>163</td><td>172</td><td>178</td><td>199</td><td>199</td><td>184</td><td>162</td><td>146</td><td>166</td></tr>\n",
       "\t<tr><th scope=row>1952</th><td>171</td><td>180</td><td>193</td><td>181</td><td>183</td><td>218</td><td>230</td><td>242</td><td>209</td><td>191</td><td>172</td><td>194</td></tr>\n",
       "\t<tr><th scope=row>1953</th><td>196</td><td>196</td><td>236</td><td>235</td><td>229</td><td>243</td><td>264</td><td>272</td><td>237</td><td>211</td><td>180</td><td>201</td></tr>\n",
       "\t<tr><th scope=row>1954</th><td>204</td><td>188</td><td>235</td><td>227</td><td>234</td><td>264</td><td>302</td><td>293</td><td>259</td><td>229</td><td>203</td><td>229</td></tr>\n",
       "\t<tr><th scope=row>1955</th><td>242</td><td>233</td><td>267</td><td>269</td><td>270</td><td>315</td><td>364</td><td>347</td><td>312</td><td>274</td><td>237</td><td>278</td></tr>\n",
       "\t<tr><th scope=row>1956</th><td>284</td><td>277</td><td>317</td><td>313</td><td>318</td><td>374</td><td>413</td><td>405</td><td>355</td><td>306</td><td>271</td><td>306</td></tr>\n",
       "\t<tr><th scope=row>1957</th><td>315</td><td>301</td><td>356</td><td>348</td><td>355</td><td>422</td><td>465</td><td>467</td><td>404</td><td>347</td><td>305</td><td>336</td></tr>\n",
       "\t<tr><th scope=row>1958</th><td>340</td><td>318</td><td>362</td><td>348</td><td>363</td><td>435</td><td>491</td><td>505</td><td>404</td><td>359</td><td>310</td><td>337</td></tr>\n",
       "\t<tr><th scope=row>1959</th><td>360</td><td>342</td><td>406</td><td>396</td><td>420</td><td>472</td><td>548</td><td>559</td><td>463</td><td>407</td><td>362</td><td>405</td></tr>\n",
       "</tbody>\n",
       "</table>\n"
      ],
      "text/latex": [
       "A Time Series: 11 × 12\n",
       "\\begin{tabular}{r|llllllllllll}\n",
       "  & Jan & Feb & Mar & Apr & May & Jun & Jul & Aug & Sep & Oct & Nov & Dec\\\\\n",
       "\\hline\n",
       "\t1949 & 112 & 118 & 132 & 129 & 121 & 135 & 148 & 148 & 136 & 119 & 104 & 118\\\\\n",
       "\t1950 & 115 & 126 & 141 & 135 & 125 & 149 & 170 & 170 & 158 & 133 & 114 & 140\\\\\n",
       "\t1951 & 145 & 150 & 178 & 163 & 172 & 178 & 199 & 199 & 184 & 162 & 146 & 166\\\\\n",
       "\t1952 & 171 & 180 & 193 & 181 & 183 & 218 & 230 & 242 & 209 & 191 & 172 & 194\\\\\n",
       "\t1953 & 196 & 196 & 236 & 235 & 229 & 243 & 264 & 272 & 237 & 211 & 180 & 201\\\\\n",
       "\t1954 & 204 & 188 & 235 & 227 & 234 & 264 & 302 & 293 & 259 & 229 & 203 & 229\\\\\n",
       "\t1955 & 242 & 233 & 267 & 269 & 270 & 315 & 364 & 347 & 312 & 274 & 237 & 278\\\\\n",
       "\t1956 & 284 & 277 & 317 & 313 & 318 & 374 & 413 & 405 & 355 & 306 & 271 & 306\\\\\n",
       "\t1957 & 315 & 301 & 356 & 348 & 355 & 422 & 465 & 467 & 404 & 347 & 305 & 336\\\\\n",
       "\t1958 & 340 & 318 & 362 & 348 & 363 & 435 & 491 & 505 & 404 & 359 & 310 & 337\\\\\n",
       "\t1959 & 360 & 342 & 406 & 396 & 420 & 472 & 548 & 559 & 463 & 407 & 362 & 405\\\\\n",
       "\\end{tabular}\n"
      ],
      "text/markdown": [
       "\n",
       "A Time Series: 11 × 12\n",
       "\n",
       "| <!--/--> | Jan | Feb | Mar | Apr | May | Jun | Jul | Aug | Sep | Oct | Nov | Dec |\n",
       "|---|---|---|---|---|---|---|---|---|---|---|---|---|\n",
       "| 1949 | 112 | 118 | 132 | 129 | 121 | 135 | 148 | 148 | 136 | 119 | 104 | 118 |\n",
       "| 1950 | 115 | 126 | 141 | 135 | 125 | 149 | 170 | 170 | 158 | 133 | 114 | 140 |\n",
       "| 1951 | 145 | 150 | 178 | 163 | 172 | 178 | 199 | 199 | 184 | 162 | 146 | 166 |\n",
       "| 1952 | 171 | 180 | 193 | 181 | 183 | 218 | 230 | 242 | 209 | 191 | 172 | 194 |\n",
       "| 1953 | 196 | 196 | 236 | 235 | 229 | 243 | 264 | 272 | 237 | 211 | 180 | 201 |\n",
       "| 1954 | 204 | 188 | 235 | 227 | 234 | 264 | 302 | 293 | 259 | 229 | 203 | 229 |\n",
       "| 1955 | 242 | 233 | 267 | 269 | 270 | 315 | 364 | 347 | 312 | 274 | 237 | 278 |\n",
       "| 1956 | 284 | 277 | 317 | 313 | 318 | 374 | 413 | 405 | 355 | 306 | 271 | 306 |\n",
       "| 1957 | 315 | 301 | 356 | 348 | 355 | 422 | 465 | 467 | 404 | 347 | 305 | 336 |\n",
       "| 1958 | 340 | 318 | 362 | 348 | 363 | 435 | 491 | 505 | 404 | 359 | 310 | 337 |\n",
       "| 1959 | 360 | 342 | 406 | 396 | 420 | 472 | 548 | 559 | 463 | 407 | 362 | 405 |\n",
       "\n"
      ],
      "text/plain": [
       "     Jan Feb Mar Apr May Jun Jul Aug Sep Oct Nov Dec\n",
       "1949 112 118 132 129 121 135 148 148 136 119 104 118\n",
       "1950 115 126 141 135 125 149 170 170 158 133 114 140\n",
       "1951 145 150 178 163 172 178 199 199 184 162 146 166\n",
       "1952 171 180 193 181 183 218 230 242 209 191 172 194\n",
       "1953 196 196 236 235 229 243 264 272 237 211 180 201\n",
       "1954 204 188 235 227 234 264 302 293 259 229 203 229\n",
       "1955 242 233 267 269 270 315 364 347 312 274 237 278\n",
       "1956 284 277 317 313 318 374 413 405 355 306 271 306\n",
       "1957 315 301 356 348 355 422 465 467 404 347 305 336\n",
       "1958 340 318 362 348 363 435 491 505 404 359 310 337\n",
       "1959 360 342 406 396 420 472 548 559 463 407 362 405"
      ]
     },
     "metadata": {},
     "output_type": "display_data"
    }
   ],
   "source": [
    "datawide"
   ]
  },
  {
   "cell_type": "code",
   "execution_count": 83,
   "metadata": {},
   "outputs": [],
   "source": [
    "fit=arima(log(datawide),c(0,1,1),seasonal=list(order=c(0,1,1),period=12))"
   ]
  },
  {
   "cell_type": "code",
   "execution_count": 87,
   "metadata": {},
   "outputs": [],
   "source": [
    "pred=predict(fit,n.ahead=10*12)"
   ]
  },
  {
   "cell_type": "code",
   "execution_count": 88,
   "metadata": {},
   "outputs": [],
   "source": [
    "pred1=2.718^pred$pred"
   ]
  },
  {
   "cell_type": "code",
   "execution_count": 95,
   "metadata": {},
   "outputs": [
    {
     "data": {
      "text/html": [
       "<table>\n",
       "<caption>A Time Series: 10 × 12</caption>\n",
       "<thead>\n",
       "\t<tr><th></th><th scope=col>Jan</th><th scope=col>Feb</th><th scope=col>Mar</th><th scope=col>Apr</th><th scope=col>May</th><th scope=col>Jun</th><th scope=col>Jul</th><th scope=col>Aug</th><th scope=col>Sep</th><th scope=col>Oct</th><th scope=col>Nov</th><th scope=col>Dec</th></tr>\n",
       "</thead>\n",
       "<tbody>\n",
       "\t<tr><th scope=row>1960</th><td> 419.0628</td><td> 398.6732</td><td> 466.2820</td><td> 454.1188</td><td> 472.9611</td><td> 546.7614</td><td> 621.8017</td><td> 629.7291</td><td> 526.4044</td><td> 461.9958</td><td> 406.3747</td><td> 452.0098</td></tr>\n",
       "\t<tr><th scope=row>1961</th><td> 469.5742</td><td> 446.7270</td><td> 522.4849</td><td> 508.8558</td><td> 529.9692</td><td> 612.6649</td><td> 696.7502</td><td> 705.6331</td><td> 589.8542</td><td> 517.6821</td><td> 455.3568</td><td> 506.4925</td></tr>\n",
       "\t<tr><th scope=row>1962</th><td> 526.1740</td><td> 500.5730</td><td> 585.4623</td><td> 570.1903</td><td> 593.8487</td><td> 686.5121</td><td> 780.7325</td><td> 790.6861</td><td> 660.9519</td><td> 580.0806</td><td> 510.2429</td><td> 567.5423</td></tr>\n",
       "\t<tr><th scope=row>1963</th><td> 589.5961</td><td> 560.9092</td><td> 656.0306</td><td> 638.9179</td><td> 665.4278</td><td> 769.2603</td><td> 874.8376</td><td> 885.9909</td><td> 740.6192</td><td> 650.0002</td><td> 571.7447</td><td> 635.9506</td></tr>\n",
       "\t<tr><th scope=row>1964</th><td> 660.6626</td><td> 628.5180</td><td> 735.1048</td><td> 715.9294</td><td> 745.6347</td><td> 861.9826</td><td> 980.2855</td><td> 992.7833</td><td> 829.8893</td><td> 728.3476</td><td> 640.6596</td><td> 712.6045</td></tr>\n",
       "\t<tr><th scope=row>1965</th><td> 740.2952</td><td> 704.2760</td><td> 823.7102</td><td> 802.2235</td><td> 835.5093</td><td> 965.8811</td><td>1098.4436</td><td>1112.4477</td><td> 929.9195</td><td> 816.1385</td><td> 717.8810</td><td> 798.4978</td></tr>\n",
       "\t<tr><th scope=row>1966</th><td> 829.5262</td><td> 789.1655</td><td> 922.9956</td><td> 898.9189</td><td> 936.2168</td><td>1082.3030</td><td>1230.8437</td><td>1246.5359</td><td>1042.0067</td><td> 914.5112</td><td> 804.4103</td><td> 894.7442</td></tr>\n",
       "\t<tr><th scope=row>1967</th><td> 929.5126</td><td> 884.2870</td><td>1034.2482</td><td>1007.2695</td><td>1049.0631</td><td>1212.7576</td><td>1379.2027</td><td>1396.7863</td><td>1167.6043</td><td>1024.7412</td><td> 901.3694</td><td>1002.5916</td></tr>\n",
       "\t<tr><th scope=row>1968</th><td>1041.5507</td><td> 990.8740</td><td>1158.9107</td><td>1128.6801</td><td>1175.5113</td><td>1358.9366</td><td>1545.4440</td><td>1565.1470</td><td>1308.3407</td><td>1148.2577</td><td>1010.0154</td><td>1123.4383</td></tr>\n",
       "\t<tr><th scope=row>1969</th><td>1167.0934</td><td>1110.3083</td><td>1298.5992</td><td>1264.7248</td><td>1317.2007</td><td>1522.7351</td><td>1731.7230</td><td>1753.8009</td><td>1466.0406</td><td>1286.6622</td><td>1131.7569</td><td>1258.8512</td></tr>\n",
       "</tbody>\n",
       "</table>\n"
      ],
      "text/latex": [
       "A Time Series: 10 × 12\n",
       "\\begin{tabular}{r|llllllllllll}\n",
       "  & Jan & Feb & Mar & Apr & May & Jun & Jul & Aug & Sep & Oct & Nov & Dec\\\\\n",
       "\\hline\n",
       "\t1960 &  419.0628 &  398.6732 &  466.2820 &  454.1188 &  472.9611 &  546.7614 &  621.8017 &  629.7291 &  526.4044 &  461.9958 &  406.3747 &  452.0098\\\\\n",
       "\t1961 &  469.5742 &  446.7270 &  522.4849 &  508.8558 &  529.9692 &  612.6649 &  696.7502 &  705.6331 &  589.8542 &  517.6821 &  455.3568 &  506.4925\\\\\n",
       "\t1962 &  526.1740 &  500.5730 &  585.4623 &  570.1903 &  593.8487 &  686.5121 &  780.7325 &  790.6861 &  660.9519 &  580.0806 &  510.2429 &  567.5423\\\\\n",
       "\t1963 &  589.5961 &  560.9092 &  656.0306 &  638.9179 &  665.4278 &  769.2603 &  874.8376 &  885.9909 &  740.6192 &  650.0002 &  571.7447 &  635.9506\\\\\n",
       "\t1964 &  660.6626 &  628.5180 &  735.1048 &  715.9294 &  745.6347 &  861.9826 &  980.2855 &  992.7833 &  829.8893 &  728.3476 &  640.6596 &  712.6045\\\\\n",
       "\t1965 &  740.2952 &  704.2760 &  823.7102 &  802.2235 &  835.5093 &  965.8811 & 1098.4436 & 1112.4477 &  929.9195 &  816.1385 &  717.8810 &  798.4978\\\\\n",
       "\t1966 &  829.5262 &  789.1655 &  922.9956 &  898.9189 &  936.2168 & 1082.3030 & 1230.8437 & 1246.5359 & 1042.0067 &  914.5112 &  804.4103 &  894.7442\\\\\n",
       "\t1967 &  929.5126 &  884.2870 & 1034.2482 & 1007.2695 & 1049.0631 & 1212.7576 & 1379.2027 & 1396.7863 & 1167.6043 & 1024.7412 &  901.3694 & 1002.5916\\\\\n",
       "\t1968 & 1041.5507 &  990.8740 & 1158.9107 & 1128.6801 & 1175.5113 & 1358.9366 & 1545.4440 & 1565.1470 & 1308.3407 & 1148.2577 & 1010.0154 & 1123.4383\\\\\n",
       "\t1969 & 1167.0934 & 1110.3083 & 1298.5992 & 1264.7248 & 1317.2007 & 1522.7351 & 1731.7230 & 1753.8009 & 1466.0406 & 1286.6622 & 1131.7569 & 1258.8512\\\\\n",
       "\\end{tabular}\n"
      ],
      "text/markdown": [
       "\n",
       "A Time Series: 10 × 12\n",
       "\n",
       "| <!--/--> | Jan | Feb | Mar | Apr | May | Jun | Jul | Aug | Sep | Oct | Nov | Dec |\n",
       "|---|---|---|---|---|---|---|---|---|---|---|---|---|\n",
       "| 1960 |  419.0628 |  398.6732 |  466.2820 |  454.1188 |  472.9611 |  546.7614 |  621.8017 |  629.7291 |  526.4044 |  461.9958 |  406.3747 |  452.0098 |\n",
       "| 1961 |  469.5742 |  446.7270 |  522.4849 |  508.8558 |  529.9692 |  612.6649 |  696.7502 |  705.6331 |  589.8542 |  517.6821 |  455.3568 |  506.4925 |\n",
       "| 1962 |  526.1740 |  500.5730 |  585.4623 |  570.1903 |  593.8487 |  686.5121 |  780.7325 |  790.6861 |  660.9519 |  580.0806 |  510.2429 |  567.5423 |\n",
       "| 1963 |  589.5961 |  560.9092 |  656.0306 |  638.9179 |  665.4278 |  769.2603 |  874.8376 |  885.9909 |  740.6192 |  650.0002 |  571.7447 |  635.9506 |\n",
       "| 1964 |  660.6626 |  628.5180 |  735.1048 |  715.9294 |  745.6347 |  861.9826 |  980.2855 |  992.7833 |  829.8893 |  728.3476 |  640.6596 |  712.6045 |\n",
       "| 1965 |  740.2952 |  704.2760 |  823.7102 |  802.2235 |  835.5093 |  965.8811 | 1098.4436 | 1112.4477 |  929.9195 |  816.1385 |  717.8810 |  798.4978 |\n",
       "| 1966 |  829.5262 |  789.1655 |  922.9956 |  898.9189 |  936.2168 | 1082.3030 | 1230.8437 | 1246.5359 | 1042.0067 |  914.5112 |  804.4103 |  894.7442 |\n",
       "| 1967 |  929.5126 |  884.2870 | 1034.2482 | 1007.2695 | 1049.0631 | 1212.7576 | 1379.2027 | 1396.7863 | 1167.6043 | 1024.7412 |  901.3694 | 1002.5916 |\n",
       "| 1968 | 1041.5507 |  990.8740 | 1158.9107 | 1128.6801 | 1175.5113 | 1358.9366 | 1545.4440 | 1565.1470 | 1308.3407 | 1148.2577 | 1010.0154 | 1123.4383 |\n",
       "| 1969 | 1167.0934 | 1110.3083 | 1298.5992 | 1264.7248 | 1317.2007 | 1522.7351 | 1731.7230 | 1753.8009 | 1466.0406 | 1286.6622 | 1131.7569 | 1258.8512 |\n",
       "\n"
      ],
      "text/plain": [
       "     Jan       Feb       Mar       Apr       May       Jun       Jul      \n",
       "1960  419.0628  398.6732  466.2820  454.1188  472.9611  546.7614  621.8017\n",
       "1961  469.5742  446.7270  522.4849  508.8558  529.9692  612.6649  696.7502\n",
       "1962  526.1740  500.5730  585.4623  570.1903  593.8487  686.5121  780.7325\n",
       "1963  589.5961  560.9092  656.0306  638.9179  665.4278  769.2603  874.8376\n",
       "1964  660.6626  628.5180  735.1048  715.9294  745.6347  861.9826  980.2855\n",
       "1965  740.2952  704.2760  823.7102  802.2235  835.5093  965.8811 1098.4436\n",
       "1966  829.5262  789.1655  922.9956  898.9189  936.2168 1082.3030 1230.8437\n",
       "1967  929.5126  884.2870 1034.2482 1007.2695 1049.0631 1212.7576 1379.2027\n",
       "1968 1041.5507  990.8740 1158.9107 1128.6801 1175.5113 1358.9366 1545.4440\n",
       "1969 1167.0934 1110.3083 1298.5992 1264.7248 1317.2007 1522.7351 1731.7230\n",
       "     Aug       Sep       Oct       Nov       Dec      \n",
       "1960  629.7291  526.4044  461.9958  406.3747  452.0098\n",
       "1961  705.6331  589.8542  517.6821  455.3568  506.4925\n",
       "1962  790.6861  660.9519  580.0806  510.2429  567.5423\n",
       "1963  885.9909  740.6192  650.0002  571.7447  635.9506\n",
       "1964  992.7833  829.8893  728.3476  640.6596  712.6045\n",
       "1965 1112.4477  929.9195  816.1385  717.8810  798.4978\n",
       "1966 1246.5359 1042.0067  914.5112  804.4103  894.7442\n",
       "1967 1396.7863 1167.6043 1024.7412  901.3694 1002.5916\n",
       "1968 1565.1470 1308.3407 1148.2577 1010.0154 1123.4383\n",
       "1969 1753.8009 1466.0406 1286.6622 1131.7569 1258.8512"
      ]
     },
     "metadata": {},
     "output_type": "display_data"
    }
   ],
   "source": [
    "pred1"
   ]
  },
  {
   "cell_type": "code",
   "execution_count": 115,
   "metadata": {},
   "outputs": [],
   "source": [
    "data1=head(pred1,12)"
   ]
  },
  {
   "cell_type": "code",
   "execution_count": 116,
   "metadata": {},
   "outputs": [
    {
     "name": "stdout",
     "output_type": "stream",
     "text": [
      "          Jan      Feb      Mar      Apr      May      Jun      Jul      Aug\n",
      "1960 419.0628 398.6732 466.2820 454.1188 472.9611 546.7614 621.8017 629.7291\n",
      "          Sep      Oct      Nov      Dec\n",
      "1960 526.4044 461.9958 406.3747 452.0098\n"
     ]
    }
   ],
   "source": [
    "print(data1)"
   ]
  },
  {
   "cell_type": "code",
   "execution_count": 103,
   "metadata": {},
   "outputs": [],
   "source": [
    "predict_1960=round(data1,digits=0)"
   ]
  },
  {
   "cell_type": "code",
   "execution_count": 104,
   "metadata": {},
   "outputs": [
    {
     "name": "stdout",
     "output_type": "stream",
     "text": [
      "     Jan Feb Mar Apr May Jun Jul Aug Sep Oct Nov Dec\n",
      "1960 419 399 466 454 473 547 622 630 526 462 406 452\n"
     ]
    }
   ],
   "source": [
    "print(predict_1960)"
   ]
  },
  {
   "cell_type": "code",
   "execution_count": 106,
   "metadata": {},
   "outputs": [],
   "source": [
    "original_1960=tail(df,12)"
   ]
  },
  {
   "cell_type": "code",
   "execution_count": 108,
   "metadata": {},
   "outputs": [
    {
     "name": "stdout",
     "output_type": "stream",
     "text": [
      "     Jan Feb Mar Apr May Jun Jul Aug Sep Oct Nov Dec\n",
      "1960 417 391 419 461 472 535 622 606 508 461 390 432\n"
     ]
    }
   ],
   "source": [
    "print(original_1960)"
   ]
  },
  {
   "cell_type": "markdown",
   "metadata": {},
   "source": [
    "original and predicted values are very much same\n"
   ]
  },
  {
   "cell_type": "markdown",
   "metadata": {},
   "source": [
    "# Model Validation"
   ]
  },
  {
   "cell_type": "code",
   "execution_count": 110,
   "metadata": {},
   "outputs": [
    {
     "data": {
      "text/plain": [
       "\n",
       "\tBox-Ljung test\n",
       "\n",
       "data:  fit$resid\n",
       "X-squared = 5.072, df = 5, p-value = 0.4072\n"
      ]
     },
     "metadata": {},
     "output_type": "display_data"
    }
   ],
   "source": [
    "Box.test(fit$resid,lag=5,type=\"Ljung-Box\")"
   ]
  },
  {
   "cell_type": "code",
   "execution_count": 111,
   "metadata": {},
   "outputs": [
    {
     "data": {
      "text/plain": [
       "\n",
       "\tBox-Ljung test\n",
       "\n",
       "data:  fit$resid\n",
       "X-squared = 7.154, df = 10, p-value = 0.7108\n"
      ]
     },
     "metadata": {},
     "output_type": "display_data"
    }
   ],
   "source": [
    "Box.test(fit$resid,lag=10,type=\"Ljung-Box\")"
   ]
  }
 ],
 "metadata": {
  "kernelspec": {
   "display_name": "R",
   "language": "R",
   "name": "ir"
  },
  "language_info": {
   "codemirror_mode": "r",
   "file_extension": ".r",
   "mimetype": "text/x-r-source",
   "name": "R",
   "pygments_lexer": "r",
   "version": "3.6.1"
  }
 },
 "nbformat": 4,
 "nbformat_minor": 2
}

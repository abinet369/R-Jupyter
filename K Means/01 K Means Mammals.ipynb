{
 "cells": [
  {
   "cell_type": "code",
   "execution_count": 1,
   "metadata": {},
   "outputs": [
    {
     "name": "stderr",
     "output_type": "stream",
     "text": [
      "Installing package into 'C:/Users/abine/OneDrive/Documents/R/win-library/3.6'\n",
      "(as 'lib' is unspecified)\n"
     ]
    },
    {
     "name": "stdout",
     "output_type": "stream",
     "text": [
      "package 'cluster.datasets' successfully unpacked and MD5 sums checked\n",
      "\n",
      "The downloaded binary packages are in\n",
      "\tC:\\Users\\abine\\AppData\\Local\\Temp\\Rtmpe2vvhK\\downloaded_packages\n"
     ]
    }
   ],
   "source": [
    "install.packages(\"cluster.datasets\")"
   ]
  },
  {
   "cell_type": "code",
   "execution_count": 1,
   "metadata": {},
   "outputs": [
    {
     "data": {
      "text/html": [
       "<table>\n",
       "<caption>A data.frame: 6 × 6</caption>\n",
       "<thead>\n",
       "\t<tr><th></th><th scope=col>name</th><th scope=col>water</th><th scope=col>protein</th><th scope=col>fat</th><th scope=col>lactose</th><th scope=col>ash</th></tr>\n",
       "\t<tr><th></th><th scope=col>&lt;chr&gt;</th><th scope=col>&lt;dbl&gt;</th><th scope=col>&lt;dbl&gt;</th><th scope=col>&lt;dbl&gt;</th><th scope=col>&lt;dbl&gt;</th><th scope=col>&lt;dbl&gt;</th></tr>\n",
       "</thead>\n",
       "<tbody>\n",
       "\t<tr><th scope=row>1</th><td>Horse    </td><td>90.1</td><td>2.6</td><td>1.0</td><td>6.9</td><td>0.35</td></tr>\n",
       "\t<tr><th scope=row>2</th><td>Orangutan</td><td>88.5</td><td>1.4</td><td>3.5</td><td>6.0</td><td>0.24</td></tr>\n",
       "\t<tr><th scope=row>3</th><td>Monkey   </td><td>88.4</td><td>2.2</td><td>2.7</td><td>6.4</td><td>0.18</td></tr>\n",
       "\t<tr><th scope=row>4</th><td>Donkey   </td><td>90.3</td><td>1.7</td><td>1.4</td><td>6.2</td><td>0.40</td></tr>\n",
       "\t<tr><th scope=row>5</th><td>Hippo    </td><td>90.4</td><td>0.6</td><td>4.5</td><td>4.4</td><td>0.10</td></tr>\n",
       "\t<tr><th scope=row>6</th><td>Camel    </td><td>87.7</td><td>3.5</td><td>3.4</td><td>4.8</td><td>0.71</td></tr>\n",
       "</tbody>\n",
       "</table>\n"
      ],
      "text/latex": [
       "A data.frame: 6 × 6\n",
       "\\begin{tabular}{r|llllll}\n",
       "  & name & water & protein & fat & lactose & ash\\\\\n",
       "  & <chr> & <dbl> & <dbl> & <dbl> & <dbl> & <dbl>\\\\\n",
       "\\hline\n",
       "\t1 & Horse     & 90.1 & 2.6 & 1.0 & 6.9 & 0.35\\\\\n",
       "\t2 & Orangutan & 88.5 & 1.4 & 3.5 & 6.0 & 0.24\\\\\n",
       "\t3 & Monkey    & 88.4 & 2.2 & 2.7 & 6.4 & 0.18\\\\\n",
       "\t4 & Donkey    & 90.3 & 1.7 & 1.4 & 6.2 & 0.40\\\\\n",
       "\t5 & Hippo     & 90.4 & 0.6 & 4.5 & 4.4 & 0.10\\\\\n",
       "\t6 & Camel     & 87.7 & 3.5 & 3.4 & 4.8 & 0.71\\\\\n",
       "\\end{tabular}\n"
      ],
      "text/markdown": [
       "\n",
       "A data.frame: 6 × 6\n",
       "\n",
       "| <!--/--> | name &lt;chr&gt; | water &lt;dbl&gt; | protein &lt;dbl&gt; | fat &lt;dbl&gt; | lactose &lt;dbl&gt; | ash &lt;dbl&gt; |\n",
       "|---|---|---|---|---|---|---|\n",
       "| 1 | Horse     | 90.1 | 2.6 | 1.0 | 6.9 | 0.35 |\n",
       "| 2 | Orangutan | 88.5 | 1.4 | 3.5 | 6.0 | 0.24 |\n",
       "| 3 | Monkey    | 88.4 | 2.2 | 2.7 | 6.4 | 0.18 |\n",
       "| 4 | Donkey    | 90.3 | 1.7 | 1.4 | 6.2 | 0.40 |\n",
       "| 5 | Hippo     | 90.4 | 0.6 | 4.5 | 4.4 | 0.10 |\n",
       "| 6 | Camel     | 87.7 | 3.5 | 3.4 | 4.8 | 0.71 |\n",
       "\n"
      ],
      "text/plain": [
       "  name      water protein fat lactose ash \n",
       "1 Horse     90.1  2.6     1.0 6.9     0.35\n",
       "2 Orangutan 88.5  1.4     3.5 6.0     0.24\n",
       "3 Monkey    88.4  2.2     2.7 6.4     0.18\n",
       "4 Donkey    90.3  1.7     1.4 6.2     0.40\n",
       "5 Hippo     90.4  0.6     4.5 4.4     0.10\n",
       "6 Camel     87.7  3.5     3.4 4.8     0.71"
      ]
     },
     "metadata": {},
     "output_type": "display_data"
    }
   ],
   "source": [
    "library(cluster.datasets)\n",
    "data(all.mammals.milk.1956)\n",
    "head(all.mammals.milk.1956)"
   ]
  },
  {
   "cell_type": "code",
   "execution_count": 2,
   "metadata": {},
   "outputs": [
    {
     "data": {
      "text/html": [
       "<style>\n",
       ".list-inline {list-style: none; margin:0; padding: 0}\n",
       ".list-inline>li {display: inline-block}\n",
       ".list-inline>li:not(:last-child)::after {content: \"\\00b7\"; padding: 0 .5ex}\n",
       "</style>\n",
       "<ol class=list-inline><li>'Horse'</li><li>'Orangutan'</li><li>'Monkey'</li><li>'Donkey'</li><li>'Hippo'</li><li>'Camel'</li><li>'Bison'</li><li>'Buffalo'</li><li>'Guinea Pig'</li><li>'Cat'</li><li>'Fox'</li><li>'Llama'</li><li>'Mule'</li><li>'Pig'</li><li>'Zebra'</li><li>'Sheep'</li><li>'Dog'</li><li>'Elephant'</li><li>'Rabbit'</li><li>'Rat'</li><li>'Deer'</li><li>'Reindeer'</li><li>'Whale'</li><li>'Seal'</li><li>'Dolphin'</li></ol>\n"
      ],
      "text/latex": [
       "\\begin{enumerate*}\n",
       "\\item 'Horse'\n",
       "\\item 'Orangutan'\n",
       "\\item 'Monkey'\n",
       "\\item 'Donkey'\n",
       "\\item 'Hippo'\n",
       "\\item 'Camel'\n",
       "\\item 'Bison'\n",
       "\\item 'Buffalo'\n",
       "\\item 'Guinea Pig'\n",
       "\\item 'Cat'\n",
       "\\item 'Fox'\n",
       "\\item 'Llama'\n",
       "\\item 'Mule'\n",
       "\\item 'Pig'\n",
       "\\item 'Zebra'\n",
       "\\item 'Sheep'\n",
       "\\item 'Dog'\n",
       "\\item 'Elephant'\n",
       "\\item 'Rabbit'\n",
       "\\item 'Rat'\n",
       "\\item 'Deer'\n",
       "\\item 'Reindeer'\n",
       "\\item 'Whale'\n",
       "\\item 'Seal'\n",
       "\\item 'Dolphin'\n",
       "\\end{enumerate*}\n"
      ],
      "text/markdown": [
       "1. 'Horse'\n",
       "2. 'Orangutan'\n",
       "3. 'Monkey'\n",
       "4. 'Donkey'\n",
       "5. 'Hippo'\n",
       "6. 'Camel'\n",
       "7. 'Bison'\n",
       "8. 'Buffalo'\n",
       "9. 'Guinea Pig'\n",
       "10. 'Cat'\n",
       "11. 'Fox'\n",
       "12. 'Llama'\n",
       "13. 'Mule'\n",
       "14. 'Pig'\n",
       "15. 'Zebra'\n",
       "16. 'Sheep'\n",
       "17. 'Dog'\n",
       "18. 'Elephant'\n",
       "19. 'Rabbit'\n",
       "20. 'Rat'\n",
       "21. 'Deer'\n",
       "22. 'Reindeer'\n",
       "23. 'Whale'\n",
       "24. 'Seal'\n",
       "25. 'Dolphin'\n",
       "\n",
       "\n"
      ],
      "text/plain": [
       " [1] \"Horse\"      \"Orangutan\"  \"Monkey\"     \"Donkey\"     \"Hippo\"     \n",
       " [6] \"Camel\"      \"Bison\"      \"Buffalo\"    \"Guinea Pig\" \"Cat\"       \n",
       "[11] \"Fox\"        \"Llama\"      \"Mule\"       \"Pig\"        \"Zebra\"     \n",
       "[16] \"Sheep\"      \"Dog\"        \"Elephant\"   \"Rabbit\"     \"Rat\"       \n",
       "[21] \"Deer\"       \"Reindeer\"   \"Whale\"      \"Seal\"       \"Dolphin\"   "
      ]
     },
     "metadata": {},
     "output_type": "display_data"
    }
   ],
   "source": [
    "unique(all.mammals.milk.1956$name)"
   ]
  },
  {
   "cell_type": "markdown",
   "metadata": {},
   "source": [
    "This dataset conatains data of the compostion of the milk of mammals"
   ]
  },
  {
   "cell_type": "markdown",
   "metadata": {},
   "source": [
    "Removing class labels/identifier column from data"
   ]
  },
  {
   "cell_type": "code",
   "execution_count": 3,
   "metadata": {},
   "outputs": [],
   "source": [
    "set.seed(123)\n",
    "input=all.mammals.milk.1956[,2:6]"
   ]
  },
  {
   "cell_type": "code",
   "execution_count": 4,
   "metadata": {},
   "outputs": [
    {
     "data": {
      "text/plain": [
       "K-means clustering with 3 clusters of sizes 7, 16, 2\n",
       "\n",
       "Cluster means:\n",
       "     water   protein      fat  lactose      ash\n",
       "1 69.47143  9.514286 16.28571 2.928571 1.311429\n",
       "2 86.06250  4.275000  4.17500 5.118750 0.635625\n",
       "3 45.65000 10.150000 38.45000 0.450000 0.690000\n",
       "\n",
       "Clustering vector:\n",
       " [1] 2 2 2 2 2 2 2 2 2 2 2 2 2 2 2 2 1 1 1 1 1 1 1 3 3\n",
       "\n",
       "Within cluster sum of squares by cluster:\n",
       "[1] 300.1562 377.2215  27.1912\n",
       " (between_SS / total_SS =  89.9 %)\n",
       "\n",
       "Available components:\n",
       "\n",
       "[1] \"cluster\"      \"centers\"      \"totss\"        \"withinss\"     \"tot.withinss\"\n",
       "[6] \"betweenss\"    \"size\"         \"iter\"         \"ifault\"      "
      ]
     },
     "metadata": {},
     "output_type": "display_data"
    }
   ],
   "source": [
    "kmeans(input,centers=3,nstart=20)"
   ]
  },
  {
   "cell_type": "markdown",
   "metadata": {},
   "source": [
    "Here the accuraccy is 89.9%"
   ]
  },
  {
   "cell_type": "markdown",
   "metadata": {},
   "source": [
    "K-means clustering with 3 clusters of sizes 7, 16, 2"
   ]
  },
  {
   "cell_type": "code",
   "execution_count": 5,
   "metadata": {},
   "outputs": [],
   "source": [
    "wsplot=function(data,nc=15,seed=123){\n",
    "    wss=(nrow(data)-1)*sum(apply(data,2,var))\n",
    "    for(i in 2:nc){\n",
    "        set.seed(seed)\n",
    "        wss[i]=sum(kmeans(data,centers=i)$withinss)\n",
    "    }\n",
    "    plot(1:nc,wss,type=\"b\",xlab=\"Number of groups\",\n",
    "        ylab=\"Sum of squares within a group\")\n",
    "}"
   ]
  },
  {
   "cell_type": "markdown",
   "metadata": {},
   "source": [
    "WCSS is the sum of squares of the distances of each data point in all clusters to their respective centroids.\n",
    "\n",
    "The elbow method uses WCSS to find the optimal k value\n",
    "\n",
    "Here k= No. of Clusters\n",
    "\n",
    "plotting the wcss for k from 1 to 20"
   ]
  },
  {
   "cell_type": "code",
   "execution_count": 6,
   "metadata": {},
   "outputs": [
    {
     "data": {
      "image/png": "[encoded data removed]",
      "text/plain": [
       "plot without title"
      ]
     },
     "metadata": {},
     "output_type": "display_data"
    }
   ],
   "source": [
    "wsplot(input,nc=20)"
   ]
  },
  {
   "cell_type": "markdown",
   "metadata": {},
   "source": [
    "Here the elbow bend is present at k=4\n",
    "\n",
    "The k=4 maybe indicating that there are 6 types of mammals"
   ]
  },
  {
   "cell_type": "code",
   "execution_count": 7,
   "metadata": {},
   "outputs": [],
   "source": [
    "clustering=kmeans(input,centers=4)"
   ]
  },
  {
   "cell_type": "code",
   "execution_count": 8,
   "metadata": {},
   "outputs": [
    {
     "data": {
      "text/plain": [
       "K-means clustering with 4 clusters of sizes 2, 10, 7, 6\n",
       "\n",
       "Cluster means:\n",
       "     water   protein      fat  lactose       ash\n",
       "1 45.65000 10.150000 38.45000 0.450000 0.6900000\n",
       "2 88.50000  2.570000  2.80000 5.680000 0.4850000\n",
       "3 81.18571  7.428571  6.90000 4.014286 0.9314286\n",
       "4 68.33333  9.550000 17.41667 2.916667 1.3300000\n",
       "\n",
       "Clustering vector:\n",
       " [1] 2 2 2 2 2 2 2 3 3 3 3 2 2 3 2 3 3 4 4 4 4 4 4 1 1\n",
       "\n",
       "Within cluster sum of squares by cluster:\n",
       "[1]  27.19120  59.41225  63.53491 191.96100\n",
       " (between_SS / total_SS =  95.1 %)\n",
       "\n",
       "Available components:\n",
       "\n",
       "[1] \"cluster\"      \"centers\"      \"totss\"        \"withinss\"     \"tot.withinss\"\n",
       "[6] \"betweenss\"    \"size\"         \"iter\"         \"ifault\"      "
      ]
     },
     "metadata": {},
     "output_type": "display_data"
    }
   ],
   "source": [
    "clustering"
   ]
  },
  {
   "cell_type": "markdown",
   "metadata": {},
   "source": [
    "Here we get a good accuraccy of 95.1%\n",
    "\n",
    "There are 6 clusters of sizes 2, 10, 7, 6"
   ]
  },
  {
   "cell_type": "code",
   "execution_count": 11,
   "metadata": {},
   "outputs": [
    {
     "name": "stderr",
     "output_type": "stream",
     "text": [
      "Installing package into 'C:/Users/abine/OneDrive/Documents/R/win-library/3.6'\n",
      "(as 'lib' is unspecified)\n",
      "Warning message:\n",
      "\"package 'cluster' is in use and will not be installed\"Installing package into 'C:/Users/abine/OneDrive/Documents/R/win-library/3.6'\n",
      "(as 'lib' is unspecified)\n",
      "also installing the dependencies 'modeltools', 'DEoptimR', 'mclust', 'flexmix', 'prabclus', 'diptest', 'robustbase', 'kernlab'\n",
      "\n"
     ]
    },
    {
     "name": "stdout",
     "output_type": "stream",
     "text": [
      "package 'modeltools' successfully unpacked and MD5 sums checked\n",
      "package 'DEoptimR' successfully unpacked and MD5 sums checked\n",
      "package 'mclust' successfully unpacked and MD5 sums checked\n",
      "package 'flexmix' successfully unpacked and MD5 sums checked\n",
      "package 'prabclus' successfully unpacked and MD5 sums checked\n",
      "package 'diptest' successfully unpacked and MD5 sums checked\n",
      "package 'robustbase' successfully unpacked and MD5 sums checked\n",
      "package 'kernlab' successfully unpacked and MD5 sums checked\n",
      "package 'fpc' successfully unpacked and MD5 sums checked\n",
      "\n",
      "The downloaded binary packages are in\n",
      "\tC:\\Users\\abine\\AppData\\Local\\Temp\\RtmpENzxJj\\downloaded_packages\n"
     ]
    }
   ],
   "source": [
    "install.packages(\"cluster\")\n",
    "install.packages(\"fpc\")"
   ]
  },
  {
   "cell_type": "code",
   "execution_count": 12,
   "metadata": {},
   "outputs": [
    {
     "name": "stderr",
     "output_type": "stream",
     "text": [
      "Warning message:\n",
      "\"package 'fpc' was built under R version 3.6.3\""
     ]
    }
   ],
   "source": [
    "library(cluster)\n",
    "library(fpc)"
   ]
  },
  {
   "cell_type": "code",
   "execution_count": 13,
   "metadata": {},
   "outputs": [
    {
     "data": {
      "image/png": "[encoded data removed]",
      "text/plain": [
       "Plot with title \"CLUSPLOT( input )\""
      ]
     },
     "metadata": {},
     "output_type": "display_data"
    },
    {
     "data": {
      "image/png": "[encoded data removed]",
      "text/plain": [
       "plot without title"
      ]
     },
     "metadata": {},
     "output_type": "display_data"
    }
   ],
   "source": [
    "clusplot(input,clustering$cluster,color=TRUE,shade=TRUE,labels=2,lines=0)\n",
    "plotcluster(input,clustering$cluster)"
   ]
  },
  {
   "cell_type": "code",
   "execution_count": null,
   "metadata": {},
   "outputs": [],
   "source": []
  }
 ],
 "metadata": {
  "kernelspec": {
   "display_name": "R",
   "language": "R",
   "name": "ir"
  },
  "language_info": {
   "codemirror_mode": "r",
   "file_extension": ".r",
   "mimetype": "text/x-r-source",
   "name": "R",
   "pygments_lexer": "r",
   "version": "3.6.1"
  }
 },
 "nbformat": 4,
 "nbformat_minor": 2
}

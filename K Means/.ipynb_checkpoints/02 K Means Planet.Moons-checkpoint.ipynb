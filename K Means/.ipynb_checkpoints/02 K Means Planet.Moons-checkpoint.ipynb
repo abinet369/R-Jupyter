{
 "cells": [
  {
   "cell_type": "code",
   "execution_count": 1,
   "metadata": {},
   "outputs": [
    {
     "name": "stderr",
     "output_type": "stream",
     "text": [
      "Installing package into 'C:/Users/abine/OneDrive/Documents/R/win-library/3.6'\n",
      "(as 'lib' is unspecified)\n"
     ]
    },
    {
     "name": "stdout",
     "output_type": "stream",
     "text": [
      "package 'cluster.datasets' successfully unpacked and MD5 sums checked\n",
      "\n",
      "The downloaded binary packages are in\n",
      "\tC:\\Users\\abine\\AppData\\Local\\Temp\\Rtmpe2vvhK\\downloaded_packages\n"
     ]
    }
   ],
   "source": [
    "install.packages(\"cluster.datasets\")"
   ]
  },
  {
   "cell_type": "code",
   "execution_count": 1,
   "metadata": {},
   "outputs": [
    {
     "data": {
      "text/html": [
       "<table>\n",
       "<caption>A data.frame: 6 × 6</caption>\n",
       "<thead>\n",
       "\t<tr><th></th><th scope=col>name</th><th scope=col>water</th><th scope=col>protein</th><th scope=col>fat</th><th scope=col>lactose</th><th scope=col>ash</th></tr>\n",
       "\t<tr><th></th><th scope=col>&lt;chr&gt;</th><th scope=col>&lt;dbl&gt;</th><th scope=col>&lt;dbl&gt;</th><th scope=col>&lt;dbl&gt;</th><th scope=col>&lt;dbl&gt;</th><th scope=col>&lt;dbl&gt;</th></tr>\n",
       "</thead>\n",
       "<tbody>\n",
       "\t<tr><th scope=row>1</th><td>Horse    </td><td>90.1</td><td>2.6</td><td>1.0</td><td>6.9</td><td>0.35</td></tr>\n",
       "\t<tr><th scope=row>2</th><td>Orangutan</td><td>88.5</td><td>1.4</td><td>3.5</td><td>6.0</td><td>0.24</td></tr>\n",
       "\t<tr><th scope=row>3</th><td>Monkey   </td><td>88.4</td><td>2.2</td><td>2.7</td><td>6.4</td><td>0.18</td></tr>\n",
       "\t<tr><th scope=row>4</th><td>Donkey   </td><td>90.3</td><td>1.7</td><td>1.4</td><td>6.2</td><td>0.40</td></tr>\n",
       "\t<tr><th scope=row>5</th><td>Hippo    </td><td>90.4</td><td>0.6</td><td>4.5</td><td>4.4</td><td>0.10</td></tr>\n",
       "\t<tr><th scope=row>6</th><td>Camel    </td><td>87.7</td><td>3.5</td><td>3.4</td><td>4.8</td><td>0.71</td></tr>\n",
       "</tbody>\n",
       "</table>\n"
      ],
      "text/latex": [
       "A data.frame: 6 × 6\n",
       "\\begin{tabular}{r|llllll}\n",
       "  & name & water & protein & fat & lactose & ash\\\\\n",
       "  & <chr> & <dbl> & <dbl> & <dbl> & <dbl> & <dbl>\\\\\n",
       "\\hline\n",
       "\t1 & Horse     & 90.1 & 2.6 & 1.0 & 6.9 & 0.35\\\\\n",
       "\t2 & Orangutan & 88.5 & 1.4 & 3.5 & 6.0 & 0.24\\\\\n",
       "\t3 & Monkey    & 88.4 & 2.2 & 2.7 & 6.4 & 0.18\\\\\n",
       "\t4 & Donkey    & 90.3 & 1.7 & 1.4 & 6.2 & 0.40\\\\\n",
       "\t5 & Hippo     & 90.4 & 0.6 & 4.5 & 4.4 & 0.10\\\\\n",
       "\t6 & Camel     & 87.7 & 3.5 & 3.4 & 4.8 & 0.71\\\\\n",
       "\\end{tabular}\n"
      ],
      "text/markdown": [
       "\n",
       "A data.frame: 6 × 6\n",
       "\n",
       "| <!--/--> | name &lt;chr&gt; | water &lt;dbl&gt; | protein &lt;dbl&gt; | fat &lt;dbl&gt; | lactose &lt;dbl&gt; | ash &lt;dbl&gt; |\n",
       "|---|---|---|---|---|---|---|\n",
       "| 1 | Horse     | 90.1 | 2.6 | 1.0 | 6.9 | 0.35 |\n",
       "| 2 | Orangutan | 88.5 | 1.4 | 3.5 | 6.0 | 0.24 |\n",
       "| 3 | Monkey    | 88.4 | 2.2 | 2.7 | 6.4 | 0.18 |\n",
       "| 4 | Donkey    | 90.3 | 1.7 | 1.4 | 6.2 | 0.40 |\n",
       "| 5 | Hippo     | 90.4 | 0.6 | 4.5 | 4.4 | 0.10 |\n",
       "| 6 | Camel     | 87.7 | 3.5 | 3.4 | 4.8 | 0.71 |\n",
       "\n"
      ],
      "text/plain": [
       "  name      water protein fat lactose ash \n",
       "1 Horse     90.1  2.6     1.0 6.9     0.35\n",
       "2 Orangutan 88.5  1.4     3.5 6.0     0.24\n",
       "3 Monkey    88.4  2.2     2.7 6.4     0.18\n",
       "4 Donkey    90.3  1.7     1.4 6.2     0.40\n",
       "5 Hippo     90.4  0.6     4.5 4.4     0.10\n",
       "6 Camel     87.7  3.5     3.4 4.8     0.71"
      ]
     },
     "metadata": {},
     "output_type": "display_data"
    }
   ],
   "source": [
    "library(cluster.datasets)\n",
    "data(all.mammals.milk.1956)\n",
    "head(all.mammals.milk.1956)"
   ]
  },
  {
   "cell_type": "code",
   "execution_count": 2,
   "metadata": {},
   "outputs": [],
   "source": [
    "set.seed(123)\n",
    "input=all.mammals.milk.1956[,2:6]"
   ]
  },
  {
   "cell_type": "code",
   "execution_count": 3,
   "metadata": {},
   "outputs": [
    {
     "data": {
      "text/plain": [
       "K-means clustering with 3 clusters of sizes 7, 16, 2\n",
       "\n",
       "Cluster means:\n",
       "     water   protein      fat  lactose      ash\n",
       "1 69.47143  9.514286 16.28571 2.928571 1.311429\n",
       "2 86.06250  4.275000  4.17500 5.118750 0.635625\n",
       "3 45.65000 10.150000 38.45000 0.450000 0.690000\n",
       "\n",
       "Clustering vector:\n",
       " [1] 2 2 2 2 2 2 2 2 2 2 2 2 2 2 2 2 1 1 1 1 1 1 1 3 3\n",
       "\n",
       "Within cluster sum of squares by cluster:\n",
       "[1] 300.1562 377.2215  27.1912\n",
       " (between_SS / total_SS =  89.9 %)\n",
       "\n",
       "Available components:\n",
       "\n",
       "[1] \"cluster\"      \"centers\"      \"totss\"        \"withinss\"     \"tot.withinss\"\n",
       "[6] \"betweenss\"    \"size\"         \"iter\"         \"ifault\"      "
      ]
     },
     "metadata": {},
     "output_type": "display_data"
    }
   ],
   "source": [
    "kmeans(input,centers=3,nstart=20)"
   ]
  },
  {
   "cell_type": "code",
   "execution_count": 4,
   "metadata": {},
   "outputs": [],
   "source": [
    "wsplot=function(data,nc=15,seed=123){\n",
    "    wss=(nrow(data)-1)*sum(apply(data,2,var))\n",
    "    for(i in 2:nc){\n",
    "        set.seed(seed)\n",
    "        wss[i]=sum(kmeans(data,centers=i)$withinss)\n",
    "    }\n",
    "    plot(1:nc,wss,type=\"b\",xlab=\"Number of groups\",\n",
    "        ylab=\"Sum of squares within a group\")\n",
    "}"
   ]
  },
  {
   "cell_type": "code",
   "execution_count": 5,
   "metadata": {},
   "outputs": [
    {
     "data": {
      "image/png": "[encoded data removed]",
      "text/plain": [
       "plot without title"
      ]
     },
     "metadata": {},
     "output_type": "display_data"
    }
   ],
   "source": [
    "wsplot(input,nc=20)"
   ]
  },
  {
   "cell_type": "code",
   "execution_count": 6,
   "metadata": {},
   "outputs": [],
   "source": [
    "clustering=kmeans(input,centers=4)"
   ]
  },
  {
   "cell_type": "code",
   "execution_count": 7,
   "metadata": {},
   "outputs": [
    {
     "data": {
      "text/plain": [
       "K-means clustering with 4 clusters of sizes 2, 10, 7, 6\n",
       "\n",
       "Cluster means:\n",
       "     water   protein      fat  lactose       ash\n",
       "1 45.65000 10.150000 38.45000 0.450000 0.6900000\n",
       "2 88.50000  2.570000  2.80000 5.680000 0.4850000\n",
       "3 81.18571  7.428571  6.90000 4.014286 0.9314286\n",
       "4 68.33333  9.550000 17.41667 2.916667 1.3300000\n",
       "\n",
       "Clustering vector:\n",
       " [1] 2 2 2 2 2 2 2 3 3 3 3 2 2 3 2 3 3 4 4 4 4 4 4 1 1\n",
       "\n",
       "Within cluster sum of squares by cluster:\n",
       "[1]  27.19120  59.41225  63.53491 191.96100\n",
       " (between_SS / total_SS =  95.1 %)\n",
       "\n",
       "Available components:\n",
       "\n",
       "[1] \"cluster\"      \"centers\"      \"totss\"        \"withinss\"     \"tot.withinss\"\n",
       "[6] \"betweenss\"    \"size\"         \"iter\"         \"ifault\"      "
      ]
     },
     "metadata": {},
     "output_type": "display_data"
    }
   ],
   "source": [
    "clustering"
   ]
  }
 ],
 "metadata": {
  "kernelspec": {
   "display_name": "R",
   "language": "R",
   "name": "ir"
  },
  "language_info": {
   "codemirror_mode": "r",
   "file_extension": ".r",
   "mimetype": "text/x-r-source",
   "name": "R",
   "pygments_lexer": "r",
   "version": "3.6.1"
  }
 },
 "nbformat": 4,
 "nbformat_minor": 2
}

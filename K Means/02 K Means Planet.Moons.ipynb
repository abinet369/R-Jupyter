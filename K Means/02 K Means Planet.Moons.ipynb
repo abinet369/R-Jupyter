{
 "cells": [
  {
   "cell_type": "code",
   "execution_count": 1,
   "metadata": {},
   "outputs": [],
   "source": [
    "#install.packages(\"cluster.datasets\")"
   ]
  },
  {
   "cell_type": "code",
   "execution_count": 132,
   "metadata": {},
   "outputs": [
    {
     "data": {
      "text/html": [
       "<table>\n",
       "<caption>A data.frame: 31 × 4</caption>\n",
       "<thead>\n",
       "\t<tr><th scope=col>planet.moon</th><th scope=col>distance</th><th scope=col>diameter</th><th scope=col>period</th></tr>\n",
       "\t<tr><th scope=col>&lt;chr&gt;</th><th scope=col>&lt;dbl&gt;</th><th scope=col>&lt;dbl&gt;</th><th scope=col>&lt;dbl&gt;</th></tr>\n",
       "</thead>\n",
       "<tbody>\n",
       "\t<tr><td>Earth.1   </td><td>  239.0</td><td>2160</td><td>  655.0</td></tr>\n",
       "\t<tr><td>Mars.1    </td><td>    5.8</td><td>  10</td><td>    7.7</td></tr>\n",
       "\t<tr><td>Mars.2    </td><td>   14.6</td><td>  10</td><td>   30.0</td></tr>\n",
       "\t<tr><td>Jupiter.01</td><td>  112.0</td><td> 100</td><td>   12.0</td></tr>\n",
       "\t<tr><td>Jupiter.02</td><td>  262.0</td><td>2020</td><td>   42.0</td></tr>\n",
       "\t<tr><td>Jupiter.03</td><td>  417.0</td><td>1790</td><td>   85.0</td></tr>\n",
       "\t<tr><td>Jupiter.04</td><td>  665.0</td><td>3120</td><td>  172.0</td></tr>\n",
       "\t<tr><td>Jupiter.05</td><td> 1171.0</td><td>2770</td><td>  401.0</td></tr>\n",
       "\t<tr><td>Jupiter.06</td><td> 7133.0</td><td>  50</td><td> 6014.0</td></tr>\n",
       "\t<tr><td>Jupiter.07</td><td> 7295.0</td><td>  20</td><td> 6232.0</td></tr>\n",
       "\t<tr><td>Jupiter.08</td><td> 7369.0</td><td>  10</td><td> 6325.0</td></tr>\n",
       "\t<tr><td>Jupiter.09</td><td>13200.0</td><td>  10</td><td>15146.0</td></tr>\n",
       "\t<tr><td>Jupiter 10</td><td>14000.0</td><td>  10</td><td>16620.0</td></tr>\n",
       "\t<tr><td>Jupiter 11</td><td>14600.0</td><td>  10</td><td>17734.0</td></tr>\n",
       "\t<tr><td>Jupiter 12</td><td>14700.0</td><td>  10</td><td>18792.0</td></tr>\n",
       "\t<tr><td>Saturn.1  </td><td>  116.0</td><td> 300</td><td>   23.0</td></tr>\n",
       "\t<tr><td>Saturn.2  </td><td>  148.0</td><td> 400</td><td>   33.0</td></tr>\n",
       "\t<tr><td>Saturn.3  </td><td>  183.0</td><td> 600</td><td>   45.0</td></tr>\n",
       "\t<tr><td>Saturn.4  </td><td>  235.0</td><td> 600</td><td>   66.0</td></tr>\n",
       "\t<tr><td>Saturn.5  </td><td>  327.0</td><td> 810</td><td>  108.0</td></tr>\n",
       "\t<tr><td>Saturn.6  </td><td>  759.0</td><td>2980</td><td>  383.0</td></tr>\n",
       "\t<tr><td>Saturn.7  </td><td>  920.0</td><td> 100</td><td>  511.0</td></tr>\n",
       "\t<tr><td>Saturn.8  </td><td> 2213.0</td><td> 500</td><td> 1904.0</td></tr>\n",
       "\t<tr><td>Saturn.9  </td><td> 8053.0</td><td> 100</td><td>13211.0</td></tr>\n",
       "\t<tr><td>Uranus.1  </td><td>   77.0</td><td> 200</td><td>   34.0</td></tr>\n",
       "\t<tr><td>Uranus.2  </td><td>  119.0</td><td> 500</td><td>   60.0</td></tr>\n",
       "\t<tr><td>Uranus.3  </td><td>  166.0</td><td> 300</td><td>  100.0</td></tr>\n",
       "\t<tr><td>Uranus.4  </td><td>  272.0</td><td> 600</td><td>  209.0</td></tr>\n",
       "\t<tr><td>Uranus.5  </td><td>  365.0</td><td> 500</td><td>  323.0</td></tr>\n",
       "\t<tr><td>Neptune.1 </td><td>  220.0</td><td>2300</td><td>  141.0</td></tr>\n",
       "\t<tr><td>Neptune.2 </td><td> 3461.0</td><td> 200</td><td> 8626.0</td></tr>\n",
       "</tbody>\n",
       "</table>\n"
      ],
      "text/latex": [
       "A data.frame: 31 × 4\n",
       "\\begin{tabular}{llll}\n",
       " planet.moon & distance & diameter & period\\\\\n",
       " <chr> & <dbl> & <dbl> & <dbl>\\\\\n",
       "\\hline\n",
       "\t Earth.1    &   239.0 & 2160 &   655.0\\\\\n",
       "\t Mars.1     &     5.8 &   10 &     7.7\\\\\n",
       "\t Mars.2     &    14.6 &   10 &    30.0\\\\\n",
       "\t Jupiter.01 &   112.0 &  100 &    12.0\\\\\n",
       "\t Jupiter.02 &   262.0 & 2020 &    42.0\\\\\n",
       "\t Jupiter.03 &   417.0 & 1790 &    85.0\\\\\n",
       "\t Jupiter.04 &   665.0 & 3120 &   172.0\\\\\n",
       "\t Jupiter.05 &  1171.0 & 2770 &   401.0\\\\\n",
       "\t Jupiter.06 &  7133.0 &   50 &  6014.0\\\\\n",
       "\t Jupiter.07 &  7295.0 &   20 &  6232.0\\\\\n",
       "\t Jupiter.08 &  7369.0 &   10 &  6325.0\\\\\n",
       "\t Jupiter.09 & 13200.0 &   10 & 15146.0\\\\\n",
       "\t Jupiter 10 & 14000.0 &   10 & 16620.0\\\\\n",
       "\t Jupiter 11 & 14600.0 &   10 & 17734.0\\\\\n",
       "\t Jupiter 12 & 14700.0 &   10 & 18792.0\\\\\n",
       "\t Saturn.1   &   116.0 &  300 &    23.0\\\\\n",
       "\t Saturn.2   &   148.0 &  400 &    33.0\\\\\n",
       "\t Saturn.3   &   183.0 &  600 &    45.0\\\\\n",
       "\t Saturn.4   &   235.0 &  600 &    66.0\\\\\n",
       "\t Saturn.5   &   327.0 &  810 &   108.0\\\\\n",
       "\t Saturn.6   &   759.0 & 2980 &   383.0\\\\\n",
       "\t Saturn.7   &   920.0 &  100 &   511.0\\\\\n",
       "\t Saturn.8   &  2213.0 &  500 &  1904.0\\\\\n",
       "\t Saturn.9   &  8053.0 &  100 & 13211.0\\\\\n",
       "\t Uranus.1   &    77.0 &  200 &    34.0\\\\\n",
       "\t Uranus.2   &   119.0 &  500 &    60.0\\\\\n",
       "\t Uranus.3   &   166.0 &  300 &   100.0\\\\\n",
       "\t Uranus.4   &   272.0 &  600 &   209.0\\\\\n",
       "\t Uranus.5   &   365.0 &  500 &   323.0\\\\\n",
       "\t Neptune.1  &   220.0 & 2300 &   141.0\\\\\n",
       "\t Neptune.2  &  3461.0 &  200 &  8626.0\\\\\n",
       "\\end{tabular}\n"
      ],
      "text/markdown": [
       "\n",
       "A data.frame: 31 × 4\n",
       "\n",
       "| planet.moon &lt;chr&gt; | distance &lt;dbl&gt; | diameter &lt;dbl&gt; | period &lt;dbl&gt; |\n",
       "|---|---|---|---|\n",
       "| Earth.1    |   239.0 | 2160 |   655.0 |\n",
       "| Mars.1     |     5.8 |   10 |     7.7 |\n",
       "| Mars.2     |    14.6 |   10 |    30.0 |\n",
       "| Jupiter.01 |   112.0 |  100 |    12.0 |\n",
       "| Jupiter.02 |   262.0 | 2020 |    42.0 |\n",
       "| Jupiter.03 |   417.0 | 1790 |    85.0 |\n",
       "| Jupiter.04 |   665.0 | 3120 |   172.0 |\n",
       "| Jupiter.05 |  1171.0 | 2770 |   401.0 |\n",
       "| Jupiter.06 |  7133.0 |   50 |  6014.0 |\n",
       "| Jupiter.07 |  7295.0 |   20 |  6232.0 |\n",
       "| Jupiter.08 |  7369.0 |   10 |  6325.0 |\n",
       "| Jupiter.09 | 13200.0 |   10 | 15146.0 |\n",
       "| Jupiter 10 | 14000.0 |   10 | 16620.0 |\n",
       "| Jupiter 11 | 14600.0 |   10 | 17734.0 |\n",
       "| Jupiter 12 | 14700.0 |   10 | 18792.0 |\n",
       "| Saturn.1   |   116.0 |  300 |    23.0 |\n",
       "| Saturn.2   |   148.0 |  400 |    33.0 |\n",
       "| Saturn.3   |   183.0 |  600 |    45.0 |\n",
       "| Saturn.4   |   235.0 |  600 |    66.0 |\n",
       "| Saturn.5   |   327.0 |  810 |   108.0 |\n",
       "| Saturn.6   |   759.0 | 2980 |   383.0 |\n",
       "| Saturn.7   |   920.0 |  100 |   511.0 |\n",
       "| Saturn.8   |  2213.0 |  500 |  1904.0 |\n",
       "| Saturn.9   |  8053.0 |  100 | 13211.0 |\n",
       "| Uranus.1   |    77.0 |  200 |    34.0 |\n",
       "| Uranus.2   |   119.0 |  500 |    60.0 |\n",
       "| Uranus.3   |   166.0 |  300 |   100.0 |\n",
       "| Uranus.4   |   272.0 |  600 |   209.0 |\n",
       "| Uranus.5   |   365.0 |  500 |   323.0 |\n",
       "| Neptune.1  |   220.0 | 2300 |   141.0 |\n",
       "| Neptune.2  |  3461.0 |  200 |  8626.0 |\n",
       "\n"
      ],
      "text/plain": [
       "   planet.moon distance diameter period \n",
       "1  Earth.1       239.0  2160       655.0\n",
       "2  Mars.1          5.8    10         7.7\n",
       "3  Mars.2         14.6    10        30.0\n",
       "4  Jupiter.01    112.0   100        12.0\n",
       "5  Jupiter.02    262.0  2020        42.0\n",
       "6  Jupiter.03    417.0  1790        85.0\n",
       "7  Jupiter.04    665.0  3120       172.0\n",
       "8  Jupiter.05   1171.0  2770       401.0\n",
       "9  Jupiter.06   7133.0    50      6014.0\n",
       "10 Jupiter.07   7295.0    20      6232.0\n",
       "11 Jupiter.08   7369.0    10      6325.0\n",
       "12 Jupiter.09  13200.0    10     15146.0\n",
       "13 Jupiter 10  14000.0    10     16620.0\n",
       "14 Jupiter 11  14600.0    10     17734.0\n",
       "15 Jupiter 12  14700.0    10     18792.0\n",
       "16 Saturn.1      116.0   300        23.0\n",
       "17 Saturn.2      148.0   400        33.0\n",
       "18 Saturn.3      183.0   600        45.0\n",
       "19 Saturn.4      235.0   600        66.0\n",
       "20 Saturn.5      327.0   810       108.0\n",
       "21 Saturn.6      759.0  2980       383.0\n",
       "22 Saturn.7      920.0   100       511.0\n",
       "23 Saturn.8     2213.0   500      1904.0\n",
       "24 Saturn.9     8053.0   100     13211.0\n",
       "25 Uranus.1       77.0   200        34.0\n",
       "26 Uranus.2      119.0   500        60.0\n",
       "27 Uranus.3      166.0   300       100.0\n",
       "28 Uranus.4      272.0   600       209.0\n",
       "29 Uranus.5      365.0   500       323.0\n",
       "30 Neptune.1     220.0  2300       141.0\n",
       "31 Neptune.2    3461.0   200      8626.0"
      ]
     },
     "metadata": {},
     "output_type": "display_data"
    }
   ],
   "source": [
    "library(cluster.datasets)\n",
    "data(planets.moons.1970)\n",
    "planets.moons.1970"
   ]
  },
  {
   "cell_type": "markdown",
   "metadata": {},
   "source": [
    "This dataset contains details about the moons of 6 planets"
   ]
  },
  {
   "cell_type": "markdown",
   "metadata": {},
   "source": [
    "Removing class labels/identifier column from data"
   ]
  },
  {
   "cell_type": "code",
   "execution_count": 133,
   "metadata": {},
   "outputs": [],
   "source": [
    "input=planets.moons.1970[,2:4]"
   ]
  },
  {
   "cell_type": "code",
   "execution_count": 134,
   "metadata": {},
   "outputs": [
    {
     "data": {
      "text/plain": [
       "K-means clustering with 3 clusters of sizes 22, 5, 4\n",
       "\n",
       "Cluster means:\n",
       "    distance diameter     period\n",
       "1   409.3818 1030.455   242.9409\n",
       "2  6662.2000   76.000  8081.6000\n",
       "3 14125.0000   10.000 17073.0000\n",
       "\n",
       "Clustering vector:\n",
       " [1] 1 1 1 1 1 1 1 1 2 2 2 3 3 3 3 1 1 1 1 1 1 1 1 2 1 1 1 1 1 1 2\n",
       "\n",
       "Within cluster sum of squares by cluster:\n",
       "[1] 31913050 50716530  8737920\n",
       " (between_SS / total_SS =  95.1 %)\n",
       "\n",
       "Available components:\n",
       "\n",
       "[1] \"cluster\"      \"centers\"      \"totss\"        \"withinss\"     \"tot.withinss\"\n",
       "[6] \"betweenss\"    \"size\"         \"iter\"         \"ifault\"      "
      ]
     },
     "metadata": {},
     "output_type": "display_data"
    }
   ],
   "source": [
    "kmeans(input,centers=3,nstart=20)\n",
    "#nstart number of iteration"
   ]
  },
  {
   "cell_type": "markdown",
   "metadata": {},
   "source": [
    "Here the accuraccy is 95.1%"
   ]
  },
  {
   "cell_type": "markdown",
   "metadata": {},
   "source": [
    "Here there are three clusters of size 22,5 and 4"
   ]
  },
  {
   "cell_type": "code",
   "execution_count": 135,
   "metadata": {},
   "outputs": [],
   "source": [
    "wsplot=function(data,nc=15){\n",
    "    wss=(nrow(data)-1)*sum(apply(data,2,var))\n",
    "    for(i in 2:nc){\n",
    "        wss[i]=sum(kmeans(data,centers=i)$withinss)\n",
    "    }\n",
    "    plot(1:nc,wss,type=\"b\",xlab=\"Number of groups\",\n",
    "        ylab=\"Sum of squares within a group\")\n",
    "}"
   ]
  },
  {
   "cell_type": "markdown",
   "metadata": {},
   "source": [
    "WCSS is the sum of squares of the distances of each data point in all clusters to their respective centroids."
   ]
  },
  {
   "cell_type": "markdown",
   "metadata": {},
   "source": [
    "The elbow method uses WCSS to find the optimal k value"
   ]
  },
  {
   "cell_type": "markdown",
   "metadata": {},
   "source": [
    "Here k= No. of Clusters"
   ]
  },
  {
   "cell_type": "markdown",
   "metadata": {},
   "source": [
    "plotting the wcss for k from 1 to 20"
   ]
  },
  {
   "cell_type": "code",
   "execution_count": 136,
   "metadata": {},
   "outputs": [
    {
     "data": {
      "image/png": "[encoded data removed]",
      "text/plain": [
       "plot without title"
      ]
     },
     "metadata": {},
     "output_type": "display_data"
    }
   ],
   "source": [
    "wsplot(input,nc=20)\n",
    "#nc will check for k here 2  to  20"
   ]
  },
  {
   "cell_type": "markdown",
   "metadata": {},
   "source": [
    "Here the elbow bend is present at k=3"
   ]
  },
  {
   "cell_type": "markdown",
   "metadata": {},
   "source": [
    "The k=3 maybe indicating that the moons of the planets may be similar and of 3 kinds"
   ]
  },
  {
   "cell_type": "markdown",
   "metadata": {},
   "source": [
    "But from the dataset we know that it contains moons of 6 planet, so we are taking k=6 "
   ]
  },
  {
   "cell_type": "code",
   "execution_count": 137,
   "metadata": {},
   "outputs": [],
   "source": [
    "clustering=kmeans(input,centers=6,nstart=20)"
   ]
  },
  {
   "cell_type": "code",
   "execution_count": 138,
   "metadata": {
    "scrolled": false
   },
   "outputs": [
    {
     "data": {
      "text/plain": [
       "K-means clustering with 6 clusters of sizes 4, 1, 3, 1, 15, 7\n",
       "\n",
       "Cluster means:\n",
       "    distance   diameter     period\n",
       "1 14125.0000   10.00000 17073.0000\n",
       "2  3461.0000  200.00000  8626.0000\n",
       "3  7265.6667   26.66667  6190.3333\n",
       "4  8053.0000  100.00000 13211.0000\n",
       "5   351.5600  368.66667   231.0467\n",
       "6   533.2857 2448.57143   268.4286\n",
       "\n",
       "Clustering vector:\n",
       " [1] 6 5 5 5 6 6 6 6 3 3 3 1 1 1 1 5 5 5 5 5 6 5 5 4 5 5 5 5 5 6 2\n",
       "\n",
       "Within cluster sum of squares by cluster:\n",
       "[1] 8737920       0   80970       0 8505205 2596723\n",
       " (between_SS / total_SS =  98.9 %)\n",
       "\n",
       "Available components:\n",
       "\n",
       "[1] \"cluster\"      \"centers\"      \"totss\"        \"withinss\"     \"tot.withinss\"\n",
       "[6] \"betweenss\"    \"size\"         \"iter\"         \"ifault\"      "
      ]
     },
     "metadata": {},
     "output_type": "display_data"
    }
   ],
   "source": [
    "clustering"
   ]
  },
  {
   "cell_type": "markdown",
   "metadata": {},
   "source": [
    "Here we get a good accuraccy of 98.9%"
   ]
  },
  {
   "cell_type": "markdown",
   "metadata": {},
   "source": [
    "There are 6 clusters of sizes 4,1,3,1,15 and 7"
   ]
  }
 ],
 "metadata": {
  "kernelspec": {
   "display_name": "R",
   "language": "R",
   "name": "ir"
  },
  "language_info": {
   "codemirror_mode": "r",
   "file_extension": ".r",
   "mimetype": "text/x-r-source",
   "name": "R",
   "pygments_lexer": "r",
   "version": "3.6.1"
  }
 },
 "nbformat": 4,
 "nbformat_minor": 2
}

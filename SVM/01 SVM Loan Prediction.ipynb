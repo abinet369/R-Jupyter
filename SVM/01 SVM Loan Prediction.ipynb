{
 "cells": [
  {
   "cell_type": "code",
   "execution_count": 1,
   "metadata": {},
   "outputs": [
    {
     "name": "stderr",
     "output_type": "stream",
     "text": [
      "Installing package into 'C:/Users/abine/OneDrive/Documents/R/win-library/3.6'\n",
      "(as 'lib' is unspecified)\n"
     ]
    },
    {
     "name": "stdout",
     "output_type": "stream",
     "text": [
      "package 'e1071' successfully unpacked and MD5 sums checked\n",
      "\n",
      "The downloaded binary packages are in\n",
      "\tC:\\Users\\abine\\AppData\\Local\\Temp\\Rtmps70Gb1\\downloaded_packages\n"
     ]
    }
   ],
   "source": [
    "install.packages(\"e1071\")"
   ]
  },
  {
   "cell_type": "code",
   "execution_count": 21,
   "metadata": {},
   "outputs": [],
   "source": [
    "library(\"e1071\")\n",
    "library(\"ggplot2\")\n",
    "library(\"dplyr\")"
   ]
  },
  {
   "cell_type": "code",
   "execution_count": 4,
   "metadata": {},
   "outputs": [],
   "source": [
    "loans<-read.csv('C:\\\\Users\\\\abine\\\\OneDrive\\\\Documents\\\\Datasets\\\\loan data\\\\loan_data.csv')"
   ]
  },
  {
   "cell_type": "code",
   "execution_count": 9,
   "metadata": {},
   "outputs": [
    {
     "data": {
      "text/html": [
       "<table>\n",
       "<caption>A data.frame: 6 × 14</caption>\n",
       "<thead>\n",
       "\t<tr><th></th><th scope=col>credit.policy</th><th scope=col>purpose</th><th scope=col>int.rate</th><th scope=col>installment</th><th scope=col>log.annual.inc</th><th scope=col>dti</th><th scope=col>fico</th><th scope=col>days.with.cr.line</th><th scope=col>revol.bal</th><th scope=col>revol.util</th><th scope=col>inq.last.6mths</th><th scope=col>delinq.2yrs</th><th scope=col>pub.rec</th><th scope=col>not.fully.paid</th></tr>\n",
       "\t<tr><th></th><th scope=col>&lt;int&gt;</th><th scope=col>&lt;fct&gt;</th><th scope=col>&lt;dbl&gt;</th><th scope=col>&lt;dbl&gt;</th><th scope=col>&lt;dbl&gt;</th><th scope=col>&lt;dbl&gt;</th><th scope=col>&lt;int&gt;</th><th scope=col>&lt;dbl&gt;</th><th scope=col>&lt;int&gt;</th><th scope=col>&lt;dbl&gt;</th><th scope=col>&lt;int&gt;</th><th scope=col>&lt;int&gt;</th><th scope=col>&lt;int&gt;</th><th scope=col>&lt;int&gt;</th></tr>\n",
       "</thead>\n",
       "<tbody>\n",
       "\t<tr><th scope=row>1</th><td>1</td><td>debt_consolidation</td><td>0.1189</td><td>829.10</td><td>11.35041</td><td>19.48</td><td>737</td><td>5639.958</td><td>28854</td><td>52.1</td><td>0</td><td>0</td><td>0</td><td>0</td></tr>\n",
       "\t<tr><th scope=row>2</th><td>1</td><td>credit_card       </td><td>0.1071</td><td>228.22</td><td>11.08214</td><td>14.29</td><td>707</td><td>2760.000</td><td>33623</td><td>76.7</td><td>0</td><td>0</td><td>0</td><td>0</td></tr>\n",
       "\t<tr><th scope=row>3</th><td>1</td><td>debt_consolidation</td><td>0.1357</td><td>366.86</td><td>10.37349</td><td>11.63</td><td>682</td><td>4710.000</td><td> 3511</td><td>25.6</td><td>1</td><td>0</td><td>0</td><td>0</td></tr>\n",
       "\t<tr><th scope=row>4</th><td>1</td><td>debt_consolidation</td><td>0.1008</td><td>162.34</td><td>11.35041</td><td> 8.10</td><td>712</td><td>2699.958</td><td>33667</td><td>73.2</td><td>1</td><td>0</td><td>0</td><td>0</td></tr>\n",
       "\t<tr><th scope=row>5</th><td>1</td><td>credit_card       </td><td>0.1426</td><td>102.92</td><td>11.29973</td><td>14.97</td><td>667</td><td>4066.000</td><td> 4740</td><td>39.5</td><td>0</td><td>1</td><td>0</td><td>0</td></tr>\n",
       "\t<tr><th scope=row>6</th><td>1</td><td>credit_card       </td><td>0.0788</td><td>125.13</td><td>11.90497</td><td>16.98</td><td>727</td><td>6120.042</td><td>50807</td><td>51.0</td><td>0</td><td>0</td><td>0</td><td>0</td></tr>\n",
       "</tbody>\n",
       "</table>\n"
      ],
      "text/latex": [
       "A data.frame: 6 × 14\n",
       "\\begin{tabular}{r|llllllllllllll}\n",
       "  & credit.policy & purpose & int.rate & installment & log.annual.inc & dti & fico & days.with.cr.line & revol.bal & revol.util & inq.last.6mths & delinq.2yrs & pub.rec & not.fully.paid\\\\\n",
       "  & <int> & <fct> & <dbl> & <dbl> & <dbl> & <dbl> & <int> & <dbl> & <int> & <dbl> & <int> & <int> & <int> & <int>\\\\\n",
       "\\hline\n",
       "\t1 & 1 & debt\\_consolidation & 0.1189 & 829.10 & 11.35041 & 19.48 & 737 & 5639.958 & 28854 & 52.1 & 0 & 0 & 0 & 0\\\\\n",
       "\t2 & 1 & credit\\_card        & 0.1071 & 228.22 & 11.08214 & 14.29 & 707 & 2760.000 & 33623 & 76.7 & 0 & 0 & 0 & 0\\\\\n",
       "\t3 & 1 & debt\\_consolidation & 0.1357 & 366.86 & 10.37349 & 11.63 & 682 & 4710.000 &  3511 & 25.6 & 1 & 0 & 0 & 0\\\\\n",
       "\t4 & 1 & debt\\_consolidation & 0.1008 & 162.34 & 11.35041 &  8.10 & 712 & 2699.958 & 33667 & 73.2 & 1 & 0 & 0 & 0\\\\\n",
       "\t5 & 1 & credit\\_card        & 0.1426 & 102.92 & 11.29973 & 14.97 & 667 & 4066.000 &  4740 & 39.5 & 0 & 1 & 0 & 0\\\\\n",
       "\t6 & 1 & credit\\_card        & 0.0788 & 125.13 & 11.90497 & 16.98 & 727 & 6120.042 & 50807 & 51.0 & 0 & 0 & 0 & 0\\\\\n",
       "\\end{tabular}\n"
      ],
      "text/markdown": [
       "\n",
       "A data.frame: 6 × 14\n",
       "\n",
       "| <!--/--> | credit.policy &lt;int&gt; | purpose &lt;fct&gt; | int.rate &lt;dbl&gt; | installment &lt;dbl&gt; | log.annual.inc &lt;dbl&gt; | dti &lt;dbl&gt; | fico &lt;int&gt; | days.with.cr.line &lt;dbl&gt; | revol.bal &lt;int&gt; | revol.util &lt;dbl&gt; | inq.last.6mths &lt;int&gt; | delinq.2yrs &lt;int&gt; | pub.rec &lt;int&gt; | not.fully.paid &lt;int&gt; |\n",
       "|---|---|---|---|---|---|---|---|---|---|---|---|---|---|---|\n",
       "| 1 | 1 | debt_consolidation | 0.1189 | 829.10 | 11.35041 | 19.48 | 737 | 5639.958 | 28854 | 52.1 | 0 | 0 | 0 | 0 |\n",
       "| 2 | 1 | credit_card        | 0.1071 | 228.22 | 11.08214 | 14.29 | 707 | 2760.000 | 33623 | 76.7 | 0 | 0 | 0 | 0 |\n",
       "| 3 | 1 | debt_consolidation | 0.1357 | 366.86 | 10.37349 | 11.63 | 682 | 4710.000 |  3511 | 25.6 | 1 | 0 | 0 | 0 |\n",
       "| 4 | 1 | debt_consolidation | 0.1008 | 162.34 | 11.35041 |  8.10 | 712 | 2699.958 | 33667 | 73.2 | 1 | 0 | 0 | 0 |\n",
       "| 5 | 1 | credit_card        | 0.1426 | 102.92 | 11.29973 | 14.97 | 667 | 4066.000 |  4740 | 39.5 | 0 | 1 | 0 | 0 |\n",
       "| 6 | 1 | credit_card        | 0.0788 | 125.13 | 11.90497 | 16.98 | 727 | 6120.042 | 50807 | 51.0 | 0 | 0 | 0 | 0 |\n",
       "\n"
      ],
      "text/plain": [
       "  credit.policy purpose            int.rate installment log.annual.inc dti  \n",
       "1 1             debt_consolidation 0.1189   829.10      11.35041       19.48\n",
       "2 1             credit_card        0.1071   228.22      11.08214       14.29\n",
       "3 1             debt_consolidation 0.1357   366.86      10.37349       11.63\n",
       "4 1             debt_consolidation 0.1008   162.34      11.35041        8.10\n",
       "5 1             credit_card        0.1426   102.92      11.29973       14.97\n",
       "6 1             credit_card        0.0788   125.13      11.90497       16.98\n",
       "  fico days.with.cr.line revol.bal revol.util inq.last.6mths delinq.2yrs\n",
       "1 737  5639.958          28854     52.1       0              0          \n",
       "2 707  2760.000          33623     76.7       0              0          \n",
       "3 682  4710.000           3511     25.6       1              0          \n",
       "4 712  2699.958          33667     73.2       1              0          \n",
       "5 667  4066.000           4740     39.5       0              1          \n",
       "6 727  6120.042          50807     51.0       0              0          \n",
       "  pub.rec not.fully.paid\n",
       "1 0       0             \n",
       "2 0       0             \n",
       "3 0       0             \n",
       "4 0       0             \n",
       "5 0       0             \n",
       "6 0       0             "
      ]
     },
     "metadata": {},
     "output_type": "display_data"
    }
   ],
   "source": [
    "head(loans)"
   ]
  },
  {
   "cell_type": "code",
   "execution_count": null,
   "metadata": {},
   "outputs": [],
   "source": [
    "Our objective is to classify wheter its 0 OR 1 in not.fully.paid"
   ]
  },
  {
   "cell_type": "markdown",
   "metadata": {},
   "source": [
    "Here in the colum not.fully.paid 1 means that person has paid back the loan completely and 0 means the loan is yet to be paid"
   ]
  },
  {
   "cell_type": "code",
   "execution_count": 5,
   "metadata": {},
   "outputs": [
    {
     "name": "stdout",
     "output_type": "stream",
     "text": [
      "'data.frame':\t9578 obs. of  14 variables:\n",
      " $ credit.policy    : int  1 1 1 1 1 1 1 1 1 1 ...\n",
      " $ purpose          : Factor w/ 7 levels \"all_other\",\"credit_card\",..: 3 2 3 3 2 2 3 1 5 3 ...\n",
      " $ int.rate         : num  0.119 0.107 0.136 0.101 0.143 ...\n",
      " $ installment      : num  829 228 367 162 103 ...\n",
      " $ log.annual.inc   : num  11.4 11.1 10.4 11.4 11.3 ...\n",
      " $ dti              : num  19.5 14.3 11.6 8.1 15 ...\n",
      " $ fico             : int  737 707 682 712 667 727 667 722 682 707 ...\n",
      " $ days.with.cr.line: num  5640 2760 4710 2700 4066 ...\n",
      " $ revol.bal        : int  28854 33623 3511 33667 4740 50807 3839 24220 69909 5630 ...\n",
      " $ revol.util       : num  52.1 76.7 25.6 73.2 39.5 51 76.8 68.6 51.1 23 ...\n",
      " $ inq.last.6mths   : int  0 0 1 1 0 0 0 0 1 1 ...\n",
      " $ delinq.2yrs      : int  0 0 0 0 1 0 0 0 0 0 ...\n",
      " $ pub.rec          : int  0 0 0 0 0 0 1 0 0 0 ...\n",
      " $ not.fully.paid   : int  0 0 0 0 0 0 1 1 0 0 ...\n"
     ]
    }
   ],
   "source": [
    "str(loans)"
   ]
  },
  {
   "cell_type": "code",
   "execution_count": 8,
   "metadata": {
    "scrolled": false
   },
   "outputs": [
    {
     "data": {
      "text/plain": [
       " credit.policy                 purpose        int.rate       installment    \n",
       " Min.   :0.000   all_other         :2331   Min.   :0.0600   Min.   : 15.67  \n",
       " 1st Qu.:1.000   credit_card       :1262   1st Qu.:0.1039   1st Qu.:163.77  \n",
       " Median :1.000   debt_consolidation:3957   Median :0.1221   Median :268.95  \n",
       " Mean   :0.805   educational       : 343   Mean   :0.1226   Mean   :319.09  \n",
       " 3rd Qu.:1.000   home_improvement  : 629   3rd Qu.:0.1407   3rd Qu.:432.76  \n",
       " Max.   :1.000   major_purchase    : 437   Max.   :0.2164   Max.   :940.14  \n",
       "                 small_business    : 619                                    \n",
       " log.annual.inc        dti              fico       days.with.cr.line\n",
       " Min.   : 7.548   Min.   : 0.000   Min.   :612.0   Min.   :  179    \n",
       " 1st Qu.:10.558   1st Qu.: 7.213   1st Qu.:682.0   1st Qu.: 2820    \n",
       " Median :10.929   Median :12.665   Median :707.0   Median : 4140    \n",
       " Mean   :10.932   Mean   :12.607   Mean   :710.8   Mean   : 4561    \n",
       " 3rd Qu.:11.291   3rd Qu.:17.950   3rd Qu.:737.0   3rd Qu.: 5730    \n",
       " Max.   :14.528   Max.   :29.960   Max.   :827.0   Max.   :17640    \n",
       "                                                                    \n",
       "   revol.bal         revol.util    inq.last.6mths    delinq.2yrs     \n",
       " Min.   :      0   Min.   :  0.0   Min.   : 0.000   Min.   : 0.0000  \n",
       " 1st Qu.:   3187   1st Qu.: 22.6   1st Qu.: 0.000   1st Qu.: 0.0000  \n",
       " Median :   8596   Median : 46.3   Median : 1.000   Median : 0.0000  \n",
       " Mean   :  16914   Mean   : 46.8   Mean   : 1.577   Mean   : 0.1637  \n",
       " 3rd Qu.:  18250   3rd Qu.: 70.9   3rd Qu.: 2.000   3rd Qu.: 0.0000  \n",
       " Max.   :1207359   Max.   :119.0   Max.   :33.000   Max.   :13.0000  \n",
       "                                                                     \n",
       "    pub.rec        not.fully.paid  \n",
       " Min.   :0.00000   Min.   :0.0000  \n",
       " 1st Qu.:0.00000   1st Qu.:0.0000  \n",
       " Median :0.00000   Median :0.0000  \n",
       " Mean   :0.06212   Mean   :0.1601  \n",
       " 3rd Qu.:0.00000   3rd Qu.:0.0000  \n",
       " Max.   :5.00000   Max.   :1.0000  \n",
       "                                   "
      ]
     },
     "metadata": {},
     "output_type": "display_data"
    }
   ],
   "source": [
    "summary(loans)"
   ]
  },
  {
   "cell_type": "markdown",
   "metadata": {},
   "source": [
    "Changing some variables to factors"
   ]
  },
  {
   "cell_type": "code",
   "execution_count": 11,
   "metadata": {},
   "outputs": [],
   "source": [
    "loans$credit.policy=factor(loans$credit.policy)\n",
    "loans$inq.last.6mths=factor(loans$inq.last.6mths)\n",
    "loans$delinq.2yrs=factor(loans$delinq.2yrs)\n",
    "loans$pub.rec=factor(loans$pub.rec)\n",
    "loans$not.fully.paid=factor(loans$not.fully.paid)"
   ]
  },
  {
   "cell_type": "code",
   "execution_count": 12,
   "metadata": {},
   "outputs": [
    {
     "name": "stdout",
     "output_type": "stream",
     "text": [
      "'data.frame':\t9578 obs. of  14 variables:\n",
      " $ credit.policy    : Factor w/ 2 levels \"0\",\"1\": 2 2 2 2 2 2 2 2 2 2 ...\n",
      " $ purpose          : Factor w/ 7 levels \"all_other\",\"credit_card\",..: 3 2 3 3 2 2 3 1 5 3 ...\n",
      " $ int.rate         : num  0.119 0.107 0.136 0.101 0.143 ...\n",
      " $ installment      : num  829 228 367 162 103 ...\n",
      " $ log.annual.inc   : num  11.4 11.1 10.4 11.4 11.3 ...\n",
      " $ dti              : num  19.5 14.3 11.6 8.1 15 ...\n",
      " $ fico             : int  737 707 682 712 667 727 667 722 682 707 ...\n",
      " $ days.with.cr.line: num  5640 2760 4710 2700 4066 ...\n",
      " $ revol.bal        : int  28854 33623 3511 33667 4740 50807 3839 24220 69909 5630 ...\n",
      " $ revol.util       : num  52.1 76.7 25.6 73.2 39.5 51 76.8 68.6 51.1 23 ...\n",
      " $ inq.last.6mths   : Factor w/ 28 levels \"0\",\"1\",\"2\",\"3\",..: 1 1 2 2 1 1 1 1 2 2 ...\n",
      " $ delinq.2yrs      : Factor w/ 11 levels \"0\",\"1\",\"2\",\"3\",..: 1 1 1 1 2 1 1 1 1 1 ...\n",
      " $ pub.rec          : Factor w/ 6 levels \"0\",\"1\",\"2\",\"3\",..: 1 1 1 1 1 1 2 1 1 1 ...\n",
      " $ not.fully.paid   : Factor w/ 2 levels \"0\",\"1\": 1 1 1 1 1 1 2 2 1 1 ...\n"
     ]
    }
   ],
   "source": [
    "str(loans)"
   ]
  },
  {
   "cell_type": "code",
   "execution_count": 14,
   "metadata": {},
   "outputs": [
    {
     "data": {
      "text/html": [
       "FALSE"
      ],
      "text/latex": [
       "FALSE"
      ],
      "text/markdown": [
       "FALSE"
      ],
      "text/plain": [
       "[1] FALSE"
      ]
     },
     "metadata": {},
     "output_type": "display_data"
    }
   ],
   "source": [
    "any(is.na(loans))"
   ]
  },
  {
   "cell_type": "code",
   "execution_count": 24,
   "metadata": {},
   "outputs": [
    {
     "data": {
      "image/png": "[encoded data removed]",
      "text/plain": [
       "plot without title"
      ]
     },
     "metadata": {},
     "output_type": "display_data"
    }
   ],
   "source": [
    "pl<-ggplot(loans, aes(x=fico))\n",
    "pl<-pl+geom_histogram(aes(fill=not.fully.paid),color='black',bins=40,alpha=0.5)\n",
    "pl+scale_fill_manual(values=c(\"green\",\"red\"))+theme_bw()"
   ]
  },
  {
   "cell_type": "markdown",
   "metadata": {},
   "source": [
    "Borrowers with high fico score tends to pay back"
   ]
  },
  {
   "cell_type": "markdown",
   "metadata": {},
   "source": [
    "But not all boorowers in the range 650 to 750 payed the loan back"
   ]
  },
  {
   "cell_type": "code",
   "execution_count": 25,
   "metadata": {},
   "outputs": [
    {
     "data": {
      "image/png": "[encoded data removed]",
      "text/plain": [
       "plot without title"
      ]
     },
     "metadata": {},
     "output_type": "display_data"
    }
   ],
   "source": [
    "pl=ggplot(loans,aes(x=factor(purpose)))\n",
    "pl=pl+geom_bar(aes(fill=not.fully.paid),position=\"dodge\")\n",
    "pl+theme_bw()"
   ]
  },
  {
   "cell_type": "markdown",
   "metadata": {},
   "source": [
    "Almost 4000 needed money for debt consolidations"
   ]
  },
  {
   "cell_type": "code",
   "execution_count": 26,
   "metadata": {},
   "outputs": [
    {
     "data": {
      "image/png": "[encoded data removed]",
      "text/plain": [
       "plot without title"
      ]
     },
     "metadata": {},
     "output_type": "display_data"
    }
   ],
   "source": [
    "ggplot(loans,aes(int.rate,fico))+geom_point(aes(color=not.fully.paid),alpha=0.5)"
   ]
  },
  {
   "cell_type": "markdown",
   "metadata": {},
   "source": [
    "low fico score not likely pay back so they will have higher intrest reates"
   ]
  },
  {
   "cell_type": "markdown",
   "metadata": {},
   "source": [
    "## BUILDING MODEL"
   ]
  },
  {
   "cell_type": "code",
   "execution_count": 27,
   "metadata": {},
   "outputs": [
    {
     "name": "stderr",
     "output_type": "stream",
     "text": [
      "Warning message:\n",
      "\"package 'caTools' was built under R version 3.6.2\""
     ]
    }
   ],
   "source": [
    "library(caTools)\n",
    "set.seed(101)\n",
    "spl=sample.split(loans$not.fully.paid,0.7)\n",
    "train=subset(loans,spl=TRUE)\n",
    "test=subset(loans,spl=FALSE)"
   ]
  },
  {
   "cell_type": "markdown",
   "metadata": {},
   "source": [
    "Checking the mdoel without tuning"
   ]
  },
  {
   "cell_type": "code",
   "execution_count": 28,
   "metadata": {},
   "outputs": [],
   "source": [
    "model=svm(not.fully.paid~.,data=train)"
   ]
  },
  {
   "cell_type": "code",
   "execution_count": 29,
   "metadata": {},
   "outputs": [
    {
     "data": {
      "text/plain": [
       "\n",
       "Call:\n",
       "svm(formula = not.fully.paid ~ ., data = train)\n",
       "\n",
       "\n",
       "Parameters:\n",
       "   SVM-Type:  C-classification \n",
       " SVM-Kernel:  radial \n",
       "       cost:  1 \n",
       "\n",
       "Number of Support Vectors:  4030\n",
       "\n",
       " ( 2497 1533 )\n",
       "\n",
       "\n",
       "Number of Classes:  2 \n",
       "\n",
       "Levels: \n",
       " 0 1\n",
       "\n",
       "\n"
      ]
     },
     "metadata": {},
     "output_type": "display_data"
    }
   ],
   "source": [
    "summary(model)"
   ]
  },
  {
   "cell_type": "code",
   "execution_count": 30,
   "metadata": {},
   "outputs": [
    {
     "data": {
      "text/plain": [
       "                \n",
       "predicted.values    0    1\n",
       "               0 8045 1532\n",
       "               1    0    1"
      ]
     },
     "metadata": {},
     "output_type": "display_data"
    }
   ],
   "source": [
    "predicted.values=predict(model,test[1:13])\n",
    "table(predicted.values,test$not.fully.paid)"
   ]
  },
  {
   "cell_type": "markdown",
   "metadata": {},
   "source": [
    "These are not good results, because 1532 items were classified wrong as 1 instead of 0, thats a lot of misclassification"
   ]
  },
  {
   "cell_type": "markdown",
   "metadata": {},
   "source": [
    "This is due to gamma and cost parametrs are incorrect.We have to tune the model for the correct parameters"
   ]
  },
  {
   "cell_type": "markdown",
   "metadata": {},
   "source": [
    "## TUNING THE MODEL"
   ]
  },
  {
   "cell_type": "markdown",
   "metadata": {},
   "source": [
    "COST:The cost parameter decides how much an SVM should be allowed to “bend” with the data. For a low cost, you aim for a smooth decision surface and for a higher cost, you aim to classify more points correctly.\n",
    "\n",
    "GAMMA:the gamma parameter defines how far the influence of a single training example reaches, with low values meaning 'far' and high values meaning 'close'."
   ]
  },
  {
   "cell_type": "code",
   "execution_count": null,
   "metadata": {},
   "outputs": [],
   "source": [
    "#OPTION 1\n",
    "#svm.tuned=tune(svm, train.x=not.fully.paid~.,data=train,kernel='radial',ranges=list(cost=c(10,100),gamma=c(0.1,1)))"
   ]
  },
  {
   "cell_type": "code",
   "execution_count": null,
   "metadata": {},
   "outputs": [],
   "source": [
    "#OPTION 2\n",
    "#tuned.results=tune(svm, train.x=not.fully.paid~.,data=train,kernel='radial',ranges=list(cost=c(100,200),gamma=c(0.1)))"
   ]
  },
  {
   "cell_type": "code",
   "execution_count": null,
   "metadata": {},
   "outputs": [],
   "source": [
    "#OPTION 3\n",
    "#tuned.results=tune(svm, train.x=not.fully.paid~.,data=train,kernel='radial',ranges=list(cost=c(1,10),gamma=c(0.1,1)))"
   ]
  },
  {
   "cell_type": "markdown",
   "metadata": {},
   "source": [
    "we are going to use gamma=1 and cost=10"
   ]
  },
  {
   "cell_type": "code",
   "execution_count": 34,
   "metadata": {},
   "outputs": [
    {
     "data": {
      "text/plain": [
       "                \n",
       "predicted.values    0    1\n",
       "               0 8045    5\n",
       "               1    0 1528"
      ]
     },
     "metadata": {},
     "output_type": "display_data"
    }
   ],
   "source": [
    "model=svm(not.fully.paid~.,data=train,gamma=1,cost=10)\n",
    "predicted.values=predict(model,test[1:13])\n",
    "table(predicted.values,test$not.fully.paid)"
   ]
  },
  {
   "cell_type": "markdown",
   "metadata": {},
   "source": [
    "This looks like so far the best gamma and cost parameters for the model"
   ]
  },
  {
   "cell_type": "markdown",
   "metadata": {},
   "source": [
    "There are only 5 Misclassifcations"
   ]
  },
  {
   "cell_type": "code",
   "execution_count": 1,
   "metadata": {},
   "outputs": [],
   "source": [
    "TN=8045\n",
    "FP=5\n",
    "FN=0\n",
    "TP=1528"
   ]
  },
  {
   "cell_type": "code",
   "execution_count": 2,
   "metadata": {},
   "outputs": [
    {
     "data": {
      "text/html": [
       "0.000522029651284193"
      ],
      "text/latex": [
       "0.000522029651284193"
      ],
      "text/markdown": [
       "0.000522029651284193"
      ],
      "text/plain": [
       "[1] 0.0005220297"
      ]
     },
     "metadata": {},
     "output_type": "display_data"
    }
   ],
   "source": [
    "ERR=(FP+FN)/(TN+FP+FN+TP)\n",
    "ERR"
   ]
  },
  {
   "cell_type": "markdown",
   "metadata": {},
   "source": [
    "ERR (Error Rate) is the percentage of wrong predictions of our model. Our model has an ERR of 0.0005 stating that .05 % wrong predictions have been done by the model."
   ]
  },
  {
   "cell_type": "code",
   "execution_count": 3,
   "metadata": {},
   "outputs": [
    {
     "data": {
      "text/html": [
       "0.999477970348716"
      ],
      "text/latex": [
       "0.999477970348716"
      ],
      "text/markdown": [
       "0.999477970348716"
      ],
      "text/plain": [
       "[1] 0.999478"
      ]
     },
     "metadata": {},
     "output_type": "display_data"
    }
   ],
   "source": [
    "ACC=(TP + TN)/(TN + FP + FN + TP)\n",
    "ACC"
   ]
  },
  {
   "cell_type": "markdown",
   "metadata": {},
   "source": [
    "ACC (Accuracy) is the percentage of correct predictions of our model. Our model has an ACC of 0.999 stating that 99 % correct predictions have been made by the model."
   ]
  },
  {
   "cell_type": "code",
   "execution_count": 4,
   "metadata": {},
   "outputs": [
    {
     "data": {
      "text/html": [
       "1"
      ],
      "text/latex": [
       "1"
      ],
      "text/markdown": [
       "1"
      ],
      "text/plain": [
       "[1] 1"
      ]
     },
     "metadata": {},
     "output_type": "display_data"
    }
   ],
   "source": [
    "SN = TP/(TP + FN)\n",
    "SN"
   ]
  },
  {
   "cell_type": "markdown",
   "metadata": {},
   "source": [
    "SN (Sensitivity) is the number of correct positive predictions divided by the total number of positives. Our model has an SN of 1 stating that 100 % correct positive predictions were made out of the total positives."
   ]
  },
  {
   "cell_type": "code",
   "execution_count": 5,
   "metadata": {},
   "outputs": [
    {
     "data": {
      "text/html": [
       "0.999378881987578"
      ],
      "text/latex": [
       "0.999378881987578"
      ],
      "text/markdown": [
       "0.999378881987578"
      ],
      "text/plain": [
       "[1] 0.9993789"
      ]
     },
     "metadata": {},
     "output_type": "display_data"
    }
   ],
   "source": [
    "SP = TN/(TN + FP)\n",
    "SP"
   ]
  },
  {
   "cell_type": "markdown",
   "metadata": {},
   "source": [
    "SP (Specificity) is the number of correct negative predictions divided by the total number of negatives. Our model has an SP of 0.999 stating that 99.9 % correct negative predictions were made out of the total negatives."
   ]
  },
  {
   "cell_type": "code",
   "execution_count": 6,
   "metadata": {},
   "outputs": [
    {
     "data": {
      "text/html": [
       "0.996738421395956"
      ],
      "text/latex": [
       "0.996738421395956"
      ],
      "text/markdown": [
       "0.996738421395956"
      ],
      "text/plain": [
       "[1] 0.9967384"
      ]
     },
     "metadata": {},
     "output_type": "display_data"
    }
   ],
   "source": [
    "PREC = TP/(TP + FP)\n",
    "PREC"
   ]
  },
  {
   "cell_type": "markdown",
   "metadata": {},
   "source": [
    "PREC (Precision) is the number of correct positive predictions divided by the total number of positive predictions. Our model has a PREC of 0.996 stating that 99.6 % of the predictions regarding the positive predicted values are correct."
   ]
  },
  {
   "cell_type": "code",
   "execution_count": 7,
   "metadata": {},
   "outputs": [
    {
     "data": {
      "text/html": [
       "0.00062111801242236"
      ],
      "text/latex": [
       "0.00062111801242236"
      ],
      "text/markdown": [
       "0.00062111801242236"
      ],
      "text/plain": [
       "[1] 0.000621118"
      ]
     },
     "metadata": {},
     "output_type": "display_data"
    }
   ],
   "source": [
    "FPR = FP/(TN + FP)\n",
    "FPR"
   ]
  },
  {
   "cell_type": "markdown",
   "metadata": {},
   "source": [
    "FPR (False Positive Rate) is the number of incorrect positive predictions divided by the total number of negatives. Our model has a FPR of 0.0006 stating that 0.06 % of the predictions regarding the positive predicted values are incorrect."
   ]
  },
  {
   "cell_type": "code",
   "execution_count": 35,
   "metadata": {},
   "outputs": [
    {
     "data": {
      "text/plain": [
       "                \n",
       "predicted.values    0    1\n",
       "               0 8041  431\n",
       "               1    4 1102"
      ]
     },
     "metadata": {},
     "output_type": "display_data"
    }
   ],
   "source": [
    "model=svm(not.fully.paid~.,data=train,gamma=0.1,cost=200)\n",
    "predicted.values=predict(model,test[1:13])\n",
    "table(predicted.values,test$not.fully.paid)"
   ]
  },
  {
   "cell_type": "code",
   "execution_count": 8,
   "metadata": {},
   "outputs": [],
   "source": [
    "TN=8045\n",
    "FP=431\n",
    "FN=4\n",
    "TP=1102"
   ]
  },
  {
   "cell_type": "markdown",
   "metadata": {},
   "source": [
    "There are lot of FP while using these parameters"
   ]
  },
  {
   "cell_type": "code",
   "execution_count": 9,
   "metadata": {},
   "outputs": [
    {
     "data": {
      "text/html": [
       "0.95460237946149"
      ],
      "text/latex": [
       "0.95460237946149"
      ],
      "text/markdown": [
       "0.95460237946149"
      ],
      "text/plain": [
       "[1] 0.9546024"
      ]
     },
     "metadata": {},
     "output_type": "display_data"
    }
   ],
   "source": [
    "ACC=(TP + TN)/(TN + FP + FN + TP)\n",
    "ACC"
   ]
  },
  {
   "cell_type": "markdown",
   "metadata": {},
   "source": [
    "Here the accuraccy is lesser than previous model"
   ]
  }
 ],
 "metadata": {
  "kernelspec": {
   "display_name": "R",
   "language": "R",
   "name": "ir"
  },
  "language_info": {
   "codemirror_mode": "r",
   "file_extension": ".r",
   "mimetype": "text/x-r-source",
   "name": "R",
   "pygments_lexer": "r",
   "version": "3.6.1"
  }
 },
 "nbformat": 4,
 "nbformat_minor": 2
}

{
 "cells": [
  {
   "cell_type": "code",
   "execution_count": 1,
   "metadata": {},
   "outputs": [],
   "source": [
    "#install.packages(\"e1071\")"
   ]
  },
  {
   "cell_type": "code",
   "execution_count": 76,
   "metadata": {},
   "outputs": [],
   "source": [
    "library(\"e1071\")\n",
    "library(\"ggplot2\")\n",
    "library(\"dplyr\")"
   ]
  },
  {
   "cell_type": "code",
   "execution_count": 42,
   "metadata": {},
   "outputs": [],
   "source": [
    "df=read.csv('C:\\\\Users\\\\abine\\\\OneDrive\\\\Documents\\\\Datasets\\\\advertising.csv')"
   ]
  },
  {
   "cell_type": "markdown",
   "metadata": {},
   "source": [
    "This dataset contains details of persons.Our objective is to predict,who is more likely to click the ad."
   ]
  },
  {
   "cell_type": "code",
   "execution_count": 43,
   "metadata": {},
   "outputs": [
    {
     "data": {
      "text/html": [
       "<table>\n",
       "<caption>A data.frame: 6 × 10</caption>\n",
       "<thead>\n",
       "\t<tr><th></th><th scope=col>Daily.Time.Spent.on.Site</th><th scope=col>Age</th><th scope=col>Area.Income</th><th scope=col>Daily.Internet.Usage</th><th scope=col>Ad.Topic.Line</th><th scope=col>City</th><th scope=col>Male</th><th scope=col>Country</th><th scope=col>Timestamp</th><th scope=col>Clicked.on.Ad</th></tr>\n",
       "\t<tr><th></th><th scope=col>&lt;dbl&gt;</th><th scope=col>&lt;int&gt;</th><th scope=col>&lt;dbl&gt;</th><th scope=col>&lt;dbl&gt;</th><th scope=col>&lt;fct&gt;</th><th scope=col>&lt;fct&gt;</th><th scope=col>&lt;int&gt;</th><th scope=col>&lt;fct&gt;</th><th scope=col>&lt;fct&gt;</th><th scope=col>&lt;int&gt;</th></tr>\n",
       "</thead>\n",
       "<tbody>\n",
       "\t<tr><th scope=row>1</th><td>68.95</td><td>35</td><td>61833.90</td><td>256.09</td><td>Cloned 5thgeneration orchestration   </td><td>Wrightburgh   </td><td>0</td><td>Tunisia   </td><td>2016-03-27 00:53:11</td><td>0</td></tr>\n",
       "\t<tr><th scope=row>2</th><td>80.23</td><td>31</td><td>68441.85</td><td>193.77</td><td>Monitored national standardization   </td><td>West Jodi     </td><td>1</td><td>Nauru     </td><td>2016-04-04 01:39:02</td><td>0</td></tr>\n",
       "\t<tr><th scope=row>3</th><td>69.47</td><td>26</td><td>59785.94</td><td>236.50</td><td>Organic bottom-line service-desk     </td><td>Davidton      </td><td>0</td><td>San Marino</td><td>2016-03-13 20:35:42</td><td>0</td></tr>\n",
       "\t<tr><th scope=row>4</th><td>74.15</td><td>29</td><td>54806.18</td><td>245.89</td><td>Triple-buffered reciprocal time-frame</td><td>West Terrifurt</td><td>1</td><td>Italy     </td><td>2016-01-10 02:31:19</td><td>0</td></tr>\n",
       "\t<tr><th scope=row>5</th><td>68.37</td><td>35</td><td>73889.99</td><td>225.58</td><td>Robust logistical utilization        </td><td>South Manuel  </td><td>0</td><td>Iceland   </td><td>2016-06-03 03:36:18</td><td>0</td></tr>\n",
       "\t<tr><th scope=row>6</th><td>59.99</td><td>23</td><td>59761.56</td><td>226.74</td><td>Sharable client-driven software      </td><td>Jamieberg     </td><td>1</td><td>Norway    </td><td>2016-05-19 14:30:17</td><td>0</td></tr>\n",
       "</tbody>\n",
       "</table>\n"
      ],
      "text/latex": [
       "A data.frame: 6 × 10\n",
       "\\begin{tabular}{r|llllllllll}\n",
       "  & Daily.Time.Spent.on.Site & Age & Area.Income & Daily.Internet.Usage & Ad.Topic.Line & City & Male & Country & Timestamp & Clicked.on.Ad\\\\\n",
       "  & <dbl> & <int> & <dbl> & <dbl> & <fct> & <fct> & <int> & <fct> & <fct> & <int>\\\\\n",
       "\\hline\n",
       "\t1 & 68.95 & 35 & 61833.90 & 256.09 & Cloned 5thgeneration orchestration    & Wrightburgh    & 0 & Tunisia    & 2016-03-27 00:53:11 & 0\\\\\n",
       "\t2 & 80.23 & 31 & 68441.85 & 193.77 & Monitored national standardization    & West Jodi      & 1 & Nauru      & 2016-04-04 01:39:02 & 0\\\\\n",
       "\t3 & 69.47 & 26 & 59785.94 & 236.50 & Organic bottom-line service-desk      & Davidton       & 0 & San Marino & 2016-03-13 20:35:42 & 0\\\\\n",
       "\t4 & 74.15 & 29 & 54806.18 & 245.89 & Triple-buffered reciprocal time-frame & West Terrifurt & 1 & Italy      & 2016-01-10 02:31:19 & 0\\\\\n",
       "\t5 & 68.37 & 35 & 73889.99 & 225.58 & Robust logistical utilization         & South Manuel   & 0 & Iceland    & 2016-06-03 03:36:18 & 0\\\\\n",
       "\t6 & 59.99 & 23 & 59761.56 & 226.74 & Sharable client-driven software       & Jamieberg      & 1 & Norway     & 2016-05-19 14:30:17 & 0\\\\\n",
       "\\end{tabular}\n"
      ],
      "text/markdown": [
       "\n",
       "A data.frame: 6 × 10\n",
       "\n",
       "| <!--/--> | Daily.Time.Spent.on.Site &lt;dbl&gt; | Age &lt;int&gt; | Area.Income &lt;dbl&gt; | Daily.Internet.Usage &lt;dbl&gt; | Ad.Topic.Line &lt;fct&gt; | City &lt;fct&gt; | Male &lt;int&gt; | Country &lt;fct&gt; | Timestamp &lt;fct&gt; | Clicked.on.Ad &lt;int&gt; |\n",
       "|---|---|---|---|---|---|---|---|---|---|---|\n",
       "| 1 | 68.95 | 35 | 61833.90 | 256.09 | Cloned 5thgeneration orchestration    | Wrightburgh    | 0 | Tunisia    | 2016-03-27 00:53:11 | 0 |\n",
       "| 2 | 80.23 | 31 | 68441.85 | 193.77 | Monitored national standardization    | West Jodi      | 1 | Nauru      | 2016-04-04 01:39:02 | 0 |\n",
       "| 3 | 69.47 | 26 | 59785.94 | 236.50 | Organic bottom-line service-desk      | Davidton       | 0 | San Marino | 2016-03-13 20:35:42 | 0 |\n",
       "| 4 | 74.15 | 29 | 54806.18 | 245.89 | Triple-buffered reciprocal time-frame | West Terrifurt | 1 | Italy      | 2016-01-10 02:31:19 | 0 |\n",
       "| 5 | 68.37 | 35 | 73889.99 | 225.58 | Robust logistical utilization         | South Manuel   | 0 | Iceland    | 2016-06-03 03:36:18 | 0 |\n",
       "| 6 | 59.99 | 23 | 59761.56 | 226.74 | Sharable client-driven software       | Jamieberg      | 1 | Norway     | 2016-05-19 14:30:17 | 0 |\n",
       "\n"
      ],
      "text/plain": [
       "  Daily.Time.Spent.on.Site Age Area.Income Daily.Internet.Usage\n",
       "1 68.95                    35  61833.90    256.09              \n",
       "2 80.23                    31  68441.85    193.77              \n",
       "3 69.47                    26  59785.94    236.50              \n",
       "4 74.15                    29  54806.18    245.89              \n",
       "5 68.37                    35  73889.99    225.58              \n",
       "6 59.99                    23  59761.56    226.74              \n",
       "  Ad.Topic.Line                         City           Male Country   \n",
       "1 Cloned 5thgeneration orchestration    Wrightburgh    0    Tunisia   \n",
       "2 Monitored national standardization    West Jodi      1    Nauru     \n",
       "3 Organic bottom-line service-desk      Davidton       0    San Marino\n",
       "4 Triple-buffered reciprocal time-frame West Terrifurt 1    Italy     \n",
       "5 Robust logistical utilization         South Manuel   0    Iceland   \n",
       "6 Sharable client-driven software       Jamieberg      1    Norway    \n",
       "  Timestamp           Clicked.on.Ad\n",
       "1 2016-03-27 00:53:11 0            \n",
       "2 2016-04-04 01:39:02 0            \n",
       "3 2016-03-13 20:35:42 0            \n",
       "4 2016-01-10 02:31:19 0            \n",
       "5 2016-06-03 03:36:18 0            \n",
       "6 2016-05-19 14:30:17 0            "
      ]
     },
     "metadata": {},
     "output_type": "display_data"
    }
   ],
   "source": [
    "head(df)"
   ]
  },
  {
   "cell_type": "code",
   "execution_count": null,
   "metadata": {},
   "outputs": [],
   "source": []
  },
  {
   "cell_type": "code",
   "execution_count": 44,
   "metadata": {},
   "outputs": [
    {
     "name": "stdout",
     "output_type": "stream",
     "text": [
      "'data.frame':\t1000 obs. of  10 variables:\n",
      " $ Daily.Time.Spent.on.Site: num  69 80.2 69.5 74.2 68.4 ...\n",
      " $ Age                     : int  35 31 26 29 35 23 33 48 30 20 ...\n",
      " $ Area.Income             : num  61834 68442 59786 54806 73890 ...\n",
      " $ Daily.Internet.Usage    : num  256 194 236 246 226 ...\n",
      " $ Ad.Topic.Line           : Factor w/ 1000 levels \"Adaptive 24hour Graphic Interface\",..: 92 465 567 904 767 806 223 724 108 455 ...\n",
      " $ City                    : Factor w/ 969 levels \"Adamsbury\",\"Adamside\",..: 962 904 112 940 806 283 47 672 885 713 ...\n",
      " $ Male                    : int  0 1 0 1 0 1 0 1 1 1 ...\n",
      " $ Country                 : Factor w/ 237 levels \"Afghanistan\",..: 216 148 185 104 97 159 146 13 83 79 ...\n",
      " $ Timestamp               : Factor w/ 1000 levels \"2016-01-01 02:52:10\",..: 440 475 368 57 768 690 131 334 549 942 ...\n",
      " $ Clicked.on.Ad           : int  0 0 0 0 0 0 0 1 0 0 ...\n"
     ]
    }
   ],
   "source": [
    "str(df)"
   ]
  },
  {
   "cell_type": "markdown",
   "metadata": {},
   "source": [
    "Removing Identity Variables"
   ]
  },
  {
   "cell_type": "code",
   "execution_count": 45,
   "metadata": {
    "scrolled": false
   },
   "outputs": [],
   "source": [
    "df=select(df,-Ad.Topic.Line,-City,-Timestamp,-Country)"
   ]
  },
  {
   "cell_type": "markdown",
   "metadata": {},
   "source": [
    "Changing some variables to factors"
   ]
  },
  {
   "cell_type": "code",
   "execution_count": 46,
   "metadata": {},
   "outputs": [],
   "source": [
    "df$Male=factor(df$Male)\n",
    "df$Clicked.on.Ad=factor(df$Clicked.on.Ad)"
   ]
  },
  {
   "cell_type": "code",
   "execution_count": 47,
   "metadata": {},
   "outputs": [
    {
     "name": "stdout",
     "output_type": "stream",
     "text": [
      "'data.frame':\t1000 obs. of  6 variables:\n",
      " $ Daily.Time.Spent.on.Site: num  69 80.2 69.5 74.2 68.4 ...\n",
      " $ Age                     : int  35 31 26 29 35 23 33 48 30 20 ...\n",
      " $ Area.Income             : num  61834 68442 59786 54806 73890 ...\n",
      " $ Daily.Internet.Usage    : num  256 194 236 246 226 ...\n",
      " $ Male                    : Factor w/ 2 levels \"0\",\"1\": 1 2 1 2 1 2 1 2 2 2 ...\n",
      " $ Clicked.on.Ad           : Factor w/ 2 levels \"0\",\"1\": 1 1 1 1 1 1 1 2 1 1 ...\n"
     ]
    }
   ],
   "source": [
    "str(df)"
   ]
  },
  {
   "cell_type": "code",
   "execution_count": 48,
   "metadata": {},
   "outputs": [
    {
     "data": {
      "text/plain": [
       " Daily.Time.Spent.on.Site      Age         Area.Income    Daily.Internet.Usage\n",
       " Min.   :32.60            Min.   :19.00   Min.   :13996   Min.   :104.8       \n",
       " 1st Qu.:51.36            1st Qu.:29.00   1st Qu.:47032   1st Qu.:138.8       \n",
       " Median :68.22            Median :35.00   Median :57012   Median :183.1       \n",
       " Mean   :65.00            Mean   :36.01   Mean   :55000   Mean   :180.0       \n",
       " 3rd Qu.:78.55            3rd Qu.:42.00   3rd Qu.:65471   3rd Qu.:218.8       \n",
       " Max.   :91.43            Max.   :61.00   Max.   :79485   Max.   :270.0       \n",
       " Male    Clicked.on.Ad\n",
       " 0:519   0:500        \n",
       " 1:481   1:500        \n",
       "                      \n",
       "                      \n",
       "                      \n",
       "                      "
      ]
     },
     "metadata": {},
     "output_type": "display_data"
    }
   ],
   "source": [
    "summary(df)"
   ]
  },
  {
   "cell_type": "code",
   "execution_count": 49,
   "metadata": {},
   "outputs": [
    {
     "data": {
      "text/html": [
       "FALSE"
      ],
      "text/latex": [
       "FALSE"
      ],
      "text/markdown": [
       "FALSE"
      ],
      "text/plain": [
       "[1] FALSE"
      ]
     },
     "metadata": {},
     "output_type": "display_data"
    }
   ],
   "source": [
    "any(is.na(df))"
   ]
  },
  {
   "cell_type": "code",
   "execution_count": 50,
   "metadata": {},
   "outputs": [],
   "source": [
    "pl<-ggplot(df, aes(x=Daily.Time.Spent.on.Site))+geom_histogram(aes(fill=Daily.Time.Spent.on.Site),color='black',bins=40,alpha=0.5)+theme_bw()"
   ]
  },
  {
   "cell_type": "code",
   "execution_count": 51,
   "metadata": {},
   "outputs": [
    {
     "data": {
      "image/png": "[encoded data removed]",
      "text/plain": [
       "plot without title"
      ]
     },
     "metadata": {},
     "output_type": "display_data"
    }
   ],
   "source": [
    "pl"
   ]
  },
  {
   "cell_type": "markdown",
   "metadata": {},
   "source": [
    "Lot of people spend 70-90 minutes on the site"
   ]
  },
  {
   "cell_type": "code",
   "execution_count": 52,
   "metadata": {},
   "outputs": [
    {
     "data": {
      "image/png": "[encoded data removed]",
      "text/plain": [
       "plot without title"
      ]
     },
     "metadata": {},
     "output_type": "display_data"
    }
   ],
   "source": [
    "pl<-ggplot(df, aes(x=Age))+geom_histogram(aes(fill=Age),color='black',bins=40,alpha=0.5)+theme_bw()\n",
    "pl"
   ]
  },
  {
   "cell_type": "markdown",
   "metadata": {},
   "source": [
    "Lot of the users are between 25 to 35"
   ]
  },
  {
   "cell_type": "code",
   "execution_count": 53,
   "metadata": {},
   "outputs": [
    {
     "data": {
      "image/png": "[encoded data removed]",
      "text/plain": [
       "plot without title"
      ]
     },
     "metadata": {},
     "output_type": "display_data"
    }
   ],
   "source": [
    "pl<-ggplot(df, aes(x=Daily.Internet.Usage))+geom_histogram(aes(fill=Daily.Internet.Usage),color='black',bins=40,alpha=0.5)+theme_bw()\n",
    "pl"
   ]
  },
  {
   "cell_type": "markdown",
   "metadata": {},
   "source": [
    "The daily internet usage is pretty uniform"
   ]
  },
  {
   "cell_type": "markdown",
   "metadata": {},
   "source": [
    "## BUILDING MODEL"
   ]
  },
  {
   "cell_type": "code",
   "execution_count": 54,
   "metadata": {},
   "outputs": [],
   "source": [
    "library(caTools)\n",
    "set.seed(101)\n",
    "spl=sample.split(df$Clicked.on.Ad,0.7)\n",
    "train=subset(df,spl=TRUE)\n",
    "test=subset(df,spl=FALSE)"
   ]
  },
  {
   "cell_type": "markdown",
   "metadata": {},
   "source": [
    "Checking the mdoel without tuning"
   ]
  },
  {
   "cell_type": "code",
   "execution_count": 55,
   "metadata": {},
   "outputs": [],
   "source": [
    "model=svm(Clicked.on.Ad~.,data=train)"
   ]
  },
  {
   "cell_type": "code",
   "execution_count": 56,
   "metadata": {},
   "outputs": [
    {
     "data": {
      "text/plain": [
       "\n",
       "Call:\n",
       "svm(formula = Clicked.on.Ad ~ ., data = train)\n",
       "\n",
       "\n",
       "Parameters:\n",
       "   SVM-Type:  C-classification \n",
       " SVM-Kernel:  radial \n",
       "       cost:  1 \n",
       "\n",
       "Number of Support Vectors:  121\n",
       "\n",
       " ( 60 61 )\n",
       "\n",
       "\n",
       "Number of Classes:  2 \n",
       "\n",
       "Levels: \n",
       " 0 1\n",
       "\n",
       "\n"
      ]
     },
     "metadata": {},
     "output_type": "display_data"
    }
   ],
   "source": [
    "summary(model)"
   ]
  },
  {
   "cell_type": "code",
   "execution_count": 57,
   "metadata": {},
   "outputs": [
    {
     "data": {
      "text/plain": [
       "                \n",
       "predicted.values   0   1\n",
       "               0 493  19\n",
       "               1   7 481"
      ]
     },
     "metadata": {},
     "output_type": "display_data"
    }
   ],
   "source": [
    "predicted.values=predict(model,test[1:5])\n",
    "table(predicted.values,test$Clicked.on.Ad)"
   ]
  },
  {
   "cell_type": "markdown",
   "metadata": {},
   "source": [
    "There are some false classifications"
   ]
  },
  {
   "cell_type": "markdown",
   "metadata": {},
   "source": [
    "This is due to gamma and cost parametrs are incorrect.We have to tune the model for the correct parameters"
   ]
  },
  {
   "cell_type": "markdown",
   "metadata": {},
   "source": [
    "## TUNING THE MODEL"
   ]
  },
  {
   "cell_type": "markdown",
   "metadata": {},
   "source": [
    "COST:The cost parameter decides how much an SVM should be allowed to “bend” with the data. For a low cost, you aim for a smooth decision surface and for a higher cost, you aim to classify more points correctly.\n",
    "\n",
    "GAMMA:the gamma parameter defines how far the influence of a single training example reaches, with low values meaning 'far' and high values meaning 'close'."
   ]
  },
  {
   "cell_type": "code",
   "execution_count": 78,
   "metadata": {},
   "outputs": [],
   "source": [
    "#OPTION 1\n",
    "svm.tuned=tune(svm, train.x=Clicked.on.Ad~.,data=train,kernel='radial',ranges=list(cost=c(10,100),gamma=c(0.1,1)))"
   ]
  },
  {
   "cell_type": "code",
   "execution_count": 79,
   "metadata": {},
   "outputs": [
    {
     "data": {
      "text/plain": [
       "\n",
       "Parameter tuning of 'svm':\n",
       "\n",
       "- sampling method: 10-fold cross validation \n",
       "\n",
       "- best parameters:\n",
       " cost gamma\n",
       "  100   0.1\n",
       "\n",
       "- best performance: 0.038 \n"
      ]
     },
     "metadata": {},
     "output_type": "display_data"
    }
   ],
   "source": [
    "svm.tuned"
   ]
  },
  {
   "cell_type": "code",
   "execution_count": 74,
   "metadata": {},
   "outputs": [],
   "source": [
    "#OPTION 2\n",
    "tuned.results=tune(svm, train.x=Clicked.on.Ad~.,data=train,kernel='radial',ranges=list(cost=c(100,200),gamma=c(0.1)))"
   ]
  },
  {
   "cell_type": "code",
   "execution_count": 80,
   "metadata": {},
   "outputs": [
    {
     "data": {
      "text/plain": [
       "\n",
       "Parameter tuning of 'svm':\n",
       "\n",
       "- sampling method: 10-fold cross validation \n",
       "\n",
       "- best parameters:\n",
       " cost gamma\n",
       "    1   0.1\n",
       "\n",
       "- best performance: 0.032 \n"
      ]
     },
     "metadata": {},
     "output_type": "display_data"
    }
   ],
   "source": [
    "tuned.results"
   ]
  },
  {
   "cell_type": "code",
   "execution_count": 75,
   "metadata": {},
   "outputs": [],
   "source": [
    "#OPTION 3\n",
    "tuned.results=tune(svm, train.x=Clicked.on.Ad~.,data=train,kernel='radial',ranges=list(cost=c(1,10),gamma=c(0.1,1)))"
   ]
  },
  {
   "cell_type": "code",
   "execution_count": 81,
   "metadata": {},
   "outputs": [
    {
     "data": {
      "text/plain": [
       "\n",
       "Parameter tuning of 'svm':\n",
       "\n",
       "- sampling method: 10-fold cross validation \n",
       "\n",
       "- best parameters:\n",
       " cost gamma\n",
       "    1   0.1\n",
       "\n",
       "- best performance: 0.032 \n"
      ]
     },
     "metadata": {},
     "output_type": "display_data"
    }
   ],
   "source": [
    "tuned.results"
   ]
  },
  {
   "cell_type": "markdown",
   "metadata": {},
   "source": [
    "## TESTING THE MODEL"
   ]
  },
  {
   "cell_type": "markdown",
   "metadata": {},
   "source": [
    "Here, we are trying some gamma and cost values"
   ]
  },
  {
   "cell_type": "markdown",
   "metadata": {},
   "source": [
    "Taking in random,\n",
    "we are going to use gamma=1 and cost=10"
   ]
  },
  {
   "cell_type": "code",
   "execution_count": 97,
   "metadata": {},
   "outputs": [
    {
     "data": {
      "text/plain": [
       "                \n",
       "predicted.values   0   1\n",
       "               0 500   8\n",
       "               1   0 492"
      ]
     },
     "metadata": {},
     "output_type": "display_data"
    }
   ],
   "source": [
    "model=svm(Clicked.on.Ad~.,data=train,gamma=1,cost=10)\n",
    "predicted.values=predict(model,test[1:5])\n",
    "table(predicted.values,test$Clicked.on.Ad)"
   ]
  },
  {
   "cell_type": "markdown",
   "metadata": {},
   "source": [
    "There are only 8 Misclassifcations"
   ]
  },
  {
   "cell_type": "code",
   "execution_count": 98,
   "metadata": {},
   "outputs": [],
   "source": [
    "TN=500\n",
    "FP=8\n",
    "FN=0\n",
    "TP=492"
   ]
  },
  {
   "cell_type": "code",
   "execution_count": 99,
   "metadata": {},
   "outputs": [
    {
     "data": {
      "text/html": [
       "0.992"
      ],
      "text/latex": [
       "0.992"
      ],
      "text/markdown": [
       "0.992"
      ],
      "text/plain": [
       "[1] 0.992"
      ]
     },
     "metadata": {},
     "output_type": "display_data"
    }
   ],
   "source": [
    "ACC=(TP + TN)/(TN + FP + FN + TP)\n",
    "ACC"
   ]
  },
  {
   "cell_type": "markdown",
   "metadata": {},
   "source": [
    "This is a good accuraccy, bt lets check with the gamma & cost values found from tuning:"
   ]
  },
  {
   "cell_type": "markdown",
   "metadata": {},
   "source": [
    "we are going to use gamma=100 and cost=0.1"
   ]
  },
  {
   "cell_type": "markdown",
   "metadata": {},
   "source": [
    "We got this value from #OPTION 1 TUNING"
   ]
  },
  {
   "cell_type": "code",
   "execution_count": 82,
   "metadata": {},
   "outputs": [
    {
     "data": {
      "text/plain": [
       "                \n",
       "predicted.values   0   1\n",
       "               0 500   0\n",
       "               1   0 500"
      ]
     },
     "metadata": {},
     "output_type": "display_data"
    }
   ],
   "source": [
    "model=svm(Clicked.on.Ad~.,data=train,gamma=100,cost=0.1)\n",
    "predicted.values=predict(model,test[1:5])\n",
    "table(predicted.values,test$Clicked.on.Ad)"
   ]
  },
  {
   "cell_type": "markdown",
   "metadata": {},
   "source": [
    "This looks like  the best gamma and cost parameters for the model"
   ]
  },
  {
   "cell_type": "code",
   "execution_count": 83,
   "metadata": {},
   "outputs": [],
   "source": [
    "TN=500\n",
    "FP=0\n",
    "FN=0\n",
    "TP=500"
   ]
  },
  {
   "cell_type": "code",
   "execution_count": 84,
   "metadata": {},
   "outputs": [
    {
     "data": {
      "text/html": [
       "0"
      ],
      "text/latex": [
       "0"
      ],
      "text/markdown": [
       "0"
      ],
      "text/plain": [
       "[1] 0"
      ]
     },
     "metadata": {},
     "output_type": "display_data"
    }
   ],
   "source": [
    "ERR=(FP+FN)/(TN+FP+FN+TP)\n",
    "ERR"
   ]
  },
  {
   "cell_type": "markdown",
   "metadata": {},
   "source": [
    "ERR (Error Rate) is the percentage of wrong predictions of our model. Our model has an ERR of 0.008 stating that .8 % wrong predictions have been done by the model."
   ]
  },
  {
   "cell_type": "code",
   "execution_count": 85,
   "metadata": {},
   "outputs": [
    {
     "data": {
      "text/html": [
       "1"
      ],
      "text/latex": [
       "1"
      ],
      "text/markdown": [
       "1"
      ],
      "text/plain": [
       "[1] 1"
      ]
     },
     "metadata": {},
     "output_type": "display_data"
    }
   ],
   "source": [
    "ACC=(TP + TN)/(TN + FP + FN + TP)\n",
    "ACC"
   ]
  },
  {
   "cell_type": "markdown",
   "metadata": {},
   "source": [
    "ACC (Accuracy) is the percentage of correct predictions of our model. Our model has an ACC of 1 stating that 100 % correct predictions have been made by the model."
   ]
  },
  {
   "cell_type": "code",
   "execution_count": 86,
   "metadata": {},
   "outputs": [
    {
     "data": {
      "text/html": [
       "1"
      ],
      "text/latex": [
       "1"
      ],
      "text/markdown": [
       "1"
      ],
      "text/plain": [
       "[1] 1"
      ]
     },
     "metadata": {},
     "output_type": "display_data"
    }
   ],
   "source": [
    "SN = TP/(TP + FN)\n",
    "SN"
   ]
  },
  {
   "cell_type": "markdown",
   "metadata": {},
   "source": [
    "SN (Sensitivity) is the number of correct positive predictions divided by the total number of positives. Our model has an SN of 1 stating that 100 % correct positive predictions were made out of the total positives."
   ]
  },
  {
   "cell_type": "code",
   "execution_count": 87,
   "metadata": {},
   "outputs": [
    {
     "data": {
      "text/html": [
       "1"
      ],
      "text/latex": [
       "1"
      ],
      "text/markdown": [
       "1"
      ],
      "text/plain": [
       "[1] 1"
      ]
     },
     "metadata": {},
     "output_type": "display_data"
    }
   ],
   "source": [
    "SP = TN/(TN + FP)\n",
    "SP"
   ]
  },
  {
   "cell_type": "markdown",
   "metadata": {},
   "source": [
    "SP (Specificity) is the number of correct negative predictions divided by the total number of negatives. Our model has an SP of 0.98 stating that 98 % correct negative predictions were made out of the total negatives."
   ]
  },
  {
   "cell_type": "code",
   "execution_count": 88,
   "metadata": {},
   "outputs": [
    {
     "data": {
      "text/html": [
       "1"
      ],
      "text/latex": [
       "1"
      ],
      "text/markdown": [
       "1"
      ],
      "text/plain": [
       "[1] 1"
      ]
     },
     "metadata": {},
     "output_type": "display_data"
    }
   ],
   "source": [
    "PREC = TP/(TP + FP)\n",
    "PREC"
   ]
  },
  {
   "cell_type": "markdown",
   "metadata": {},
   "source": [
    "PREC (Precision) is the number of correct positive predictions divided by the total number of positive predictions. Our model has a PREC of 1 stating that 100 % of the predictions regarding the positive predicted values are correct."
   ]
  },
  {
   "cell_type": "code",
   "execution_count": 89,
   "metadata": {},
   "outputs": [
    {
     "data": {
      "text/html": [
       "0"
      ],
      "text/latex": [
       "0"
      ],
      "text/markdown": [
       "0"
      ],
      "text/plain": [
       "[1] 0"
      ]
     },
     "metadata": {},
     "output_type": "display_data"
    }
   ],
   "source": [
    "FPR = FP/(TN + FP)\n",
    "FPR"
   ]
  },
  {
   "cell_type": "markdown",
   "metadata": {},
   "source": [
    "FPR (False Positive Rate) is the number of incorrect positive predictions divided by the total number of negatives. Our model has a FPR of 0 stating that 0 % of the predictions regarding the positive predicted values are incorrect."
   ]
  },
  {
   "cell_type": "markdown",
   "metadata": {},
   "source": [
    "Taking Gamma=0.1 and Cost=1 from #OPTION 1 and #OPTION 2 Tuning"
   ]
  },
  {
   "cell_type": "code",
   "execution_count": 92,
   "metadata": {},
   "outputs": [
    {
     "data": {
      "text/plain": [
       "                \n",
       "predicted.values   0   1\n",
       "               0 492  21\n",
       "               1   8 479"
      ]
     },
     "metadata": {},
     "output_type": "display_data"
    }
   ],
   "source": [
    "model=svm(Clicked.on.Ad~.,data=train,gamma=0.1,cost=1)\n",
    "predicted.values=predict(model,test[1:5])\n",
    "table(predicted.values,test$Clicked.on.Ad)"
   ]
  },
  {
   "cell_type": "code",
   "execution_count": 93,
   "metadata": {},
   "outputs": [],
   "source": [
    "TN=492\n",
    "FP=21\n",
    "FN=8\n",
    "TP=479"
   ]
  },
  {
   "cell_type": "markdown",
   "metadata": {},
   "source": [
    "There are lot of FP while using these parameters"
   ]
  },
  {
   "cell_type": "code",
   "execution_count": 94,
   "metadata": {},
   "outputs": [
    {
     "data": {
      "text/html": [
       "0.971"
      ],
      "text/latex": [
       "0.971"
      ],
      "text/markdown": [
       "0.971"
      ],
      "text/plain": [
       "[1] 0.971"
      ]
     },
     "metadata": {},
     "output_type": "display_data"
    }
   ],
   "source": [
    "ACC=(TP + TN)/(TN + FP + FN + TP)\n",
    "ACC"
   ]
  },
  {
   "cell_type": "markdown",
   "metadata": {},
   "source": [
    "Here the accuraccy is lesser than previous model"
   ]
  }
 ],
 "metadata": {
  "kernelspec": {
   "display_name": "R",
   "language": "R",
   "name": "ir"
  },
  "language_info": {
   "codemirror_mode": "r",
   "file_extension": ".r",
   "mimetype": "text/x-r-source",
   "name": "R",
   "pygments_lexer": "r",
   "version": "3.6.1"
  }
 },
 "nbformat": 4,
 "nbformat_minor": 2
}
